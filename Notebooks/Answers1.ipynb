{
 "cells": [
  {
   "cell_type": "code",
   "execution_count": 1,
   "metadata": {},
   "outputs": [
    {
     "data": {
      "text/plain": [
       "10×10 Array{Float64,2}:\n",
       " -2.0   1.0   0.0   0.0   0.0   0.0   0.0   0.0   0.0   0.0\n",
       "  1.0  -2.0   1.0   0.0   0.0   0.0   0.0   0.0   0.0   0.0\n",
       "  0.0   1.0  -2.0   1.0   0.0   0.0   0.0   0.0   0.0   0.0\n",
       "  0.0   0.0   1.0  -2.0   1.0   0.0   0.0   0.0   0.0   0.0\n",
       "  0.0   0.0   0.0   1.0  -2.0   1.0   0.0   0.0   0.0   0.0\n",
       "  0.0   0.0   0.0   0.0   1.0  -2.0   1.0   0.0   0.0   0.0\n",
       "  0.0   0.0   0.0   0.0   0.0   1.0  -2.0   1.0   0.0   0.0\n",
       "  0.0   0.0   0.0   0.0   0.0   0.0   1.0  -2.0   1.0   0.0\n",
       "  0.0   0.0   0.0   0.0   0.0   0.0   0.0   1.0  -2.0   1.0\n",
       "  0.0   0.0   0.0   0.0   0.0   0.0   0.0   0.0   1.0  -2.0"
      ]
     },
     "execution_count": 1,
     "metadata": {},
     "output_type": "execute_result"
    }
   ],
   "source": [
    "# problem 1a\n",
    "N = 10\n",
    "A = zeros(N,N)\n",
    "for i in 1:N, j in 1:N\n",
    "    abs(i-j)<=1 ? A[i,j]+=1 : nothing\n",
    "    i==j ? A[i,j]-=3 : nothing\n",
    "end\n",
    "A\n",
    "\n"
   ]
  },
  {
   "cell_type": "code",
   "execution_count": 2,
   "metadata": {},
   "outputs": [
    {
     "data": {
      "text/plain": [
       "74.21491262159117"
      ]
     },
     "execution_count": 2,
     "metadata": {},
     "output_type": "execute_result"
    }
   ],
   "source": [
    "# problem 1b\n",
    "sum(sum(1/j for j in 1:i) for i in 1:25)\n",
    "\n"
   ]
  },
  {
   "cell_type": "code",
   "execution_count": 3,
   "metadata": {},
   "outputs": [
    {
     "data": {
      "text/plain": [
       "4-element Array{Float64,1}:\n",
       " 0.015216030143379614\n",
       " 0.07883186048348986 \n",
       " 0.22163671910694532 \n",
       " 0.09440962605749302 "
      ]
     },
     "execution_count": 3,
     "metadata": {},
     "output_type": "execute_result"
    }
   ],
   "source": [
    "#### Prepare Data\n",
    "\n",
    "X = rand(1000, 3)               # feature matrix\n",
    "a0 = rand(3)                    # ground truths\n",
    "y = X * a0 + 0.1 * randn(1000);  # generate response\n",
    "\n",
    "X2 = hcat(ones(1000),X)\n",
    "lreg = X2\\y\n",
    "\n",
    "\n",
    "\n"
   ]
  },
  {
   "cell_type": "code",
   "execution_count": 4,
   "metadata": {},
   "outputs": [
    {
     "name": "stderr",
     "output_type": "stream",
     "text": [
      "┌ Info: Recompiling stale cache file /Users/florian.oswald/.julia/compiled/v1.1/DataFrames/AR9oZ.ji for DataFrames [a93c6f00-e57d-5684-b7b6-d8193f3e46c0]\n",
      "└ @ Base loading.jl:1184\n"
     ]
    },
    {
     "ename": "LoadError",
     "evalue": "UndefVarError: @formula not defined",
     "output_type": "error",
     "traceback": [
      "UndefVarError: @formula not defined",
      ""
     ]
    }
   ],
   "source": [
    "# problem 3\n",
    "using DataFrames\n",
    "data = DataFrame(X)\n",
    "data[:y] = y\n",
    "lm1 = fit(LinearModel, @formula(y ~ x1 + x2 + x3), data)\n",
    "@test coef(lm1) ≈ lreg atol=1e-16\n",
    "\n",
    "\n"
   ]
  },
  {
   "cell_type": "code",
   "execution_count": 6,
   "metadata": {},
   "outputs": [
    {
     "name": "stderr",
     "output_type": "stream",
     "text": [
      "┌ Info: Recompiling stale cache file /Users/florian.oswald/.julia/compiled/v1.1/Plots/ld3vC.ji for Plots [91a5bcdd-55d7-5caf-9e0b-520d859cae80]\n",
      "└ @ Base loading.jl:1184\n"
     ]
    }
   ],
   "source": [
    "# problem 4\n",
    "r = 2.9:.00005:4; numAttract = 150\n",
    "steady = ones(length(r),1)*.25\n",
    "for i=1:400 ## Get to steady state\n",
    "  steady .= r.*steady.*(1 .- steady)\n",
    "end\n",
    "x = zeros(length(steady),numAttract)\n",
    "x[:,1] = steady\n",
    "@inbounds for i=2:numAttract ## Grab values at the attractor\n",
    "  x[:,i] = r.*x[:,i-1].*(1 .- x[:,i-1])\n",
    "end\n",
    "using Plots\n",
    "plot(collect(r),x,seriestype=:scatter,markersize=.002,legend=false)\n",
    "\n",
    "\n",
    "\n"
   ]
  },
  {
   "cell_type": "code",
   "execution_count": null,
   "metadata": {},
   "outputs": [],
   "source": []
  }
 ],
 "metadata": {
  "kernelspec": {
   "display_name": "Julia 1.1.0",
   "language": "julia",
   "name": "julia-1.1"
  },
  "language_info": {
   "file_extension": ".jl",
   "mimetype": "application/julia",
   "name": "julia",
   "version": "1.1.0"
  }
 },
 "nbformat": 4,
 "nbformat_minor": 2
}
