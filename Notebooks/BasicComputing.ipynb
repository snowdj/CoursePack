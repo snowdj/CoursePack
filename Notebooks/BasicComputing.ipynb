{
 "cells": [
  {
   "cell_type": "markdown",
   "metadata": {
    "slideshow": {
     "slide_type": "slide"
    }
   },
   "source": [
    "# SciencesPo Computational Economics 2018\n",
    "\n",
    "* Welcome!\n",
    "* Why do Economists (and Social Scientists in general) have to talk about Computation?\n",
    "* [This](https://web.stanford.edu/%7Egentzkow/research/CodeAndData.pdf) by Gentzkow and Shapiro is still relevant, even if in *Computing Time*, 2014 is a long time ago. I highly recommend you read this."
   ]
  },
  {
   "cell_type": "markdown",
   "metadata": {
    "slideshow": {
     "slide_type": "subslide"
    }
   },
   "source": [
    "## Gentzkow and Shapiro\n",
    "\n",
    "> Here is a good rule of thumb: If you are trying to solve a problem, and there are multi-billion dollar firms whose entire business model depends on solving the same problem, and there are whole courses at your university devoted to how to solve that problem, you might want to figure out what the experts do and see if you can’t learn something from it."
   ]
  },
  {
   "cell_type": "markdown",
   "metadata": {
    "slideshow": {
     "slide_type": "subslide"
    }
   },
   "source": [
    "## Gentzkow and Shapiro\n",
    "\n",
    "* This is the spirit of this course. \n",
    "* We want to learn computation as practised by *the experts*.\n",
    "* We don't want to - **ever** - reinvent the wheel. "
   ]
  },
  {
   "cell_type": "markdown",
   "metadata": {
    "slideshow": {
     "slide_type": "slide"
    }
   },
   "source": [
    "\n",
    "# Computation Basics\n",
    "\n",
    "* It is important that we understand some basics about computers.\n",
    "* Even though software (and computers) always get more and more sophisticated, there is still a considerable margin for \"human error\". This doesn't mean necessarily that there is something wrong, but certain ways of doing things may have severe performance implications.\n",
    "* Whatever else happens, *you* write the code, and one way of writing code is different from another.\n",
    "\n",
    "![test](../assets/figs/BasicComputing/picnic.jpeg)"
   ]
  },
  {
   "cell_type": "markdown",
   "metadata": {
    "slideshow": {
     "slide_type": "subslide"
    }
   },
   "source": [
    "## Julia? Why Julia?\n",
    "\n",
    "* The *best* software doesn't exist. All depends on:\n",
    "\t1. The problem at hand. \n",
    "\t\t* You are fine with Stata if you need to run a probit.\n",
    "\t\t* Languages have different comparative advantages with regards to different tasks.\n",
    "\t1. Preferences of the analyst. Some people just *love* their software.\n",
    "* That said, there are some general themes we should keep in mind when choosing a software.\n",
    "* [Stephen Johnson at MIT has a good pitch.](https://github.com/stevengj/julia-mit)"
   ]
  },
  {
   "cell_type": "markdown",
   "metadata": {
    "slideshow": {
     "slide_type": "subslide"
    }
   },
   "source": [
    "## High versus Low Level Languages\n",
    "\n",
    "* High-level languages for technical computing: Matlab, Python, R, ...\n",
    "\t* you get going immediately\n",
    "\t* very important for exploratory coding or data analysis\n",
    "\t* You don't want to worry about type declarations and compilers at the exploratory stage\n",
    "* High-level languages are slow.\n",
    "\t* Traditional Solutions to this: Passing the high-speed threshold.\n",
    "\t* Using `Rcpp` or `Cython` etc is a bit like [Stargate](https://en.wikipedia.org/wiki/Stargate_SG-1). You loose control the moment you pass the barrier to `C++` for a little bit. (Even though those are great solutions.) If the `C++` part of your code becomes large, testing this code becomes increasingly difficult.\n",
    "\t* You end up spending your time coding `C++`. But that has it's own drawbacks."
   ]
  },
  {
   "cell_type": "markdown",
   "metadata": {
    "slideshow": {
     "slide_type": "slide"
    }
   },
   "source": [
    "## Julia is Fast\n",
    "\n",
    "* Julia is [fast](http://julialang.org/benchmarks/).\n",
    "\t* But julia is also a high-level dynamic language. How come? \n",
    "\t* The JIT compiler.\n",
    "\t* The [LLVM project](https://en.wikipedia.org/wiki/LLVM).\n",
    "* Julia is open source (and it's for free)\n",
    "\t* It's for free. Did I say that it's for free?\n",
    "\t* You will never again worry about licenses. Want to run 1000 instances of julia? Do it.\n",
    "\t* The entire standard library of julia is written in julia (and not in `C`, e.g., as is the case in R, matlab or python). It's easy to look and understand at how things work.\n",
    "* Julia is a very modern language, combining the best features of many other languages."
   ]
  },
  {
   "cell_type": "markdown",
   "metadata": {
    "slideshow": {
     "slide_type": "subslide"
    }
   },
   "source": [
    "## What does Julia want to achieve?\n",
    "\n",
    "* There is a *wall* built into the scientific software stack\n",
    "* Julia cofounder Stefan Karpinski [talks about **the 2 languages problem**](https://opendatascience.com/conferences/odsc-east-2016-stefan-karpinski-solving-the-two-language-problem/)\n",
    "* **key: the wall creates a social barrier.** Developer and User are different people."
   ]
  },
  {
   "cell_type": "markdown",
   "metadata": {
    "slideshow": {
     "slide_type": "subslide"
    }
   },
   "source": [
    "## The Wall in the scientific software stack\n",
    "\n",
    "![test](../assets/figs/BasicComputing/stack.png)"
   ]
  },
  {
   "cell_type": "markdown",
   "metadata": {
    "slideshow": {
     "slide_type": "subslide"
    }
   },
   "source": [
    "## Who is using Julia?\n",
    "\n",
    "* [Case Studies](https://juliacomputing.com/case-studies/)\n",
    "    * [One of the top 10 data sciences problems solved with Celeste.jl](https://youtu.be/uecdcADM3hY)\n",
    "        * [next platform article](https://www.nextplatform.com/2017/11/28/julia-language-delivers-petascale-hpc-performance/)\n",
    "    * [US Federal Aviation Administration](https://juliacomputing.com/case-studies/lincoln-labs.html) builds their Airborne Collision Avoidance System with julia\n",
    "    * [The NY Fed runs their DGSE model in julia](https://juliacomputing.com/case-studies/ny-fed.html)\n",
    "    * and more"
   ]
  },
  {
   "cell_type": "markdown",
   "metadata": {
    "slideshow": {
     "slide_type": "slide"
    }
   },
   "source": [
    "## Economists and Their Software\n",
    "\n",
    "* In [*A Comparison of Programming Languages in Economics*](http://economics.sas.upenn.edu/~jesusfv/comparison_languages.pdf)<cite data-cite=jesuscomputing></cite>, the authors compare some widely used languages on a close to [identical piece of code](https://github.com/jesusfv/Comparison-Programming-Languages-Economics).\n",
    "* It can be quite contentious to talk about Software to Economists.\n",
    "\t* Religious War. \n",
    "\t* Look at the [comments on this blog post regarding the paper](http://marginalrevolution.com/marginalrevolution/2014/07/a-comparison-of-programming-languages-in-economics.html).\n",
    "\t* There *are* switching costs from one language to another.\n",
    "\t* Network effects (Seniors handing down their software to juniors etc)\n",
    "* Takeaway from that paper: \n",
    "\t* There are some very good alternatives to `fortran`\n",
    "\t* `fortran` is **not** faster than `C++`\n",
    "\t* It seems pointless to invest either money or time in `matlab`, given the many good options that are available for free."
   ]
  },
  {
   "cell_type": "markdown",
   "metadata": {
    "slideshow": {
     "slide_type": "subslide"
    }
   },
   "source": [
    "\n",
    "## The Fundamental Tradeoff\n",
    "\n",
    "#### Developer Time (Your Time) is Much More Expensive than Computing Time\n",
    "\n",
    "* It may well be that the runtime of a fortran program is one third of the time it takes to run the program in julia, or anything else for that matter.\n",
    "* However, the time it takes to **develop** that program is very likely to be (much) longer in fortran. \n",
    "* Particularly if you want to hold your program to the same quality standards.\n",
    "\n",
    "#### Takeaway\n",
    "\n",
    "* Given my personal experience with many of the above languagues, I think `julia` is a very good tool for economists with non-trivial computational tasks.\n",
    "* This is why I am using it for demonstrations in this course.\n",
    "\n"
   ]
  },
  {
   "cell_type": "markdown",
   "metadata": {
    "slideshow": {
     "slide_type": "subslide"
    }
   },
   "source": [
    "## A Second Fundamental Tradeoff\n",
    "\n",
    "* Regardless of the software you use, there is one main problem with computation.\n",
    "* It concerns **speed vs accuracy**.\n",
    "* You may be able to do something very fast, but at very small accuracy (i.e. with a high numerical margin of error)\n",
    "* On the other hand, you may be able to get a very accurate solution, but it may take you an irrealistic amount of time to get there.\n",
    "* You have to face that tradeoff and decide for yourself what's best."
   ]
  },
  {
   "cell_type": "markdown",
   "metadata": {
    "slideshow": {
     "slide_type": "subslide"
    }
   },
   "source": [
    "## A Warning about Optimizing your Code!\n",
    "\n",
    "In Donald Knuth's paper \"Structured Programming With GoTo Statements\", he wrote:   \n",
    "\n",
    ">\"Programmers waste enormous amounts of time thinking about, or worrying about, the speed of noncritical parts of their programs, and these attempts at efficiency actually have a strong negative impact when debugging and maintenance are considered. We should forget about small efficiencies, say about 97% of the time: **premature optimization is the root of all evil**. Yet we should not pass up our opportunities in that critical 3%.\"\n",
    "\n",
    "\n",
    "\n"
   ]
  },
  {
   "cell_type": "markdown",
   "metadata": {
    "slideshow": {
     "slide_type": "slide"
    }
   },
   "source": [
    "## Julia Workflow\n",
    "\n",
    "* We will use the lastest stable version of julia. today that is `v0.6.2`\n",
    "* For today, stay within this notebook.\n",
    "* In general, you will want to install julia on your computer\n",
    "* the most stable workflow involves a text editor and a julia terminal next to it\n",
    "* You would develop your code in a text file (say \"develop.jl\"), and then just do `include(\"develop.jl\")` in the terminal\n",
    "* I use sublime text as an editor\n",
    "* Atom is also very good"
   ]
  },
  {
   "cell_type": "markdown",
   "metadata": {
    "slideshow": {
     "slide_type": "slide"
    }
   },
   "source": [
    "\n",
    "## Some Numerical Concepts and `Julia`\n",
    "\n",
    "* Machine epsilon: The smallest number that your computer can represent, type `eps()`.\n",
    "* Infinity: A number greater than all representable numbers on your computer. [Obeys some arithmethmic rules](http://docs.julialang.org/en/release-0.4/manual/integers-and-floating-point-numbers/?highlight=infinity#special-floating-point-values)\n",
    "\t* Overflow: If you perform an operation where the result is greater than the largest representable number.\n",
    "\t* Underflow: You take two (very small) representable numbers, but the result is smaller than `eps()`. \n",
    "\t* In Julia, you are wrapped around the end of your representable space:\n",
    "\t```julia\n",
    "\tx = typemax(Int64)\n",
    "\tx + 1\n",
    "\t```\n",
    "* Integers and Floating Point Numbers.\n",
    "* Single and Double Precision.\n",
    "* In Julia, all of these are different [*numeric primitive types (head over to julia manual for a second)*](https://docs.julialang.org/en/latest/manual/integers-and-floating-point-numbers/).\n",
    "* Julia also supports *Arbitrary Precision Arithmetic*. Thus, overflow shouldn't become an issue anymore.\n",
    "* See min and max for different types:"
   ]
  },
  {
   "cell_type": "code",
   "execution_count": 1,
   "metadata": {
    "attributes": {
     "classes": [
      "{julia"
     ],
     "id": ""
    },
    "slideshow": {
     "slide_type": "subslide"
    }
   },
   "outputs": [
    {
     "name": "stdout",
     "output_type": "stream",
     "text": [
      "   Int8: [-128,127]\n",
      "  Int16: [-32768,32767]\n",
      "  Int32: [-2147483648,2147483647]\n",
      "  Int64: [-9223372036854775808,9223372036854775807]\n",
      " Int128: [-170141183460469231731687303715884105728,170141183460469231731687303715884105727]\n",
      "  UInt8: [0,255]\n",
      " UInt16: [0,65535]\n",
      " UInt32: [0,4294967295]\n",
      " UInt64: [0,18446744073709551615]\n",
      "UInt128: [0,340282366920938463463374607431768211455]\n",
      "Float32: [-Inf,Inf]\n",
      "Float64: [-Inf,Inf]\n"
     ]
    }
   ],
   "source": [
    "for T in [Int8,Int16,Int32,Int64,Int128,UInt8,UInt16,UInt32,\n",
    "\t\t  UInt64,UInt128,Float32,Float64]\n",
    "         println(\"$(lpad(T,7)): [$(typemin(T)),$(typemax(T))]\")\n",
    "end"
   ]
  },
  {
   "cell_type": "markdown",
   "metadata": {
    "slideshow": {
     "slide_type": "slide"
    }
   },
   "source": [
    "\n",
    "## Interacting with the `Julia REPL`\n",
    "\n",
    "* REPL?\n",
    "* different modes: command, help, search, shell\n",
    "* incremental search with `CTRL r`\n",
    "* documented in the [manual](https://docs.julialang.org/en/stable/manual/interacting-with-julia/)\n",
    "\n",
    "\n"
   ]
  },
  {
   "cell_type": "markdown",
   "metadata": {
    "slideshow": {
     "slide_type": "slide"
    }
   },
   "source": [
    "# `Julia` Primer: Types\n",
    "\n",
    "* Types are at the core of what makes julia a great language. \n",
    "* *Everything* in julia is represented as a datatype. \n",
    "* Remember the different numeric *types* from before? Those are types.\n",
    "* The [manual](https://docs.julialang.org/en/stable/manual/interacting-with-julia/), as usual, is very informative on this.\n",
    "* From the [wikibook on julia](https://en.wikibooks.org/wiki/Introducing_Julia/Types), here is a representation of the numeric type graph:\n",
    "\n",
    "![](../assets/figs/BasicComputing/Type-hierarchy-for-julia-numbers.png)\n",
    "\n"
   ]
  },
  {
   "cell_type": "markdown",
   "metadata": {
    "slideshow": {
     "slide_type": "slide"
    }
   },
   "source": [
    "## `Julia` Primer: Custom Types\n",
    "\n",
    "* The great thing is that you can create you own types. \n",
    "* Going with the example from the wikibook, we could have types `Jaguar` and `Cat` as being subtypes of `Feline`:\n",
    "\n",
    "```julia\n",
    "struct Feline\n",
    "\tweight::Float64\n",
    "\tsound::String\n",
    "end\n",
    "struct Cat <: Feline\n",
    "\tweight::Float64\n",
    "\tsound::String\n",
    "end\n",
    "```\n"
   ]
  },
  {
   "cell_type": "code",
   "execution_count": 2,
   "metadata": {
    "slideshow": {
     "slide_type": "subslide"
    }
   },
   "outputs": [
    {
     "data": {
      "text/plain": [
       "true"
      ]
     },
     "execution_count": 2,
     "metadata": {},
     "output_type": "execute_result"
    }
   ],
   "source": [
    "abstract type Feline end\n",
    "\n",
    "struct Jaguar <: Feline\n",
    "\tweight::Float64\n",
    "\tsound::String\n",
    "end\n",
    "struct Cat <: Feline\n",
    "\tweight::Float64\n",
    "\tsound::String\n",
    "end\n",
    "\n",
    "# is a cat a Feline?\n",
    "Cat <: Feline"
   ]
  },
  {
   "cell_type": "code",
   "execution_count": 3,
   "metadata": {
    "slideshow": {
     "slide_type": "subslide"
    }
   },
   "outputs": [
    {
     "data": {
      "text/plain": [
       "behave (generic function with 2 methods)"
      ]
     },
     "execution_count": 3,
     "metadata": {},
     "output_type": "execute_result"
    }
   ],
   "source": [
    "# create a cat and a jaguar\n",
    "c = Cat(15.2,\"miauu\")\n",
    "j = Jaguar(95.1,\"ROARRRRRR!!!!!\")\n",
    "\n",
    "# is c an instance of type Cat?\n",
    "isa(c,Cat)\n",
    "\n",
    "# methods\n",
    "function behave(c::Cat)\n",
    "    println(c.sound)\n",
    "    println(\"my weight is $(c.weight) kg! should go on a diet\")\n",
    "end\n",
    "function behave(j::Jaguar)\n",
    "    println(j.sound)\n",
    "    println(\"Step back! I'm a $(j.weight) kg jaguar.\")\n",
    "end"
   ]
  },
  {
   "cell_type": "code",
   "execution_count": 4,
   "metadata": {
    "slideshow": {
     "slide_type": "subslide"
    }
   },
   "outputs": [
    {
     "name": "stdout",
     "output_type": "stream",
     "text": [
      "miauu\n",
      "my weight is 15.2 kg! should go on a diet\n",
      "ROARRRRRR!!!!!\n",
      "Step back! I'm a 95.1 kg jaguar.\n"
     ]
    }
   ],
   "source": [
    "# make a cat behave:\n",
    "behave(c)\n",
    "\n",
    "# and a jaguar\n",
    "behave(j)"
   ]
  },
  {
   "cell_type": "markdown",
   "metadata": {
    "slideshow": {
     "slide_type": "subslide"
    }
   },
   "source": [
    "\n",
    "## Julia Primer: Multiple Dispatch\n",
    "\n",
    "* You have just learned `multiple dispatch`. The same function name dispatches to different functions, depending on the input argument type.\n"
   ]
  },
  {
   "cell_type": "markdown",
   "metadata": {
    "slideshow": {
     "slide_type": "slide"
    }
   },
   "source": [
    "## Julia Primer: Important performance lesson - Type Stability\n",
    "\n",
    "* If you don't declare types, julia will try to infer them for you.\n",
    "* DANGER: don't change types along the way. \n",
    "\t* julia optimizes your code for a specific type configuration.\n",
    "\t* it's not the same CPU operation to add two `Int`s and two `Float`s. The difference matters.\n",
    "* Example"
   ]
  },
  {
   "cell_type": "code",
   "execution_count": 5,
   "metadata": {
    "attributes": {
     "classes": [
      "julia"
     ],
     "id": ""
    },
    "slideshow": {
     "slide_type": "subslide"
    }
   },
   "outputs": [
    {
     "name": "stdout",
     "output_type": "stream",
     "text": [
      "  0.586747 seconds (60.00 M allocations: 915.613 MiB, 7.64% gc time)\n",
      "  0.007323 seconds (1.09 k allocations: 59.092 KiB)\n"
     ]
    }
   ],
   "source": [
    "function t1(n)\n",
    "    s  = 0  # typeof(s) = Int\n",
    "    for i in 1:n\n",
    "        s += s/i\n",
    "    end\n",
    "end\n",
    "function t2(n)\n",
    "    s  = 0.0   # typeof(s) = Float64\n",
    "    for i in 1:n\n",
    "        s += s/i\n",
    "    end\n",
    "end\n",
    "@time t1(10000000)\n",
    "@time t2(10000000)"
   ]
  },
  {
   "cell_type": "markdown",
   "metadata": {
    "slideshow": {
     "slide_type": "slide"
    }
   },
   "source": [
    "## Julia Modules \n",
    "\n",
    "* A module is a new workspace - a new *global scope*\n",
    "* A module defines a separate *namespace*\n",
    "* There is an illustrative example available at the julia manual, let's look at it."
   ]
  },
  {
   "cell_type": "markdown",
   "metadata": {
    "slideshow": {
     "slide_type": "subslide"
    }
   },
   "source": [
    "### An example Module\n",
    "\n",
    "```julia\n",
    "module MyModule\n",
    "    # which other modules to use: imports\n",
    "    using Lib\n",
    "    using BigLib: thing1, thing2\n",
    "    import Base.show\n",
    "    importall OtherLib\n",
    "    \n",
    "    # what to export from this module\n",
    "    export MyType, foo\n",
    "\n",
    "    # type defs\n",
    "    struct MyType\n",
    "        x\n",
    "    end\n",
    "\n",
    "    # methods\n",
    "    bar(x) = 2x\n",
    "    foo(a::MyType) = bar(a.x) + 1\n",
    "\n",
    "    show(io::IO, a::MyType) = print(io, \"MyType $(a.x)\")\n",
    "end\n",
    "```"
   ]
  },
  {
   "cell_type": "markdown",
   "metadata": {
    "slideshow": {
     "slide_type": "subslide"
    }
   },
   "source": [
    "### Modules and files\n",
    "\n",
    "* you can easily have more files inside a module to organize your code.\n",
    "* For example, you could `include` other files like this\n",
    "\n",
    "```julia\n",
    "module Foo\n",
    "\n",
    "include(\"file1.jl\")\n",
    "include(\"file2.jl\")\n",
    "\n",
    "end\n",
    "```"
   ]
  },
  {
   "cell_type": "markdown",
   "metadata": {
    "slideshow": {
     "slide_type": "subslide"
    }
   },
   "source": [
    "### Working with Modules\n",
    "\n",
    "* Look at the example at [the manual!](https://docs.julialang.org/en/stable/manual/modules/)\n",
    "* **Location of Modules**: Julia stores packages in a hidden folder `~/.julia/v0.6` (system-dependent)\n",
    "* You can develop your own modules in a different location if you want.\n",
    "* Julia reads the file `~/.juliarc.jl` on each startup. Modify the `LOAD_PATH` variable:\n",
    "\n",
    "```julia\n",
    "# add this to ~/.juliarc.jl\n",
    "push!(LOAD_PATH, \"/Path/To/My/Module/\")\n",
    "```"
   ]
  },
  {
   "cell_type": "markdown",
   "metadata": {
    "slideshow": {
     "slide_type": "slide"
    }
   },
   "source": [
    "## Unit Testing and Code Quality\n",
    "\n",
    "\n",
    "![](../assets/figs/BasicComputing/phd033114s.png)"
   ]
  },
  {
   "cell_type": "markdown",
   "metadata": {
    "slideshow": {
     "slide_type": "subslide"
    }
   },
   "source": [
    "## What is Unit Testing? Why should you test you code?\n",
    "\n",
    "* Bugs are very hard to find just by *looking* at your code.\n",
    "* Bugs hide.\n",
    "* From this very instructive [MIT software construction class](http://web.mit.edu/6.005/www/fa15/classes/03-testing/#unit_testing_and_stubs):\n",
    "\n",
    "> Even with the best validation, it’s very hard to achieve perfect quality in software. Here are some typical residual defect rates (bugs left over after the software has shipped) per kloc (one thousand lines of source code):\n",
    "  * 1 - 10 defects/kloc: Typical industry software.\n",
    "  * 0.1 - 1 defects/kloc: High-quality validation. The Java libraries might achieve this level of correctness.\n",
    "  * 0.01 - 0.1 defects/kloc: The very best, safety-critical validation. NASA and companies like Praxis can achieve this level. This can be discouraging for large systems. For example, if you have shipped a million lines of typical industry source code (1 defect/kloc), it means you missed 1000 bugs!\n",
    "\n"
   ]
  },
  {
   "cell_type": "markdown",
   "metadata": {
    "slideshow": {
     "slide_type": "subslide"
    }
   },
   "source": [
    "## Unit Testing in Science\n",
    "\n",
    "* One widely-used way to prevent your code from having too many errors, is to continuously test it.\n",
    "* This issue is widely neglected in Economics as well as other sciences.\n",
    "\t* If the resulting graph looks right, the code should be alright, shouldn't it?\n",
    "\t* Well, should it?\n",
    "* It is regrettable that so little effort is put into verifying the proper functioning of scientific code. "
   ]
  },
  {
   "cell_type": "markdown",
   "metadata": {
    "slideshow": {
     "slide_type": "subslide"
    }
   },
   "source": [
    "\n",
    "* Referees in general don't have access to the computing code for paper that is submitted to a journal for publication.\n",
    "* How should they be able to tell whether what they see in black on white on paper is the result of the actual computation that was proposed, rather than the result of chance (a.k.a. a bug)?\n",
    "\t* Increasingly papers do post the source code *after* publication.\n",
    "\t* The scientific method is based on the principle of **reproduciblity** of results. \n",
    "\t\t* Notice that having something reproducible is only a first step, since you can reproduce with your buggy code the same nice graph. \n",
    "\t\t* But from where we are right now, it's an important first step.\n",
    "\t* This is an issue that is detrimental to credibility of Economics, and Science, as a whole. \n",
    "* Extensively testing your code will guard you against this."
   ]
  },
  {
   "cell_type": "markdown",
   "metadata": {
    "slideshow": {
     "slide_type": "subslide"
    }
   },
   "source": [
    "## Best Practice\n",
    "\n",
    "* You want to be in **maximum control** over your code at all times:\n",
    "\t* You want to be **as sure as possible** that a certain piece of code is doing, what it actually meant to do.\n",
    "\t* This sounds trivial (and it is), yet very few people engage in unit testing.\n",
    "* Things are slowly changing. See [http://www.runmycode.org](http://www.runmycode.org) for example.\n",
    "* **You** are the generation that is going to change this. Do it.\n",
    "* Let's look at some real world Examples.\n",
    "\n"
   ]
  },
  {
   "cell_type": "markdown",
   "metadata": {
    "slideshow": {
     "slide_type": "subslide"
    }
   },
   "source": [
    "## Ariane 5 blows up because of a bug\n",
    "\n",
    "> It took the European Space Agency 10 years and $$7 billion to produce Ariane 5, a giant rocket capable of hurling a pair of three-ton satellites into orbit with each launch and intended to give Europe overwhelming supremacy in the commercial space business. \n",
    "All it took to explode that rocket less than a minute into its maiden voyage last June, scattering fiery rubble across the mangrove swamps of French Guiana, was a small computer program trying to stuff a 64-bit number into a 16-bit space. This shutdown occurred 36.7 seconds after launch, when the guidance system's own computer tried to convert one piece of data -- the sideways velocity of the rocket -- from a 64-bit format to a 16-bit format. \n",
    "**The number was too big, and an overflow error resulted**. When the guidance system shut down, it passed control to an identical, redundant unit, which was there to provide backup in case of just such a failure. But the second unit had failed in the identical manner a few milliseconds before. And why not? It was running the same software."
   ]
  },
  {
   "cell_type": "markdown",
   "metadata": {
    "slideshow": {
     "slide_type": "subslide"
    }
   },
   "source": [
    "## NASA Mars Orbiter crashes because of a bug\n",
    "\n",
    "> For nine months, the Mars Climate Orbiter was speeding through space and speaking to NASA in **metric**. But the engineers on the ground were replying **in non-metric English**. \n",
    "It was a mathematical mismatch that was not caught until after the $$125-million spacecraft, a key part of NASA's Mars exploration program, was sent crashing too low and too fast into the Martian atmosphere. The craft has not been heard from since.\n",
    "Noel Henners of Lockheed Martin Astronautics, the prime contractor for the Mars craft, said at a news conference it was up to his company's engineers to assure the metric systems used in one computer program were compatible with the English system used in another program. The simple conversion check was not done, he said.\n",
    "\n"
   ]
  },
  {
   "cell_type": "markdown",
   "metadata": {
    "slideshow": {
     "slide_type": "subslide"
    }
   },
   "source": [
    "## LA Airport Air Traffic Control shuts down because of a bug\n",
    "\n",
    ">(IEEE Spectrum) -- It was an air traffic controller's worst nightmare. Without warning, on Tuesday, 14 September, at about 5 p.m. Pacific daylight time, air traffic controllers lost voice contact with 400 airplanes they were tracking over the southwestern United States. Planes started to head toward one another, something that occurs routinely under careful control of the air traffic controllers, who keep airplanes safely apart. But now the controllers had no way to redirect the planes' courses.\n",
    "The controllers lost contact with the planes when the main voice communications system (VCS) shut down unexpectedly. To make matters worse, a backup system that was supposed to take over in such an event crashed within a minute after it was turned on. The outage disrupted about 800 flights across the country.\n",
    "Inside the control system unit (VCSU) is a countdown timer that ticks off time in milliseconds. The VCSU uses the timer as a pulse to send out periodic queries to the VSCS. It starts out at the highest possible number that the system's server and its software can handle — 232. It's a number just over 4 billion milliseconds. When the counter reaches zero, the system runs out of ticks and can no longer time itself. **So it shuts down**.\n",
    "*Counting down from 232 to zero in milliseconds takes just under 50 days*. The FAA procedure of having a technician reboot the VSCS every 30 days resets the timer to 232 almost three weeks before it runs out of digits.\n",
    "\n"
   ]
  },
  {
   "cell_type": "markdown",
   "metadata": {
    "slideshow": {
     "slide_type": "subslide"
    }
   },
   "source": [
    "## Automated Testing\n",
    "\n",
    "* You should try to minimize the effort of writing tests.\n",
    "* Using an automated test suite is very helpful here.\n",
    "* In Julia, we have got `Base.Test` in the Base package\n",
    "* Julia unit testing is described [here](http://docs.julialang.org/en/stable/stdlib/test/)"
   ]
  },
  {
   "cell_type": "markdown",
   "metadata": {
    "slideshow": {
     "slide_type": "subslide"
    }
   },
   "source": [
    "## Automated Testing on Travis\n",
    "\n",
    "* [https://travis-ci.org](https://travis-ci.org) is a continuous integration service.\n",
    "* It runs your test on their machines and notifies you of the result.\n",
    "* Every time you push a commit to github.\n",
    "* If the repository is public on github, the service is for free.\n",
    "* Many julia packages are testing on Travis.\n",
    "* You should look out for this green badge: [![Example](../assets/figs/BasicComputing/Example_0.6.png)](http://pkg.julialang.org/?pkg=Example)\n",
    "* You can run the tests for a package with `Pkg.test(\"Package_name\")`\n",
    "* You can run the tests for julia itself with `Base.runtests()`\n"
   ]
  },
  {
   "cell_type": "code",
   "execution_count": 6,
   "metadata": {
    "slideshow": {
     "slide_type": "subslide"
    }
   },
   "outputs": [
    {
     "data": {
      "text/plain": [
       "\u001b[1m\u001b[32mTest Passed\n",
       "\u001b[39m\u001b[22m"
      ]
     },
     "execution_count": 6,
     "metadata": {},
     "output_type": "execute_result"
    }
   ],
   "source": [
    "# let's do some simple testing\n",
    "using Base.Test\n",
    "\n",
    "@test 1==1\n",
    "@test pi ≈ 3.14159 atol=1e-4"
   ]
  },
  {
   "cell_type": "code",
   "execution_count": 7,
   "metadata": {
    "slideshow": {
     "slide_type": "fragment"
    }
   },
   "outputs": [
    {
     "name": "stdout",
     "output_type": "stream",
     "text": [
      "\u001b[1m\u001b[91mTest Failed\n",
      "\u001b[39m\u001b[22m  Expression: 2 > 3\n",
      "   Evaluated: 2 > 3\n"
     ]
    },
    {
     "ename": "LoadError",
     "evalue": "\u001b[91mThere was an error during testing\u001b[39m",
     "output_type": "error",
     "traceback": [
      "\u001b[91mThere was an error during testing\u001b[39m",
      "",
      "Stacktrace:",
      " [1] \u001b[1mrecord\u001b[22m\u001b[22m\u001b[1m(\u001b[22m\u001b[22m::Base.Test.FallbackTestSet, ::Base.Test.Fail\u001b[1m)\u001b[22m\u001b[22m at \u001b[1m./test.jl:533\u001b[22m\u001b[22m",
      " [2] \u001b[1mdo_test\u001b[22m\u001b[22m\u001b[1m(\u001b[22m\u001b[22m::Base.Test.Returned, ::Expr\u001b[1m)\u001b[22m\u001b[22m at \u001b[1m./test.jl:352\u001b[22m\u001b[22m",
      " [3] \u001b[1minclude_string\u001b[22m\u001b[22m\u001b[1m(\u001b[22m\u001b[22m::String, ::String\u001b[1m)\u001b[22m\u001b[22m at \u001b[1m./loading.jl:515\u001b[22m\u001b[22m"
     ]
    }
   ],
   "source": [
    "@test 2>3"
   ]
  },
  {
   "cell_type": "markdown",
   "metadata": {
    "slideshow": {
     "slide_type": "slide"
    }
   },
   "source": [
    "## Debugging Julia\n",
    "\n",
    "There are at least 2 ways to chase down a bug.\n",
    "\n",
    "1. Use logging facilities. \n",
    "    * poor man's logger: write `println` statements at various points in your code.\n",
    "    * better: use Base.logging\n",
    "        * this will really become useful in v1.0, when you can choose the logging level in a better way.\n",
    "1. Use the debugger:\n",
    "    * The Julia debugger used to be [Gallium.jl](https://github.com/Keno/Gallium.jl)\n",
    "        * There is a lot of work on that repo. in the meantime:\n",
    "    * [https://github.com/Keno/ASTInterpreter2.jl](https://github.com/Keno/ASTInterpreter2.jl) works very well.\n",
    "    * Debugging works well in Juno. \n",
    "    * We will try this out next time, when you start to work with actual code."
   ]
  },
  {
   "cell_type": "markdown",
   "metadata": {
    "slideshow": {
     "slide_type": "slide"
    }
   },
   "source": [
    "## Julia and Data\n",
    "\n",
    "* There is a github org for [julia and data](https://github.com/JuliaData)\n",
    "* Some prominent members of that org are\n",
    "    * [DataFrames.jl](https://dataframesjl.readthedocs.io)\n",
    "    * [DataFramesMeta.jl](https://github.com/JuliaStats/DataFramesMeta.jl)\n",
    "    * [Queries.jl](https://github.com/davidanthoff/Query.jl)"
   ]
  },
  {
   "cell_type": "markdown",
   "metadata": {
    "slideshow": {
     "slide_type": "subslide"
    }
   },
   "source": [
    "### What's special about Data?\n",
    "\n",
    "* There are several issues when working with *data*:\n",
    "    * A typical dataset might be deliverd to you in tabular form. A comma separated file, for example: a spreadsheet.\n",
    "    * R, julia and python share the concept of a `DataFrame`. A tabular dataset with column names.\n",
    "    * that means in particular that each column could have a different datatype.\n",
    "    * For a language that optimizes on efficiently computing with different datatypes, that is a challenge.\n",
    "    * Importantly: data can be **missing**, i.e. for several reasons there is a record that was not, well, recorded.\n",
    "    * Julia has made a lot of progress here. We now have the `Missing` data type, provided in `Missings.jl`\n",
    "    "
   ]
  },
  {
   "cell_type": "code",
   "execution_count": 8,
   "metadata": {
    "slideshow": {
     "slide_type": "subslide"
    }
   },
   "outputs": [
    {
     "name": "stderr",
     "output_type": "stream",
     "text": [
      "\u001b[1m\u001b[36mINFO: \u001b[39m\u001b[22m\u001b[36mRecompiling stale cache file /Users/florian.oswald/.julia/lib/v0.6/DataFrames.ji for module DataFrames.\n",
      "\u001b[39m"
     ]
    },
    {
     "data": {
      "text/plain": [
       "3-element Array{Union{Float64, Missings.Missing},1}:\n",
       " missing\n",
       " missing\n",
       " missing"
      ]
     },
     "execution_count": 8,
     "metadata": {},
     "output_type": "execute_result"
    }
   ],
   "source": [
    "using DataFrames  # DataFrames re-exports Missings.jl\n",
    "m = missings(Float64,3)  # you choose a datatype, and the dims for an array"
   ]
  },
  {
   "cell_type": "code",
   "execution_count": 9,
   "metadata": {
    "slideshow": {
     "slide_type": "subslide"
    }
   },
   "outputs": [
    {
     "data": {
      "text/plain": [
       "2.0"
      ]
     },
     "execution_count": 9,
     "metadata": {},
     "output_type": "execute_result"
    }
   ],
   "source": [
    "m[1:2] = ones(2)\n",
    "sum(m)  # => missing. because Float64 + missing = missing\n",
    "prod(m)  # => missing. because Float64 * missing = missing\n",
    "sum(skipmissing(m)) # => 2"
   ]
  },
  {
   "cell_type": "code",
   "execution_count": 10,
   "metadata": {
    "slideshow": {
     "slide_type": "subslide"
    }
   },
   "outputs": [
    {
     "name": "stdout",
     "output_type": "stream",
     "text": [
      "Missings.EachReplaceMissing{Array{Union{Float64, Missings.Missing},1},Float64}\n"
     ]
    },
    {
     "data": {
      "text/plain": [
       "3-element Array{Float64,1}:\n",
       " 1.0\n",
       " 1.0\n",
       " 3.0"
      ]
     },
     "execution_count": 10,
     "metadata": {},
     "output_type": "execute_result"
    }
   ],
   "source": [
    "# you can replace missing values\n",
    "println(typeof(Missings.replace(m,3)))\n",
    "collect(Missings.replace(m,3))"
   ]
  },
  {
   "cell_type": "markdown",
   "metadata": {
    "slideshow": {
     "slide_type": "slide"
    }
   },
   "source": [
    "### DataFrames\n",
    "\n",
    "* A dataframe is a tabular dataset: a spreadsheet\n",
    "* columns can be of different data type. very convenient, very hard to optimize."
   ]
  },
  {
   "cell_type": "code",
   "execution_count": 11,
   "metadata": {
    "slideshow": {
     "slide_type": "subslide"
    }
   },
   "outputs": [
    {
     "data": {
      "text/html": [
       "<table class=\"data-frame\"><thead><tr><th></th><th>nums</th><th>words</th></tr></thead><tbody><tr><th>1</th><td>0.526495</td><td>little</td></tr><tr><th>2</th><td>0.607385</td><td>brown</td></tr><tr><th>3</th><td>0.502525</td><td>dog</td></tr></tbody></table>"
      ],
      "text/plain": [
       "3×2 DataFrames.DataFrame\n",
       "│ Row │ nums     │ words  │\n",
       "├─────┼──────────┼────────┤\n",
       "│ 1   │ 0.526495 │ little │\n",
       "│ 2   │ 0.607385 │ brown  │\n",
       "│ 3   │ 0.502525 │ dog    │"
      ]
     },
     "execution_count": 11,
     "metadata": {},
     "output_type": "execute_result"
    }
   ],
   "source": [
    "df = DataFrame(nums = rand(3),words=[\"little\",\"brown\",\"dog\"])"
   ]
  },
  {
   "cell_type": "code",
   "execution_count": 12,
   "metadata": {
    "slideshow": {
     "slide_type": "subslide"
    }
   },
   "outputs": [
    {
     "data": {
      "text/html": [
       "<table class=\"data-frame\"><thead><tr><th></th><th>nums</th><th>words</th></tr></thead><tbody><tr><th>1</th><td>0.526495</td><td>little</td></tr><tr><th>2</th><td>1.0</td><td>brown</td></tr><tr><th>3</th><td>1.0</td><td>dog</td></tr></tbody></table>"
      ],
      "text/plain": [
       "3×2 DataFrames.DataFrame\n",
       "│ Row │ nums     │ words  │\n",
       "├─────┼──────────┼────────┤\n",
       "│ 1   │ 0.526495 │ little │\n",
       "│ 2   │ 1.0      │ brown  │\n",
       "│ 3   │ 1.0      │ dog    │"
      ]
     },
     "execution_count": 12,
     "metadata": {},
     "output_type": "execute_result"
    }
   ],
   "source": [
    "# there is alot of functionality. please consult the manual.\n",
    "df[:nums]\n",
    "df[:words][1]  # \"little\"\n",
    "df[:nums][2:3] = [1,1]\n",
    "df"
   ]
  },
  {
   "cell_type": "code",
   "execution_count": 1,
   "metadata": {
    "slideshow": {
     "slide_type": "subslide"
    }
   },
   "outputs": [
    {
     "name": "stderr",
     "output_type": "stream",
     "text": [
      "\u001b[1m\u001b[36mINFO: \u001b[39m\u001b[22m\u001b[36mRecompiling stale cache file /Users/74097/.julia/lib/v0.6/RDatasets.ji for module RDatasets.\n",
      "\u001b[39m"
     ]
    },
    {
     "data": {
      "text/html": [
       "<table class=\"data-frame\"><thead><tr><th></th><th>SepalLength</th><th>SepalWidth</th><th>PetalLength</th><th>PetalWidth</th><th>Species</th></tr></thead><tbody><tr><th>1</th><td>5.1</td><td>3.5</td><td>1.4</td><td>0.2</td><td>setosa</td></tr><tr><th>2</th><td>4.9</td><td>3.0</td><td>1.4</td><td>0.2</td><td>setosa</td></tr><tr><th>3</th><td>4.7</td><td>3.2</td><td>1.3</td><td>0.2</td><td>setosa</td></tr><tr><th>4</th><td>4.6</td><td>3.1</td><td>1.5</td><td>0.2</td><td>setosa</td></tr><tr><th>5</th><td>5.0</td><td>3.6</td><td>1.4</td><td>0.2</td><td>setosa</td></tr><tr><th>6</th><td>5.4</td><td>3.9</td><td>1.7</td><td>0.4</td><td>setosa</td></tr></tbody></table>"
      ],
      "text/plain": [
       "6×5 DataFrames.DataFrame\n",
       "│ Row │ SepalLength │ SepalWidth │ PetalLength │ PetalWidth │ Species │\n",
       "├─────┼─────────────┼────────────┼─────────────┼────────────┼─────────┤\n",
       "│ 1   │ 5.1         │ 3.5        │ 1.4         │ 0.2        │ setosa  │\n",
       "│ 2   │ 4.9         │ 3.0        │ 1.4         │ 0.2        │ setosa  │\n",
       "│ 3   │ 4.7         │ 3.2        │ 1.3         │ 0.2        │ setosa  │\n",
       "│ 4   │ 4.6         │ 3.1        │ 1.5         │ 0.2        │ setosa  │\n",
       "│ 5   │ 5.0         │ 3.6        │ 1.4         │ 0.2        │ setosa  │\n",
       "│ 6   │ 5.4         │ 3.9        │ 1.7         │ 0.4        │ setosa  │"
      ]
     },
     "execution_count": 1,
     "metadata": {},
     "output_type": "execute_result"
    }
   ],
   "source": [
    "using RDatasets   # popular Datasets from R\n",
    "iris = dataset(\"datasets\", \"iris\")\n",
    "head(iris)  # get the first 6 rows"
   ]
  },
  {
   "cell_type": "code",
   "execution_count": 2,
   "metadata": {
    "slideshow": {
     "slide_type": "subslide"
    }
   },
   "outputs": [
    {
     "name": "stdout",
     "output_type": "stream",
     "text": [
      "[5.1, 4.9, 4.7, 4.6, 5.0, 5.4]\n",
      "1×5 DataFrames.DataFrame\n",
      "│ Row │ SepalLength │ SepalWidth │ PetalLength │ PetalWidth │ Species │\n",
      "├─────┼─────────────┼────────────┼─────────────┼────────────┼─────────┤\n",
      "│ 1   │ 4.9         │ 3.0        │ 1.4         │ 0.2        │ setosa  │SepalLength\n",
      "Summary Stats:\n",
      "Mean:           5.843333\n",
      "Minimum:        4.300000\n",
      "1st Quartile:   5.100000\n",
      "Median:         5.800000\n",
      "3rd Quartile:   6.400000\n",
      "Maximum:        7.900000\n",
      "Length:         150\n",
      "Type:           Float64\n",
      "\n",
      "SepalWidth\n",
      "Summary Stats:\n",
      "Mean:           3.057333\n",
      "Minimum:        2.000000\n",
      "1st Quartile:   2.800000\n",
      "Median:         3.000000\n",
      "3rd Quartile:   3.300000\n",
      "Maximum:        4.400000\n",
      "Length:         150\n",
      "Type:           Float64\n",
      "\n",
      "PetalLength\n",
      "Summary Stats:\n",
      "Mean:           3.758000\n",
      "Minimum:        1.000000\n",
      "1st Quartile:   1.600000\n",
      "Median:         4.350000\n",
      "3rd Quartile:   5.100000\n",
      "Maximum:        6.900000\n",
      "Length:         150\n",
      "Type:           Float64\n",
      "\n",
      "PetalWidth\n",
      "Summary Stats:\n",
      "Mean:           1.199333\n",
      "Minimum:        0.100000\n",
      "1st Quartile:   0.300000\n",
      "Median:         1.300000\n",
      "3rd Quartile:   1.800000\n",
      "Maximum:        2.500000\n",
      "Length:         150\n",
      "Type:           Float64\n",
      "\n",
      "Species\n",
      "Summary Stats:\n",
      "Length:         150\n",
      "Type:           CategoricalArrays.CategoricalString{UInt8}\n",
      "Number Unique:  3\n",
      "\n"
     ]
    }
   ],
   "source": [
    "println(iris[:SepalLength][1:6])  # get a column\n",
    "\n",
    "show(iris[2,:])   # get a row\n",
    "\n",
    "describe(iris);   # get a description"
   ]
  },
  {
   "cell_type": "markdown",
   "metadata": {
    "slideshow": {
     "slide_type": "subslide"
    }
   },
   "source": [
    "### Working with DataFrames\n",
    "\n",
    "* [RTFM :-)](http://juliastats.github.io/DataFrames.jl/stable/)\n",
    "* We can sort, join (i.e. merge), split-apply-combine and reshape dataframes. We can do most things one can do in base R with a `data.frame`."
   ]
  },
  {
   "cell_type": "code",
   "execution_count": 15,
   "metadata": {
    "slideshow": {
     "slide_type": "subslide"
    }
   },
   "outputs": [
    {
     "data": {
      "text/html": [
       "<table class=\"data-frame\"><thead><tr><th></th><th>B</th><th>x1</th></tr></thead><tbody><tr><th>1</th><td>1</td><td>0.605719</td></tr><tr><th>2</th><td>2</td><td>0.382219</td></tr></tbody></table>"
      ],
      "text/plain": [
       "2×2 DataFrames.DataFrame\n",
       "│ Row │ B │ x1       │\n",
       "├─────┼───┼──────────┤\n",
       "│ 1   │ 1 │ 0.605719 │\n",
       "│ 2   │ 2 │ 0.382219 │"
      ]
     },
     "execution_count": 15,
     "metadata": {},
     "output_type": "execute_result"
    }
   ],
   "source": [
    "d = DataFrame(A = rand(10),B=rand([1,2],10),C=[\"word $i\" for i in 1:10])\n",
    "by(d,:B,x->mean(x[:A]))"
   ]
  },
  {
   "cell_type": "code",
   "execution_count": 16,
   "metadata": {
    "slideshow": {
     "slide_type": "subslide"
    }
   },
   "outputs": [
    {
     "data": {
      "text/html": [
       "<table class=\"data-frame\"><thead><tr><th></th><th>A</th><th>B</th><th>C</th></tr></thead><tbody><tr><th>1</th><td>0.134315</td><td>2</td><td>word 2</td></tr><tr><th>2</th><td>0.929985</td><td>2</td><td>word 3</td></tr><tr><th>3</th><td>0.84077</td><td>2</td><td>word 5</td></tr><tr><th>4</th><td>0.831327</td><td>2</td><td>word 8</td></tr><tr><th>5</th><td>0.607283</td><td>2</td><td>word 9</td></tr></tbody></table>"
      ],
      "text/plain": [
       "5×3 DataFrames.DataFrame\n",
       "│ Row │ A        │ B │ C      │\n",
       "├─────┼──────────┼───┼────────┤\n",
       "│ 1   │ 0.134315 │ 2 │ word 2 │\n",
       "│ 2   │ 0.929985 │ 2 │ word 3 │\n",
       "│ 3   │ 0.84077  │ 2 │ word 5 │\n",
       "│ 4   │ 0.831327 │ 2 │ word 8 │\n",
       "│ 5   │ 0.607283 │ 2 │ word 9 │"
      ]
     },
     "execution_count": 16,
     "metadata": {},
     "output_type": "execute_result"
    }
   ],
   "source": [
    "# subsetting a dataframe can become cumbersome\n",
    "d = DataFrame(A = rand(10),B=rand([1,2],10),C=[\"word $i\" for i in 1:10])\n",
    "d[(d[:A].>0.1) .& (d[:B].==2),:]  # approach 1\n",
    "using DataFramesMeta\n",
    "@where(d,(:A .>0.1) .& (:B.==2))  # approach 2"
   ]
  },
  {
   "cell_type": "markdown",
   "metadata": {
    "slideshow": {
     "slide_type": "slide"
    }
   },
   "source": [
    "enter\n",
    "\n",
    "### [DataFramesMeta.jl](https://github.com/JuliaStats/DataFramesMeta.jl)\n",
    "\n",
    "* This makes this much easier. \n",
    "* It makes heavy use of macros.\n",
    "* The same thing from before is now\n",
    "\n",
    "```julia\n",
    "using DataFramesMeta\n",
    "@where(d,(:A .>0.1) & (:B.==2))\n",
    "```\n",
    "\n",
    "* We can access column names as *symbols* inside an expression.\n",
    "\n"
   ]
  },
  {
   "cell_type": "code",
   "execution_count": 17,
   "metadata": {
    "slideshow": {
     "slide_type": "subslide"
    }
   },
   "outputs": [
    {
     "data": {
      "text/html": [
       "<table class=\"data-frame\"><thead><tr><th></th><th>B</th><th>m</th></tr></thead><tbody><tr><th>1</th><td>1</td><td>0.418524</td></tr><tr><th>2</th><td>2</td><td>0.668736</td></tr></tbody></table>"
      ],
      "text/plain": [
       "2×2 DataFrames.DataFrame\n",
       "│ Row │ B │ m        │\n",
       "├─────┼───┼──────────┤\n",
       "│ 1   │ 1 │ 0.418524 │\n",
       "│ 2   │ 2 │ 0.668736 │"
      ]
     },
     "execution_count": 17,
     "metadata": {},
     "output_type": "execute_result"
    }
   ],
   "source": [
    "# the previous operation would become\n",
    "@by(d,:B,m=mean(:A))"
   ]
  },
  {
   "cell_type": "markdown",
   "metadata": {
    "slideshow": {
     "slide_type": "subslide"
    }
   },
   "source": [
    "### Chaining operations\n",
    "\n",
    "* Very often we have to do a chain of operations on a set of data.\n",
    "* Readibility is a big concern here.\n",
    "* Here we can use the `@linq` macro together with a pipe operator.\n",
    "* This is inspired by `LINK` (language integrated query) from microsoft .NET"
   ]
  },
  {
   "cell_type": "code",
   "execution_count": 18,
   "metadata": {
    "slideshow": {
     "slide_type": "subslide"
    }
   },
   "outputs": [
    {
     "name": "stderr",
     "output_type": "stream",
     "text": [
      "\u001b[1m\u001b[33mWARNING: \u001b[39m\u001b[22m\u001b[33mcalling vector of vectors constructor without passing column names is deprecated\u001b[39m\n",
      "Stacktrace:\n",
      " [1] \u001b[1mdepwarn\u001b[22m\u001b[22m\u001b[1m(\u001b[22m\u001b[22m::String, ::Symbol\u001b[1m)\u001b[22m\u001b[22m at \u001b[1m./deprecated.jl:70\u001b[22m\u001b[22m\n",
      " [2] \u001b[1mType\u001b[22m\u001b[22m at \u001b[1m/Users/florian.oswald/.julia/v0.6/DataFrames/src/deprecated.jl:4\u001b[22m\u001b[22m [inlined]\n",
      " [3] \u001b[1m#35\u001b[22m\u001b[22m at \u001b[1m/Users/florian.oswald/.julia/v0.6/DataFramesMeta/src/DataFramesMeta.jl:316\u001b[22m\u001b[22m [inlined]\n",
      " [4] \u001b[1m##696\u001b[22m\u001b[22m at \u001b[1m/Users/florian.oswald/.julia/v0.6/DataFramesMeta/src/DataFramesMeta.jl:70\u001b[22m\u001b[22m [inlined]\n",
      " [5] \u001b[1m(::##21#29{DataFrames.DataFrame})\u001b[22m\u001b[22m\u001b[1m(\u001b[22m\u001b[22m::DataFrames.DataFrame\u001b[1m)\u001b[22m\u001b[22m at \u001b[1m/Users/florian.oswald/.julia/v0.6/DataFramesMeta/src/DataFramesMeta.jl:72\u001b[22m\u001b[22m\n",
      " [6] \u001b[1morderby\u001b[22m\u001b[22m\u001b[1m(\u001b[22m\u001b[22m::DataFrames.DataFrame, ::##21#29{DataFrames.DataFrame}\u001b[1m)\u001b[22m\u001b[22m at \u001b[1m/Users/florian.oswald/.julia/v0.6/DataFramesMeta/src/DataFramesMeta.jl:313\u001b[22m\u001b[22m\n",
      " [7] \u001b[1minclude_string\u001b[22m\u001b[22m\u001b[1m(\u001b[22m\u001b[22m::String, ::String\u001b[1m)\u001b[22m\u001b[22m at \u001b[1m./loading.jl:515\u001b[22m\u001b[22m\n",
      " [8] \u001b[1minclude_string\u001b[22m\u001b[22m\u001b[1m(\u001b[22m\u001b[22m::Module, ::String, ::String\u001b[1m)\u001b[22m\u001b[22m at \u001b[1m/Users/florian.oswald/.julia/v0.6/Compat/src/Compat.jl:174\u001b[22m\u001b[22m\n",
      " [9] \u001b[1mexecute_request\u001b[22m\u001b[22m\u001b[1m(\u001b[22m\u001b[22m::ZMQ.Socket, ::IJulia.Msg\u001b[1m)\u001b[22m\u001b[22m at \u001b[1m/Users/florian.oswald/.julia/v0.6/IJulia/src/execute_request.jl:154\u001b[22m\u001b[22m\n",
      " [10] \u001b[1m(::Compat.#inner#17{Array{Any,1},IJulia.#execute_request,Tuple{ZMQ.Socket,IJulia.Msg}})\u001b[22m\u001b[22m\u001b[1m(\u001b[22m\u001b[22m\u001b[1m)\u001b[22m\u001b[22m at \u001b[1m/Users/florian.oswald/.julia/v0.6/Compat/src/Compat.jl:488\u001b[22m\u001b[22m\n",
      " [11] \u001b[1meventloop\u001b[22m\u001b[22m\u001b[1m(\u001b[22m\u001b[22m::ZMQ.Socket\u001b[1m)\u001b[22m\u001b[22m at \u001b[1m/Users/florian.oswald/.julia/v0.6/IJulia/src/eventloop.jl:8\u001b[22m\u001b[22m\n",
      " [12] \u001b[1m(::IJulia.##14#17)\u001b[22m\u001b[22m\u001b[1m(\u001b[22m\u001b[22m\u001b[1m)\u001b[22m\u001b[22m at \u001b[1m./task.jl:335\u001b[22m\u001b[22m\n",
      "while loading In[18], in expression starting on line 323\n"
     ]
    },
    {
     "data": {
      "text/html": [
       "<table class=\"data-frame\"><thead><tr><th></th><th>meanx</th><th>meany</th><th>var</th></tr></thead><tbody><tr><th>1</th><td>0.400537</td><td>4.00537</td><td>5</td></tr><tr><th>2</th><td>0.516743</td><td>5.16743</td><td>10</td></tr><tr><th>3</th><td>0.70122</td><td>7.0122</td><td>2</td></tr></tbody></table>"
      ],
      "text/plain": [
       "3×3 DataFrames.DataFrame\n",
       "│ Row │ meanx    │ meany   │ var │\n",
       "├─────┼──────────┼─────────┼─────┤\n",
       "│ 1   │ 0.400537 │ 4.00537 │ 5   │\n",
       "│ 2   │ 0.516743 │ 5.16743 │ 10  │\n",
       "│ 3   │ 0.70122  │ 7.0122  │ 2   │"
      ]
     },
     "execution_count": 18,
     "metadata": {},
     "output_type": "execute_result"
    }
   ],
   "source": [
    "df = DataFrame(a = 1:20,b = rand([2,5,10],20), x = rand(20))\n",
    "x_thread = @linq df |>\n",
    "    transform(y = 10 * :x) |>\n",
    "    where(:a .> 2) |>\n",
    "    by(:b, meanX = mean(:x), meanY = mean(:y)) |>\n",
    "    orderby(:meanX) |>\n",
    "    select(meanx=:meanX,meany= :meanY, var = :b)\n",
    "\n",
    "# or\n",
    "# using Lazy\n",
    "# x_thread = @> begin\n",
    "#     df\n",
    "#     @transform(y = 10 * :x)\n",
    "#     @where(:a .> 2)\n",
    "#     @by(:b, meanX = mean(:x), meanY = mean(:y))\n",
    "#     @orderby(:meanX)\n",
    "#     @select(:meanX, :meanY, var = :b)\n",
    "# end"
   ]
  },
  {
   "cell_type": "markdown",
   "metadata": {
    "slideshow": {
     "slide_type": "slide"
    }
   },
   "source": [
    "an alternative\n",
    "\n",
    "### [Query.jl](https://github.com/davidanthoff/Query.jl)\n",
    "\n",
    "* Much in the same spirit. But can query almost any data source, not only dataframes.\n",
    "    * Data Sources: DataFrames, Dicts, Arrays, TypedTables, DataStreams,...\n",
    "    * Data Sinks: DataFrames, Dicts, Csv\n",
    "* It is not as convenient to summarise data, however.\n",
    "* It is one of the [best documented packages](http://www.david-anthoff.com/Query.jl/stable/) I know.\n",
    "* In general, a query looks like this:\n",
    "```julia\n",
    "q = @from <range variable> in <source> begin\n",
    "    <query statements>\n",
    "end\n",
    "```\n",
    "* Here is an example:"
   ]
  },
  {
   "cell_type": "code",
   "execution_count": 21,
   "metadata": {
    "slideshow": {
     "slide_type": "subslide"
    }
   },
   "outputs": [
    {
     "name": "stdout",
     "output_type": "stream",
     "text": [
      "3×3 DataFrames.DataFrame\n",
      "│ Row │ name  │ age  │ children │\n",
      "├─────┼───────┼──────┼──────────┤\n",
      "│ 1   │ John  │ 23.0 │ 3        │\n",
      "│ 2   │ Sally │ 42.0 │ 5        │\n",
      "│ 3   │ Kirk  │ 59.0 │ 2        │\n",
      "1×2 DataFrames.DataFrame\n",
      "│ Row │ name │ children │\n",
      "├─────┼──────┼──────────┤\n",
      "│ 1   │ Kirk │ 2        │\n"
     ]
    }
   ],
   "source": [
    "using Query\n",
    "\n",
    "df = DataFrame(name=[\"John\", \"Sally\", \"Kirk\"], age=[23., 42., 59.], children=[3,5,2])\n",
    "\n",
    "x = @from i in df begin\n",
    "    @where i.age>50\n",
    "    @select {i.name, i.children}\n",
    "    @collect DataFrame\n",
    "end\n",
    "println(df)\n",
    "println(x)"
   ]
  },
  {
   "cell_type": "markdown",
   "metadata": {
    "slideshow": {
     "slide_type": "subslide"
    }
   },
   "source": [
    "you can do [several things in a query](http://www.david-anthoff.com/Query.jl/stable/querycommands.html):\n",
    "\n",
    "* sort\n",
    "* filter\n",
    "* project\n",
    "* flatten\n",
    "* join\n",
    "* split-apply-combine (dplyr)\n",
    "\n"
   ]
  },
  {
   "cell_type": "code",
   "execution_count": 22,
   "metadata": {
    "slideshow": {
     "slide_type": "subslide"
    }
   },
   "outputs": [
    {
     "name": "stdout",
     "output_type": "stream",
     "text": [
      "2×4 DataFrames.DataFrame\n",
      "│ Row │ group │ mage │ oldest │ youngest │\n",
      "├─────┼───────┼──────┼────────┼──────────┤\n",
      "│ 1   │ a     │ 20.0 │ 30.0   │ 10.0     │\n",
      "│ 2   │ b     │ 23.0 │ 33.0   │ 13.0     │\n"
     ]
    }
   ],
   "source": [
    "df = DataFrame(name=repeat([\"John\", \"Sally\", \"Kirk\"],inner=[1],outer=[2]), \n",
    "     age=vcat([10., 20., 30.],[10., 20., 30.].+3), \n",
    "     children=repeat([3,2,2],inner=[1],outer=[2]),state=[:a,:a,:a,:b,:b,:b])\n",
    "\n",
    "x = @from i in df begin\n",
    "    @group i by i.state into g\n",
    "    @select {group=g.key,mage=mean(g..age), oldest=maximum(g..age), youngest=minimum(g..age)}\n",
    "    @collect DataFrame\n",
    "end\n",
    "\n",
    "println(x)\n"
   ]
  }
 ],
 "metadata": {
  "celltoolbar": "Slideshow",
  "kernelspec": {
   "display_name": "Julia 0.6.0",
   "language": "julia",
   "name": "julia-0.6"
  },
  "language_info": {
   "file_extension": ".jl",
   "mimetype": "application/julia",
   "name": "julia",
   "version": "0.6.2"
  }
 },
 "nbformat": 4,
 "nbformat_minor": 1
}
