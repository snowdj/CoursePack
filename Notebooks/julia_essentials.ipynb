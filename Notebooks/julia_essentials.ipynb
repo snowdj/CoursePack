{
 "cells": [
  {
   "cell_type": "markdown",
   "metadata": {},
   "source": [
    "# Julia Essentials"
   ]
  },
  {
   "cell_type": "markdown",
   "metadata": {},
   "source": [
    "## Contents\n",
    "\n",
    "- [Julia Essentials](#Julia-Essentials)  \n",
    "  - [Overview](#Overview)  \n",
    "  - [Common Data Types](#Common-Data-Types)  \n",
    "  - [Iterating](#Iterating)  \n",
    "  - [Comparisons and Logical Operators](#Comparisons-and-Logical-Operators)  \n",
    "  - [User-Defined Functions](#User-Defined-Functions)  \n",
    "  - [Broadcasting](#Broadcasting)  \n",
    "  - [Scoping and Closures](#Scoping-and-Closures)  \n",
    "  - [Exercises](#Exercises)  \n",
    "  - [Solutions](#Solutions)  "
   ]
  },
  {
   "cell_type": "markdown",
   "metadata": {},
   "source": [
    "Having covered a few examples, let’s now turn to a more systematic exposition\n",
    "of the essential features of the language"
   ]
  },
  {
   "cell_type": "markdown",
   "metadata": {},
   "source": [
    "## Overview\n",
    "\n",
    "Topics:\n",
    "\n",
    "- Common data types  \n",
    "- Iteration  \n",
    "- More on user-defined functions  \n",
    "- Comparisons and logic  "
   ]
  },
  {
   "cell_type": "markdown",
   "metadata": {},
   "source": [
    "### Setup"
   ]
  },
  {
   "cell_type": "code",
   "execution_count": 1,
   "metadata": {
    "hide-output": false
   },
   "outputs": [],
   "source": [
    "# using InstantiateFromURL\n",
    "\n",
    "# activate the QuantEcon environment\n",
    "# activate_github(\"QuantEcon/QuantEconLecturePackages\", tag = \"v0.9.5\");"
   ]
  },
  {
   "cell_type": "code",
   "execution_count": 2,
   "metadata": {
    "hide-output": false
   },
   "outputs": [],
   "source": [
    "using LinearAlgebra, Statistics, Compat"
   ]
  },
  {
   "cell_type": "markdown",
   "metadata": {},
   "source": [
    "## Common Data Types\n",
    "\n",
    "Like most languages, Julia language defines and provides functions for operating on standard data types such as\n",
    "\n",
    "- integers  \n",
    "- floats  \n",
    "- strings  \n",
    "- arrays, etc…  \n",
    "\n",
    "\n",
    "Let’s learn a bit more about them"
   ]
  },
  {
   "cell_type": "markdown",
   "metadata": {},
   "source": [
    "### Primitive Data Types\n",
    "\n",
    "A particularly simple data type is a Boolean value, which can be either `true` or\n",
    "`false`"
   ]
  },
  {
   "cell_type": "code",
   "execution_count": 3,
   "metadata": {
    "hide-output": false
   },
   "outputs": [
    {
     "data": {
      "text/plain": [
       "true"
      ]
     },
     "execution_count": 3,
     "metadata": {},
     "output_type": "execute_result"
    }
   ],
   "source": [
    "x = true"
   ]
  },
  {
   "cell_type": "code",
   "execution_count": 4,
   "metadata": {
    "hide-output": false
   },
   "outputs": [
    {
     "data": {
      "text/plain": [
       "Bool"
      ]
     },
     "execution_count": 4,
     "metadata": {},
     "output_type": "execute_result"
    }
   ],
   "source": [
    "typeof(x)"
   ]
  },
  {
   "cell_type": "code",
   "execution_count": 5,
   "metadata": {
    "hide-output": false
   },
   "outputs": [
    {
     "data": {
      "text/plain": [
       "false"
      ]
     },
     "execution_count": 5,
     "metadata": {},
     "output_type": "execute_result"
    }
   ],
   "source": [
    "y = 1 > 2  # now y = false"
   ]
  },
  {
   "cell_type": "markdown",
   "metadata": {},
   "source": [
    "The two most common data types used to represent numbers are integers and\n",
    "floats\n",
    "\n",
    "(Computers distinguish between floats and integers because arithmetic is\n",
    "handled in a different way)"
   ]
  },
  {
   "cell_type": "code",
   "execution_count": 6,
   "metadata": {
    "hide-output": false
   },
   "outputs": [
    {
     "data": {
      "text/plain": [
       "Float64"
      ]
     },
     "execution_count": 6,
     "metadata": {},
     "output_type": "execute_result"
    }
   ],
   "source": [
    "typeof(1.0)"
   ]
  },
  {
   "cell_type": "code",
   "execution_count": 7,
   "metadata": {
    "hide-output": false
   },
   "outputs": [
    {
     "data": {
      "text/plain": [
       "Int64"
      ]
     },
     "execution_count": 7,
     "metadata": {},
     "output_type": "execute_result"
    }
   ],
   "source": [
    "typeof(1)"
   ]
  },
  {
   "cell_type": "markdown",
   "metadata": {},
   "source": [
    "If you’re running a 32 bit system you’ll still see `Float64`, but you will see `Int32` instead of `Int64` (see [the section on Integer types](https://docs.julialang.org/en/stable/manual/integers-and-floating-point-numbers/#Integers-1) from the Julia manual)\n",
    "\n",
    "Arithmetic operations are fairly standard"
   ]
  },
  {
   "cell_type": "code",
   "execution_count": 8,
   "metadata": {
    "hide-output": false
   },
   "outputs": [],
   "source": [
    "x = 2; y = 1.0;"
   ]
  },
  {
   "cell_type": "markdown",
   "metadata": {},
   "source": [
    "The `;` can be used to suppress output from a line of code, or to combine two lines of code together (as above), but is otherwise not necessary"
   ]
  },
  {
   "cell_type": "code",
   "execution_count": 9,
   "metadata": {
    "hide-output": false
   },
   "outputs": [
    {
     "data": {
      "text/plain": [
       "2.0"
      ]
     },
     "execution_count": 9,
     "metadata": {},
     "output_type": "execute_result"
    }
   ],
   "source": [
    "x * y"
   ]
  },
  {
   "cell_type": "code",
   "execution_count": 10,
   "metadata": {
    "hide-output": false
   },
   "outputs": [
    {
     "data": {
      "text/plain": [
       "4"
      ]
     },
     "execution_count": 10,
     "metadata": {},
     "output_type": "execute_result"
    }
   ],
   "source": [
    "x^2"
   ]
  },
  {
   "cell_type": "code",
   "execution_count": 11,
   "metadata": {
    "hide-output": false
   },
   "outputs": [
    {
     "data": {
      "text/plain": [
       "0.5"
      ]
     },
     "execution_count": 11,
     "metadata": {},
     "output_type": "execute_result"
    }
   ],
   "source": [
    "y / x"
   ]
  },
  {
   "cell_type": "markdown",
   "metadata": {},
   "source": [
    "Although the `*` can be omitted for multiplication between a numeric literal and a variable"
   ]
  },
  {
   "cell_type": "code",
   "execution_count": 12,
   "metadata": {
    "hide-output": false
   },
   "outputs": [
    {
     "data": {
      "text/plain": [
       "1.0"
      ]
     },
     "execution_count": 12,
     "metadata": {},
     "output_type": "execute_result"
    }
   ],
   "source": [
    "2x - 3y"
   ]
  },
  {
   "cell_type": "markdown",
   "metadata": {},
   "source": [
    "A useful tool for displaying both expressions and code is to use the `@show` macro, which displays the text and the results"
   ]
  },
  {
   "cell_type": "code",
   "execution_count": 13,
   "metadata": {
    "hide-output": false
   },
   "outputs": [
    {
     "name": "stdout",
     "output_type": "stream",
     "text": [
      "2x - 3y = 1.0\n",
      "x + y = 3.0\n"
     ]
    }
   ],
   "source": [
    "@show 2x - 3y\n",
    "@show x + y;"
   ]
  },
  {
   "cell_type": "markdown",
   "metadata": {},
   "source": [
    "Here we have used `;` to suppress the output on the last line, which otherwise returns the results of `x + y`\n",
    "\n",
    "Complex numbers are another primitive data type, with the imaginary part being specified by `im`"
   ]
  },
  {
   "cell_type": "code",
   "execution_count": 14,
   "metadata": {
    "hide-output": false
   },
   "outputs": [
    {
     "data": {
      "text/plain": [
       "1 + 2im"
      ]
     },
     "execution_count": 14,
     "metadata": {},
     "output_type": "execute_result"
    }
   ],
   "source": [
    "x = 1 + 2im"
   ]
  },
  {
   "cell_type": "code",
   "execution_count": 15,
   "metadata": {
    "hide-output": false
   },
   "outputs": [
    {
     "data": {
      "text/plain": [
       "1 - 2im"
      ]
     },
     "execution_count": 15,
     "metadata": {},
     "output_type": "execute_result"
    }
   ],
   "source": [
    "y = 1 - 2im"
   ]
  },
  {
   "cell_type": "code",
   "execution_count": 16,
   "metadata": {
    "hide-output": false
   },
   "outputs": [
    {
     "data": {
      "text/plain": [
       "5 + 0im"
      ]
     },
     "execution_count": 16,
     "metadata": {},
     "output_type": "execute_result"
    }
   ],
   "source": [
    "x * y  # complex multiplication"
   ]
  },
  {
   "cell_type": "markdown",
   "metadata": {},
   "source": [
    "There are several more primitive data types that we’ll introduce as necessary"
   ]
  },
  {
   "cell_type": "markdown",
   "metadata": {},
   "source": [
    "### Strings\n",
    "\n",
    "A string is a data type for storing a sequence of characters\n",
    "\n",
    "In Julia, strings are created using double quotation marks (single quotations are\n",
    "reserved for the character type)"
   ]
  },
  {
   "cell_type": "code",
   "execution_count": 17,
   "metadata": {
    "hide-output": false
   },
   "outputs": [
    {
     "data": {
      "text/plain": [
       "\"foobar\""
      ]
     },
     "execution_count": 17,
     "metadata": {},
     "output_type": "execute_result"
    }
   ],
   "source": [
    "x = \"foobar\""
   ]
  },
  {
   "cell_type": "code",
   "execution_count": 18,
   "metadata": {
    "hide-output": false
   },
   "outputs": [
    {
     "data": {
      "text/plain": [
       "String"
      ]
     },
     "execution_count": 18,
     "metadata": {},
     "output_type": "execute_result"
    }
   ],
   "source": [
    "typeof(x)"
   ]
  },
  {
   "cell_type": "markdown",
   "metadata": {},
   "source": [
    "You’ve already seen examples of Julia’s simple string formatting operations"
   ]
  },
  {
   "cell_type": "code",
   "execution_count": 19,
   "metadata": {
    "hide-output": false
   },
   "outputs": [
    {
     "data": {
      "text/plain": [
       "20"
      ]
     },
     "execution_count": 19,
     "metadata": {},
     "output_type": "execute_result"
    }
   ],
   "source": [
    "x = 10; y = 20"
   ]
  },
  {
   "cell_type": "markdown",
   "metadata": {},
   "source": [
    "The `$` inside of a string is used to interpolate a variable"
   ]
  },
  {
   "cell_type": "code",
   "execution_count": 20,
   "metadata": {
    "hide-output": false
   },
   "outputs": [
    {
     "data": {
      "text/plain": [
       "\"x = 10\""
      ]
     },
     "execution_count": 20,
     "metadata": {},
     "output_type": "execute_result"
    }
   ],
   "source": [
    "\"x = $x\""
   ]
  },
  {
   "cell_type": "markdown",
   "metadata": {},
   "source": [
    "With parentheses, you can splice the results of expressions into strings as well"
   ]
  },
  {
   "cell_type": "code",
   "execution_count": 21,
   "metadata": {
    "hide-output": false
   },
   "outputs": [
    {
     "data": {
      "text/plain": [
       "\"x + y = 30\""
      ]
     },
     "execution_count": 21,
     "metadata": {},
     "output_type": "execute_result"
    }
   ],
   "source": [
    "\"x + y = $(x + y)\""
   ]
  },
  {
   "cell_type": "markdown",
   "metadata": {},
   "source": [
    "To concatenate strings use `*`"
   ]
  },
  {
   "cell_type": "code",
   "execution_count": 22,
   "metadata": {
    "hide-output": false
   },
   "outputs": [
    {
     "data": {
      "text/plain": [
       "\"foobar\""
      ]
     },
     "execution_count": 22,
     "metadata": {},
     "output_type": "execute_result"
    }
   ],
   "source": [
    "\"foo\" * \"bar\""
   ]
  },
  {
   "cell_type": "markdown",
   "metadata": {},
   "source": [
    "Julia provides many functions for working with strings"
   ]
  },
  {
   "cell_type": "code",
   "execution_count": 23,
   "metadata": {
    "hide-output": false
   },
   "outputs": [
    {
     "data": {
      "text/plain": [
       "\"Charlie don't surf\""
      ]
     },
     "execution_count": 23,
     "metadata": {},
     "output_type": "execute_result"
    }
   ],
   "source": [
    "s = \"Charlie don't surf\""
   ]
  },
  {
   "cell_type": "code",
   "execution_count": 24,
   "metadata": {
    "hide-output": false
   },
   "outputs": [
    {
     "data": {
      "text/plain": [
       "3-element Array{SubString{String},1}:\n",
       " \"Charlie\"\n",
       " \"don't\"  \n",
       " \"surf\"   "
      ]
     },
     "execution_count": 24,
     "metadata": {},
     "output_type": "execute_result"
    }
   ],
   "source": [
    "split(s)"
   ]
  },
  {
   "cell_type": "code",
   "execution_count": 25,
   "metadata": {
    "hide-output": false
   },
   "outputs": [
    {
     "data": {
      "text/plain": [
       "\"Charlie don't ski\""
      ]
     },
     "execution_count": 25,
     "metadata": {},
     "output_type": "execute_result"
    }
   ],
   "source": [
    "replace(s, \"surf\" => \"ski\")"
   ]
  },
  {
   "cell_type": "code",
   "execution_count": 26,
   "metadata": {
    "hide-output": false
   },
   "outputs": [
    {
     "data": {
      "text/plain": [
       "3-element Array{SubString{String},1}:\n",
       " \"fee\"\n",
       " \"fi\" \n",
       " \"fo\" "
      ]
     },
     "execution_count": 26,
     "metadata": {},
     "output_type": "execute_result"
    }
   ],
   "source": [
    "split(\"fee,fi,fo\", \",\")"
   ]
  },
  {
   "cell_type": "code",
   "execution_count": 27,
   "metadata": {
    "hide-output": false
   },
   "outputs": [
    {
     "data": {
      "text/plain": [
       "\"foobar\""
      ]
     },
     "execution_count": 27,
     "metadata": {},
     "output_type": "execute_result"
    }
   ],
   "source": [
    "strip(\" foobar \")  # remove whitespace"
   ]
  },
  {
   "cell_type": "markdown",
   "metadata": {},
   "source": [
    "Julia can also find and replace using [regular expressions](https://en.wikipedia.org/wiki/Regular_expression) ([see regular expressions documentation](https://docs.julialang.org/en/stable/manual/strings/#Regular-Expressions-1) for more info)"
   ]
  },
  {
   "cell_type": "code",
   "execution_count": 28,
   "metadata": {
    "hide-output": false
   },
   "outputs": [
    {
     "data": {
      "text/plain": [
       "RegexMatch(\"10\", 1=\"10\")"
      ]
     },
     "execution_count": 28,
     "metadata": {},
     "output_type": "execute_result"
    }
   ],
   "source": [
    "match(r\"(\\d+)\", \"Top 10\")  # find digits in string"
   ]
  },
  {
   "cell_type": "markdown",
   "metadata": {},
   "source": [
    "### Containers\n",
    "\n",
    "Julia has several basic types for storing collections of data\n",
    "\n",
    "We have already discussed arrays\n",
    "\n",
    "A related data type is a **tuple**, which is immutable and can contain different types"
   ]
  },
  {
   "cell_type": "code",
   "execution_count": 29,
   "metadata": {
    "hide-output": false
   },
   "outputs": [
    {
     "data": {
      "text/plain": [
       "(\"foo\", 2)"
      ]
     },
     "execution_count": 29,
     "metadata": {},
     "output_type": "execute_result"
    }
   ],
   "source": [
    "x = (\"foo\", \"bar\")\n",
    "y = (\"foo\", 2)"
   ]
  },
  {
   "cell_type": "code",
   "execution_count": 30,
   "metadata": {
    "hide-output": false
   },
   "outputs": [
    {
     "data": {
      "text/plain": [
       "(Tuple{String,String}, Tuple{String,Int64})"
      ]
     },
     "execution_count": 30,
     "metadata": {},
     "output_type": "execute_result"
    }
   ],
   "source": [
    "typeof(x), typeof(y)"
   ]
  },
  {
   "cell_type": "markdown",
   "metadata": {},
   "source": [
    "An immutable value is one that cannot be altered once it resides in memory\n",
    "\n",
    "In particular, tuples do not support item assignment (i.e. `x[1] = \"test\"` would fail)\n",
    "\n",
    "Tuples can be constructed with or without parentheses"
   ]
  },
  {
   "cell_type": "code",
   "execution_count": 31,
   "metadata": {
    "hide-output": false
   },
   "outputs": [
    {
     "data": {
      "text/plain": [
       "(\"foo\", 1)"
      ]
     },
     "execution_count": 31,
     "metadata": {},
     "output_type": "execute_result"
    }
   ],
   "source": [
    "x = \"foo\", 1"
   ]
  },
  {
   "cell_type": "code",
   "execution_count": 32,
   "metadata": {
    "hide-output": false
   },
   "outputs": [
    {
     "data": {
      "text/plain": [
       "(\"foo\", 1)"
      ]
     },
     "execution_count": 32,
     "metadata": {},
     "output_type": "execute_result"
    }
   ],
   "source": [
    "function f()\n",
    "    return \"foo\", 1\n",
    "end\n",
    "f()"
   ]
  },
  {
   "cell_type": "markdown",
   "metadata": {},
   "source": [
    "Tuples can also be unpacked directly into variables"
   ]
  },
  {
   "cell_type": "code",
   "execution_count": 33,
   "metadata": {
    "hide-output": false
   },
   "outputs": [
    {
     "data": {
      "text/plain": [
       "(\"foo\", 1)"
      ]
     },
     "execution_count": 33,
     "metadata": {},
     "output_type": "execute_result"
    }
   ],
   "source": [
    "x = (\"foo\", 1)"
   ]
  },
  {
   "cell_type": "code",
   "execution_count": 34,
   "metadata": {
    "hide-output": false
   },
   "outputs": [
    {
     "name": "stdout",
     "output_type": "stream",
     "text": [
      "word = foo, val = 1\n"
     ]
    }
   ],
   "source": [
    "word, val = x\n",
    "println(\"word = $word, val = $val\")"
   ]
  },
  {
   "cell_type": "markdown",
   "metadata": {},
   "source": [
    "Tuples can be created with a hanging `,` – this is useful to create a tuple with one element"
   ]
  },
  {
   "cell_type": "code",
   "execution_count": 35,
   "metadata": {
    "hide-output": false
   },
   "outputs": [
    {
     "data": {
      "text/plain": [
       "(Tuple{String,Int64}, Tuple{String})"
      ]
     },
     "execution_count": 35,
     "metadata": {},
     "output_type": "execute_result"
    }
   ],
   "source": [
    "x = (\"foo\", 1,)\n",
    "y = (\"foo\",)\n",
    "typeof(x), typeof(y)"
   ]
  },
  {
   "cell_type": "markdown",
   "metadata": {},
   "source": [
    "#### Referencing Items\n",
    "\n",
    "The last element of a sequence type can be accessed with the keyword `end`"
   ]
  },
  {
   "cell_type": "code",
   "execution_count": 36,
   "metadata": {
    "hide-output": false
   },
   "outputs": [
    {
     "data": {
      "text/plain": [
       "4-element Array{Int64,1}:\n",
       " 10\n",
       " 20\n",
       " 30\n",
       " 40"
      ]
     },
     "execution_count": 36,
     "metadata": {},
     "output_type": "execute_result"
    }
   ],
   "source": [
    "x = [10, 20, 30, 40]"
   ]
  },
  {
   "cell_type": "code",
   "execution_count": 37,
   "metadata": {
    "hide-output": false
   },
   "outputs": [
    {
     "data": {
      "text/plain": [
       "40"
      ]
     },
     "execution_count": 37,
     "metadata": {},
     "output_type": "execute_result"
    }
   ],
   "source": [
    "x[end]"
   ]
  },
  {
   "cell_type": "code",
   "execution_count": 38,
   "metadata": {
    "hide-output": false
   },
   "outputs": [
    {
     "data": {
      "text/plain": [
       "30"
      ]
     },
     "execution_count": 38,
     "metadata": {},
     "output_type": "execute_result"
    }
   ],
   "source": [
    "x[end-1]"
   ]
  },
  {
   "cell_type": "markdown",
   "metadata": {},
   "source": [
    "To access multiple elements of an array or tuple, you can use slice notation"
   ]
  },
  {
   "cell_type": "code",
   "execution_count": 39,
   "metadata": {
    "hide-output": false
   },
   "outputs": [
    {
     "data": {
      "text/plain": [
       "3-element Array{Int64,1}:\n",
       " 10\n",
       " 20\n",
       " 30"
      ]
     },
     "execution_count": 39,
     "metadata": {},
     "output_type": "execute_result"
    }
   ],
   "source": [
    "x[1:3]"
   ]
  },
  {
   "cell_type": "code",
   "execution_count": 40,
   "metadata": {
    "hide-output": false
   },
   "outputs": [
    {
     "data": {
      "text/plain": [
       "3-element Array{Int64,1}:\n",
       " 20\n",
       " 30\n",
       " 40"
      ]
     },
     "execution_count": 40,
     "metadata": {},
     "output_type": "execute_result"
    }
   ],
   "source": [
    "x[2:end]"
   ]
  },
  {
   "cell_type": "markdown",
   "metadata": {},
   "source": [
    "The same slice notation works on strings"
   ]
  },
  {
   "cell_type": "code",
   "execution_count": 41,
   "metadata": {
    "hide-output": false
   },
   "outputs": [
    {
     "data": {
      "text/plain": [
       "\"obar\""
      ]
     },
     "execution_count": 41,
     "metadata": {},
     "output_type": "execute_result"
    }
   ],
   "source": [
    "\"foobar\"[3:end]"
   ]
  },
  {
   "cell_type": "markdown",
   "metadata": {},
   "source": [
    "#### Dictionaries\n",
    "\n",
    "Another container type worth mentioning is dictionaries\n",
    "\n",
    "Dictionaries are like arrays except that the items are named instead of numbered"
   ]
  },
  {
   "cell_type": "code",
   "execution_count": 42,
   "metadata": {
    "hide-output": false
   },
   "outputs": [
    {
     "data": {
      "text/plain": [
       "Dict{String,Any} with 2 entries:\n",
       "  \"name\" => \"Frodo\"\n",
       "  \"age\"  => 33"
      ]
     },
     "execution_count": 42,
     "metadata": {},
     "output_type": "execute_result"
    }
   ],
   "source": [
    "d = Dict(\"name\" => \"Frodo\", \"age\" => 33)"
   ]
  },
  {
   "cell_type": "code",
   "execution_count": 43,
   "metadata": {
    "hide-output": false
   },
   "outputs": [
    {
     "data": {
      "text/plain": [
       "33"
      ]
     },
     "execution_count": 43,
     "metadata": {},
     "output_type": "execute_result"
    }
   ],
   "source": [
    "d[\"age\"]"
   ]
  },
  {
   "cell_type": "markdown",
   "metadata": {},
   "source": [
    "The strings `name` and `age` are called the **keys**\n",
    "\n",
    "The keys are mapped to **values** (in this case `\"Frodo\"` and `33`)\n",
    "\n",
    "They can be accessed via `keys(d)` and `values(d)` respectively\n",
    "\n",
    "There’s a neat interface to this in Julia, which takes us to our next topic\n",
    "\n",
    "\n",
    "<a id='iterating-version-1'></a>"
   ]
  },
  {
   "cell_type": "markdown",
   "metadata": {},
   "source": [
    "## Iterating\n",
    "\n",
    "One of the most important tasks in computing is stepping through a\n",
    "sequence of data and performing a given action\n",
    "\n",
    "Julia provides neat and flexible tools for iteration as we now discuss"
   ]
  },
  {
   "cell_type": "markdown",
   "metadata": {},
   "source": [
    "### Iterables\n",
    "\n",
    "An iterable is something you can put on the right hand side of `for` and loop over\n",
    "\n",
    "These include sequence data types like arrays"
   ]
  },
  {
   "cell_type": "code",
   "execution_count": 44,
   "metadata": {
    "hide-output": false
   },
   "outputs": [
    {
     "name": "stdout",
     "output_type": "stream",
     "text": [
      "Charlie doesn't surf\n",
      "Charlie doesn't ski\n"
     ]
    }
   ],
   "source": [
    "actions = [\"surf\", \"ski\"]\n",
    "for action in actions\n",
    "    println(\"Charlie doesn't $action\")\n",
    "end"
   ]
  },
  {
   "cell_type": "markdown",
   "metadata": {},
   "source": [
    "They also include so-called **iterators**\n",
    "\n",
    "You’ve already come across these types of values"
   ]
  },
  {
   "cell_type": "code",
   "execution_count": 45,
   "metadata": {
    "hide-output": false
   },
   "outputs": [
    {
     "name": "stdout",
     "output_type": "stream",
     "text": [
      "123"
     ]
    }
   ],
   "source": [
    "for i in 1:3\n",
    "    print(i)\n",
    "end"
   ]
  },
  {
   "cell_type": "markdown",
   "metadata": {},
   "source": [
    "If you ask for the keys of dictionary you get an iterator"
   ]
  },
  {
   "cell_type": "code",
   "execution_count": 46,
   "metadata": {
    "hide-output": false
   },
   "outputs": [
    {
     "data": {
      "text/plain": [
       "Dict{String,Any} with 2 entries:\n",
       "  \"name\" => \"Frodo\"\n",
       "  \"age\"  => 33"
      ]
     },
     "execution_count": 46,
     "metadata": {},
     "output_type": "execute_result"
    }
   ],
   "source": [
    "d = Dict(\"name\" => \"Frodo\", \"age\" => 33)"
   ]
  },
  {
   "cell_type": "code",
   "execution_count": 47,
   "metadata": {
    "hide-output": false
   },
   "outputs": [
    {
     "data": {
      "text/plain": [
       "Base.KeySet for a Dict{String,Any} with 2 entries. Keys:\n",
       "  \"name\"\n",
       "  \"age\""
      ]
     },
     "execution_count": 47,
     "metadata": {},
     "output_type": "execute_result"
    }
   ],
   "source": [
    "keys(d)"
   ]
  },
  {
   "cell_type": "markdown",
   "metadata": {},
   "source": [
    "This makes sense, since the most common thing you want to do with keys is loop over them\n",
    "\n",
    "The benefit of providing an iterator rather than an array, say, is that the former is more memory efficient\n",
    "\n",
    "Should you need to transform an iterator into an array you can always use `collect()`"
   ]
  },
  {
   "cell_type": "code",
   "execution_count": 48,
   "metadata": {
    "hide-output": false
   },
   "outputs": [
    {
     "data": {
      "text/plain": [
       "2-element Array{String,1}:\n",
       " \"name\"\n",
       " \"age\" "
      ]
     },
     "execution_count": 48,
     "metadata": {},
     "output_type": "execute_result"
    }
   ],
   "source": [
    "collect(keys(d))"
   ]
  },
  {
   "cell_type": "markdown",
   "metadata": {},
   "source": [
    "### Looping without Indices\n",
    "\n",
    "You can loop over sequences without explicit indexing, which often leads to\n",
    "neater code\n",
    "\n",
    "For example compare"
   ]
  },
  {
   "cell_type": "code",
   "execution_count": 49,
   "metadata": {
    "hide-output": false
   },
   "outputs": [
    {
     "data": {
      "text/plain": [
       "1:5"
      ]
     },
     "execution_count": 49,
     "metadata": {},
     "output_type": "execute_result"
    }
   ],
   "source": [
    "x_values = 1:5"
   ]
  },
  {
   "cell_type": "code",
   "execution_count": 50,
   "metadata": {
    "hide-output": false
   },
   "outputs": [
    {
     "name": "stdout",
     "output_type": "stream",
     "text": [
      "1\n",
      "4\n",
      "9\n",
      "16\n",
      "25\n"
     ]
    }
   ],
   "source": [
    "for x in x_values\n",
    "    println(x * x)\n",
    "end"
   ]
  },
  {
   "cell_type": "code",
   "execution_count": 51,
   "metadata": {
    "hide-output": false
   },
   "outputs": [
    {
     "name": "stdout",
     "output_type": "stream",
     "text": [
      "1\n",
      "4\n",
      "9\n",
      "16\n",
      "25\n"
     ]
    }
   ],
   "source": [
    "for i in eachindex(x_values)\n",
    "    println(x_values[i] * x_values[i])\n",
    "end"
   ]
  },
  {
   "cell_type": "markdown",
   "metadata": {},
   "source": [
    "Julia provides some functional-style helper functions (similar to Python and R) to facilitate looping without indices\n",
    "\n",
    "One is `zip()`, which is used for stepping through pairs from two sequences\n",
    "\n",
    "For example, try running the following code"
   ]
  },
  {
   "cell_type": "code",
   "execution_count": 52,
   "metadata": {
    "hide-output": false
   },
   "outputs": [
    {
     "name": "stdout",
     "output_type": "stream",
     "text": [
      "The capital of Japan is Tokyo\n",
      "The capital of Korea is Seoul\n",
      "The capital of China is Beijing\n"
     ]
    }
   ],
   "source": [
    "countries = (\"Japan\", \"Korea\", \"China\")\n",
    "cities = (\"Tokyo\", \"Seoul\", \"Beijing\")\n",
    "for (country, city) in zip(countries, cities)\n",
    "    println(\"The capital of $country is $city\")\n",
    "end"
   ]
  },
  {
   "cell_type": "markdown",
   "metadata": {},
   "source": [
    "If we happen to need the index as well as the value, one option is to use `enumerate()`\n",
    "\n",
    "The following snippet will give you the idea"
   ]
  },
  {
   "cell_type": "code",
   "execution_count": 53,
   "metadata": {
    "hide-output": false
   },
   "outputs": [
    {
     "name": "stdout",
     "output_type": "stream",
     "text": [
      "The capital of Japan is Tokyo\n",
      "The capital of Korea is Seoul\n",
      "The capital of China is Beijing\n"
     ]
    }
   ],
   "source": [
    "countries = (\"Japan\", \"Korea\", \"China\")\n",
    "cities = (\"Tokyo\", \"Seoul\", \"Beijing\")\n",
    "for (i, country) in enumerate(countries)\n",
    "    city = cities[i]\n",
    "    println(\"The capital of $country is $city\")\n",
    "end"
   ]
  },
  {
   "cell_type": "markdown",
   "metadata": {},
   "source": [
    "### Comprehensions\n",
    "\n",
    "([See comprehensions documentation](https://docs.julialang.org/en/v1/manual/arrays/#Comprehensions-1))\n",
    "\n",
    "Comprehensions are an elegant tool for creating new arrays or dictionaries from iterables\n",
    "\n",
    "Here are some examples"
   ]
  },
  {
   "cell_type": "code",
   "execution_count": 54,
   "metadata": {
    "hide-output": false
   },
   "outputs": [
    {
     "data": {
      "text/plain": [
       "4-element Array{Int64,1}:\n",
       " 2\n",
       " 4\n",
       " 6\n",
       " 8"
      ]
     },
     "execution_count": 54,
     "metadata": {},
     "output_type": "execute_result"
    }
   ],
   "source": [
    "doubles = [ 2i for i in 1:4 ]"
   ]
  },
  {
   "cell_type": "code",
   "execution_count": 55,
   "metadata": {
    "hide-output": false
   },
   "outputs": [],
   "source": [
    "animals = [\"dog\", \"cat\", \"bird\"];   # Semicolon suppresses output"
   ]
  },
  {
   "cell_type": "code",
   "execution_count": 56,
   "metadata": {
    "hide-output": false
   },
   "outputs": [
    {
     "data": {
      "text/plain": [
       "3-element Array{String,1}:\n",
       " \"dogs\" \n",
       " \"cats\" \n",
       " \"birds\""
      ]
     },
     "execution_count": 56,
     "metadata": {},
     "output_type": "execute_result"
    }
   ],
   "source": [
    "plurals = [ animal * \"s\" for animal in animals ]"
   ]
  },
  {
   "cell_type": "code",
   "execution_count": 57,
   "metadata": {
    "hide-output": false
   },
   "outputs": [
    {
     "data": {
      "text/plain": [
       "3×3 Array{Int64,2}:\n",
       " 5  6  7\n",
       " 6  7  8\n",
       " 7  8  9"
      ]
     },
     "execution_count": 57,
     "metadata": {},
     "output_type": "execute_result"
    }
   ],
   "source": [
    "[ i + j for i in 1:3, j in 4:6 ]"
   ]
  },
  {
   "cell_type": "code",
   "execution_count": 58,
   "metadata": {
    "hide-output": false
   },
   "outputs": [
    {
     "data": {
      "text/plain": [
       "3×3×3 Array{Int64,3}:\n",
       "[:, :, 1] =\n",
       " 12  13  14\n",
       " 13  14  15\n",
       " 14  15  16\n",
       "\n",
       "[:, :, 2] =\n",
       " 13  14  15\n",
       " 14  15  16\n",
       " 15  16  17\n",
       "\n",
       "[:, :, 3] =\n",
       " 14  15  16\n",
       " 15  16  17\n",
       " 16  17  18"
      ]
     },
     "execution_count": 58,
     "metadata": {},
     "output_type": "execute_result"
    }
   ],
   "source": [
    "[ i + j + k for i in 1:3, j in 4:6, k in 7:9 ]"
   ]
  },
  {
   "cell_type": "markdown",
   "metadata": {},
   "source": [
    "The same kind of expression works for dictionaries"
   ]
  },
  {
   "cell_type": "code",
   "execution_count": 59,
   "metadata": {
    "hide-output": false
   },
   "outputs": [
    {
     "data": {
      "text/plain": [
       "Dict{String,Int64} with 3 entries:\n",
       "  \"1\" => 1\n",
       "  \"2\" => 2\n",
       "  \"3\" => 3"
      ]
     },
     "execution_count": 59,
     "metadata": {},
     "output_type": "execute_result"
    }
   ],
   "source": [
    "Dict(string(i) => i for i in 1:3)"
   ]
  },
  {
   "cell_type": "markdown",
   "metadata": {},
   "source": [
    "## Comparisons and Logical Operators"
   ]
  },
  {
   "cell_type": "markdown",
   "metadata": {},
   "source": [
    "### Comparisons\n",
    "\n",
    "As we saw earlier, when testing for equality we use `==`"
   ]
  },
  {
   "cell_type": "code",
   "execution_count": 60,
   "metadata": {
    "hide-output": false
   },
   "outputs": [
    {
     "data": {
      "text/plain": [
       "1"
      ]
     },
     "execution_count": 60,
     "metadata": {},
     "output_type": "execute_result"
    }
   ],
   "source": [
    "x = 1"
   ]
  },
  {
   "cell_type": "code",
   "execution_count": 61,
   "metadata": {
    "hide-output": false
   },
   "outputs": [
    {
     "data": {
      "text/plain": [
       "false"
      ]
     },
     "execution_count": 61,
     "metadata": {},
     "output_type": "execute_result"
    }
   ],
   "source": [
    "x == 2"
   ]
  },
  {
   "cell_type": "markdown",
   "metadata": {},
   "source": [
    "For “not equal” use `!=` or `≠` (`\\ne<TAB>`)"
   ]
  },
  {
   "cell_type": "code",
   "execution_count": 62,
   "metadata": {
    "hide-output": false
   },
   "outputs": [
    {
     "data": {
      "text/plain": [
       "true"
      ]
     },
     "execution_count": 62,
     "metadata": {},
     "output_type": "execute_result"
    }
   ],
   "source": [
    "x != 3"
   ]
  },
  {
   "cell_type": "markdown",
   "metadata": {},
   "source": [
    "Julia can also test approximate equality with `≈` (`\\approx<TAB>`)"
   ]
  },
  {
   "cell_type": "code",
   "execution_count": 63,
   "metadata": {
    "hide-output": false
   },
   "outputs": [
    {
     "data": {
      "text/plain": [
       "true"
      ]
     },
     "execution_count": 63,
     "metadata": {},
     "output_type": "execute_result"
    }
   ],
   "source": [
    "1 + 1E-8 ≈ 1"
   ]
  },
  {
   "cell_type": "markdown",
   "metadata": {},
   "source": [
    "Be careful when using this, however, as there are subtleties involving the scales of the quantities compared"
   ]
  },
  {
   "cell_type": "markdown",
   "metadata": {},
   "source": [
    "### Combining Expressions\n",
    "\n",
    "Here are the standard logical connectives (conjunction, disjunction)"
   ]
  },
  {
   "cell_type": "code",
   "execution_count": 64,
   "metadata": {
    "hide-output": false
   },
   "outputs": [
    {
     "data": {
      "text/plain": [
       "false"
      ]
     },
     "execution_count": 64,
     "metadata": {},
     "output_type": "execute_result"
    }
   ],
   "source": [
    "true && false"
   ]
  },
  {
   "cell_type": "code",
   "execution_count": 65,
   "metadata": {
    "hide-output": false
   },
   "outputs": [
    {
     "data": {
      "text/plain": [
       "true"
      ]
     },
     "execution_count": 65,
     "metadata": {},
     "output_type": "execute_result"
    }
   ],
   "source": [
    "true || false"
   ]
  },
  {
   "cell_type": "markdown",
   "metadata": {},
   "source": [
    "Remember\n",
    "\n",
    "- `P && Q` is `true` if both are `true`, otherwise it’s `false`  \n",
    "- `P || Q` is `false` if both are `false`, otherwise it’s `true`  "
   ]
  },
  {
   "cell_type": "markdown",
   "metadata": {},
   "source": [
    "## User-Defined Functions\n",
    "\n",
    "Let’s talk a little more about user-defined functions\n",
    "\n",
    "User-defined functions are important for improving the clarity of your code by\n",
    "\n",
    "- separating different strands of logic  \n",
    "- facilitating code reuse (writing the same thing twice is always a bad idea)  \n",
    "\n",
    "\n",
    "Julia functions are convenient:\n",
    "\n",
    "- Any number of functions can be defined in a given file  \n",
    "- Any “value” can be passed to a function as an argument, including other functions  \n",
    "- Functions can be (and often are) defined inside other functions  \n",
    "- A function can return any kind of value, including functions  \n",
    "\n",
    "\n",
    "We’ll see many examples of these structures in the following lectures\n",
    "\n",
    "For now let’s just cover some of the different ways of defining functions"
   ]
  },
  {
   "cell_type": "markdown",
   "metadata": {},
   "source": [
    "### Return Statement\n",
    "\n",
    "In Julia, the `return` statement is optional, so that the following functions\n",
    "have identical behavior"
   ]
  },
  {
   "cell_type": "code",
   "execution_count": 66,
   "metadata": {
    "hide-output": false
   },
   "outputs": [
    {
     "data": {
      "text/plain": [
       "f2 (generic function with 1 method)"
      ]
     },
     "execution_count": 66,
     "metadata": {},
     "output_type": "execute_result"
    }
   ],
   "source": [
    "function f1(a, b)\n",
    "    return a * b\n",
    "end\n",
    "\n",
    "function f2(a, b)\n",
    "    a * b\n",
    "end"
   ]
  },
  {
   "cell_type": "markdown",
   "metadata": {},
   "source": [
    "When no return statement is present, the last value obtained when executing the code block is returned\n",
    "\n",
    "Although some prefer the second option, we often favor the former on the basis that explicit is better than implicit\n",
    "\n",
    "A function can have arbitrarily many `return` statements, with execution terminating when the first return is hit\n",
    "\n",
    "You can see this in action when experimenting with the following function"
   ]
  },
  {
   "cell_type": "code",
   "execution_count": 67,
   "metadata": {
    "hide-output": false
   },
   "outputs": [
    {
     "data": {
      "text/plain": [
       "foo (generic function with 1 method)"
      ]
     },
     "execution_count": 67,
     "metadata": {},
     "output_type": "execute_result"
    }
   ],
   "source": [
    "function foo(x)\n",
    "    if x > 0\n",
    "        return \"positive\"\n",
    "    end\n",
    "    return \"nonpositive\"\n",
    "end"
   ]
  },
  {
   "cell_type": "markdown",
   "metadata": {},
   "source": [
    "### Other Syntax for Defining Functions\n",
    "\n",
    "For short function definitions Julia offers some attractive simplified syntax\n",
    "\n",
    "First, when the function body is a simple expression, it can be defined\n",
    "without the `function` keyword or `end`"
   ]
  },
  {
   "cell_type": "code",
   "execution_count": 68,
   "metadata": {
    "hide-output": false
   },
   "outputs": [
    {
     "data": {
      "text/plain": [
       "f (generic function with 2 methods)"
      ]
     },
     "execution_count": 68,
     "metadata": {},
     "output_type": "execute_result"
    }
   ],
   "source": [
    "f(x) = sin(1 / x)"
   ]
  },
  {
   "cell_type": "markdown",
   "metadata": {},
   "source": [
    "Let’s check that it works"
   ]
  },
  {
   "cell_type": "code",
   "execution_count": 69,
   "metadata": {
    "hide-output": false
   },
   "outputs": [
    {
     "name": "stdout",
     "output_type": "stream",
     "text": [
      "1.2246467991473532e-16\n"
     ]
    }
   ],
   "source": [
    "using Plots\n",
    "x = f(1 / pi)\n",
    "println(x)\n"
   ]
  },
  {
   "cell_type": "markdown",
   "metadata": {},
   "source": [
    "Julia also allows you to define anonymous functions\n",
    "\n",
    "For example, to define `f(x) = sin(1 / x)` you can use `x -> sin(1 / x)`\n",
    "\n",
    "The difference is that the second function has no name bound to it\n",
    "\n",
    "How can you use a function with no name?\n",
    "\n",
    "Typically it’s as an argument to another function"
   ]
  },
  {
   "cell_type": "code",
   "execution_count": 70,
   "metadata": {
    "hide-output": false
   },
   "outputs": [
    {
     "data": {
      "text/plain": [
       "3-element Array{Float64,1}:\n",
       " -0.4746521364102405\n",
       " -0.5045907250953975\n",
       " -0.9638373388301678"
      ]
     },
     "execution_count": 70,
     "metadata": {},
     "output_type": "execute_result"
    }
   ],
   "source": [
    "map(x -> sin(1 / x), randn(3))  # apply function to each element"
   ]
  },
  {
   "cell_type": "markdown",
   "metadata": {},
   "source": [
    "### Optional and Keyword Arguments\n",
    "\n",
    "([See keyword arguments documentation](https://docs.julialang.org/en/v1/manual/functions/#Keyword-Arguments-1))\n",
    "\n",
    "Function arguments can be given default values"
   ]
  },
  {
   "cell_type": "code",
   "execution_count": 55,
   "metadata": {
    "hide-output": false
   },
   "outputs": [
    {
     "data": {
      "text/plain": [
       "f (generic function with 3 methods)"
      ]
     },
     "execution_count": 55,
     "metadata": {},
     "output_type": "execute_result"
    }
   ],
   "source": [
    "f(x, a = 1) = exp(cos(a * x))"
   ]
  },
  {
   "cell_type": "markdown",
   "metadata": {},
   "source": [
    "If the argument is not supplied, the default value is substituted"
   ]
  },
  {
   "cell_type": "code",
   "execution_count": 56,
   "metadata": {
    "hide-output": false
   },
   "outputs": [
    {
     "data": {
      "text/plain": [
       "0.36787944117144233"
      ]
     },
     "execution_count": 56,
     "metadata": {},
     "output_type": "execute_result"
    }
   ],
   "source": [
    "f(pi)"
   ]
  },
  {
   "cell_type": "code",
   "execution_count": 57,
   "metadata": {
    "hide-output": false
   },
   "outputs": [
    {
     "data": {
      "text/plain": [
       "2.718281828459045"
      ]
     },
     "execution_count": 57,
     "metadata": {},
     "output_type": "execute_result"
    }
   ],
   "source": [
    "f(pi, 2)"
   ]
  },
  {
   "cell_type": "markdown",
   "metadata": {},
   "source": [
    "Another option is to use **keyword** arguments\n",
    "\n",
    "The difference between keyword and standard (positional) arguments is that\n",
    "they are parsed and bounded by name rather than the order in the function call\n",
    "\n",
    "For example, in the call"
   ]
  },
  {
   "cell_type": "code",
   "execution_count": 58,
   "metadata": {
    "hide-output": false
   },
   "outputs": [
    {
     "data": {
      "text/plain": [
       "2.718281828459045"
      ]
     },
     "execution_count": 58,
     "metadata": {},
     "output_type": "execute_result"
    }
   ],
   "source": [
    "f(x; a = 1) = exp(cos(a * x))  # note the ; in the definition\n",
    "\n",
    "f(pi, a = 2) # calling with ; is usually optional and generally discouraged"
   ]
  },
  {
   "cell_type": "markdown",
   "metadata": {},
   "source": [
    "## Broadcasting\n",
    "\n",
    "([See broadcasting documentation](https://docs.julialang.org/en/v1/manual/arrays/#Broadcasting-1))\n",
    "\n",
    "A common scenario in computing is that\n",
    "\n",
    "- we have a function `f` such that `f(x)` returns a number for any number `x`  \n",
    "- we wish to apply `f` to every element of an iterable `x_vec` to produce a new result `y_vec`  \n",
    "\n",
    "\n",
    "In Julia loops are fast and we can do this easily enough with a loop\n",
    "\n",
    "For example, suppose that we want to apply `sin` to `x_vec = [2.0, 4.0, 6.0, 8.0]`\n",
    "\n",
    "The following code will do the job"
   ]
  },
  {
   "cell_type": "code",
   "execution_count": 75,
   "metadata": {
    "hide-output": false
   },
   "outputs": [],
   "source": [
    "x_vec = [2.0, 4.0, 6.0, 8.0]\n",
    "y_vec = similar(x_vec)\n",
    "for (i, x) in enumerate(x_vec)\n",
    "    y_vec[i] = sin(x)\n",
    "end"
   ]
  },
  {
   "cell_type": "markdown",
   "metadata": {},
   "source": [
    "But this is a bit unwieldy so Julia offers the alternative syntax"
   ]
  },
  {
   "cell_type": "code",
   "execution_count": 76,
   "metadata": {
    "hide-output": false
   },
   "outputs": [
    {
     "data": {
      "text/plain": [
       "4-element Array{Float64,1}:\n",
       "  0.9092974268256817 \n",
       " -0.7568024953079282 \n",
       " -0.27941549819892586\n",
       "  0.9893582466233818 "
      ]
     },
     "execution_count": 76,
     "metadata": {},
     "output_type": "execute_result"
    }
   ],
   "source": [
    "y_vec = sin.(x_vec)"
   ]
  },
  {
   "cell_type": "markdown",
   "metadata": {},
   "source": [
    "More generally, if `f` is any Julia function, then `f.` references the broadcasted version\n",
    "\n",
    "Conveniently, this applies to user-defined functions as well\n",
    "\n",
    "To illustrate, let’s write a function `chisq` such that `chisq(k)` returns a chi-squared random variable with `k` degrees of freedom when `k` is an integer\n",
    "\n",
    "In doing this we’ll exploit the fact that, if we take `k` independent standard normals, square them all and sum, we get a chi-squared with `k` degrees of freedom"
   ]
  },
  {
   "cell_type": "code",
   "execution_count": 71,
   "metadata": {
    "hide-output": false
   },
   "outputs": [
    {
     "data": {
      "text/plain": [
       "chisq (generic function with 1 method)"
      ]
     },
     "execution_count": 71,
     "metadata": {},
     "output_type": "execute_result"
    }
   ],
   "source": [
    "function chisq(k)\n",
    "    @assert k > 0\n",
    "    z = randn(k)\n",
    "    return sum(z -> z^2, z)  # same as `sum(x^2 for x in z)`\n",
    "end"
   ]
  },
  {
   "cell_type": "markdown",
   "metadata": {},
   "source": [
    "The macro `@assert` will check that the next expression evaluates to `true`, and will stop and display an error otherwise"
   ]
  },
  {
   "cell_type": "code",
   "execution_count": 72,
   "metadata": {
    "hide-output": false
   },
   "outputs": [
    {
     "data": {
      "text/plain": [
       "3.876274805675974"
      ]
     },
     "execution_count": 72,
     "metadata": {},
     "output_type": "execute_result"
    }
   ],
   "source": [
    "chisq(3)"
   ]
  },
  {
   "cell_type": "markdown",
   "metadata": {},
   "source": [
    "Note that calls with integers less than 1 will trigger an assertion failure inside\n",
    "the function body"
   ]
  },
  {
   "cell_type": "code",
   "execution_count": 73,
   "metadata": {
    "hide-output": false
   },
   "outputs": [
    {
     "ename": "AssertionError",
     "evalue": "AssertionError: k > 0",
     "output_type": "error",
     "traceback": [
      "AssertionError: k > 0",
      "",
      "Stacktrace:",
      " [1] chisq(::Int64) at .\\In[71]:2",
      " [2] top-level scope at In[73]:1"
     ]
    }
   ],
   "source": [
    "chisq(-2)"
   ]
  },
  {
   "cell_type": "markdown",
   "metadata": {},
   "source": [
    "Let’s try this out on an array of integers, adding the broadcast"
   ]
  },
  {
   "cell_type": "code",
   "execution_count": 74,
   "metadata": {
    "hide-output": false
   },
   "outputs": [
    {
     "data": {
      "text/plain": [
       "3-element Array{Float64,1}:\n",
       " 3.615171352257023 \n",
       " 4.3640581903587465\n",
       " 4.814670428964447 "
      ]
     },
     "execution_count": 74,
     "metadata": {},
     "output_type": "execute_result"
    }
   ],
   "source": [
    "chisq.([2, 4, 6])"
   ]
  },
  {
   "cell_type": "markdown",
   "metadata": {},
   "source": [
    "The broadcasting notation is not simply vectorization, as it is able to “fuse” multiple broadcasts together to generate efficient code"
   ]
  },
  {
   "cell_type": "code",
   "execution_count": 75,
   "metadata": {
    "hide-output": false
   },
   "outputs": [
    {
     "data": {
      "text/plain": [
       "5-element Array{Float64,1}:\n",
       "  2.1585290151921033\n",
       "  5.090702573174318 \n",
       "  7.858879991940133 \n",
       " 10.756802495307928 \n",
       " 13.958924274663138 "
      ]
     },
     "execution_count": 75,
     "metadata": {},
     "output_type": "execute_result"
    }
   ],
   "source": [
    "x = 1.0:1.0:5.0\n",
    "y = [2.0, 4.0, 5.0, 6.0, 8.0]\n",
    "z = similar(y)\n",
    "z .= x .+ y .- sin.(x) # generates efficient code instead of many temporaries"
   ]
  },
  {
   "cell_type": "markdown",
   "metadata": {},
   "source": [
    "A convenience macro for adding broadcasting on every function call is `@.`"
   ]
  },
  {
   "cell_type": "code",
   "execution_count": 76,
   "metadata": {
    "hide-output": false
   },
   "outputs": [
    {
     "data": {
      "text/plain": [
       "5-element Array{Float64,1}:\n",
       "  2.1585290151921033\n",
       "  5.090702573174318 \n",
       "  7.858879991940133 \n",
       " 10.756802495307928 \n",
       " 13.958924274663138 "
      ]
     },
     "execution_count": 76,
     "metadata": {},
     "output_type": "execute_result"
    }
   ],
   "source": [
    "@. z = x + y - sin(x)"
   ]
  },
  {
   "cell_type": "markdown",
   "metadata": {},
   "source": [
    "Since the `+, -, =` operators are functions, behind the scenes this is broadcasting against both the `x` and `y` vectors\n",
    "\n",
    "The compiler will fix anything which is a scalar, and otherwise iterate across every vector"
   ]
  },
  {
   "cell_type": "code",
   "execution_count": 77,
   "metadata": {
    "hide-output": false
   },
   "outputs": [
    {
     "name": "stdout",
     "output_type": "stream",
     "text": [
      "f.(a, b) = [5 7 9]\n",
      "f.(a, 2) = [3 4 5]\n"
     ]
    }
   ],
   "source": [
    "f(a, b) = a + b # bivariate function\n",
    "a = [1 2 3]\n",
    "b = [4 5 6]\n",
    "@show f.(a, b) # across both\n",
    "@show f.(a, 2); # fix scalar for second"
   ]
  },
  {
   "cell_type": "markdown",
   "metadata": {},
   "source": [
    "The compiler is only able to detect “scalar” values in this way for a limited number of types (e.g. integers, floating points, etc) and some packages (e.g. Distributions)\n",
    "\n",
    "For other types, you will need to wrap any scalars in `Ref` to fix them, or else it will try to broadcast the value\n",
    "\n",
    "Another place that you may use a `Ref` is to fix a function parameter you do not want to broadcast over"
   ]
  },
  {
   "cell_type": "code",
   "execution_count": 78,
   "metadata": {
    "hide-output": false
   },
   "outputs": [
    {
     "data": {
      "text/plain": [
       "2-element Array{Int64,1}:\n",
       " 28\n",
       " 29"
      ]
     },
     "execution_count": 78,
     "metadata": {},
     "output_type": "execute_result"
    }
   ],
   "source": [
    "f(x, y) = [1, 2, 3] ⋅ x + y   # \"⋅\" can be typed by \\cdot<tab>\n",
    "f([3, 4, 5], 2)   # uses vector as first parameter\n",
    "f.(Ref([3, 4, 5]), [2, 3])   # broadcasting over 2nd parameter, fixing first"
   ]
  },
  {
   "cell_type": "markdown",
   "metadata": {},
   "source": [
    "## Scoping and Closures\n",
    "\n",
    "Since global variables are usually a bad idea, we will concentrate on understanding the role of good local scoping practice\n",
    "\n",
    "That said, while many of the variables in these Jupyter notebook are global, we have been careful to write the code so that the entire code could be copied inside of a function\n",
    "\n",
    "When copied inside a function, variables become local and functions become closures\n",
    "\n",
    "**Warning**\n",
    "\n",
    "For/while loops and global variables in Jupyter vs. the REPL:\n",
    "* In the current version of Julia, there is a distinction between the use of scope in an interactive Jupyter environment\n",
    "* The description here of globals applies to Jupyter notebooks, and may also apply to the REPL and top-level scripts\n",
    "* In general, you should be creating functions when working with .jl files, and the distinction generally won’t apply\n",
    "\n",
    "For more information on using globals outside of Jupyter,\n",
    "([see variable scoping documentation](https://docs.julialang.org/en/v1/manual/variables-and-scoping/)), though these rules are likely to change in interactive modes in Julia 1.1"
   ]
  },
  {
   "cell_type": "markdown",
   "metadata": {},
   "source": [
    "### Functions\n",
    "\n",
    "The scope of a variable name determines where it is valid to refer to it, and how clashes between names can occur\n",
    "\n",
    "Think of the scope as a list of all of the name bindings of relevant variables\n",
    "\n",
    "Different scopes could contain the same name but be assigned to different things\n",
    "\n",
    "An obvious place to start is to notice that functions introduce their own local names"
   ]
  },
  {
   "cell_type": "code",
   "execution_count": 79,
   "metadata": {
    "hide-output": false
   },
   "outputs": [
    {
     "data": {
      "text/plain": [
       "25"
      ]
     },
     "execution_count": 79,
     "metadata": {},
     "output_type": "execute_result"
    }
   ],
   "source": [
    "f(x) = x^2  # local `x` in scope\n",
    "\n",
    "# x is not bound to anything in this outer scope\n",
    "y = 5\n",
    "f(y)"
   ]
  },
  {
   "cell_type": "markdown",
   "metadata": {},
   "source": [
    "This would be roughly equivalent to"
   ]
  },
  {
   "cell_type": "code",
   "execution_count": 80,
   "metadata": {
    "hide-output": false
   },
   "outputs": [
    {
     "data": {
      "text/plain": [
       "25"
      ]
     },
     "execution_count": 80,
     "metadata": {},
     "output_type": "execute_result"
    }
   ],
   "source": [
    "function g() # scope within the `g` function\n",
    "\n",
    "    f(x) = x^2 # local `x` in scope\n",
    "\n",
    "    # x is not bound to anything in this outer scope\n",
    "    y = 5\n",
    "    f(y)\n",
    "end\n",
    "g() # run the function"
   ]
  },
  {
   "cell_type": "markdown",
   "metadata": {},
   "source": [
    "This is also equivalent if the `y` was changed to `x`, since it is a different scope"
   ]
  },
  {
   "cell_type": "code",
   "execution_count": 81,
   "metadata": {
    "hide-output": false
   },
   "outputs": [
    {
     "data": {
      "text/plain": [
       "25"
      ]
     },
     "execution_count": 81,
     "metadata": {},
     "output_type": "execute_result"
    }
   ],
   "source": [
    "f(x) = x^2  # local `x` in scope\n",
    "\n",
    "# x is not bound to anything in this outer scope\n",
    "x = 5   # a different `x` than the local variable name\n",
    "f(x)    # calling `f` with `x`"
   ]
  },
  {
   "cell_type": "markdown",
   "metadata": {},
   "source": [
    "The scoping also applies to named arguments in functions"
   ]
  },
  {
   "cell_type": "code",
   "execution_count": 82,
   "metadata": {
    "hide-output": false
   },
   "outputs": [
    {
     "data": {
      "text/plain": [
       "2.1"
      ]
     },
     "execution_count": 82,
     "metadata": {},
     "output_type": "execute_result"
    }
   ],
   "source": [
    "f(x; y = 1) = x + y  # `x` and `y` are names local to the `f` function\n",
    "xval = 0.1\n",
    "yval = 2\n",
    "f(xval; y = yval)"
   ]
  },
  {
   "cell_type": "markdown",
   "metadata": {},
   "source": [
    "Due to scoping, you could write this as"
   ]
  },
  {
   "cell_type": "code",
   "execution_count": 83,
   "metadata": {
    "hide-output": false
   },
   "outputs": [
    {
     "data": {
      "text/plain": [
       "2.1"
      ]
     },
     "execution_count": 83,
     "metadata": {},
     "output_type": "execute_result"
    }
   ],
   "source": [
    "f(x; y = 1) = x + y  # `x` and `y` are names local to the `f` function\n",
    "x = 0.1\n",
    "y = 2\n",
    "f(x; y = y) # left hand `y` is the local name of the argument in the function"
   ]
  },
  {
   "cell_type": "markdown",
   "metadata": {},
   "source": [
    "Similarly to named arguments, the local scope also works with named tuples"
   ]
  },
  {
   "cell_type": "code",
   "execution_count": 84,
   "metadata": {
    "hide-output": false
   },
   "outputs": [
    {
     "name": "stdout",
     "output_type": "stream",
     "text": [
      "(x = xval, y = yval) = (x = 0.1, y = 2)\n"
     ]
    },
    {
     "data": {
      "text/plain": [
       "(x = 0.1, y = 2)"
      ]
     },
     "execution_count": 84,
     "metadata": {},
     "output_type": "execute_result"
    }
   ],
   "source": [
    "xval = 0.1\n",
    "yval = 2\n",
    "@show (x = xval, y = yval)  # named tuple with names `x` and `y`\n",
    "\n",
    "x = 0.1\n",
    "y = 2\n",
    "\n",
    "# create a named tuple with names `x` and `y` local to the tuple, bound to the RHS `x` and `y`\n",
    "(x = x, y = y)"
   ]
  },
  {
   "cell_type": "markdown",
   "metadata": {},
   "source": [
    "As you use Julia, you will find that scoping is very natural and that there is no reason to avoid using `x` and `y` in both places\n",
    "\n",
    "In fact, it frequently leads to clear code closer to the math when you don’t need to specify intermediaries.\n",
    "\n",
    "Another example is with broadcasting"
   ]
  },
  {
   "cell_type": "code",
   "execution_count": 85,
   "metadata": {
    "hide-output": false
   },
   "outputs": [
    {
     "data": {
      "text/plain": [
       "5-element Array{Int64,1}:\n",
       "  1\n",
       "  4\n",
       "  9\n",
       " 16\n",
       " 25"
      ]
     },
     "execution_count": 85,
     "metadata": {},
     "output_type": "execute_result"
    }
   ],
   "source": [
    "f(x) = x^2  # local `x` in scope\n",
    "\n",
    "x = 1:5     # not an integer\n",
    "\n",
    "f.(x)       # broadcasts the x^2 function over the vector"
   ]
  },
  {
   "cell_type": "markdown",
   "metadata": {},
   "source": [
    "### Closures\n",
    "\n",
    "Frequently, you will want to have a function that calculates a value given some fixed parameters"
   ]
  },
  {
   "cell_type": "code",
   "execution_count": 86,
   "metadata": {
    "hide-output": false
   },
   "outputs": [
    {
     "data": {
      "text/plain": [
       "0.2"
      ]
     },
     "execution_count": 86,
     "metadata": {},
     "output_type": "execute_result"
    }
   ],
   "source": [
    "f(x, a) = a * x^2\n",
    "\n",
    "f(1, 0.2)"
   ]
  },
  {
   "cell_type": "markdown",
   "metadata": {},
   "source": [
    "While the above was convenient, there are other times when you want to simply fix a variable or refer to something already calculated"
   ]
  },
  {
   "cell_type": "code",
   "execution_count": 87,
   "metadata": {
    "hide-output": false
   },
   "outputs": [
    {
     "data": {
      "text/plain": [
       "0.2"
      ]
     },
     "execution_count": 87,
     "metadata": {},
     "output_type": "execute_result"
    }
   ],
   "source": [
    "a = 0.2\n",
    "f(x) = a * x^2     # refers to the `a` in the outer scope\n",
    "f(1)               # univariate function"
   ]
  },
  {
   "cell_type": "markdown",
   "metadata": {},
   "source": [
    "When the function `f` is parsed in Julia, it will look to see if any of the variables are already defined in the current scope\n",
    "\n",
    "In this case, it finds the `a` since it was defined previously, whereas if the\n",
    "code defines `a = 0.2` **after** the `f(x)` definition, it would fail\n",
    "\n",
    "This also works when embedded in other functions"
   ]
  },
  {
   "cell_type": "code",
   "execution_count": 88,
   "metadata": {
    "hide-output": false
   },
   "outputs": [
    {
     "data": {
      "text/plain": [
       "0.2"
      ]
     },
     "execution_count": 88,
     "metadata": {},
     "output_type": "execute_result"
    }
   ],
   "source": [
    "function g(a)\n",
    "    f(x) = a * x^2  # refers to the `a` passed in the function\n",
    "    f(1)            # univariate function\n",
    "end\n",
    "g(0.2)"
   ]
  },
  {
   "cell_type": "markdown",
   "metadata": {},
   "source": [
    "Comparing the two:  the key here is not that `a` is a global variable, but rather that the `f` function is defined to capture a variable from an outer scope\n",
    "\n",
    "This is called a **closure**, and are used throughout the lectures\n",
    "\n",
    "It is generally bad practice to modify the captured variable in the function, but otherwise the code becomes very clear\n",
    "\n",
    "One place where this can be helpful is in a string of dependent calculations\n",
    "\n",
    "For example, if you wanted to calculate a `(a, b, c)` from $ a = f(x), b = g(a), c = h(a, b) $ where $ f(x) = x^2, g(a) = 2 a, h(a, b) = a + b $"
   ]
  },
  {
   "cell_type": "code",
   "execution_count": 90,
   "metadata": {
    "hide-output": false
   },
   "outputs": [
    {
     "data": {
      "text/plain": [
       "(a = 0.010000000000000002, b = 0.020000000000000004, c = 0.030000000000000006)"
      ]
     },
     "execution_count": 90,
     "metadata": {},
     "output_type": "execute_result"
    }
   ],
   "source": [
    "function solvemodel(x)\n",
    "    a = x^2\n",
    "    b = 2 * a\n",
    "    c = a + b\n",
    "    return (a = a, b = b, c = c)  # note local scope of tuples!\n",
    "end\n",
    "\n",
    "solvemodel(0.1)"
   ]
  },
  {
   "cell_type": "markdown",
   "metadata": {},
   "source": [
    "### Higher-Order Functions\n",
    "\n",
    "One of the benefits of working with closures and functions is that you can return them from other functions\n",
    "\n",
    "This leads to some natural programming patterns we have already been using, where we can use **functions of functions** and **functions returning functions** (or closures)\n",
    "\n",
    "To see a simple example, consider functions that accept other functions (including closures)"
   ]
  },
  {
   "cell_type": "code",
   "execution_count": 91,
   "metadata": {
    "hide-output": false
   },
   "outputs": [
    {
     "name": "stdout",
     "output_type": "stream",
     "text": [
      "twice(f, 2.0) = 16.0\n",
      "twice(g, 2.0) = 50.0\n"
     ]
    }
   ],
   "source": [
    "twice(f, x) = f(f(x))  # applies f to itself twice\n",
    "f(x) = x^2\n",
    "@show twice(f, 2.0)\n",
    "\n",
    "twice(x -> x^2, 2.0)\n",
    "a = 5\n",
    "g(x) = a * x\n",
    "@show twice(g, 2.0);   # using a closure"
   ]
  },
  {
   "cell_type": "markdown",
   "metadata": {},
   "source": [
    "This pattern has already been used extensively in our code and is key to keeping things like interpolation, numerical integration, and plotting generic\n",
    "\n",
    "One example of using this in a library is [Expectations.jl](https://github.com/QuantEcon/Expectations.jl), where we can pass a function to the `expectation` function"
   ]
  },
  {
   "cell_type": "code",
   "execution_count": 93,
   "metadata": {
    "hide-output": false
   },
   "outputs": [
    {
     "name": "stdout",
     "output_type": "stream",
     "text": [
      "d = Exponential(2.0) = Exponential{Float64}(θ=2.0)\n",
      "expectation(f, d) = 8.00000000000004\n"
     ]
    }
   ],
   "source": [
    "using Expectations, Distributions\n",
    "\n",
    "@show d = Exponential(2.0)\n",
    "\n",
    "f(x) = x^2\n",
    "@show expectation(f, d);  # E(f(x))"
   ]
  },
  {
   "cell_type": "markdown",
   "metadata": {},
   "source": [
    "Another example is for a function that returns a closure itself"
   ]
  },
  {
   "cell_type": "code",
   "execution_count": 94,
   "metadata": {
    "hide-output": false
   },
   "outputs": [
    {
     "data": {
      "text/plain": [
       "8.0"
      ]
     },
     "execution_count": 94,
     "metadata": {},
     "output_type": "execute_result"
    }
   ],
   "source": [
    "function multiplyit(a, g)\n",
    "    return x -> a * g(x)  # function with `g` used in the closure\n",
    "end\n",
    "\n",
    "f(x) = x^2\n",
    "h = multiplyit(2.0, f)    # use our quadratic, returns a new function which doubles the result\n",
    "h(2)     # returned function is like any other function"
   ]
  },
  {
   "cell_type": "markdown",
   "metadata": {},
   "source": [
    "You can create and define using `function` as well"
   ]
  },
  {
   "cell_type": "code",
   "execution_count": 97,
   "metadata": {
    "hide-output": false
   },
   "outputs": [
    {
     "data": {
      "image/png": "[encoded data removed]"
     },
     "execution_count": 97,
     "metadata": {},
     "output_type": "execute_result"
    }
   ],
   "source": [
    "function snapabove(g, a)\n",
    "    function f(x)\n",
    "        if x > a         # \"a\" is captured in the closure f\n",
    "            return g(x)\n",
    "        else\n",
    "            return g(a)\n",
    "        end\n",
    "    end\n",
    "    return f    # closure with the embedded a\n",
    "end\n",
    "\n",
    "f(x) = x^2\n",
    "h = snapabove(f, 2.0)\n",
    "\n",
    "using Plots\n",
    "\n",
    "gr()\n",
    "#gr(fmt=:png);\n",
    "plot(h, 0.0:0.1:3.0)"
   ]
  },
  {
   "cell_type": "markdown",
   "metadata": {},
   "source": [
    "### Loops\n",
    "\n",
    "The `for` and `while` loops also introduce a local scope, and you can roughly reason about them the same way you would a function/closure\n",
    "\n",
    "In particular"
   ]
  },
  {
   "cell_type": "code",
   "execution_count": 98,
   "metadata": {
    "hide-output": false
   },
   "outputs": [
    {
     "name": "stdout",
     "output_type": "stream",
     "text": [
      "1\n",
      "2\n",
      "1\n",
      "2\n"
     ]
    }
   ],
   "source": [
    "for i in 1:2  # introduces local i\n",
    "    dval1 = i\n",
    "    println(i)\n",
    "end\n",
    "\n",
    "# @show (i, dval1)  # would fail as neither exists in this scope\n",
    "\n",
    "for i in 1:2  # introduces a different local i\n",
    "    println(i)\n",
    "end"
   ]
  },
  {
   "cell_type": "markdown",
   "metadata": {},
   "source": [
    "On the other hand just as with closures, if a variable is already defined it will be available in the inner scope"
   ]
  },
  {
   "cell_type": "code",
   "execution_count": 99,
   "metadata": {
    "hide-output": false
   },
   "outputs": [
    {
     "data": {
      "text/plain": [
       "2"
      ]
     },
     "execution_count": 99,
     "metadata": {},
     "output_type": "execute_result"
    }
   ],
   "source": [
    "dval2 = 0  # introduces variables\n",
    "for i in 1:2   # introduces local i\n",
    "    dval2 = i  # refers to outer variable\n",
    "end\n",
    "\n",
    "dval2 # still can't refer to `i`"
   ]
  },
  {
   "cell_type": "markdown",
   "metadata": {},
   "source": [
    "Similarly, for while loops"
   ]
  },
  {
   "cell_type": "code",
   "execution_count": 100,
   "metadata": {
    "hide-output": false
   },
   "outputs": [
    {
     "name": "stdout",
     "output_type": "stream",
     "text": [
      "val = 0.001953125\n"
     ]
    }
   ],
   "source": [
    "val = 1.0\n",
    "tol = 0.002\n",
    "while val > tol\n",
    "    old = val\n",
    "    val = val / 2\n",
    "    difference = val - old\n",
    "end\n",
    "\n",
    "@show val;\n",
    "# @show difference fails, not in scope"
   ]
  },
  {
   "cell_type": "markdown",
   "metadata": {},
   "source": [
    "### A Quick Check for Scoping Design\n",
    "\n",
    "While we have argued against global variables as poor practice, you may have noticed that in Jupyter notebooks we have been using them throughout\n",
    "\n",
    "Here, global variables are used in an interactive editor because they are convenient, and not because they are essential to the design of functions\n",
    "\n",
    "A simple test of the difference is to take a segment of code and wrap it in a function, for example"
   ]
  },
  {
   "cell_type": "code",
   "execution_count": 101,
   "metadata": {
    "hide-output": false
   },
   "outputs": [
    {
     "name": "stdout",
     "output_type": "stream",
     "text": [
      "z = 12.0\n"
     ]
    }
   ],
   "source": [
    "x = 2.0\n",
    "f(y) = x + y\n",
    "z = f(4.0)\n",
    "\n",
    "for i in 1:3\n",
    "    z += i\n",
    "end\n",
    "\n",
    "println(\"z = $z\")"
   ]
  },
  {
   "cell_type": "markdown",
   "metadata": {},
   "source": [
    "Here, the `x` and `z` are global variables, the function `f` refers to the global variable `y`, and the global variable `z` is modified in the `for` loop\n",
    "\n",
    "However, you can simply wrap the entire code in a function"
   ]
  },
  {
   "cell_type": "code",
   "execution_count": 102,
   "metadata": {
    "hide-output": false
   },
   "outputs": [
    {
     "name": "stdout",
     "output_type": "stream",
     "text": [
      "z = 12.0\n"
     ]
    }
   ],
   "source": [
    "function wrapped()\n",
    "    x = 2.0\n",
    "    f(y) = x + y\n",
    "    z = f(4.0)\n",
    "\n",
    "    for i in 1:3\n",
    "        z += i\n",
    "    end\n",
    "\n",
    "    println(\"z = $z\")\n",
    "end\n",
    "\n",
    "wrapped()"
   ]
  },
  {
   "cell_type": "markdown",
   "metadata": {},
   "source": [
    "Now, there are no global variables\n",
    "\n",
    "While it is convenient to skip wrapping our code throughout, in general you will want to wrap any performance sensitive code in this way"
   ]
  },
  {
   "cell_type": "markdown",
   "metadata": {},
   "source": [
    "## Exercises\n",
    "\n",
    "\n",
    "<a id='pyess-ex1'></a>"
   ]
  },
  {
   "cell_type": "markdown",
   "metadata": {},
   "source": [
    "### Exercise 1\n",
    "\n",
    "Part 1: Given two numeric arrays or tuples `x_vals` and `y_vals` of equal length, compute\n",
    "their inner product using `zip()`\n",
    "\n",
    "Part 2: Using a comprehension, count the number of even numbers between 0 and 99\n",
    "\n",
    "- Hint: `iseven` returns `true` for even numbers and `false` for odds.  \n",
    "\n",
    "\n",
    "Part 3: Using a comprehension, take `pairs = ((2, 5), (4, 2), (9, 8), (12, 10))` and count the number of pairs `(a, b)` such that both `a` and `b` are even\n",
    "\n",
    "\n",
    "<a id='pyess-ex2'></a>"
   ]
  },
  {
   "cell_type": "markdown",
   "metadata": {},
   "source": [
    "### Exercise 2\n",
    "\n",
    "Consider the polynomial\n",
    "\n",
    "\n",
    "<a id='equation-polynom0'></a>\n",
    "$$\n",
    "p(x)\n",
    "= a_0 + a_1 x + a_2 x^2 + \\cdots a_n x^n\n",
    "= \\sum_{i=0}^n a_i x^i \\tag{1}\n",
    "$$\n",
    "\n",
    "Using `enumerate()` in your loop, write a function `p` such that `p(x, coeff)` computes the value in [(1)](#equation-polynom0) given a point `x` and an array of coefficients `coeff`\n",
    "\n",
    "\n",
    "<a id='pyess-ex3'></a>"
   ]
  },
  {
   "cell_type": "markdown",
   "metadata": {},
   "source": [
    "### Exercise 3\n",
    "\n",
    "Write a function that takes a string as an argument and returns the number of capital letters in the string\n",
    "\n",
    "Hint: `uppercase(\"foo\")` returns `\"FOO\"`\n",
    "\n",
    "\n",
    "<a id='pyess-ex4'></a>"
   ]
  },
  {
   "cell_type": "markdown",
   "metadata": {},
   "source": [
    "### Exercise 4\n",
    "\n",
    "Write a function that takes two sequences `seq_a` and `seq_b` as arguments and\n",
    "returns `true` if every element in `seq_a` is also an element of `seq_b`, else\n",
    "`false`\n",
    "\n",
    "- By “sequence” we mean an array, tuple or string  \n",
    "\n",
    "\n",
    "\n",
    "<a id='pyess-ex5'></a>"
   ]
  },
  {
   "cell_type": "markdown",
   "metadata": {},
   "source": [
    "### Exercise 5\n",
    "\n",
    "The Julia libraries include functions for interpolation and approximation\n",
    "\n",
    "Nevertheless, let’s write our own function approximation routine as an exercise\n",
    "\n",
    "In particular, write a function `linapprox` that takes as arguments\n",
    "\n",
    "- A function `f` mapping some interval $ [a, b] $ into $ \\mathbb R $  \n",
    "- two scalars `a` and `b` providing the limits of this interval  \n",
    "- An integer `n` determining the number of grid points  \n",
    "- A number `x` satisfying `a ≤ x ≤ b`  \n",
    "\n",
    "\n",
    "and returns the [piecewise linear interpolation](https://en.wikipedia.org/wiki/Linear_interpolation) of `f` at `x`, based on `n` evenly spaced grid points `a = point[1] < point[2] < ... < point[n] = b`\n",
    "\n",
    "Aim for clarity, not efficiency\n",
    "\n",
    "Hint: use the function `range` to linearly space numbers"
   ]
  },
  {
   "cell_type": "markdown",
   "metadata": {},
   "source": [
    "### Exercise 6\n",
    "\n",
    "The following data lists US cities and their populations\n",
    "\n",
    "Copy this text into a text file called `us_cities.txt` and save it in your present working directory\n",
    "\n",
    "- That is, save it in the location Julia returns when you call `pwd()`  \n",
    "\n",
    "\n",
    "This can also be achieved by running the following Julia code:"
   ]
  },
  {
   "cell_type": "code",
   "execution_count": 105,
   "metadata": {
    "hide-output": false
   },
   "outputs": [
    {
     "data": {
      "text/plain": [
       "167"
      ]
     },
     "execution_count": 105,
     "metadata": {},
     "output_type": "execute_result"
    }
   ],
   "source": [
    "open(\"us_cities.txt\", \"w\") do f\n",
    "  write(f,\n",
    "\"new york: 8244910\n",
    "los angeles: 3819702\n",
    "chicago: 2707120\n",
    "houston: 2145146\n",
    "philadelphia: 1536471\n",
    "phoenix: 1469471\n",
    "san antonio: 1359758\n",
    "san diego: 1326179\n",
    "dallas: 1223229\")\n",
    "end"
   ]
  },
  {
   "cell_type": "markdown",
   "metadata": {},
   "source": [
    "Write a program to calculate total population across these cities\n",
    "\n",
    "Hints:\n",
    "\n",
    "- If `f` is a file type then `eachline(f)` provides an iterable that steps you through the lines in the file  \n",
    "- `parse(Int, \"100\")` converts the string `\"100\"` into an integer  "
   ]
  },
  {
   "cell_type": "markdown",
   "metadata": {},
   "source": [
    "## Solutions"
   ]
  },
  {
   "cell_type": "markdown",
   "metadata": {},
   "source": [
    "### Exercise 1\n",
    "\n",
    "Part 1 solution:\n",
    "\n",
    "Here’s one possible solution"
   ]
  },
  {
   "cell_type": "code",
   "execution_count": 106,
   "metadata": {
    "hide-output": false
   },
   "outputs": [
    {
     "data": {
      "text/plain": [
       "6"
      ]
     },
     "execution_count": 106,
     "metadata": {},
     "output_type": "execute_result"
    }
   ],
   "source": [
    "x_vals = [1, 2, 3]\n",
    "y_vals = [1, 1, 1]\n",
    "sum(x * y for (x, y) in zip(x_vals, y_vals))"
   ]
  },
  {
   "cell_type": "markdown",
   "metadata": {},
   "source": [
    "Part 2 solution:\n",
    "\n",
    "One solution is"
   ]
  },
  {
   "cell_type": "code",
   "execution_count": 107,
   "metadata": {
    "hide-output": false
   },
   "outputs": [
    {
     "data": {
      "text/plain": [
       "50"
      ]
     },
     "execution_count": 107,
     "metadata": {},
     "output_type": "execute_result"
    }
   ],
   "source": [
    "sum(iseven, 0:99)"
   ]
  },
  {
   "cell_type": "markdown",
   "metadata": {},
   "source": [
    "Part 3 solution:\n",
    "\n",
    "Here’s one possibility"
   ]
  },
  {
   "cell_type": "code",
   "execution_count": 108,
   "metadata": {
    "hide-output": false
   },
   "outputs": [
    {
     "data": {
      "text/plain": [
       "2"
      ]
     },
     "execution_count": 108,
     "metadata": {},
     "output_type": "execute_result"
    }
   ],
   "source": [
    "pairs = ((2, 5), (4, 2), (9, 8), (12, 10))\n",
    "sum(xy -> all(iseven, xy), pairs)"
   ]
  },
  {
   "cell_type": "markdown",
   "metadata": {},
   "source": [
    "### Exercise 2"
   ]
  },
  {
   "cell_type": "code",
   "execution_count": 109,
   "metadata": {
    "hide-output": false
   },
   "outputs": [
    {
     "data": {
      "text/plain": [
       "p (generic function with 1 method)"
      ]
     },
     "execution_count": 109,
     "metadata": {},
     "output_type": "execute_result"
    }
   ],
   "source": [
    "p(x, coeff) = sum(a * x^(i-1) for (i, a) in enumerate(coeff))"
   ]
  },
  {
   "cell_type": "code",
   "execution_count": 110,
   "metadata": {
    "hide-output": false
   },
   "outputs": [
    {
     "data": {
      "text/plain": [
       "6"
      ]
     },
     "execution_count": 110,
     "metadata": {},
     "output_type": "execute_result"
    }
   ],
   "source": [
    "p(1, (2, 4))"
   ]
  },
  {
   "cell_type": "markdown",
   "metadata": {},
   "source": [
    "### Exercise 3\n",
    "\n",
    "Here’s one solutions:"
   ]
  },
  {
   "cell_type": "code",
   "execution_count": 111,
   "metadata": {
    "hide-output": false
   },
   "outputs": [
    {
     "data": {
      "text/plain": [
       "3"
      ]
     },
     "execution_count": 111,
     "metadata": {},
     "output_type": "execute_result"
    }
   ],
   "source": [
    "function f_ex3(string)\n",
    "    count = 0\n",
    "    for letter in string\n",
    "        if (letter == uppercase(letter)) && isletter(letter)\n",
    "            count += 1\n",
    "        end\n",
    "    end\n",
    "    return count\n",
    "end\n",
    "\n",
    "f_ex3(\"The Rain in Spain\")"
   ]
  },
  {
   "cell_type": "markdown",
   "metadata": {},
   "source": [
    "### Exercise 4\n",
    "\n",
    "Here’s one solutions:"
   ]
  },
  {
   "cell_type": "code",
   "execution_count": 112,
   "metadata": {
    "hide-output": false
   },
   "outputs": [
    {
     "name": "stdout",
     "output_type": "stream",
     "text": [
      "true\n",
      "false\n"
     ]
    }
   ],
   "source": [
    "function f_ex4(seq_a, seq_b)\n",
    "    is_subset = true\n",
    "    for a in seq_a\n",
    "        if a ∉ seq_b\n",
    "            is_subset = false\n",
    "        end\n",
    "    end\n",
    "    return is_subset\n",
    "end\n",
    "\n",
    "# test\n",
    "println(f_ex4([1, 2], [1, 2, 3]))\n",
    "println(f_ex4([1, 2, 3], [1, 2]))"
   ]
  },
  {
   "cell_type": "markdown",
   "metadata": {},
   "source": [
    "if we use the Set data type then the solution is easier"
   ]
  },
  {
   "cell_type": "code",
   "execution_count": 113,
   "metadata": {
    "hide-output": false
   },
   "outputs": [
    {
     "name": "stdout",
     "output_type": "stream",
     "text": [
      "true\n",
      "false\n"
     ]
    }
   ],
   "source": [
    "f_ex4_2(seq_a, seq_b) = Set(seq_a) ⊆ Set(seq_b) # \\subseteq (⊆) is unicode for `issubset`\n",
    "\n",
    "println(f_ex4_2([1, 2], [1, 2, 3]))\n",
    "println(f_ex4_2([1, 2, 3], [1, 2]))"
   ]
  },
  {
   "cell_type": "markdown",
   "metadata": {},
   "source": [
    "### Exercise 5"
   ]
  },
  {
   "cell_type": "code",
   "execution_count": 104,
   "metadata": {
    "hide-output": false
   },
   "outputs": [
    {
     "data": {
      "text/plain": [
       "linapprox (generic function with 1 method)"
      ]
     },
     "execution_count": 104,
     "metadata": {},
     "output_type": "execute_result"
    }
   ],
   "source": [
    "function linapprox(f, a, b, n, x)\n",
    "    # evaluates the piecewise linear interpolant of f at x,\n",
    "    # on the interval [a, b], with n evenly spaced grid points.\n",
    "\n",
    "    length_of_interval = b - a\n",
    "    num_subintervals = n - 1\n",
    "    step = length_of_interval / num_subintervals\n",
    "\n",
    "    # find first grid point larger than x\n",
    "    point = a\n",
    "    while point ≤ x\n",
    "        point += step\n",
    "    end\n",
    "\n",
    "    # x must lie between the gridpoints (point - step) and point\n",
    "    u, v = point - step, point\n",
    "\n",
    "    return f(u) + (x - u) * (f(v) - f(u)) / (v - u)\n",
    "end"
   ]
  },
  {
   "cell_type": "markdown",
   "metadata": {},
   "source": [
    "Let’s test it"
   ]
  },
  {
   "cell_type": "code",
   "execution_count": 105,
   "metadata": {
    "hide-output": false
   },
   "outputs": [
    {
     "data": {
      "text/plain": [
       "g_ex5 (generic function with 1 method)"
      ]
     },
     "execution_count": 105,
     "metadata": {},
     "output_type": "execute_result"
    }
   ],
   "source": [
    "f_ex5(x) = x^2\n",
    "g_ex5(x) = linapprox(f_ex5, -1, 1, 3, x)"
   ]
  },
  {
   "cell_type": "code",
   "execution_count": 106,
   "metadata": {
    "hide-output": false
   },
   "outputs": [
    {
     "data": {
      "image/png": "[encoded data removed]"
     },
     "execution_count": 106,
     "metadata": {},
     "output_type": "execute_result"
    }
   ],
   "source": [
    "x_grid = range(-1.0, 1.0, length = 100)\n",
    "y_vals = f_ex5.(x_grid)\n",
    "y = g_ex5.(x_grid)\n",
    "plot(x_grid, y_vals, label = \"true\")\n",
    "plot!(x_grid, y, label = \"approximation\")"
   ]
  },
  {
   "cell_type": "markdown",
   "metadata": {},
   "source": [
    "### Exercise 6"
   ]
  },
  {
   "cell_type": "code",
   "execution_count": 103,
   "metadata": {
    "hide-output": false
   },
   "outputs": [
    {
     "name": "stdout",
     "output_type": "stream",
     "text": [
      "Total population = 23831986\n"
     ]
    }
   ],
   "source": [
    "f_ex6 = open(\"us_cities.txt\", \"r\")\n",
    "total_pop = 0\n",
    "for line in eachline(f_ex6)\n",
    "    city, population = split(line, ':')  # tuple unpacking\n",
    "    total_pop += parse(Int, population)\n",
    "end\n",
    "close(f_ex6)\n",
    "println(\"Total population = $total_pop\")"
   ]
  },
  {
   "cell_type": "code",
   "execution_count": null,
   "metadata": {},
   "outputs": [],
   "source": []
  }
 ],
 "metadata": {
  "filename": "julia_essentials.rst",
  "kernelspec": {
   "display_name": "Julia 1.3.0",
   "language": "julia",
   "name": "julia-1.3"
  },
  "language_info": {
   "file_extension": ".jl",
   "mimetype": "application/julia",
   "name": "julia",
   "version": "1.3.0"
  },
  "title": "Julia Essentials"
 },
 "nbformat": 4,
 "nbformat_minor": 2
}
