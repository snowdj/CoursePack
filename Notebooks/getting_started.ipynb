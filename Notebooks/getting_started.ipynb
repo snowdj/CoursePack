{
 "cells": [
  {
   "cell_type": "markdown",
   "metadata": {
    "slideshow": {
     "slide_type": "slide"
    }
   },
   "source": [
    "# Setting up Your Julia Environment\n",
    "\n",
    "### Florian Oswald\n",
    "\n",
    "**This is lecture is a slightly modified version of https://lectures.quantecon.org/jl/getting_started.html**\n",
    "**Thank you to the amazing Quantecon.org team!**"
   ]
  },
  {
   "cell_type": "markdown",
   "metadata": {
    "slideshow": {
     "slide_type": "slide"
    }
   },
   "source": [
    "## Contents\n",
    "\n",
    "- [Setting up Your Julia Environment](#Setting-up-Your-Julia-Environment)  \n",
    "  - [Overview](#Overview)  \n",
    "  - [Jupyter](#Jupyter)  \n",
    "  - [Installing Julia and Dependencies](#Installing-Julia-and-Dependencies)  \n",
    "  - [Using Jupyter](#Using-Jupyter)  \n",
    "  - [Other Ways to Use Jupyter](#Other-Ways-to-Use-Jupyter)  \n",
    " "
   ]
  },
  {
   "cell_type": "markdown",
   "metadata": {
    "slideshow": {
     "slide_type": "slide"
    }
   },
   "source": [
    "## Overview\n",
    "\n",
    "In this lecture we will cover how to get up and running with Julia\n",
    "\n",
    "Topics:\n",
    "\n",
    "1. Jupyter  \n",
    "1. Local installation vs. cloud-based solutions  \n",
    "1. Installation of libraries, including the Julia code that underpins these lectures  "
   ]
  },
  {
   "cell_type": "markdown",
   "metadata": {
    "slideshow": {
     "slide_type": "slide"
    }
   },
   "source": [
    "## Jupyter\n",
    "\n",
    "* Like Python and R, and unlike Matlab and Stata, there is a looser connection between Julia as a programming language and Julia as a development environment.\n",
    "* Because of this, you have much more flexibility in how you write and edit your code, whether that be locally or on the cloud, in a text-editor or IDE, etc.\n",
    "* One example is [Jupyter](http://jupyter.org/),  which provides a browser-based interface to execute code in different languages (e.g. Julia, Python, R, etc.)\n",
    "\n",
    "While you will eventually use other editors, there are some advantages to starting with Jupyter while learning Julia:\n",
    "\n",
    "- The ability to mix formatted text (including mathematical expressions) and code in a single document  \n",
    "- Nicely formatted output including tables, figures, animation, video, etc.  \n",
    "- Conversion tools to generate PDF slides, static HTML, etc.  \n",
    "- Can be used in the cloud without requiring installation  \n",
    "\n",
    "\n",
    "Whether you end up using Jupyter as your primary work environment or not, you’ll find learning about it an excellent investment\n",
    "\n",
    "\n",
    "<a id='jl-jupyterlocal'></a>"
   ]
  },
  {
   "cell_type": "markdown",
   "metadata": {
    "slideshow": {
     "slide_type": "subslide"
    }
   },
   "source": [
    "## Installing Julia and Dependencies\n",
    "\n",
    "- Download and install Julia, from [download page](http://julialang.org/downloads/) , accepting all default options.  \n",
    "  \n",
    "  - We do not recommend [JuliaPro](https://juliacomputing.com/products/juliapro.html)\n",
    "    due to its limited number of available packages  \n",
    "  \n",
    "- Open Julia, by navigating to Julia through your menus or desktop icons.\n",
    "\n",
    "You should now be looking at something like this (modulo your operating system)\n",
    "\n",
    "<img src=\"https://s3-ap-southeast-2.amazonaws.com/lectures.quantecon.org/jl/_static/figures/julia_term_1.png\" style=\"width:100%;height:100%\">\n",
    "\n",
    "  \n",
    "This is called the JULIA *REPL* (Read-Evaluate-Print-Loop), which we discuss more [below](#julia-repl)\n",
    "\n",
    "- In the Julia terminal, type the following  \n",
    "\n",
    "```julia\n",
    "] add IJulia InstantiateFromURL; precompile\n",
    "```\n",
    "\n",
    "This installs enough Julia packages to begin using the lecture notes\n",
    "Note: On OS/X you will need to type the ] separately and cannot copy/paste the whole string\n"
   ]
  },
  {
   "cell_type": "markdown",
   "metadata": {
    "slideshow": {
     "slide_type": "subslide"
    }
   },
   "source": [
    "### Using Jupyter from Julia REPL\n",
    "\n",
    "* You can easily open a notebook browser directly from julia\n",
    "* To do so, start julia. then:\n",
    "\n",
    "```julia\n",
    "using IJulia\n",
    "notebook(dir=\".\",detached=true)\n",
    "```\n",
    "\n",
    "this will open a notebook browser in directory `dir`."
   ]
  },
  {
   "cell_type": "markdown",
   "metadata": {
    "hide-output": false,
    "slideshow": {
     "slide_type": "subslide"
    }
   },
   "source": [
    "### Using Jupyter via Anaconda Python\n",
    "\n",
    "Another Approach is to install the latest version [Anaconda](https://www.anaconda.com/download/#macos) and then Julia\n",
    "\n",
    "- Install Anaconda by downloading the binary <https://www.anaconda.com/download/>  \n",
    "  \n",
    "  - Make sure you click yes to “add Anaconda to my PATH”  \n",
    "  \n",
    "- To run Jupyter, open a terminal or windows console, `cd` to the location you wish to write files and type\n",
    "\n",
    "```text\n",
    "jupyter lab\n",
    "```"
   ]
  },
  {
   "cell_type": "markdown",
   "metadata": {
    "slideshow": {
     "slide_type": "slide"
    }
   },
   "source": [
    "## Using Jupyter Notebooks\n",
    "\n",
    "\n",
    "<a id='ipython-notebook'></a>"
   ]
  },
  {
   "cell_type": "markdown",
   "metadata": {
    "slideshow": {
     "slide_type": "subslide"
    }
   },
   "source": [
    "### Getting Started\n",
    "\n",
    "After you started the notebook browser from the REPL, you will see something like:\n",
    "\n",
    "![test](../assets/figs/jupyter.png)\n",
    "\n",
    "To open an empty julia notebook, click on *new* and select `julia 1.0`."
   ]
  },
  {
   "cell_type": "markdown",
   "metadata": {
    "slideshow": {
     "slide_type": "subslide"
    }
   },
   "source": [
    "### Using QuantEcon Lecture Packages\n",
    "\n",
    "To use the curated set of packages in the QuantEcon lecture notes,\n",
    "put the following text in a notebook cell, and hit `Shift-Enter` to run the cell\n",
    "\n",
    "```julia\n",
    "using InstantiateFromURL\n",
    "\n",
    "# activate the QuantEcon environment\n",
    "activate_github(\"QuantEcon/QuantEconLecturePackages\", tag = \"v0.9.5\");\n",
    "```"
   ]
  },
  {
   "cell_type": "markdown",
   "metadata": {
    "slideshow": {
     "slide_type": "subslide"
    }
   },
   "source": [
    "\n",
    "This downloads, installs, and compiles the correct version of all of packages used in the QuantEcon lectures\n",
    "\n",
    "Depending on your computer, this may take **10-15 minutes** to run the **first-time**, but be virtually instantaneous thereafter\n",
    "\n",
    "This code can be put at the top of any notebook in order to get a tested set of\n",
    "packages compatible with the code in the QuantEcon notes\n",
    "\n",
    "More details on packages are explained in a [later lecture](https://lectures.quantecon.org/jl/tools_editors.html#)"
   ]
  },
  {
   "cell_type": "markdown",
   "metadata": {
    "slideshow": {
     "slide_type": "subslide"
    }
   },
   "source": [
    "### Notebook Basics\n",
    "\n",
    "Notice that in the previous figure the cell is surrounded by a blue border\n",
    "\n",
    "This means that the cell is selected, and double-clicking will place it in edit mode\n",
    "\n",
    "As a result, you can type in Julia code and it will appear in the cell\n",
    "\n",
    "When you’re ready to execute these commands, hit `Shift-Enter`\n",
    "\n",
    "<img src=\"https://s3-ap-southeast-2.amazonaws.com/lectures.quantecon.org/jl/_static/figures/nb3_julia.png\" style=\"width:100%;height:100%\">"
   ]
  },
  {
   "cell_type": "markdown",
   "metadata": {
    "slideshow": {
     "slide_type": "subslide"
    }
   },
   "source": [
    "#### Modal Editing\n",
    "\n",
    "The next thing to understand about the Jupyter notebook is that it uses a *modal* editing system\n",
    "\n",
    "This means that the effect of typing at the keyboard **depends on which mode you are in**\n",
    "\n",
    "The two modes are\n",
    "\n",
    "1. Edit mode  \n",
    "  \n",
    "  - Indicated by a green border around one cell, as in the pictures above  \n",
    "  - Whatever you type appears as is in that cell  \n",
    "  \n",
    "1. Command mode  \n",
    "  \n",
    "  - The green border is replaced by a blue border  \n",
    "  - Key strokes are interpreted as commands — for example, typing b adds a new cell below  the current one  \n",
    "  \n",
    "\n",
    "\n",
    "(To learn about other commands available in command mode, go to “Keyboard Shortcuts” in the “Help” menu)"
   ]
  },
  {
   "cell_type": "markdown",
   "metadata": {
    "slideshow": {
     "slide_type": "subslide"
    }
   },
   "source": [
    "#### Switching modes\n",
    "\n",
    "- To switch to command mode from edit mode, hit the `Esc` key  \n",
    "- To switch to edit mode from command mode, hit `Enter` or click in a cell  \n",
    "\n",
    "\n",
    "The modal behavior of the Jupyter notebook is a little tricky at first but very efficient when you get used to it"
   ]
  },
  {
   "cell_type": "markdown",
   "metadata": {
    "slideshow": {
     "slide_type": "subslide"
    }
   },
   "source": [
    "#### Working with Files\n",
    "\n",
    "To run an existing Julia file using the notebook you can copy and paste the contents into a cell in the notebook\n",
    "\n",
    "If it’s a long file, however, you have the alternative of\n",
    "\n",
    "1. Saving the file in your **present working directory**  \n",
    "1. Executing `include(\"filename\")` in a cell  \n",
    "\n",
    "\n",
    "The present working directory can be found by executing the command `pwd()`"
   ]
  },
  {
   "cell_type": "markdown",
   "metadata": {
    "slideshow": {
     "slide_type": "subslide"
    }
   },
   "source": [
    "#### Plots\n",
    "\n",
    "Let’s generate some plots\n",
    "\n",
    "First, ensure that you have activated a set of packages within the current Jupyter notebook"
   ]
  },
  {
   "cell_type": "code",
   "execution_count": 1,
   "metadata": {
    "hide-output": false,
    "slideshow": {
     "slide_type": "subslide"
    }
   },
   "outputs": [],
   "source": [
    "# Update Jan2020 - CMS: No need of the QuantEcon env.\n",
    "#using InstantiateFromURL\n",
    "# activate the QuantEcon environment\n",
    "#activate_github(\"QuantEcon/QuantEconLecturePackages\", tag = \"v0.9.5\");"
   ]
  },
  {
   "cell_type": "markdown",
   "metadata": {
    "slideshow": {
     "slide_type": "subslide"
    }
   },
   "source": [
    "Now try copying the following into a notebook cell and hit `Shift-Enter`"
   ]
  },
  {
   "cell_type": "code",
   "execution_count": 1,
   "metadata": {
    "hide-output": false,
    "slideshow": {
     "slide_type": "subslide"
    }
   },
   "outputs": [
    {
     "data": {
      "image/svg+xml": [
       "<?xml version=\"1.0\" encoding=\"utf-8\"?>\n",
       "<svg xmlns=\"http://www.w3.org/2000/svg\" xmlns:xlink=\"http://www.w3.org/1999/xlink\" width=\"600\" height=\"400\" viewBox=\"0 0 2400 1600\">\n",
       "<defs>\n",
       "  <clipPath id=\"clip5000\">\n",
       "    <rect x=\"0\" y=\"0\" width=\"2400\" height=\"1600\"/>\n",
       "  </clipPath>\n",
       "</defs>\n",
       "<path clip-path=\"url(#clip5000)\" d=\"\n",
       "M0 1600 L2400 1600 L2400 0 L0 0  Z\n",
       "  \" fill=\"#ffffff\" fill-rule=\"evenodd\" fill-opacity=\"1\"/>\n",
       "<defs>\n",
       "  <clipPath id=\"clip5001\">\n",
       "    <rect x=\"480\" y=\"0\" width=\"1681\" height=\"1600\"/>\n",
       "  </clipPath>\n",
       "</defs>\n",
       "<path clip-path=\"url(#clip5000)\" d=\"\n",
       "M182.008 1487.47 L2352.76 1487.47 L2352.76 47.2441 L182.008 47.2441  Z\n",
       "  \" fill=\"#ffffff\" fill-rule=\"evenodd\" fill-opacity=\"1\"/>\n",
       "<defs>\n",
       "  <clipPath id=\"clip5002\">\n",
       "    <rect x=\"182\" y=\"47\" width=\"2172\" height=\"1441\"/>\n",
       "  </clipPath>\n",
       "</defs>\n",
       "<polyline clip-path=\"url(#clip5002)\" style=\"stroke:#000000; stroke-width:2; stroke-opacity:0.1; fill:none\" points=\"\n",
       "  452.558,1487.47 452.558,47.2441 \n",
       "  \"/>\n",
       "<polyline clip-path=\"url(#clip5002)\" style=\"stroke:#000000; stroke-width:2; stroke-opacity:0.1; fill:none\" points=\"\n",
       "  859.97,1487.47 859.97,47.2441 \n",
       "  \"/>\n",
       "<polyline clip-path=\"url(#clip5002)\" style=\"stroke:#000000; stroke-width:2; stroke-opacity:0.1; fill:none\" points=\"\n",
       "  1267.38,1487.47 1267.38,47.2441 \n",
       "  \"/>\n",
       "<polyline clip-path=\"url(#clip5002)\" style=\"stroke:#000000; stroke-width:2; stroke-opacity:0.1; fill:none\" points=\"\n",
       "  1674.79,1487.47 1674.79,47.2441 \n",
       "  \"/>\n",
       "<polyline clip-path=\"url(#clip5002)\" style=\"stroke:#000000; stroke-width:2; stroke-opacity:0.1; fill:none\" points=\"\n",
       "  2082.21,1487.47 2082.21,47.2441 \n",
       "  \"/>\n",
       "<polyline clip-path=\"url(#clip5002)\" style=\"stroke:#000000; stroke-width:2; stroke-opacity:0.1; fill:none\" points=\"\n",
       "  182.008,1446.79 2352.76,1446.79 \n",
       "  \"/>\n",
       "<polyline clip-path=\"url(#clip5002)\" style=\"stroke:#000000; stroke-width:2; stroke-opacity:0.1; fill:none\" points=\"\n",
       "  182.008,1107.03 2352.76,1107.03 \n",
       "  \"/>\n",
       "<polyline clip-path=\"url(#clip5002)\" style=\"stroke:#000000; stroke-width:2; stroke-opacity:0.1; fill:none\" points=\"\n",
       "  182.008,767.269 2352.76,767.269 \n",
       "  \"/>\n",
       "<polyline clip-path=\"url(#clip5002)\" style=\"stroke:#000000; stroke-width:2; stroke-opacity:0.1; fill:none\" points=\"\n",
       "  182.008,427.507 2352.76,427.507 \n",
       "  \"/>\n",
       "<polyline clip-path=\"url(#clip5002)\" style=\"stroke:#000000; stroke-width:2; stroke-opacity:0.1; fill:none\" points=\"\n",
       "  182.008,87.7462 2352.76,87.7462 \n",
       "  \"/>\n",
       "<polyline clip-path=\"url(#clip5000)\" style=\"stroke:#000000; stroke-width:4; stroke-opacity:1; fill:none\" points=\"\n",
       "  182.008,1487.47 2352.76,1487.47 \n",
       "  \"/>\n",
       "<polyline clip-path=\"url(#clip5000)\" style=\"stroke:#000000; stroke-width:4; stroke-opacity:1; fill:none\" points=\"\n",
       "  182.008,1487.47 182.008,47.2441 \n",
       "  \"/>\n",
       "<polyline clip-path=\"url(#clip5000)\" style=\"stroke:#000000; stroke-width:4; stroke-opacity:1; fill:none\" points=\"\n",
       "  452.558,1487.47 452.558,1465.87 \n",
       "  \"/>\n",
       "<polyline clip-path=\"url(#clip5000)\" style=\"stroke:#000000; stroke-width:4; stroke-opacity:1; fill:none\" points=\"\n",
       "  859.97,1487.47 859.97,1465.87 \n",
       "  \"/>\n",
       "<polyline clip-path=\"url(#clip5000)\" style=\"stroke:#000000; stroke-width:4; stroke-opacity:1; fill:none\" points=\"\n",
       "  1267.38,1487.47 1267.38,1465.87 \n",
       "  \"/>\n",
       "<polyline clip-path=\"url(#clip5000)\" style=\"stroke:#000000; stroke-width:4; stroke-opacity:1; fill:none\" points=\"\n",
       "  1674.79,1487.47 1674.79,1465.87 \n",
       "  \"/>\n",
       "<polyline clip-path=\"url(#clip5000)\" style=\"stroke:#000000; stroke-width:4; stroke-opacity:1; fill:none\" points=\"\n",
       "  2082.21,1487.47 2082.21,1465.87 \n",
       "  \"/>\n",
       "<polyline clip-path=\"url(#clip5000)\" style=\"stroke:#000000; stroke-width:4; stroke-opacity:1; fill:none\" points=\"\n",
       "  182.008,1446.79 214.569,1446.79 \n",
       "  \"/>\n",
       "<polyline clip-path=\"url(#clip5000)\" style=\"stroke:#000000; stroke-width:4; stroke-opacity:1; fill:none\" points=\"\n",
       "  182.008,1107.03 214.569,1107.03 \n",
       "  \"/>\n",
       "<polyline clip-path=\"url(#clip5000)\" style=\"stroke:#000000; stroke-width:4; stroke-opacity:1; fill:none\" points=\"\n",
       "  182.008,767.269 214.569,767.269 \n",
       "  \"/>\n",
       "<polyline clip-path=\"url(#clip5000)\" style=\"stroke:#000000; stroke-width:4; stroke-opacity:1; fill:none\" points=\"\n",
       "  182.008,427.507 214.569,427.507 \n",
       "  \"/>\n",
       "<polyline clip-path=\"url(#clip5000)\" style=\"stroke:#000000; stroke-width:4; stroke-opacity:1; fill:none\" points=\"\n",
       "  182.008,87.7462 214.569,87.7462 \n",
       "  \"/>\n",
       "<g clip-path=\"url(#clip5000)\">\n",
       "<text style=\"fill:#000000; fill-opacity:1; font-family:Arial,Helvetica Neue,Helvetica,sans-serif; font-size:48px; text-anchor:middle;\" transform=\"rotate(0, 452.558, 1541.47)\" x=\"452.558\" y=\"1541.47\">-5.0</text>\n",
       "</g>\n",
       "<g clip-path=\"url(#clip5000)\">\n",
       "<text style=\"fill:#000000; fill-opacity:1; font-family:Arial,Helvetica Neue,Helvetica,sans-serif; font-size:48px; text-anchor:middle;\" transform=\"rotate(0, 859.97, 1541.47)\" x=\"859.97\" y=\"1541.47\">-2.5</text>\n",
       "</g>\n",
       "<g clip-path=\"url(#clip5000)\">\n",
       "<text style=\"fill:#000000; fill-opacity:1; font-family:Arial,Helvetica Neue,Helvetica,sans-serif; font-size:48px; text-anchor:middle;\" transform=\"rotate(0, 1267.38, 1541.47)\" x=\"1267.38\" y=\"1541.47\">0.0</text>\n",
       "</g>\n",
       "<g clip-path=\"url(#clip5000)\">\n",
       "<text style=\"fill:#000000; fill-opacity:1; font-family:Arial,Helvetica Neue,Helvetica,sans-serif; font-size:48px; text-anchor:middle;\" transform=\"rotate(0, 1674.79, 1541.47)\" x=\"1674.79\" y=\"1541.47\">2.5</text>\n",
       "</g>\n",
       "<g clip-path=\"url(#clip5000)\">\n",
       "<text style=\"fill:#000000; fill-opacity:1; font-family:Arial,Helvetica Neue,Helvetica,sans-serif; font-size:48px; text-anchor:middle;\" transform=\"rotate(0, 2082.21, 1541.47)\" x=\"2082.21\" y=\"1541.47\">5.0</text>\n",
       "</g>\n",
       "<g clip-path=\"url(#clip5000)\">\n",
       "<text style=\"fill:#000000; fill-opacity:1; font-family:Arial,Helvetica Neue,Helvetica,sans-serif; font-size:48px; text-anchor:end;\" transform=\"rotate(0, 158.008, 1464.29)\" x=\"158.008\" y=\"1464.29\">-1.0</text>\n",
       "</g>\n",
       "<g clip-path=\"url(#clip5000)\">\n",
       "<text style=\"fill:#000000; fill-opacity:1; font-family:Arial,Helvetica Neue,Helvetica,sans-serif; font-size:48px; text-anchor:end;\" transform=\"rotate(0, 158.008, 1124.53)\" x=\"158.008\" y=\"1124.53\">-0.5</text>\n",
       "</g>\n",
       "<g clip-path=\"url(#clip5000)\">\n",
       "<text style=\"fill:#000000; fill-opacity:1; font-family:Arial,Helvetica Neue,Helvetica,sans-serif; font-size:48px; text-anchor:end;\" transform=\"rotate(0, 158.008, 784.769)\" x=\"158.008\" y=\"784.769\">0.0</text>\n",
       "</g>\n",
       "<g clip-path=\"url(#clip5000)\">\n",
       "<text style=\"fill:#000000; fill-opacity:1; font-family:Arial,Helvetica Neue,Helvetica,sans-serif; font-size:48px; text-anchor:end;\" transform=\"rotate(0, 158.008, 445.007)\" x=\"158.008\" y=\"445.007\">0.5</text>\n",
       "</g>\n",
       "<g clip-path=\"url(#clip5000)\">\n",
       "<text style=\"fill:#000000; fill-opacity:1; font-family:Arial,Helvetica Neue,Helvetica,sans-serif; font-size:48px; text-anchor:end;\" transform=\"rotate(0, 158.008, 105.246)\" x=\"158.008\" y=\"105.246\">1.0</text>\n",
       "</g>\n",
       "<polyline clip-path=\"url(#clip5002)\" style=\"stroke:#009af9; stroke-width:4; stroke-opacity:1; fill:none\" points=\"\n",
       "  243.444,767.269 248.444,746.424 253.444,725.599 258.444,704.813 263.443,684.086 309.674,498.647 355.904,334.682 379.019,264.944 402.134,205.296 425.25,156.935 \n",
       "  448.365,120.833 462.256,105.348 476.147,94.6687 490.039,88.8739 503.93,88.0053 517.821,92.0693 531.712,101.036 545.604,114.841 559.495,133.384 582.985,175.125 \n",
       "  606.474,229.147 618.219,260.423 629.964,294.33 641.709,330.693 653.454,369.322 704.487,558.357 755.52,767.712 802.567,961.158 849.615,1138.56 862.225,1181.44 \n",
       "  874.835,1221.84 887.445,1259.53 900.055,1294.26 925.276,1354.09 950.496,1399.89 965.106,1419.56 979.716,1433.99 994.326,1443.07 1008.94,1446.71 1023.55,1444.9 \n",
       "  1038.16,1437.65 1052.77,1425.01 1067.38,1407.09 1093.34,1362.68 1119.31,1303.17 1145.28,1230.09 1171.24,1145.29 1216.79,974.866 1262.33,788.337 1311.98,583.613 \n",
       "  1361.63,395.806 1386.61,313.302 1411.58,241.438 1436.56,181.899 1461.53,136.08 1475.34,117.046 1489.14,102.676 1502.95,93.0728 1516.75,88.3054 1530.56,88.4081 \n",
       "  1544.37,93.3802 1558.17,103.186 1571.98,117.755 1598.25,158.233 1624.52,214.505 1637.66,248.124 1650.79,285.113 1663.93,325.234 1677.07,368.225 1731.7,571.397 \n",
       "  1786.33,796.378 1832.32,984.284 1878.31,1155.02 1892.35,1201.59 1906.39,1244.94 1920.43,1284.75 1934.46,1320.72 1948.5,1352.58 1962.54,1380.11 1976.57,1403.09 \n",
       "  1990.61,1421.36 2003.81,1434.11 2017,1442.5 2030.2,1446.45 2043.39,1445.96 2056.59,1441.02 2069.78,1431.67 2082.98,1417.96 2096.17,1399.99 2117.31,1362.61 \n",
       "  2138.45,1315.23 2159.59,1258.65 2180.73,1193.8 2223.01,1043.82 2265.29,875.333 2271.8,848.468 2278.31,821.473 2284.81,794.393 2291.32,767.269 \n",
       "  \"/>\n",
       "<path clip-path=\"url(#clip5000)\" d=\"\n",
       "M1923.12 251.724 L2280.76 251.724 L2280.76 130.764 L1923.12 130.764  Z\n",
       "  \" fill=\"#ffffff\" fill-rule=\"evenodd\" fill-opacity=\"1\"/>\n",
       "<polyline clip-path=\"url(#clip5000)\" style=\"stroke:#000000; stroke-width:4; stroke-opacity:1; fill:none\" points=\"\n",
       "  1923.12,251.724 2280.76,251.724 2280.76,130.764 1923.12,130.764 1923.12,251.724 \n",
       "  \"/>\n",
       "<polyline clip-path=\"url(#clip5000)\" style=\"stroke:#009af9; stroke-width:4; stroke-opacity:1; fill:none\" points=\"\n",
       "  1947.12,191.244 2091.12,191.244 \n",
       "  \"/>\n",
       "<g clip-path=\"url(#clip5000)\">\n",
       "<text style=\"fill:#000000; fill-opacity:1; font-family:Arial,Helvetica Neue,Helvetica,sans-serif; font-size:48px; text-anchor:start;\" transform=\"rotate(0, 2115.12, 208.744)\" x=\"2115.12\" y=\"208.744\">sin(x)</text>\n",
       "</g>\n",
       "</svg>\n"
      ]
     },
     "execution_count": 1,
     "metadata": {},
     "output_type": "execute_result"
    }
   ],
   "source": [
    "using Plots\n",
    "gr()\n",
    "plot(sin, -2π, 2π, label=\"sin(x)\")"
   ]
  },
  {
   "cell_type": "markdown",
   "metadata": {
    "slideshow": {
     "slide_type": "subslide"
    }
   },
   "source": [
    "You’ll see something like this (although the style of plot depends on your\n",
    "installation — more on this later)\n",
    "\n",
    "**Note**: The “time-to-first-plot” in Julia takes a while, since it needs to precompile everything\n",
    "\n",
    "<img src=\"https://s3-ap-southeast-2.amazonaws.com/lectures.quantecon.org/jl/_static/figures/nb4_julia.png\" style=\"width:100%;height:100%\">"
   ]
  },
  {
   "cell_type": "markdown",
   "metadata": {
    "slideshow": {
     "slide_type": "slide"
    }
   },
   "source": [
    "### Working with the Notebook\n",
    "\n",
    "Let’s go over some more Jupyter notebook features — enough so that we can press ahead with programming"
   ]
  },
  {
   "cell_type": "markdown",
   "metadata": {
    "slideshow": {
     "slide_type": "subslide"
    }
   },
   "source": [
    "#### Tab Completion\n",
    "\n",
    "Tab completion in Jupyter makes it easy to find Julia commands and functions available\n",
    "\n",
    "For example if you type `rep` and hit the tab key you’ll get a list of all\n",
    "commands that start with `rep`\n",
    "\n",
    "<img src=\"https://s3-ap-southeast-2.amazonaws.com/lectures.quantecon.org/jl/_static/figures/nb5_julia.png\" style=\"width:100%;height:100%\">\n",
    "\n",
    "  \n",
    "\n",
    "<a id='gs-help'></a>"
   ]
  },
  {
   "cell_type": "markdown",
   "metadata": {
    "slideshow": {
     "slide_type": "subslide"
    }
   },
   "source": [
    "#### Getting Help\n",
    "\n",
    "To get help on the Julia function such as `repeat`, enter `? repeat`\n",
    "\n",
    "Documentation should now appear in the browser\n",
    "\n",
    "<img src=\"https://s3-ap-southeast-2.amazonaws.com/lectures.quantecon.org/jl/_static/figures/repeatexample.png\" style=\"width:100%;height:100%\">"
   ]
  },
  {
   "cell_type": "markdown",
   "metadata": {
    "slideshow": {
     "slide_type": "subslide"
    }
   },
   "source": [
    "#### Other Content\n",
    "\n",
    "In addition to executing code, the Jupyter notebook allows you to embed text, equations, figures and even videos in the page\n",
    "\n",
    "For example, here we enter a mixture of plain text and LaTeX instead of code\n",
    "\n",
    "<img src=\"https://s3-ap-southeast-2.amazonaws.com/lectures.quantecon.org/jl/_static/figures/nb6_julia.png\" style=\"width:100%;height:100%\">\n",
    "\n",
    "  \n",
    "Next we `Esc` to enter command mode and then type `m` to indicate that we\n",
    "are writing [Markdown](http://daringfireball.net/projects/markdown/), a mark-up language similar to (but simpler than) LaTeX\n",
    "\n",
    "(You can also use your mouse to select `Markdown` from the `Code` drop-down box just below the list of menu items)\n",
    "\n",
    "Now we `Shift + Enter` to produce this\n",
    "\n",
    "<img src=\"https://s3-ap-southeast-2.amazonaws.com/lectures.quantecon.org/jl/_static/figures/nb7_julia.png\" style=\"width:100%;height:100%\">"
   ]
  },
  {
   "cell_type": "markdown",
   "metadata": {
    "slideshow": {
     "slide_type": "subslide"
    }
   },
   "source": [
    "#### Inserting unicode (e.g. Greek letters)\n",
    "\n",
    "Julia supports the use of [unicode characters](https://docs.julialang.org/en/v1/manual/unicode-input/)\n",
    "such as `α` and `β` in your code\n",
    "\n",
    "Unicode characters can be typed quickly in Jupyter using the `tab` key\n",
    "\n",
    "Try creating a new code cell and typing `\\alpha`, then hitting the `tab` key on your keyboard"
   ]
  },
  {
   "cell_type": "markdown",
   "metadata": {
    "slideshow": {
     "slide_type": "subslide"
    }
   },
   "source": [
    "#### Shell Commands\n",
    "\n",
    "You can execute shell commands (system commands) in Jupyter by prepending a semicolon\n",
    "\n",
    "For example, `; ls` will execute the UNIX style shell command `ls`,\n",
    "which — at least for UNIX style operating systems — lists the\n",
    "contents of the current working directory\n",
    "\n",
    "These shell commands are handled by your default system shell and hence are platform specific"
   ]
  },
  {
   "cell_type": "markdown",
   "metadata": {
    "slideshow": {
     "slide_type": "subslide"
    }
   },
   "source": [
    "#### Package Manager\n",
    "\n",
    "You can enter the package manager by prepending a `]`\n",
    "\n",
    "For example, `] st` will give the status of installed packages in the current environment"
   ]
  },
  {
   "cell_type": "markdown",
   "metadata": {
    "slideshow": {
     "slide_type": "subslide"
    }
   },
   "source": [
    "### Sharing Notebooks\n",
    "\n",
    "Notebook files are just text files structured in [JSON](https://en.wikipedia.org/wiki/JSON) and typically end with `.ipynb`\n",
    "\n",
    "A notebook can easily be saved and shared between users — you just need to\n",
    "pass around the `ipynb` file\n",
    "\n",
    "To open an existing `ipynb` file, import it from the dashboard (the first\n",
    "browser page that opens when you start Jupyter notebook) and run the cells or edit as discussed above\n",
    "\n",
    "The Jupyter organization has a site for sharing notebooks called [nbviewer](http://nbviewer.jupyter.org/)\n",
    "which provides a static HTML representations of notebooks\n",
    "\n",
    "QuantEcon also hosts the [QuantEcon Notes](http://notes.quantecon.org/) website, where you can upload and share your notebooks with other economists and the QuantEcon community\n",
    "\n",
    "\n",
    "<a id='julia-repl'></a>"
   ]
  },
  {
   "cell_type": "markdown",
   "metadata": {
    "slideshow": {
     "slide_type": "slide"
    }
   },
   "source": [
    "### The REPL\n",
    "\n",
    "While we have not emphasized it, on any [JupyterHub](#jl-jupyterhub) or local Jupyter\n",
    "installation you will also have access to the Julia REPL\n",
    "\n",
    "This is a Julia specific terminal disconnected from the graphical interface of\n",
    "Jupyter, and becomes increasingly important as you learn Julia\n",
    "\n",
    "For example, the REPL is what we used in the beginning of this lecture to install\n",
    "`InstantiateFromURL.jl` and `IJulia`\n",
    "\n",
    "To start the REPL from the Jupyter notebook browser, click on \"New\", then \"Terminal\" in the dropdown menu:\n",
    "\n",
    "![test](../assets/figs/jupyter-arrow.png)\n",
    "\n",
    "\n",
    "Otherwise, if you have a local installation, then\n",
    "\n",
    "1. Navigate to Julia through your menus or desktop icons (Windows, OSX), or  \n",
    "1. Open a terminal and type `julia` (Linux)  \n",
    "\n",
    "\n",
    "The REPL is one of the best places to add and remove packages, so a good test is to see the current status of the package manager"
   ]
  },
  {
   "cell_type": "code",
   "execution_count": 2,
   "metadata": {
    "hide-output": false,
    "slideshow": {
     "slide_type": "subslide"
    }
   },
   "outputs": [
    {
     "name": "stdout",
     "output_type": "stream",
     "text": [
      "\u001b[36m\u001b[1mProject \u001b[22m\u001b[39mquantecon-notebooks-julia v0.4.0\n",
      "\u001b[32m\u001b[1m    Status\u001b[22m\u001b[39m `C:\\Users\\cms27\\Project.toml`\n",
      " \u001b[90m [2169fc97]\u001b[39m\u001b[37m AlgebraicMultigrid v0.2.2\u001b[39m\n",
      " \u001b[90m [28f2ccd6]\u001b[39m\u001b[37m ApproxFun v0.11.5\u001b[39m\n",
      " \u001b[90m [7d9fca2a]\u001b[39m\u001b[37m Arpack v0.3.1\u001b[39m\n",
      " \u001b[90m [aae01518]\u001b[39m\u001b[37m BandedMatrices v0.10.1\u001b[39m\n",
      " \u001b[90m [6e4b80f9]\u001b[39m\u001b[37m BenchmarkTools v0.4.3\u001b[39m\n",
      " \u001b[90m [a134a8b2]\u001b[39m\u001b[37m BlackBoxOptim v0.5.0\u001b[39m\n",
      " \u001b[90m [ffab5731]\u001b[39m\u001b[37m BlockBandedMatrices v0.4.6\u001b[39m\n",
      " \u001b[90m [324d7699]\u001b[39m\u001b[37m CategoricalArrays v0.7.1\u001b[39m\n",
      " \u001b[90m [34da2185]\u001b[39m\u001b[37m Compat v2.1.0\u001b[39m\n",
      " \u001b[90m [a93c6f00]\u001b[39m\u001b[37m DataFrames v0.19.4\u001b[39m\n",
      " \u001b[90m [1313f7d8]\u001b[39m\u001b[37m DataFramesMeta v0.5.0\u001b[39m\n",
      " \u001b[90m [5721bf48]\u001b[39m\u001b[37m DataVoyager v0.3.1\u001b[39m\n",
      " \u001b[90m [39dd38d3]\u001b[39m\u001b[37m Dierckx v0.4.1\u001b[39m\n",
      " \u001b[90m [31c24e10]\u001b[39m\u001b[37m Distributions v0.21.3\u001b[39m\n",
      " \u001b[90m [2fe49d83]\u001b[39m\u001b[37m Expectations v1.1.1\u001b[39m\n",
      " \u001b[90m [a1e7a1ef]\u001b[39m\u001b[37m Expokit v0.2.0\u001b[39m\n",
      " \u001b[90m [d4d017d3]\u001b[39m\u001b[37m ExponentialUtilities v1.5.1\u001b[39m\n",
      " \u001b[90m [442a2c76]\u001b[39m\u001b[37m FastGaussQuadrature v0.4.0\u001b[39m\n",
      " \u001b[90m [1a297f60]\u001b[39m\u001b[37m FillArrays v0.6.4\u001b[39m\n",
      " \u001b[90m [9d5cd8c9]\u001b[39m\u001b[37m FixedEffectModels v0.8.5 ⚲\u001b[39m\n",
      " \u001b[90m [c8885935]\u001b[39m\u001b[37m FixedEffects v0.3.0 ⚲\u001b[39m\n",
      " \u001b[90m [587475ba]\u001b[39m\u001b[37m Flux v0.9.0\u001b[39m\n",
      " \u001b[90m [f6369f11]\u001b[39m\u001b[37m ForwardDiff v0.10.3\u001b[39m\n",
      " \u001b[90m [38e38edf]\u001b[39m\u001b[37m GLM v1.3.1 ⚲\u001b[39m\n",
      " \u001b[90m [28b8d3ca]\u001b[39m\u001b[37m GR v0.41.0\u001b[39m\n",
      " \u001b[90m [40713840]\u001b[39m\u001b[37m IncompleteLU v0.1.1\u001b[39m\n",
      " \u001b[90m [a98d9a8b]\u001b[39m\u001b[37m Interpolations v0.12.2\u001b[39m\n",
      " \u001b[90m [b6b21f68]\u001b[39m\u001b[37m Ipopt v0.6.0\u001b[39m\n",
      " \u001b[90m [42fd0dbc]\u001b[39m\u001b[37m IterativeSolvers v0.8.1\u001b[39m\n",
      " \u001b[90m [4076af6c]\u001b[39m\u001b[37m JuMP v0.20.0\u001b[39m\n",
      " \u001b[90m [5ab0869b]\u001b[39m\u001b[37m KernelDensity v0.5.1\u001b[39m\n",
      " \u001b[90m [ba0b0d4f]\u001b[39m\u001b[37m Krylov v0.3.0\u001b[39m\n",
      " \u001b[90m [0b1a1467]\u001b[39m\u001b[37m KrylovKit v0.4.0\u001b[39m\n",
      " \u001b[90m [b964fa9f]\u001b[39m\u001b[37m LaTeXStrings v1.0.3\u001b[39m\n",
      " \u001b[90m [5078a376]\u001b[39m\u001b[37m LazyArrays v0.10.0\u001b[39m\n",
      " \u001b[90m [0fc2ff8b]\u001b[39m\u001b[37m LeastSquaresOptim v0.7.4\u001b[39m\n",
      " \u001b[90m [093fc24a]\u001b[39m\u001b[37m LightGraphs v1.3.0\u001b[39m\n",
      " \u001b[90m [7a12625a]\u001b[39m\u001b[37m LinearMaps v2.5.2\u001b[39m\n",
      " \u001b[90m [5c8ed15e]\u001b[39m\u001b[37m LinearOperators v0.5.4\u001b[39m\n",
      " \u001b[90m [76087f3c]\u001b[39m\u001b[37m NLopt v0.5.1\u001b[39m\n",
      " \u001b[90m [2774e3e8]\u001b[39m\u001b[37m NLsolve v4.0.0\u001b[39m\n",
      " \u001b[90m [429524aa]\u001b[39m\u001b[37m Optim v0.19.3\u001b[39m\n",
      " \u001b[90m [d96e819e]\u001b[39m\u001b[37m Parameters v0.12.0\u001b[39m\n",
      " \u001b[90m [14b8a8f1]\u001b[39m\u001b[37m PkgTemplates v0.6.3\u001b[39m\n",
      " \u001b[90m [91a5bcdd]\u001b[39m\u001b[37m Plots v0.27.0\u001b[39m\n",
      " \u001b[90m [f27b6e38]\u001b[39m\u001b[37m Polynomials v0.5.2\u001b[39m\n",
      " \u001b[90m [af69fa37]\u001b[39m\u001b[37m Preconditioners v0.3.0\u001b[39m\n",
      " \u001b[90m [92933f4c]\u001b[39m\u001b[37m ProgressMeter v1.1.0\u001b[39m\n",
      " \u001b[90m [1fd47b50]\u001b[39m\u001b[37m QuadGK v2.1.0\u001b[39m\n",
      " \u001b[90m [fcd29c91]\u001b[39m\u001b[37m QuantEcon v0.16.2\u001b[39m\n",
      " \u001b[90m [1a8c2f83]\u001b[39m\u001b[37m Query v0.12.2\u001b[39m\n",
      " \u001b[90m [612083be]\u001b[39m\u001b[37m Queryverse v0.3.1\u001b[39m\n",
      " \u001b[90m [ce6b1742]\u001b[39m\u001b[37m RDatasets v0.6.3\u001b[39m\n",
      " \u001b[90m [d519eb52]\u001b[39m\u001b[37m RegressionTables v0.2.2 ⚲\u001b[39m\n",
      " \u001b[90m [295af30f]\u001b[39m\u001b[37m Revise v2.2.0\u001b[39m\n",
      " \u001b[90m [f2b01f46]\u001b[39m\u001b[37m Roots v0.8.3\u001b[39m\n",
      " \u001b[90m [47a9eef4]\u001b[39m\u001b[37m SparseDiffTools v0.8.0\u001b[39m\n",
      " \u001b[90m [684fba80]\u001b[39m\u001b[37m SparsityDetection v0.1.1\u001b[39m\n",
      " \u001b[90m [90137ffa]\u001b[39m\u001b[37m StaticArrays v0.11.0\u001b[39m\n",
      " \u001b[90m [2913bbd2]\u001b[39m\u001b[37m StatsBase v0.32.0\u001b[39m\n",
      " \u001b[90m [3eaba693]\u001b[39m\u001b[37m StatsModels v0.6.5\u001b[39m\n",
      " \u001b[90m [f3b207a7]\u001b[39m\u001b[37m StatsPlots v0.12.0\u001b[39m\n",
      " \u001b[90m [112f6efa]\u001b[39m\u001b[37m VegaLite v0.7.0\u001b[39m\n",
      " \u001b[90m [e88e6eb3]\u001b[39m\u001b[37m Zygote v0.3.4\u001b[39m\n",
      " \u001b[90m [37e2e46d]\u001b[39m\u001b[37m LinearAlgebra \u001b[39m\n",
      " \u001b[90m [9a3f8284]\u001b[39m\u001b[37m Random \u001b[39m\n",
      " \u001b[90m [2f01184e]\u001b[39m\u001b[37m SparseArrays \u001b[39m\n",
      " \u001b[90m [10745b16]\u001b[39m\u001b[37m Statistics \u001b[39m\n",
      " \u001b[90m [8dfed614]\u001b[39m\u001b[37m Test \u001b[39m\n"
     ]
    }
   ],
   "source": [
    "] st"
   ]
  },
  {
   "cell_type": "markdown",
   "metadata": {
    "slideshow": {
     "slide_type": "subslide"
    }
   },
   "source": [
    "## Other Ways to Use Jupyter\n",
    "\n",
    "There are alternative workflows, such as\n",
    "\n",
    "1. Using [Jupyter on the cloud or a department server](#jl-jupyterhub) (if it is available)  \n",
    "1. Installing the pre-built [docker-based Julia/Jupyter](#jl-jupyterdocker) from QuantEcon  \n",
    "\n",
    "\n",
    "Eventually, you will want to move from just using Jupyter to using other\n",
    "[tools and editors](https://lectures.quantecon.org/jl/tools_editors.html#) such as [Atom/Juno](http://junolab.org/), but\n",
    "don’t let the environment get in the way of learning the language\n",
    "\n",
    "\n",
    "<a id='jl-jupyterhub'></a>"
   ]
  },
  {
   "cell_type": "markdown",
   "metadata": {
    "slideshow": {
     "slide_type": "subslide"
    }
   },
   "source": [
    "### Using Jupyter Online\n",
    "\n",
    "If you have access to a cloud-based solution for Jupyter, then that is typically an easy solution\n",
    "\n",
    "- Students: ask your department if these resources are available  \n",
    "- Universities and workgroups: email [contact@quantecon.org](mailto:contact@quantecon.org\") for\n",
    "  help on setting up a shared JupyterHub instance with precompiled packages ready for these lecture notes  \n",
    "- [JuliaBox](http://www.juliabox.com)  tightly controls allowed packages, and **does not** currently support the QuantEcon lectures  \n",
    "\n",
    "\n",
    "If you are using an online Jupyter installation for a class, you may not need to do anything to begin using these notebooks\n",
    "\n",
    "Otherwise, if there are errors when you attempt to use an online JupyterHub, you will need to go open a Jupyter notebook and type"
   ]
  },
  {
   "cell_type": "markdown",
   "metadata": {},
   "source": [
    "### Installing a Pre-built Jupyter Image\n",
    "\n",
    "[Docker](https://www.docker.com/) is a technology that you use to host\n",
    "a “[virtual](https://en.wikipedia.org/wiki/Operating-system-level_virtualization)”\n",
    "version of a software setup on another computer\n",
    "\n",
    "While it is largely used for running code in the cloud, it is also convenient for using on local computers\n",
    "\n",
    "QuantEcon has constructed a pre-built [docker image](https://hub.docker.com/u/quantecon/)\n",
    "\n",
    "For instructions on how to set this up, see the [tools and editors](https://lectures.quantecon.org/jl/tools_editors.html#) lecture\n",
    "\n",
    "**Note:** The Docker installation is easy and complete, but it has limitations\n",
    "on operating systems (in particular, Windows 10 is only supported for the Professional\n",
    "and Education editions, and not the Home edition)"
   ]
  }
 ],
 "metadata": {
  "celltoolbar": "Slideshow",
  "filename": "getting_started.rst",
  "kernelspec": {
   "display_name": "Julia 1.3.0",
   "language": "julia",
   "name": "julia-1.3"
  },
  "language_info": {
   "file_extension": ".jl",
   "mimetype": "application/julia",
   "name": "julia",
   "version": "1.3.0"
  },
  "title": "Setting up Your Julia Environment"
 },
 "nbformat": 4,
 "nbformat_minor": 2
}
