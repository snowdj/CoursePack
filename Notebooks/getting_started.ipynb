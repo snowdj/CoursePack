{
 "cells": [
  {
   "cell_type": "markdown",
   "metadata": {
    "slideshow": {
     "slide_type": "slide"
    }
   },
   "source": [
    "# Setting up Your Julia Environment\n",
    "\n",
    "### Florian Oswald\n",
    "\n",
    "**This is lecture is a slightly modified version of https://lectures.quantecon.org/jl/getting_started.html**\n",
    "**Thank you to the amazing Quantecon.org team!**"
   ]
  },
  {
   "cell_type": "markdown",
   "metadata": {
    "slideshow": {
     "slide_type": "slide"
    }
   },
   "source": [
    "## Contents\n",
    "\n",
    "- [Setting up Your Julia Environment](#Setting-up-Your-Julia-Environment)  \n",
    "  - [Overview](#Overview)  \n",
    "  - [Jupyter](#Jupyter)  \n",
    "  - [Installing Julia and Dependencies](#Installing-Julia-and-Dependencies)  \n",
    "  - [Using Jupyter](#Using-Jupyter)  \n",
    "  - [Other Ways to Use Jupyter](#Other-Ways-to-Use-Jupyter)  \n",
    " "
   ]
  },
  {
   "cell_type": "markdown",
   "metadata": {
    "slideshow": {
     "slide_type": "slide"
    }
   },
   "source": [
    "## Overview\n",
    "\n",
    "In this lecture we will cover how to get up and running with Julia\n",
    "\n",
    "Topics:\n",
    "\n",
    "1. Jupyter  \n",
    "1. Local installation vs. cloud-based solutions  \n",
    "1. Installation of libraries, including the Julia code that underpins these lectures  "
   ]
  },
  {
   "cell_type": "markdown",
   "metadata": {
    "slideshow": {
     "slide_type": "slide"
    }
   },
   "source": [
    "## Jupyter\n",
    "\n",
    "* Like Python and R, and unlike Matlab and Stata, there is a looser connection between Julia as a programming language and Julia as a development environment.\n",
    "* Because of this, you have much more flexibility in how you write and edit your code, whether that be locally or on the cloud, in a text-editor or IDE, etc.\n",
    "* One example is [Jupyter](http://jupyter.org/),  which provides a browser-based interface to execute code in different languages (e.g. Julia, Python, R, etc.)\n",
    "\n",
    "While you will eventually use other editors, there are some advantages to starting with Jupyter while learning Julia:\n",
    "\n",
    "- The ability to mix formatted text (including mathematical expressions) and code in a single document  \n",
    "- Nicely formatted output including tables, figures, animation, video, etc.  \n",
    "- Conversion tools to generate PDF slides, static HTML, etc.  \n",
    "- Can be used in the cloud without requiring installation  \n",
    "\n",
    "\n",
    "Whether you end up using Jupyter as your primary work environment or not, you’ll find learning about it an excellent investment\n",
    "\n",
    "\n",
    "<a id='jl-jupyterlocal'></a>"
   ]
  },
  {
   "cell_type": "markdown",
   "metadata": {
    "slideshow": {
     "slide_type": "subslide"
    }
   },
   "source": [
    "## Installing Julia and Dependencies\n",
    "\n",
    "- Download and install Julia, from [download page](http://julialang.org/downloads/) , accepting all default options.  \n",
    "  \n",
    "  - We do not recommend [JuliaPro](https://juliacomputing.com/products/juliapro.html)\n",
    "    due to its limited number of available packages  \n",
    "  \n",
    "- Open Julia, by navigating to Julia through your menus or desktop icons.\n",
    "\n",
    "You should now be looking at something like this (modulo your operating system)\n",
    "\n",
    "<img src=\"https://s3-ap-southeast-2.amazonaws.com/lectures.quantecon.org/jl/_static/figures/julia_term_1.png\" style=\"width:100%;height:100%\">\n",
    "\n",
    "  \n",
    "This is called the JULIA *REPL* (Read-Evaluate-Print-Loop), which we discuss more [below](#julia-repl)\n",
    "\n",
    "- In the Julia terminal, type the following  \n",
    "\n",
    "```julia\n",
    "] add IJulia InstantiateFromURL; precompile\n",
    "```\n",
    "\n",
    "This installs enough Julia packages to begin using the lecture notes\n",
    "Note: On OS/X you will need to type the ] separately and cannot copy/paste the whole string\n"
   ]
  },
  {
   "cell_type": "markdown",
   "metadata": {
    "slideshow": {
     "slide_type": "subslide"
    }
   },
   "source": [
    "### Using Jupyter from Julia REPL\n",
    "\n",
    "* You can easily open a notebook browser directly from julia\n",
    "* To do so, start julia. then:\n",
    "\n",
    "```julia\n",
    "using IJulia\n",
    "notebook(dir=\".\",detached=true)\n",
    "```\n",
    "\n",
    "this will open a notebook browser in directory `dir`."
   ]
  },
  {
   "cell_type": "markdown",
   "metadata": {
    "hide-output": false,
    "slideshow": {
     "slide_type": "subslide"
    }
   },
   "source": [
    "### Using Jupyter via Anaconda Python\n",
    "\n",
    "Another Approach is to install the latest version [Anaconda](https://www.anaconda.com/download/#macos) and then Julia\n",
    "\n",
    "- Install Anaconda by downloading the binary <https://www.anaconda.com/download/>  \n",
    "  \n",
    "  - Make sure you click yes to “add Anaconda to my PATH”  \n",
    "  \n",
    "- To run Jupyter, open a terminal or windows console, `cd` to the location you wish to write files and type\n",
    "\n",
    "```text\n",
    "jupyter lab\n",
    "```"
   ]
  },
  {
   "cell_type": "markdown",
   "metadata": {
    "slideshow": {
     "slide_type": "slide"
    }
   },
   "source": [
    "## Using Jupyter Notebooks\n",
    "\n",
    "\n",
    "<a id='ipython-notebook'></a>"
   ]
  },
  {
   "cell_type": "markdown",
   "metadata": {
    "slideshow": {
     "slide_type": "subslide"
    }
   },
   "source": [
    "### Getting Started\n",
    "\n",
    "After you started the notebook browser from the REPL, you will see something like:\n",
    "\n",
    "![test](../assets/figs/jupyter.png)\n",
    "\n",
    "To open an empty julia notebook, click on *new* and select `julia 1.0`."
   ]
  },
  {
   "cell_type": "markdown",
   "metadata": {
    "slideshow": {
     "slide_type": "subslide"
    }
   },
   "source": [
    "### Using QuantEcon Lecture Packages\n",
    "\n",
    "To use the curated set of packages in the QuantEcon lecture notes,\n",
    "put the following text in a notebook cell, and hit `Shift-Enter` to run the cell\n",
    "\n",
    "```julia\n",
    "using InstantiateFromURL\n",
    "\n",
    "# activate the QuantEcon environment\n",
    "activate_github(\"QuantEcon/QuantEconLecturePackages\", tag = \"v0.9.5\");\n",
    "```"
   ]
  },
  {
   "cell_type": "markdown",
   "metadata": {
    "slideshow": {
     "slide_type": "subslide"
    }
   },
   "source": [
    "\n",
    "This downloads, installs, and compiles the correct version of all of packages used in the QuantEcon lectures\n",
    "\n",
    "Depending on your computer, this may take **10-15 minutes** to run the **first-time**, but be virtually instantaneous thereafter\n",
    "\n",
    "This code can be put at the top of any notebook in order to get a tested set of\n",
    "packages compatible with the code in the QuantEcon notes\n",
    "\n",
    "More details on packages are explained in a [later lecture](https://lectures.quantecon.org/jl/tools_editors.html#)"
   ]
  },
  {
   "cell_type": "markdown",
   "metadata": {
    "slideshow": {
     "slide_type": "subslide"
    }
   },
   "source": [
    "### Notebook Basics\n",
    "\n",
    "Notice that in the previous figure the cell is surrounded by a blue border\n",
    "\n",
    "This means that the cell is selected, and double-clicking will place it in edit mode\n",
    "\n",
    "As a result, you can type in Julia code and it will appear in the cell\n",
    "\n",
    "When you’re ready to execute these commands, hit `Shift-Enter`\n",
    "\n",
    "<img src=\"https://s3-ap-southeast-2.amazonaws.com/lectures.quantecon.org/jl/_static/figures/nb3_julia.png\" style=\"width:100%;height:100%\">"
   ]
  },
  {
   "cell_type": "markdown",
   "metadata": {
    "slideshow": {
     "slide_type": "subslide"
    }
   },
   "source": [
    "#### Modal Editing\n",
    "\n",
    "The next thing to understand about the Jupyter notebook is that it uses a *modal* editing system\n",
    "\n",
    "This means that the effect of typing at the keyboard **depends on which mode you are in**\n",
    "\n",
    "The two modes are\n",
    "\n",
    "1. Edit mode  \n",
    "  \n",
    "  - Indicated by a green border around one cell, as in the pictures above  \n",
    "  - Whatever you type appears as is in that cell  \n",
    "  \n",
    "1. Command mode  \n",
    "  \n",
    "  - The green border is replaced by a blue border  \n",
    "  - Key strokes are interpreted as commands — for example, typing b adds a new cell below  the current one  \n",
    "  \n",
    "\n",
    "\n",
    "(To learn about other commands available in command mode, go to “Keyboard Shortcuts” in the “Help” menu)"
   ]
  },
  {
   "cell_type": "markdown",
   "metadata": {
    "slideshow": {
     "slide_type": "subslide"
    }
   },
   "source": [
    "#### Switching modes\n",
    "\n",
    "- To switch to command mode from edit mode, hit the `Esc` key  \n",
    "- To switch to edit mode from command mode, hit `Enter` or click in a cell  \n",
    "\n",
    "\n",
    "The modal behavior of the Jupyter notebook is a little tricky at first but very efficient when you get used to it"
   ]
  },
  {
   "cell_type": "markdown",
   "metadata": {
    "slideshow": {
     "slide_type": "subslide"
    }
   },
   "source": [
    "#### Working with Files\n",
    "\n",
    "To run an existing Julia file using the notebook you can copy and paste the contents into a cell in the notebook\n",
    "\n",
    "If it’s a long file, however, you have the alternative of\n",
    "\n",
    "1. Saving the file in your **present working directory**  \n",
    "1. Executing `include(\"filename\")` in a cell  \n",
    "\n",
    "\n",
    "The present working directory can be found by executing the command `pwd()`"
   ]
  },
  {
   "cell_type": "markdown",
   "metadata": {
    "slideshow": {
     "slide_type": "subslide"
    }
   },
   "source": [
    "#### Plots\n",
    "\n",
    "Let’s generate some plots\n",
    "\n",
    "First, ensure that you have activated a set of packages within the current Jupyter notebook"
   ]
  },
  {
   "cell_type": "code",
   "execution_count": 1,
   "metadata": {
    "hide-output": false,
    "slideshow": {
     "slide_type": "subslide"
    }
   },
   "outputs": [],
   "source": [
    "using InstantiateFromURL\n",
    "\n",
    "# activate the QuantEcon environment\n",
    "activate_github(\"QuantEcon/QuantEconLecturePackages\", tag = \"v0.9.5\");"
   ]
  },
  {
   "cell_type": "markdown",
   "metadata": {
    "slideshow": {
     "slide_type": "subslide"
    }
   },
   "source": [
    "Now try copying the following into a notebook cell and hit `Shift-Enter`"
   ]
  },
  {
   "cell_type": "code",
   "execution_count": 2,
   "metadata": {
    "hide-output": false,
    "slideshow": {
     "slide_type": "subslide"
    }
   },
   "outputs": [
    {
     "name": "stderr",
     "output_type": "stream",
     "text": [
      "┌ Info: Recompiling stale cache file /Users/florian.oswald/.julia/compiled/v1.1/Plots/ld3vC.ji for Plots [91a5bcdd-55d7-5caf-9e0b-520d859cae80]\n",
      "└ @ Base loading.jl:1184\n"
     ]
    },
    {
     "data": {
      "image/png": "[encoded data removed]"
     },
     "execution_count": 2,
     "metadata": {},
     "output_type": "execute_result"
    }
   ],
   "source": [
    "using Plots\n",
    "gr(fmt=:png);\n",
    "plot(sin, -2π, 2π, label=\"sin(x)\")"
   ]
  },
  {
   "cell_type": "markdown",
   "metadata": {
    "slideshow": {
     "slide_type": "subslide"
    }
   },
   "source": [
    "You’ll see something like this (although the style of plot depends on your\n",
    "installation — more on this later)\n",
    "\n",
    "**Note**: The “time-to-first-plot” in Julia takes a while, since it needs to precompile everything\n",
    "\n",
    "<img src=\"https://s3-ap-southeast-2.amazonaws.com/lectures.quantecon.org/jl/_static/figures/nb4_julia.png\" style=\"width:100%;height:100%\">"
   ]
  },
  {
   "cell_type": "markdown",
   "metadata": {
    "slideshow": {
     "slide_type": "slide"
    }
   },
   "source": [
    "### Working with the Notebook\n",
    "\n",
    "Let’s go over some more Jupyter notebook features — enough so that we can press ahead with programming"
   ]
  },
  {
   "cell_type": "markdown",
   "metadata": {
    "slideshow": {
     "slide_type": "subslide"
    }
   },
   "source": [
    "#### Tab Completion\n",
    "\n",
    "Tab completion in Jupyter makes it easy to find Julia commands and functions available\n",
    "\n",
    "For example if you type `rep` and hit the tab key you’ll get a list of all\n",
    "commands that start with `rep`\n",
    "\n",
    "<img src=\"https://s3-ap-southeast-2.amazonaws.com/lectures.quantecon.org/jl/_static/figures/nb5_julia.png\" style=\"width:100%;height:100%\">\n",
    "\n",
    "  \n",
    "\n",
    "<a id='gs-help'></a>"
   ]
  },
  {
   "cell_type": "markdown",
   "metadata": {
    "slideshow": {
     "slide_type": "subslide"
    }
   },
   "source": [
    "#### Getting Help\n",
    "\n",
    "To get help on the Julia function such as `repeat`, enter `? repeat`\n",
    "\n",
    "Documentation should now appear in the browser\n",
    "\n",
    "<img src=\"https://s3-ap-southeast-2.amazonaws.com/lectures.quantecon.org/jl/_static/figures/repeatexample.png\" style=\"width:100%;height:100%\">"
   ]
  },
  {
   "cell_type": "markdown",
   "metadata": {
    "slideshow": {
     "slide_type": "subslide"
    }
   },
   "source": [
    "#### Other Content\n",
    "\n",
    "In addition to executing code, the Jupyter notebook allows you to embed text, equations, figures and even videos in the page\n",
    "\n",
    "For example, here we enter a mixture of plain text and LaTeX instead of code\n",
    "\n",
    "<img src=\"https://s3-ap-southeast-2.amazonaws.com/lectures.quantecon.org/jl/_static/figures/nb6_julia.png\" style=\"width:100%;height:100%\">\n",
    "\n",
    "  \n",
    "Next we `Esc` to enter command mode and then type `m` to indicate that we\n",
    "are writing [Markdown](http://daringfireball.net/projects/markdown/), a mark-up language similar to (but simpler than) LaTeX\n",
    "\n",
    "(You can also use your mouse to select `Markdown` from the `Code` drop-down box just below the list of menu items)\n",
    "\n",
    "Now we `Shift + Enter` to produce this\n",
    "\n",
    "<img src=\"https://s3-ap-southeast-2.amazonaws.com/lectures.quantecon.org/jl/_static/figures/nb7_julia.png\" style=\"width:100%;height:100%\">"
   ]
  },
  {
   "cell_type": "markdown",
   "metadata": {
    "slideshow": {
     "slide_type": "subslide"
    }
   },
   "source": [
    "#### Inserting unicode (e.g. Greek letters)\n",
    "\n",
    "Julia supports the use of [unicode characters](https://docs.julialang.org/en/v1/manual/unicode-input/)\n",
    "such as `α` and `β` in your code\n",
    "\n",
    "Unicode characters can be typed quickly in Jupyter using the `tab` key\n",
    "\n",
    "Try creating a new code cell and typing `\\alpha`, then hitting the `tab` key on your keyboard"
   ]
  },
  {
   "cell_type": "markdown",
   "metadata": {
    "slideshow": {
     "slide_type": "subslide"
    }
   },
   "source": [
    "#### Shell Commands\n",
    "\n",
    "You can execute shell commands (system commands) in Jupyter by prepending a semicolon\n",
    "\n",
    "For example, `; ls` will execute the UNIX style shell command `ls`,\n",
    "which — at least for UNIX style operating systems — lists the\n",
    "contents of the current working directory\n",
    "\n",
    "These shell commands are handled by your default system shell and hence are platform specific"
   ]
  },
  {
   "cell_type": "markdown",
   "metadata": {
    "slideshow": {
     "slide_type": "subslide"
    }
   },
   "source": [
    "#### Package Manager\n",
    "\n",
    "You can enter the package manager by prepending a `]`\n",
    "\n",
    "For example, `] st` will give the status of installed packages in the current environment"
   ]
  },
  {
   "cell_type": "markdown",
   "metadata": {
    "slideshow": {
     "slide_type": "subslide"
    }
   },
   "source": [
    "### Sharing Notebooks\n",
    "\n",
    "Notebook files are just text files structured in [JSON](https://en.wikipedia.org/wiki/JSON) and typically end with `.ipynb`\n",
    "\n",
    "A notebook can easily be saved and shared between users — you just need to\n",
    "pass around the `ipynb` file\n",
    "\n",
    "To open an existing `ipynb` file, import it from the dashboard (the first\n",
    "browser page that opens when you start Jupyter notebook) and run the cells or edit as discussed above\n",
    "\n",
    "The Jupyter organization has a site for sharing notebooks called [nbviewer](http://nbviewer.jupyter.org/)\n",
    "which provides a static HTML representations of notebooks\n",
    "\n",
    "QuantEcon also hosts the [QuantEcon Notes](http://notes.quantecon.org/) website, where you can upload and share your notebooks with other economists and the QuantEcon community\n",
    "\n",
    "\n",
    "<a id='julia-repl'></a>"
   ]
  },
  {
   "cell_type": "markdown",
   "metadata": {
    "slideshow": {
     "slide_type": "slide"
    }
   },
   "source": [
    "### The REPL\n",
    "\n",
    "While we have not emphasized it, on any [JupyterHub](#jl-jupyterhub) or local Jupyter\n",
    "installation you will also have access to the Julia REPL\n",
    "\n",
    "This is a Julia specific terminal disconnected from the graphical interface of\n",
    "Jupyter, and becomes increasingly important as you learn Julia\n",
    "\n",
    "For example, the REPL is what we used in the beginning of this lecture to install\n",
    "`InstantiateFromURL.jl` and `IJulia`\n",
    "\n",
    "To start the REPL from the Jupyter notebook browser, click on \"New\", then \"Terminal\" in the dropdown menu:\n",
    "\n",
    "![test](../assets/figs/jupyter-arrow.png)\n",
    "\n",
    "\n",
    "Otherwise, if you have a local installation, then\n",
    "\n",
    "1. Navigate to Julia through your menus or desktop icons (Windows, OSX), or  \n",
    "1. Open a terminal and type `julia` (Linux)  \n",
    "\n",
    "\n",
    "The REPL is one of the best places to add and remove packages, so a good test is to see the current status of the package manager"
   ]
  },
  {
   "cell_type": "code",
   "execution_count": 3,
   "metadata": {
    "hide-output": false,
    "slideshow": {
     "slide_type": "subslide"
    }
   },
   "outputs": [
    {
     "name": "stdout",
     "output_type": "stream",
     "text": [
      "\u001b[36m\u001b[1mProject \u001b[22m\u001b[39mQuantEconLecturePackages v0.9.4\n",
      "\u001b[32m\u001b[1m    Status\u001b[22m\u001b[39m `~/Dropbox/teaching/ScPo/ScPo-CompEcon/CoursePack/Notebooks/.projects/QuantEconLecturePackages-v0.9.5/Project.toml`\n",
      " \u001b[90m [6e4b80f9]\u001b[39m\u001b[37m BenchmarkTools v0.4.1\u001b[39m\n",
      " \u001b[90m [3da002f7]\u001b[39m\u001b[37m ColorTypes v0.7.5\u001b[39m\n",
      " \u001b[90m [34da2185]\u001b[39m\u001b[37m Compat v1.4.0\u001b[39m\n",
      " \u001b[90m [a93c6f00]\u001b[39m\u001b[37m DataFrames v0.15.2\u001b[39m\n",
      " \u001b[90m [1313f7d8]\u001b[39m\u001b[37m DataFramesMeta v0.4.0\u001b[39m\n",
      " \u001b[90m [39dd38d3]\u001b[39m\u001b[37m Dierckx v0.4.1\u001b[39m\n",
      " \u001b[90m [31c24e10]\u001b[39m\u001b[37m Distributions v0.16.4\u001b[39m\n",
      " \u001b[90m [2fe49d83]\u001b[39m\u001b[37m Expectations v1.0.2\u001b[39m\n",
      " \u001b[90m [f6369f11]\u001b[39m\u001b[37m ForwardDiff v0.10.1\u001b[39m\n",
      " \u001b[90m [28b8d3ca]\u001b[39m\u001b[37m GR v0.36.0\u001b[39m\n",
      " \u001b[90m [a98d9a8b]\u001b[39m\u001b[37m Interpolations v0.11.0\u001b[39m\n",
      " \u001b[90m [5ab0869b]\u001b[39m\u001b[37m KernelDensity v0.5.1\u001b[39m\n",
      " \u001b[90m [b964fa9f]\u001b[39m\u001b[37m LaTeXStrings v1.0.3\u001b[39m\n",
      " \u001b[90m [76087f3c]\u001b[39m\u001b[37m NLopt v0.5.1\u001b[39m\n",
      " \u001b[90m [2774e3e8]\u001b[39m\u001b[37m NLsolve v3.0.1\u001b[39m\n",
      " \u001b[90m [429524aa]\u001b[39m\u001b[37m Optim v0.17.2\u001b[39m\n",
      " \u001b[90m [d96e819e]\u001b[39m\u001b[37m Parameters v0.10.2\u001b[39m\n",
      " \u001b[90m [91a5bcdd]\u001b[39m\u001b[37m Plots v0.22.0\u001b[39m\n",
      " \u001b[90m [f27b6e38]\u001b[39m\u001b[37m Polynomials v0.5.1\u001b[39m\n",
      " \u001b[90m [1fd47b50]\u001b[39m\u001b[37m QuadGK v2.0.3\u001b[39m\n",
      " \u001b[90m [fcd29c91]\u001b[39m\u001b[37m QuantEcon v0.15.0\u001b[39m\n",
      " \u001b[90m [295af30f]\u001b[39m\u001b[37m Revise v0.7.14\u001b[39m\n",
      " \u001b[90m [f2b01f46]\u001b[39m\u001b[37m Roots v0.7.4\u001b[39m\n",
      " \u001b[90m [60ddc479]\u001b[39m\u001b[37m StatPlots v0.8.2\u001b[39m\n",
      " \u001b[90m [90137ffa]\u001b[39m\u001b[37m StaticArrays v0.10.0\u001b[39m\n",
      " \u001b[90m [37e2e46d]\u001b[39m\u001b[37m LinearAlgebra \u001b[39m\n",
      " \u001b[90m [9a3f8284]\u001b[39m\u001b[37m Random \u001b[39m\n",
      " \u001b[90m [2f01184e]\u001b[39m\u001b[37m SparseArrays \u001b[39m\n",
      " \u001b[90m [10745b16]\u001b[39m\u001b[37m Statistics \u001b[39m\n",
      " \u001b[90m [8dfed614]\u001b[39m\u001b[37m Test \u001b[39m\n"
     ]
    }
   ],
   "source": [
    "] st"
   ]
  },
  {
   "cell_type": "markdown",
   "metadata": {
    "slideshow": {
     "slide_type": "subslide"
    }
   },
   "source": [
    "## Other Ways to Use Jupyter\n",
    "\n",
    "There are alternative workflows, such as\n",
    "\n",
    "1. Using [Jupyter on the cloud or a department server](#jl-jupyterhub) (if it is available)  \n",
    "1. Installing the pre-built [docker-based Julia/Jupyter](#jl-jupyterdocker) from QuantEcon  \n",
    "\n",
    "\n",
    "Eventually, you will want to move from just using Jupyter to using other\n",
    "[tools and editors](https://lectures.quantecon.org/jl/tools_editors.html#) such as [Atom/Juno](http://junolab.org/), but\n",
    "don’t let the environment get in the way of learning the language\n",
    "\n",
    "\n",
    "<a id='jl-jupyterhub'></a>"
   ]
  },
  {
   "cell_type": "markdown",
   "metadata": {
    "slideshow": {
     "slide_type": "subslide"
    }
   },
   "source": [
    "### Using Jupyter Online\n",
    "\n",
    "If you have access to a cloud-based solution for Jupyter, then that is typically an easy solution\n",
    "\n",
    "- Students: ask your department if these resources are available  \n",
    "- Universities and workgroups: email [contact@quantecon.org](mailto:contact@quantecon.org\") for\n",
    "  help on setting up a shared JupyterHub instance with precompiled packages ready for these lecture notes  \n",
    "- [JuliaBox](http://www.juliabox.com)  tightly controls allowed packages, and **does not** currently support the QuantEcon lectures  \n",
    "\n",
    "\n",
    "If you are using an online Jupyter installation for a class, you may not need to do anything to begin using these notebooks\n",
    "\n",
    "Otherwise, if there are errors when you attempt to use an online JupyterHub, you will need to go open a Jupyter notebook and type"
   ]
  },
  {
   "cell_type": "markdown",
   "metadata": {},
   "source": [
    "### Installing a Pre-built Jupyter Image\n",
    "\n",
    "[Docker](https://www.docker.com/) is a technology that you use to host\n",
    "a “[virtual](https://en.wikipedia.org/wiki/Operating-system-level_virtualization)”\n",
    "version of a software setup on another computer\n",
    "\n",
    "While it is largely used for running code in the cloud, it is also convenient for using on local computers\n",
    "\n",
    "QuantEcon has constructed a pre-built [docker image](https://hub.docker.com/u/quantecon/)\n",
    "\n",
    "For instructions on how to set this up, see the [tools and editors](https://lectures.quantecon.org/jl/tools_editors.html#) lecture\n",
    "\n",
    "**Note:** The Docker installation is easy and complete, but it has limitations\n",
    "on operating systems (in particular, Windows 10 is only supported for the Professional\n",
    "and Education editions, and not the Home edition)"
   ]
  }
 ],
 "metadata": {
  "celltoolbar": "Slideshow",
  "filename": "getting_started.rst",
  "kernelspec": {
   "display_name": "Julia 1.1.0",
   "language": "julia",
   "name": "julia-1.1"
  },
  "language_info": {
   "file_extension": ".jl",
   "mimetype": "application/julia",
   "name": "julia",
   "version": "1.1.0"
  },
  "title": "Setting up Your Julia Environment"
 },
 "nbformat": 4,
 "nbformat_minor": 2
}
