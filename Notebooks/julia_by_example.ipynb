{
 "cells": [
  {
   "cell_type": "markdown",
   "metadata": {
    "slideshow": {
     "slide_type": "slide"
    }
   },
   "source": [
    "# Introductory Examples\n",
    "##### (CMS revise version for Julia v1.3)"
   ]
  },
  {
   "cell_type": "markdown",
   "metadata": {
    "slideshow": {
     "slide_type": "slide"
    }
   },
   "source": [
    "## Contents\n",
    "\n",
    "- [Introductory Examples](#Introductory-Examples)  \n",
    "  - [Overview](#Overview)  \n",
    "  - [Example: Plotting a White Noise Process](#Example:-Plotting-a-White-Noise-Process)  \n",
    "  - [Example: Variations on Fixed Points](#Example:-Variations-on-Fixed-Points)  \n",
    " \n",
    " \n",
    "**This is lecture is a slightly modified version of https://lectures.quantecon.org/jl/julia_by_example.html**\n",
    "**Thank you to the amazing Quantecon.org team!**"
   ]
  },
  {
   "cell_type": "markdown",
   "metadata": {
    "slideshow": {
     "slide_type": "slide"
    }
   },
   "source": [
    "### Level\n",
    "\n",
    "We are now ready to start learning Julia!\n",
    "\n",
    "Our approach is aimed at those who already have at least some knowledge of programming — perhaps experience with Python, MATLAB, Fortran, C or similar\n",
    "\n",
    "In particular, we assume you have some familiarity with fundamental programming concepts such as\n",
    "\n",
    "- variables  \n",
    "- arrays or vectors  \n",
    "- loops  \n",
    "- conditionals (if/else)  "
   ]
  },
  {
   "cell_type": "markdown",
   "metadata": {
    "slideshow": {
     "slide_type": "subslide"
    }
   },
   "source": [
    "### Approach\n",
    "\n",
    "In this lecture we will write and then pick apart small Julia programs\n",
    "\n",
    "At this stage the objective is to introduce you to basic syntax and data structures\n",
    "\n",
    "Deeper concepts—how things work—will be covered in later lectures\n",
    "\n",
    "Since we are looking for simplicity the examples are a little contrived\n",
    "\n",
    "In this lecture, we will often start with a direct MATLAB/FORTRAN approach which often is **poor coding style** in Julia, but then move towards more **elegant code** which is tightly connected to the mathematics"
   ]
  },
  {
   "cell_type": "markdown",
   "metadata": {
    "slideshow": {
     "slide_type": "subslide"
    }
   },
   "source": [
    "### Set Up\n",
    "\n",
    "We assume that you’ve worked your way through [our getting started lecture](https://lectures.quantecon.org/jl/getting_started.html#) already\n",
    "\n",
    "In particular, the easiest way to install and precompile all the Julia packages used in QuantEcon\n",
    "notes is to type `] add InstantiateFromURL` and then work in a Jupyter notebook, as described [here](https://lectures.quantecon.org/jl/getting_started.html#jl-jupyter)"
   ]
  },
  {
   "cell_type": "markdown",
   "metadata": {
    "slideshow": {
     "slide_type": "subslide"
    }
   },
   "source": [
    "### Other References\n",
    "\n",
    "The definitive reference is [Julia’s own documentation](https://docs.julialang.org/en/v1/)\n",
    "\n",
    "The manual is thoughtfully written but is also quite dense (and somewhat evangelical)\n",
    "\n",
    "The presentation in this and our remaining lectures is more of a tutorial style based around examples"
   ]
  },
  {
   "cell_type": "markdown",
   "metadata": {
    "slideshow": {
     "slide_type": "slide"
    }
   },
   "source": [
    "## Example: Plotting a White Noise Process\n",
    "\n",
    "To begin, let’s suppose that we want to simulate and plot the white noise\n",
    "process $ \\epsilon_0, \\epsilon_1, \\ldots, \\epsilon_T $, where each draw $ \\epsilon_t $ is independent standard normal"
   ]
  },
  {
   "cell_type": "markdown",
   "metadata": {
    "slideshow": {
     "slide_type": "subslide"
    }
   },
   "source": [
    "### Introduction to Packages\n",
    "\n",
    "The first step is to activate a project environment, which is encapsulated by `Project.toml` and `Manifest.toml` files\n",
    "\n",
    "There are three ways to install packages and versions (where the first two methods are discouraged, since they may lead to package versions out-of-sync with the notes)\n",
    "\n",
    "1. `add` the packages directly into your global installation (e.g. `Pkg.add(\"MyPackage\")` or `] add MyPackage`)  \n",
    "1. download an `Project.toml` and `Manifest.toml` file in the same directory as the notebook (i.e. from the `@__DIR__` argument), and then call `using Pkg; Pkg.activate(@__DIR__);`  \n",
    "1. use the `InstantiateFromURL` package  "
   ]
  },
  {
   "cell_type": "code",
   "execution_count": 1,
   "metadata": {
    "hide-output": false,
    "slideshow": {
     "slide_type": "subslide"
    }
   },
   "outputs": [],
   "source": [
    "#using InstantiateFromURL\n",
    "\n",
    "# activate the QuantEcon environment\n",
    "# activate_github(\"QuantEcon/QuantEconLecturePackages\", tag = \"v0.9.5\");"
   ]
  },
  {
   "cell_type": "markdown",
   "metadata": {
    "slideshow": {
     "slide_type": "subslide"
    }
   },
   "source": [
    "If you have never run this code on a particular computer, it is likely to take a long time as it downloads, installs, and compiles all dependent packages\n",
    "\n",
    "This code will download and install project files from GitHub, [QuantEcon/QuantEconLecturePackages](https://github.com/QuantEcon/QuantEconLecturePackages/)\n",
    "\n",
    "We will discuss it more in [Tools and Editors](https://lectures.quantecon.org/jl/tools_editors.html#tools-editors), but these files provide a listing of packages and versions used by the code\n",
    "\n",
    "This ensures that an environment for running code is **reproducible**, so that anyone can replicate the precise set of package and versions used in construction\n",
    "\n",
    "The careful selection of package versions is crucial for reproducibility, as otherwise your code can be broken by changes to packages out of your control\n",
    "\n",
    "After the installation and activation, `using` provides a way to say that a particular code or notebook will use the package"
   ]
  },
  {
   "cell_type": "code",
   "execution_count": 2,
   "metadata": {
    "hide-output": false,
    "slideshow": {
     "slide_type": "subslide"
    }
   },
   "outputs": [],
   "source": [
    "using LinearAlgebra, Statistics, Compat"
   ]
  },
  {
   "cell_type": "markdown",
   "metadata": {
    "slideshow": {
     "slide_type": "slide"
    }
   },
   "source": [
    "### Using Functions from a Package\n",
    "\n",
    "Some functions are built into the base Julia, such as `randn`, which returns a single draw from a normal distibution with mean 0 and variance 1 if given no parameters"
   ]
  },
  {
   "cell_type": "code",
   "execution_count": 3,
   "metadata": {
    "hide-output": false,
    "slideshow": {
     "slide_type": "subslide"
    }
   },
   "outputs": [
    {
     "data": {
      "text/plain": [
       "-1.1487888956197125"
      ]
     },
     "execution_count": 3,
     "metadata": {},
     "output_type": "execute_result"
    }
   ],
   "source": [
    "randn()"
   ]
  },
  {
   "cell_type": "code",
   "execution_count": 4,
   "metadata": {
    "hide-output": false,
    "slideshow": {
     "slide_type": "subslide"
    }
   },
   "outputs": [
    {
     "data": {
      "image/svg+xml": [
       "<?xml version=\"1.0\" encoding=\"utf-8\"?>\n",
       "<svg xmlns=\"http://www.w3.org/2000/svg\" xmlns:xlink=\"http://www.w3.org/1999/xlink\" width=\"600\" height=\"400\" viewBox=\"0 0 2400 1600\">\n",
       "<defs>\n",
       "  <clipPath id=\"clip4900\">\n",
       "    <rect x=\"0\" y=\"0\" width=\"2400\" height=\"1600\"/>\n",
       "  </clipPath>\n",
       "</defs>\n",
       "<path clip-path=\"url(#clip4900)\" d=\"\n",
       "M0 1600 L2400 1600 L2400 0 L0 0  Z\n",
       "  \" fill=\"#ffffff\" fill-rule=\"evenodd\" fill-opacity=\"1\"/>\n",
       "<defs>\n",
       "  <clipPath id=\"clip4901\">\n",
       "    <rect x=\"480\" y=\"0\" width=\"1681\" height=\"1600\"/>\n",
       "  </clipPath>\n",
       "</defs>\n",
       "<path clip-path=\"url(#clip4900)\" d=\"\n",
       "M141.865 1487.47 L2352.76 1487.47 L2352.76 47.2441 L141.865 47.2441  Z\n",
       "  \" fill=\"#ffffff\" fill-rule=\"evenodd\" fill-opacity=\"1\"/>\n",
       "<defs>\n",
       "  <clipPath id=\"clip4902\">\n",
       "    <rect x=\"141\" y=\"47\" width=\"2212\" height=\"1441\"/>\n",
       "  </clipPath>\n",
       "</defs>\n",
       "<polyline clip-path=\"url(#clip4902)\" style=\"stroke:#000000; stroke-width:2; stroke-opacity:0.1; fill:none\" points=\"\n",
       "  183.369,1487.47 183.369,47.2441 \n",
       "  \"/>\n",
       "<polyline clip-path=\"url(#clip4902)\" style=\"stroke:#000000; stroke-width:2; stroke-opacity:0.1; fill:none\" points=\"\n",
       "  710.072,1487.47 710.072,47.2441 \n",
       "  \"/>\n",
       "<polyline clip-path=\"url(#clip4902)\" style=\"stroke:#000000; stroke-width:2; stroke-opacity:0.1; fill:none\" points=\"\n",
       "  1236.78,1487.47 1236.78,47.2441 \n",
       "  \"/>\n",
       "<polyline clip-path=\"url(#clip4902)\" style=\"stroke:#000000; stroke-width:2; stroke-opacity:0.1; fill:none\" points=\"\n",
       "  1763.48,1487.47 1763.48,47.2441 \n",
       "  \"/>\n",
       "<polyline clip-path=\"url(#clip4902)\" style=\"stroke:#000000; stroke-width:2; stroke-opacity:0.1; fill:none\" points=\"\n",
       "  2290.18,1487.47 2290.18,47.2441 \n",
       "  \"/>\n",
       "<polyline clip-path=\"url(#clip4902)\" style=\"stroke:#000000; stroke-width:2; stroke-opacity:0.1; fill:none\" points=\"\n",
       "  141.865,1208.94 2352.76,1208.94 \n",
       "  \"/>\n",
       "<polyline clip-path=\"url(#clip4902)\" style=\"stroke:#000000; stroke-width:2; stroke-opacity:0.1; fill:none\" points=\"\n",
       "  141.865,872.377 2352.76,872.377 \n",
       "  \"/>\n",
       "<polyline clip-path=\"url(#clip4902)\" style=\"stroke:#000000; stroke-width:2; stroke-opacity:0.1; fill:none\" points=\"\n",
       "  141.865,535.819 2352.76,535.819 \n",
       "  \"/>\n",
       "<polyline clip-path=\"url(#clip4902)\" style=\"stroke:#000000; stroke-width:2; stroke-opacity:0.1; fill:none\" points=\"\n",
       "  141.865,199.261 2352.76,199.261 \n",
       "  \"/>\n",
       "<polyline clip-path=\"url(#clip4900)\" style=\"stroke:#000000; stroke-width:4; stroke-opacity:1; fill:none\" points=\"\n",
       "  141.865,1487.47 2352.76,1487.47 \n",
       "  \"/>\n",
       "<polyline clip-path=\"url(#clip4900)\" style=\"stroke:#000000; stroke-width:4; stroke-opacity:1; fill:none\" points=\"\n",
       "  141.865,1487.47 141.865,47.2441 \n",
       "  \"/>\n",
       "<polyline clip-path=\"url(#clip4900)\" style=\"stroke:#000000; stroke-width:4; stroke-opacity:1; fill:none\" points=\"\n",
       "  183.369,1487.47 183.369,1465.87 \n",
       "  \"/>\n",
       "<polyline clip-path=\"url(#clip4900)\" style=\"stroke:#000000; stroke-width:4; stroke-opacity:1; fill:none\" points=\"\n",
       "  710.072,1487.47 710.072,1465.87 \n",
       "  \"/>\n",
       "<polyline clip-path=\"url(#clip4900)\" style=\"stroke:#000000; stroke-width:4; stroke-opacity:1; fill:none\" points=\"\n",
       "  1236.78,1487.47 1236.78,1465.87 \n",
       "  \"/>\n",
       "<polyline clip-path=\"url(#clip4900)\" style=\"stroke:#000000; stroke-width:4; stroke-opacity:1; fill:none\" points=\"\n",
       "  1763.48,1487.47 1763.48,1465.87 \n",
       "  \"/>\n",
       "<polyline clip-path=\"url(#clip4900)\" style=\"stroke:#000000; stroke-width:4; stroke-opacity:1; fill:none\" points=\"\n",
       "  2290.18,1487.47 2290.18,1465.87 \n",
       "  \"/>\n",
       "<polyline clip-path=\"url(#clip4900)\" style=\"stroke:#000000; stroke-width:4; stroke-opacity:1; fill:none\" points=\"\n",
       "  141.865,1208.94 175.028,1208.94 \n",
       "  \"/>\n",
       "<polyline clip-path=\"url(#clip4900)\" style=\"stroke:#000000; stroke-width:4; stroke-opacity:1; fill:none\" points=\"\n",
       "  141.865,872.377 175.028,872.377 \n",
       "  \"/>\n",
       "<polyline clip-path=\"url(#clip4900)\" style=\"stroke:#000000; stroke-width:4; stroke-opacity:1; fill:none\" points=\"\n",
       "  141.865,535.819 175.028,535.819 \n",
       "  \"/>\n",
       "<polyline clip-path=\"url(#clip4900)\" style=\"stroke:#000000; stroke-width:4; stroke-opacity:1; fill:none\" points=\"\n",
       "  141.865,199.261 175.028,199.261 \n",
       "  \"/>\n",
       "<g clip-path=\"url(#clip4900)\">\n",
       "<text style=\"fill:#000000; fill-opacity:1; font-family:Arial,Helvetica Neue,Helvetica,sans-serif; font-size:48px; text-anchor:middle;\" transform=\"rotate(0, 183.369, 1541.47)\" x=\"183.369\" y=\"1541.47\">0</text>\n",
       "</g>\n",
       "<g clip-path=\"url(#clip4900)\">\n",
       "<text style=\"fill:#000000; fill-opacity:1; font-family:Arial,Helvetica Neue,Helvetica,sans-serif; font-size:48px; text-anchor:middle;\" transform=\"rotate(0, 710.072, 1541.47)\" x=\"710.072\" y=\"1541.47\">25</text>\n",
       "</g>\n",
       "<g clip-path=\"url(#clip4900)\">\n",
       "<text style=\"fill:#000000; fill-opacity:1; font-family:Arial,Helvetica Neue,Helvetica,sans-serif; font-size:48px; text-anchor:middle;\" transform=\"rotate(0, 1236.78, 1541.47)\" x=\"1236.78\" y=\"1541.47\">50</text>\n",
       "</g>\n",
       "<g clip-path=\"url(#clip4900)\">\n",
       "<text style=\"fill:#000000; fill-opacity:1; font-family:Arial,Helvetica Neue,Helvetica,sans-serif; font-size:48px; text-anchor:middle;\" transform=\"rotate(0, 1763.48, 1541.47)\" x=\"1763.48\" y=\"1541.47\">75</text>\n",
       "</g>\n",
       "<g clip-path=\"url(#clip4900)\">\n",
       "<text style=\"fill:#000000; fill-opacity:1; font-family:Arial,Helvetica Neue,Helvetica,sans-serif; font-size:48px; text-anchor:middle;\" transform=\"rotate(0, 2290.18, 1541.47)\" x=\"2290.18\" y=\"1541.47\">100</text>\n",
       "</g>\n",
       "<g clip-path=\"url(#clip4900)\">\n",
       "<text style=\"fill:#000000; fill-opacity:1; font-family:Arial,Helvetica Neue,Helvetica,sans-serif; font-size:48px; text-anchor:end;\" transform=\"rotate(0, 117.865, 1226.44)\" x=\"117.865\" y=\"1226.44\">-1</text>\n",
       "</g>\n",
       "<g clip-path=\"url(#clip4900)\">\n",
       "<text style=\"fill:#000000; fill-opacity:1; font-family:Arial,Helvetica Neue,Helvetica,sans-serif; font-size:48px; text-anchor:end;\" transform=\"rotate(0, 117.865, 889.877)\" x=\"117.865\" y=\"889.877\">0</text>\n",
       "</g>\n",
       "<g clip-path=\"url(#clip4900)\">\n",
       "<text style=\"fill:#000000; fill-opacity:1; font-family:Arial,Helvetica Neue,Helvetica,sans-serif; font-size:48px; text-anchor:end;\" transform=\"rotate(0, 117.865, 553.319)\" x=\"117.865\" y=\"553.319\">1</text>\n",
       "</g>\n",
       "<g clip-path=\"url(#clip4900)\">\n",
       "<text style=\"fill:#000000; fill-opacity:1; font-family:Arial,Helvetica Neue,Helvetica,sans-serif; font-size:48px; text-anchor:end;\" transform=\"rotate(0, 117.865, 216.761)\" x=\"117.865\" y=\"216.761\">2</text>\n",
       "</g>\n",
       "<polyline clip-path=\"url(#clip4902)\" style=\"stroke:#009af9; stroke-width:4; stroke-opacity:1; fill:none\" points=\"\n",
       "  204.437,993.829 225.505,901.694 246.573,1349.27 267.641,1446.71 288.71,766.237 309.778,452.578 330.846,1125.72 351.914,574.672 372.982,756.442 394.05,853.24 \n",
       "  415.118,883.13 436.187,911.864 457.255,829.868 478.323,1129.53 499.391,982.523 520.459,1177.82 541.527,871.759 562.595,645.666 583.664,810.511 604.732,382.158 \n",
       "  625.8,1052.67 646.868,531.24 667.936,1266.13 689.004,590.859 710.072,714.507 731.141,857.123 752.209,996.882 773.277,465.829 794.345,606.65 815.413,873.26 \n",
       "  836.481,966.105 857.55,569.308 878.618,685.597 899.686,1347.58 920.754,830.44 941.822,1304.63 962.89,758.118 983.958,787.38 1005.03,861.701 1026.09,723.04 \n",
       "  1047.16,1008.54 1068.23,758.548 1089.3,500.402 1110.37,727.14 1131.44,1233.86 1152.5,135.027 1173.57,229.15 1194.64,737.327 1215.71,1003.55 1236.78,491.306 \n",
       "  1257.84,878.929 1278.91,1160.36 1299.98,1171.12 1321.05,1117.7 1342.12,254.573 1363.19,917.632 1384.25,729.782 1405.32,652.185 1426.39,797.926 1447.46,1363.83 \n",
       "  1468.53,764.75 1489.59,733.616 1510.66,797.56 1531.73,629.395 1552.8,1010.85 1573.87,1225.56 1594.93,909.346 1616,1284.58 1637.07,701.337 1658.14,285.991 \n",
       "  1679.21,662.84 1700.28,554.584 1721.34,480.375 1742.41,654.659 1763.48,714.448 1784.55,342.004 1805.62,900.773 1826.68,558.234 1847.75,1087.36 1868.82,1031.47 \n",
       "  1889.89,399.426 1910.96,958.222 1932.03,776.384 1953.09,914.516 1974.16,1168.9 1995.23,486.183 2016.3,1281.54 2037.37,790.447 2058.43,510.204 2079.5,483.019 \n",
       "  2100.57,1097.98 2121.64,1003.37 2142.71,169.688 2163.77,848.608 2184.84,1020.6 2205.91,461.921 2226.98,895.403 2248.05,1223.42 2269.12,88.0053 2290.18,736.934 \n",
       "  \n",
       "  \"/>\n",
       "<path clip-path=\"url(#clip4900)\" d=\"\n",
       "M1989.93 251.724 L2280.76 251.724 L2280.76 130.764 L1989.93 130.764  Z\n",
       "  \" fill=\"#ffffff\" fill-rule=\"evenodd\" fill-opacity=\"1\"/>\n",
       "<polyline clip-path=\"url(#clip4900)\" style=\"stroke:#000000; stroke-width:4; stroke-opacity:1; fill:none\" points=\"\n",
       "  1989.93,251.724 2280.76,251.724 2280.76,130.764 1989.93,130.764 1989.93,251.724 \n",
       "  \"/>\n",
       "<polyline clip-path=\"url(#clip4900)\" style=\"stroke:#009af9; stroke-width:4; stroke-opacity:1; fill:none\" points=\"\n",
       "  2013.93,191.244 2157.93,191.244 \n",
       "  \"/>\n",
       "<g clip-path=\"url(#clip4900)\">\n",
       "<text style=\"fill:#000000; fill-opacity:1; font-family:Arial,Helvetica Neue,Helvetica,sans-serif; font-size:48px; text-anchor:start;\" transform=\"rotate(0, 2181.93, 208.744)\" x=\"2181.93\" y=\"208.744\">y1</text>\n",
       "</g>\n",
       "</svg>\n"
      ]
     },
     "execution_count": 4,
     "metadata": {},
     "output_type": "execute_result"
    }
   ],
   "source": [
    "# Other functions require importing all of the names from an external library\n",
    "using Plots\n",
    "gr()\n",
    "n = 100\n",
    "ϵ = randn(n)\n",
    "plot(1:n, ϵ)"
   ]
  },
  {
   "cell_type": "markdown",
   "metadata": {
    "slideshow": {
     "slide_type": "subslide"
    }
   },
   "source": [
    "Let’s break this down and see how it works:\n",
    "\n",
    "* The effect of the statement `using Plots` is to make all the names exported by the `Plots` module available\n",
    "* Because we used `Pkg.activate` previously, it will use whatever version of `Plots.jl` that was specified in the `Project.toml` and `Manifest.toml` files\n",
    "* The other packages `LinearAlgebra` and `Statistics` are base Julia libraries, but require an explicit using\n",
    "* The arguments to `plot` are the numbers `1,2, ..., n` for the x-axis, a vector `ϵ` for the y-axis, and (optional) settings\n",
    "* The function `randn(n)` returns a column vector `n` random draws from a normal distribution with mean 0 and variance 1"
   ]
  },
  {
   "cell_type": "markdown",
   "metadata": {
    "slideshow": {
     "slide_type": "slide"
    }
   },
   "source": [
    "### Arrays\n",
    "\n",
    "As a language intended for mathematical and scientific computing, Julia has\n",
    "strong support for using unicode characters\n",
    "\n",
    "In the above case, the `ϵ` and many other symbols can be typed in most Julia editor by providing the LaTeX and `<TAB>`, i.e. `\\epsilon<TAB>`\n",
    "\n",
    "The return type is one of the most fundamental Julia data types: an array"
   ]
  },
  {
   "cell_type": "code",
   "execution_count": 5,
   "metadata": {
    "hide-output": false,
    "slideshow": {
     "slide_type": "subslide"
    }
   },
   "outputs": [
    {
     "data": {
      "text/plain": [
       "Array{Float64,1}"
      ]
     },
     "execution_count": 5,
     "metadata": {},
     "output_type": "execute_result"
    }
   ],
   "source": [
    "typeof(ϵ)"
   ]
  },
  {
   "cell_type": "code",
   "execution_count": 6,
   "metadata": {
    "hide-output": false,
    "slideshow": {
     "slide_type": "subslide"
    }
   },
   "outputs": [
    {
     "data": {
      "text/plain": [
       "5-element Array{Float64,1}:\n",
       " -0.3608635828288956 \n",
       " -0.08710774991589583\n",
       " -1.416975967297102  \n",
       " -1.706498605491414  \n",
       "  0.31536896454230956"
      ]
     },
     "execution_count": 6,
     "metadata": {},
     "output_type": "execute_result"
    }
   ],
   "source": [
    "ϵ[1:5]"
   ]
  },
  {
   "cell_type": "markdown",
   "metadata": {
    "slideshow": {
     "slide_type": "subslide"
    }
   },
   "source": [
    "The information from `typeof()` tells us that `ϵ` is an array of 64 bit floating point values, of dimension 1\n",
    "\n",
    "In Julia, one-dimensional arrays are interpreted as column vectors for purposes of linear algebra\n",
    "\n",
    "The `ϵ[1:5]` returns an array of the first 5 elements of `ϵ`\n",
    "\n",
    "Notice from the above that\n",
    "\n",
    "- array indices start at 1 (like MATLAB and Fortran, but unlike Python and C)  \n",
    "- array elements are referenced using square brackets (unlike MATLAB and Fortran)  \n",
    "\n",
    "\n",
    "To get **help and examples** in Jupyter or other julia editor, use the `?` before a function name or syntax"
   ]
  },
  {
   "cell_type": "markdown",
   "metadata": {
    "hide-output": false,
    "slideshow": {
     "slide_type": "subslide"
    }
   },
   "source": [
    "```julia\n",
    "?typeof\n",
    "\n",
    "search: typeof typejoin TypeError\n",
    "\n",
    "Get the concrete type of x.\n",
    "\n",
    "Examples\n",
    "\n",
    "julia> a = 1//2;\n",
    "\n",
    "julia> typeof(a)\n",
    "Rational{Int64}\n",
    "\n",
    "julia> M = [1 2; 3.5 4];\n",
    "\n",
    "julia> typeof(M)\n",
    "Array{Float64,2}\n",
    "```\n"
   ]
  },
  {
   "cell_type": "markdown",
   "metadata": {
    "slideshow": {
     "slide_type": "slide"
    }
   },
   "source": [
    "### For Loops\n",
    "\n",
    "Although there’s no need in terms of what we wanted to achieve with our\n",
    "program, for the sake of learning syntax let’s rewrite our program to use a\n",
    "`for` loop for generating the data\n",
    "\n",
    ">**Note**\n",
    ">\n",
    ">In the current version of Julia v1.0, the rules for variables accessed in `for` and `while` loops can be sensitive to how they are used (and variables can sometimes require a `global` as part of the declaration).  We strongly advise you to avoid top level (i.e. in the REPL or outside of functions) `for` and `while` loops outside of Jupyter notebooks.  This issue does not apply when used within functions\n",
    "\n",
    "Starting with the most direct version, and pretending we are in a world where `randn` can only return a single value"
   ]
  },
  {
   "cell_type": "code",
   "execution_count": 7,
   "metadata": {
    "hide-output": false,
    "slideshow": {
     "slide_type": "subslide"
    }
   },
   "outputs": [
    {
     "name": "stdout",
     "output_type": "stream",
     "text": [
      "[-0.30815435083312737, 0.02426292233857655, 0.615253151696944, -1.3940291429800995, 0.13440227479242972, 0.43225591874258806, -0.5136366171206908, 0.05292697602824824, -0.5661727951362692, 1.1151780914464418, -0.24784028296528818, -2.4928402873471045, 0.4195432753539271, -1.4533155201932828, 1.2934205531380938, 0.6781271486730983, 0.091961670765624, 0.8381454649148846, 0.7796148180458423, -0.3097041385682623, 0.2542285728712798, -1.1623932342612007, -1.2746228067750793, -1.4362990903921014, 0.2152814689091812, 0.15831116090317562, 0.8269208655502857, -0.7702562898208652, -0.5223888852444695, -1.293257805072937, -0.9864815780698514, -0.3606510500453297, 1.2706126399292148, 0.016821797744042768, -0.03154975083701419, 1.1300558967898306, -0.5553053936173132, -0.1562771615256552, 0.10744395568893617, -0.7068325303217645, -0.052773185345403914, 0.17109957623140293, -1.0721611793825105, -1.7204809429220262, -0.8230949892176541, 1.8894642813447806, 0.629646329239019, -0.17917011213077055, 2.067543229260119, -0.14073553504598021, -0.14412631663957468, -0.8255006142467441, 0.9798789046791085, 1.202289391890049, 0.32845623308359456, -0.912555306577757, -1.4903322531481957, -0.2674238598718943, -1.1136017208556734, -0.273138409696701, -1.1890734340651443, -1.3463843811015472, 0.1122338998116031, -0.35550573729571877, 0.15687004158430135, 0.10851510093133586, 0.8216627934140627, -2.059847576149282, 0.014944641681499001, 0.6924289056810071, -2.6797616657501058, -2.266763176101336, 0.7093273307352757, 1.1501741540328998, 0.8000973261988643, -0.6106279751737539, -1.6802036414756243, -2.0519977494569535, -0.2782802711038282, 1.2669316727854183, 1.1293697189646439, -1.5914712736164145, 0.28451366918618587, -1.299792617021147, 0.13104551129014705, 1.26215661847093, -1.4412782973788953, -0.17987191381467296, -0.5293275830044714, -0.4490952532659069, 0.7104601298030679, 0.5508697756167947, 0.9367819760839153, 2.1516059569244055, -0.6408024135475817, 1.1916860356800603, 0.9607329699967216, -0.48498499892630814, 0.6300526563348312, -0.0520491413853623]\n"
     ]
    }
   ],
   "source": [
    "# poor style\n",
    "n = 100\n",
    "ϵ = zeros(n)\n",
    "for i in 1:n\n",
    "    ϵ[i] = randn()\n",
    "end\n",
    "println(ϵ)"
   ]
  },
  {
   "cell_type": "markdown",
   "metadata": {
    "slideshow": {
     "slide_type": "subslide"
    }
   },
   "source": [
    "* Here we first declared `ϵ` to be a vector of `n` numbers, initialized by the floating point `0.0`\n",
    "* The `for` loop then populates this array by successive calls to `randn()`\n",
    "* Like all code blocks in Julia, the end of the `for` loop code block (which is just one line here) is indicated by the keyword `end`\n",
    "* The word `in` from the `for` loop can be replaced by either `∈` or `=`\n",
    "* The index variable is looped over for all integers from `1:n` – but this does not actually create a vector of those indices\n",
    "* Instead, it creates an **iterator** that is looped over – in this case the **range** of integers from `1` to `n`\n",
    "* While this example successfully fills in `ϵ` with the correct values, it is very indirect as the connection between the index `i` and the `ϵ` vector is unclear\n",
    "* To fix this, use `eachindex`"
   ]
  },
  {
   "cell_type": "code",
   "execution_count": 8,
   "metadata": {
    "hide-output": false,
    "slideshow": {
     "slide_type": "subslide"
    }
   },
   "outputs": [
    {
     "name": "stdout",
     "output_type": "stream",
     "text": [
      "[0.4646291730126219, -0.8432503784771712, 0.2738409491054763, 0.343594848937201, 0.01911117336446484, 1.4753932055039753, -0.933730472578213, -2.089211862250145, -1.4315283589419971, 0.5612118122735503, 1.7453137831634533, 1.899401319712275, 0.09883108222064778, -1.87446683328077, 1.0581432045707448, 2.178180486195132, 1.502687071792402, 0.8542202368512711, 0.5891523802478491, 0.40103855393505494, -0.31288965774587557, 1.3500053607878557, -1.1261415853650643, 0.2367034675701962, 0.08957852925980897, -1.6611245725584387, -0.42389549311633395, -1.6658924227481653, 1.0423613604729915, -1.2504775965219757, -0.260892546789619, 1.1780567396823798, 0.7059868361513896, -0.5270459372643019, -1.0052824256727833, 0.1791282531510668, 1.3701645396538895, 0.7962035880861759, -0.23640169483015522, -0.6801932851436712, 0.499162232751448, 1.3991310503368248, 0.7814001993765615, 0.9934475519182419, -0.801572084059252, -1.8685297203037903, -0.1854108723663389, -2.176283939564053, 0.24776883434157762, 1.170611373873387, -1.6250363691401835, -0.7087033908862421, -1.123867292066476, -1.2931341634642342, 1.8045764306451162, 0.5634761436117647, 0.23139888107058162, -0.07113217546181684, 0.6136810585741377, 1.471913857015736, -2.243363242649479, 1.1623853420782386, -0.684343746010731, 0.11977547949335807, -0.35046775649318895, 1.2457094193988276, 1.2572168870099334, -0.13526408727783906, 0.3275701578717554, -0.35320039192167385, 0.2641115192211678, -0.154375769534323, -0.8142865187150424, 0.46103868897177747, 1.431304297938316, 1.2111836660241266, -0.8294794363575057, -0.5538803083880655, -1.3840063242603688, -1.1801186769472658, 0.6007258545371206, 0.3184721815558555, 0.3921489008560035, -0.3267435066415791, -0.6948725273285367, 1.1974857859243053, -1.378027413195794, -1.1602887039926748, 0.7380926651078488, -0.010157030121777762, 0.1273834377002879, 1.2251104556771781, -0.27089152760010726, -0.4614746831700812, 0.4955730545105568, -0.16899784068618706, 1.4396550980299236, 0.18615628637130835, 1.2218418038959982, -0.58438835992166]\n"
     ]
    }
   ],
   "source": [
    "# better style\n",
    "n = 100\n",
    "ϵ = zeros(n)\n",
    "for i in eachindex(ϵ)\n",
    "    ϵ[i] = randn()\n",
    "end\n",
    "println(ϵ)"
   ]
  },
  {
   "cell_type": "markdown",
   "metadata": {
    "slideshow": {
     "slide_type": "subslide"
    }
   },
   "source": [
    "Here, `eachindex(ϵ)` returns an iterator of indices which can be used to access `ϵ`\n",
    "\n",
    "While iterators are memory efficient because the elements are generated on the fly rather than stored in memory, the main benefit is (1) it can lead to code which is clearer and less prone to typos; and (2) it allows the compiler flexibility to creatively generate fast code\n",
    "\n",
    "In Julia you can also loop directly over arrays themselves, like so"
   ]
  },
  {
   "cell_type": "code",
   "execution_count": 9,
   "metadata": {
    "hide-output": false,
    "slideshow": {
     "slide_type": "subslide"
    }
   },
   "outputs": [
    {
     "data": {
      "text/plain": [
       "0.051585153188518564"
      ]
     },
     "execution_count": 9,
     "metadata": {},
     "output_type": "execute_result"
    }
   ],
   "source": [
    "ϵ_sum = 0.0 # careful to use 0.0 here, instead of 0\n",
    "m = 5\n",
    "for ϵ_val in ϵ[1:m]\n",
    "    ϵ_sum = ϵ_sum + ϵ_val\n",
    "end\n",
    "ϵ_mean = ϵ_sum / m"
   ]
  },
  {
   "cell_type": "markdown",
   "metadata": {
    "slideshow": {
     "slide_type": "subslide"
    }
   },
   "source": [
    "where `ϵ[1:m]` returns the elements of the vector at indices `1` to `m`\n",
    "\n",
    "Of course, in Julia there are built in functions to perform this calculation which we can compare against"
   ]
  },
  {
   "cell_type": "code",
   "execution_count": 10,
   "metadata": {
    "hide-output": false,
    "slideshow": {
     "slide_type": "subslide"
    }
   },
   "outputs": [
    {
     "data": {
      "text/plain": [
       "true"
      ]
     },
     "execution_count": 10,
     "metadata": {},
     "output_type": "execute_result"
    }
   ],
   "source": [
    "ϵ_mean ≈ mean(ϵ[1:m])\n",
    "ϵ_mean ≈ sum(ϵ[1:m]) / m"
   ]
  },
  {
   "cell_type": "markdown",
   "metadata": {
    "slideshow": {
     "slide_type": "subslide"
    }
   },
   "source": [
    "In these examples, note the use of `≈` to test equality, rather than `==`, which is appropriate for integers and other types\n",
    "\n",
    "Approximately equal, typed with `\\approx<TAB>`, is the appropriate way to compare any floating point numbers due to the standard issues of [floating point math](https://floating-point-gui.de/)\n",
    "\n",
    "\n",
    "<a id='user-defined-functions'></a>"
   ]
  },
  {
   "cell_type": "markdown",
   "metadata": {
    "slideshow": {
     "slide_type": "subslide"
    }
   },
   "source": [
    "### User-Defined Functions\n",
    "\n",
    "For the sake of the exercise, let’s go back to the `for` loop but restructure our program so that generation of random variables takes place within a user-defined function\n",
    "\n",
    "To make things more interesting, instead of directly plotting the draws from the distribution, let’s plot the squares of these draws"
   ]
  },
  {
   "cell_type": "code",
   "execution_count": 11,
   "metadata": {
    "hide-output": false,
    "slideshow": {
     "slide_type": "subslide"
    }
   },
   "outputs": [
    {
     "data": {
      "image/svg+xml": [
       "<?xml version=\"1.0\" encoding=\"utf-8\"?>\n",
       "<svg xmlns=\"http://www.w3.org/2000/svg\" xmlns:xlink=\"http://www.w3.org/1999/xlink\" width=\"600\" height=\"400\" viewBox=\"0 0 2400 1600\">\n",
       "<defs>\n",
       "  <clipPath id=\"clip5300\">\n",
       "    <rect x=\"0\" y=\"0\" width=\"2400\" height=\"1600\"/>\n",
       "  </clipPath>\n",
       "</defs>\n",
       "<path clip-path=\"url(#clip5300)\" d=\"\n",
       "M0 1600 L2400 1600 L2400 0 L0 0  Z\n",
       "  \" fill=\"#ffffff\" fill-rule=\"evenodd\" fill-opacity=\"1\"/>\n",
       "<defs>\n",
       "  <clipPath id=\"clip5301\">\n",
       "    <rect x=\"480\" y=\"0\" width=\"1681\" height=\"1600\"/>\n",
       "  </clipPath>\n",
       "</defs>\n",
       "<path clip-path=\"url(#clip5300)\" d=\"\n",
       "M113.754 1487.47 L2352.76 1487.47 L2352.76 47.2441 L113.754 47.2441  Z\n",
       "  \" fill=\"#ffffff\" fill-rule=\"evenodd\" fill-opacity=\"1\"/>\n",
       "<defs>\n",
       "  <clipPath id=\"clip5302\">\n",
       "    <rect x=\"113\" y=\"47\" width=\"2240\" height=\"1441\"/>\n",
       "  </clipPath>\n",
       "</defs>\n",
       "<polyline clip-path=\"url(#clip5302)\" style=\"stroke:#000000; stroke-width:2; stroke-opacity:0.1; fill:none\" points=\"\n",
       "  411.819,1487.47 411.819,47.2441 \n",
       "  \"/>\n",
       "<polyline clip-path=\"url(#clip5302)\" style=\"stroke:#000000; stroke-width:2; stroke-opacity:0.1; fill:none\" points=\"\n",
       "  881.211,1487.47 881.211,47.2441 \n",
       "  \"/>\n",
       "<polyline clip-path=\"url(#clip5302)\" style=\"stroke:#000000; stroke-width:2; stroke-opacity:0.1; fill:none\" points=\"\n",
       "  1350.6,1487.47 1350.6,47.2441 \n",
       "  \"/>\n",
       "<polyline clip-path=\"url(#clip5302)\" style=\"stroke:#000000; stroke-width:2; stroke-opacity:0.1; fill:none\" points=\"\n",
       "  1820,1487.47 1820,47.2441 \n",
       "  \"/>\n",
       "<polyline clip-path=\"url(#clip5302)\" style=\"stroke:#000000; stroke-width:2; stroke-opacity:0.1; fill:none\" points=\"\n",
       "  2289.39,1487.47 2289.39,47.2441 \n",
       "  \"/>\n",
       "<polyline clip-path=\"url(#clip5302)\" style=\"stroke:#000000; stroke-width:2; stroke-opacity:0.1; fill:none\" points=\"\n",
       "  113.754,1234.32 2352.76,1234.32 \n",
       "  \"/>\n",
       "<polyline clip-path=\"url(#clip5302)\" style=\"stroke:#000000; stroke-width:2; stroke-opacity:0.1; fill:none\" points=\"\n",
       "  113.754,958.186 2352.76,958.186 \n",
       "  \"/>\n",
       "<polyline clip-path=\"url(#clip5302)\" style=\"stroke:#000000; stroke-width:2; stroke-opacity:0.1; fill:none\" points=\"\n",
       "  113.754,682.05 2352.76,682.05 \n",
       "  \"/>\n",
       "<polyline clip-path=\"url(#clip5302)\" style=\"stroke:#000000; stroke-width:2; stroke-opacity:0.1; fill:none\" points=\"\n",
       "  113.754,405.915 2352.76,405.915 \n",
       "  \"/>\n",
       "<polyline clip-path=\"url(#clip5302)\" style=\"stroke:#000000; stroke-width:2; stroke-opacity:0.1; fill:none\" points=\"\n",
       "  113.754,129.779 2352.76,129.779 \n",
       "  \"/>\n",
       "<polyline clip-path=\"url(#clip5300)\" style=\"stroke:#000000; stroke-width:4; stroke-opacity:1; fill:none\" points=\"\n",
       "  113.754,1487.47 2352.76,1487.47 \n",
       "  \"/>\n",
       "<polyline clip-path=\"url(#clip5300)\" style=\"stroke:#000000; stroke-width:4; stroke-opacity:1; fill:none\" points=\"\n",
       "  113.754,1487.47 113.754,47.2441 \n",
       "  \"/>\n",
       "<polyline clip-path=\"url(#clip5300)\" style=\"stroke:#000000; stroke-width:4; stroke-opacity:1; fill:none\" points=\"\n",
       "  411.819,1487.47 411.819,1465.87 \n",
       "  \"/>\n",
       "<polyline clip-path=\"url(#clip5300)\" style=\"stroke:#000000; stroke-width:4; stroke-opacity:1; fill:none\" points=\"\n",
       "  881.211,1487.47 881.211,1465.87 \n",
       "  \"/>\n",
       "<polyline clip-path=\"url(#clip5300)\" style=\"stroke:#000000; stroke-width:4; stroke-opacity:1; fill:none\" points=\"\n",
       "  1350.6,1487.47 1350.6,1465.87 \n",
       "  \"/>\n",
       "<polyline clip-path=\"url(#clip5300)\" style=\"stroke:#000000; stroke-width:4; stroke-opacity:1; fill:none\" points=\"\n",
       "  1820,1487.47 1820,1465.87 \n",
       "  \"/>\n",
       "<polyline clip-path=\"url(#clip5300)\" style=\"stroke:#000000; stroke-width:4; stroke-opacity:1; fill:none\" points=\"\n",
       "  2289.39,1487.47 2289.39,1465.87 \n",
       "  \"/>\n",
       "<polyline clip-path=\"url(#clip5300)\" style=\"stroke:#000000; stroke-width:4; stroke-opacity:1; fill:none\" points=\"\n",
       "  113.754,1234.32 147.339,1234.32 \n",
       "  \"/>\n",
       "<polyline clip-path=\"url(#clip5300)\" style=\"stroke:#000000; stroke-width:4; stroke-opacity:1; fill:none\" points=\"\n",
       "  113.754,958.186 147.339,958.186 \n",
       "  \"/>\n",
       "<polyline clip-path=\"url(#clip5300)\" style=\"stroke:#000000; stroke-width:4; stroke-opacity:1; fill:none\" points=\"\n",
       "  113.754,682.05 147.339,682.05 \n",
       "  \"/>\n",
       "<polyline clip-path=\"url(#clip5300)\" style=\"stroke:#000000; stroke-width:4; stroke-opacity:1; fill:none\" points=\"\n",
       "  113.754,405.915 147.339,405.915 \n",
       "  \"/>\n",
       "<polyline clip-path=\"url(#clip5300)\" style=\"stroke:#000000; stroke-width:4; stroke-opacity:1; fill:none\" points=\"\n",
       "  113.754,129.779 147.339,129.779 \n",
       "  \"/>\n",
       "<g clip-path=\"url(#clip5300)\">\n",
       "<text style=\"fill:#000000; fill-opacity:1; font-family:Arial,Helvetica Neue,Helvetica,sans-serif; font-size:48px; text-anchor:middle;\" transform=\"rotate(0, 411.819, 1541.47)\" x=\"411.819\" y=\"1541.47\">2</text>\n",
       "</g>\n",
       "<g clip-path=\"url(#clip5300)\">\n",
       "<text style=\"fill:#000000; fill-opacity:1; font-family:Arial,Helvetica Neue,Helvetica,sans-serif; font-size:48px; text-anchor:middle;\" transform=\"rotate(0, 881.211, 1541.47)\" x=\"881.211\" y=\"1541.47\">4</text>\n",
       "</g>\n",
       "<g clip-path=\"url(#clip5300)\">\n",
       "<text style=\"fill:#000000; fill-opacity:1; font-family:Arial,Helvetica Neue,Helvetica,sans-serif; font-size:48px; text-anchor:middle;\" transform=\"rotate(0, 1350.6, 1541.47)\" x=\"1350.6\" y=\"1541.47\">6</text>\n",
       "</g>\n",
       "<g clip-path=\"url(#clip5300)\">\n",
       "<text style=\"fill:#000000; fill-opacity:1; font-family:Arial,Helvetica Neue,Helvetica,sans-serif; font-size:48px; text-anchor:middle;\" transform=\"rotate(0, 1820, 1541.47)\" x=\"1820\" y=\"1541.47\">8</text>\n",
       "</g>\n",
       "<g clip-path=\"url(#clip5300)\">\n",
       "<text style=\"fill:#000000; fill-opacity:1; font-family:Arial,Helvetica Neue,Helvetica,sans-serif; font-size:48px; text-anchor:middle;\" transform=\"rotate(0, 2289.39, 1541.47)\" x=\"2289.39\" y=\"1541.47\">10</text>\n",
       "</g>\n",
       "<g clip-path=\"url(#clip5300)\">\n",
       "<text style=\"fill:#000000; fill-opacity:1; font-family:Arial,Helvetica Neue,Helvetica,sans-serif; font-size:48px; text-anchor:end;\" transform=\"rotate(0, 89.7545, 1251.82)\" x=\"89.7545\" y=\"1251.82\">1</text>\n",
       "</g>\n",
       "<g clip-path=\"url(#clip5300)\">\n",
       "<text style=\"fill:#000000; fill-opacity:1; font-family:Arial,Helvetica Neue,Helvetica,sans-serif; font-size:48px; text-anchor:end;\" transform=\"rotate(0, 89.7545, 975.686)\" x=\"89.7545\" y=\"975.686\">2</text>\n",
       "</g>\n",
       "<g clip-path=\"url(#clip5300)\">\n",
       "<text style=\"fill:#000000; fill-opacity:1; font-family:Arial,Helvetica Neue,Helvetica,sans-serif; font-size:48px; text-anchor:end;\" transform=\"rotate(0, 89.7545, 699.55)\" x=\"89.7545\" y=\"699.55\">3</text>\n",
       "</g>\n",
       "<g clip-path=\"url(#clip5300)\">\n",
       "<text style=\"fill:#000000; fill-opacity:1; font-family:Arial,Helvetica Neue,Helvetica,sans-serif; font-size:48px; text-anchor:end;\" transform=\"rotate(0, 89.7545, 423.415)\" x=\"89.7545\" y=\"423.415\">4</text>\n",
       "</g>\n",
       "<g clip-path=\"url(#clip5300)\">\n",
       "<text style=\"fill:#000000; fill-opacity:1; font-family:Arial,Helvetica Neue,Helvetica,sans-serif; font-size:48px; text-anchor:end;\" transform=\"rotate(0, 89.7545, 147.279)\" x=\"89.7545\" y=\"147.279\">5</text>\n",
       "</g>\n",
       "<polyline clip-path=\"url(#clip5302)\" style=\"stroke:#009af9; stroke-width:4; stroke-opacity:1; fill:none\" points=\"\n",
       "  177.122,1365.97 411.819,1294.21 646.515,1446.71 881.211,1359.66 1115.91,1412.35 1350.6,88.0053 1585.3,1381.94 1820,1205.4 2054.69,1149.54 2289.39,771.491 \n",
       "  \n",
       "  \"/>\n",
       "<path clip-path=\"url(#clip5300)\" d=\"\n",
       "M1989.93 251.724 L2280.76 251.724 L2280.76 130.764 L1989.93 130.764  Z\n",
       "  \" fill=\"#ffffff\" fill-rule=\"evenodd\" fill-opacity=\"1\"/>\n",
       "<polyline clip-path=\"url(#clip5300)\" style=\"stroke:#000000; stroke-width:4; stroke-opacity:1; fill:none\" points=\"\n",
       "  1989.93,251.724 2280.76,251.724 2280.76,130.764 1989.93,130.764 1989.93,251.724 \n",
       "  \"/>\n",
       "<polyline clip-path=\"url(#clip5300)\" style=\"stroke:#009af9; stroke-width:4; stroke-opacity:1; fill:none\" points=\"\n",
       "  2013.93,191.244 2157.93,191.244 \n",
       "  \"/>\n",
       "<g clip-path=\"url(#clip5300)\">\n",
       "<text style=\"fill:#000000; fill-opacity:1; font-family:Arial,Helvetica Neue,Helvetica,sans-serif; font-size:48px; text-anchor:start;\" transform=\"rotate(0, 2181.93, 208.744)\" x=\"2181.93\" y=\"208.744\">y1</text>\n",
       "</g>\n",
       "</svg>\n"
      ]
     },
     "execution_count": 11,
     "metadata": {},
     "output_type": "execute_result"
    }
   ],
   "source": [
    "# poor style\n",
    "function generatedata(n)\n",
    "    ϵ = zeros(n)\n",
    "    for i in eachindex(ϵ)\n",
    "        ϵ[i] = (randn())^2 # squaring the result\n",
    "    end\n",
    "    return ϵ\n",
    "end\n",
    "\n",
    "data = generatedata(10)\n",
    "plot(data)"
   ]
  },
  {
   "cell_type": "markdown",
   "metadata": {
    "slideshow": {
     "slide_type": "subslide"
    }
   },
   "source": [
    "Here\n",
    "\n",
    "- `function` is a Julia keyword that indicates the start of a function definition  \n",
    "- `generatedata` is an arbitrary name for the function  \n",
    "- `return` is a keyword indicating the return value, as is often unnecessary  \n",
    "\n",
    "\n",
    "Let us make this example slightly better by “remembering” that `randn` can return a vectors"
   ]
  },
  {
   "cell_type": "code",
   "execution_count": 12,
   "metadata": {
    "hide-output": false,
    "slideshow": {
     "slide_type": "subslide"
    }
   },
   "outputs": [
    {
     "data": {
      "text/plain": [
       "5-element Array{Float64,1}:\n",
       " 1.9986442319952185 \n",
       " 0.8433530161503876 \n",
       " 0.14166697469756018\n",
       " 0.59667975011095   \n",
       " 0.29684959584880855"
      ]
     },
     "execution_count": 12,
     "metadata": {},
     "output_type": "execute_result"
    }
   ],
   "source": [
    "# still poor style\n",
    "function generatedata(n)\n",
    "    ϵ = randn(n) # use built in function\n",
    "\n",
    "    for i in eachindex(ϵ)\n",
    "        ϵ[i] = ϵ[i]^2 # squaring the result\n",
    "    end\n",
    "\n",
    "    return ϵ\n",
    "end\n",
    "data = generatedata(5)"
   ]
  },
  {
   "cell_type": "markdown",
   "metadata": {
    "slideshow": {
     "slide_type": "subslide"
    }
   },
   "source": [
    "### Broadcasting: the dot `.`\n",
    "\n",
    "While better, the looping over the `i` index to square the results is difficult to read\n",
    "\n",
    "Instead of looping, we can **broadcast** the `^2` square function over a vector using a `.`\n",
    "\n",
    "To be clear, unlike Python, R, and MATLAB (to a lesser extent), the reason to drop the `for` is **not** for performance reasons, but rather because of code clarity\n",
    "\n",
    "Loops of this sort are at least as efficient as vectorized approach in compiled languages like Julia, so use a for loop if you think it makes the code more clear"
   ]
  },
  {
   "cell_type": "code",
   "execution_count": 13,
   "metadata": {
    "hide-output": false,
    "slideshow": {
     "slide_type": "subslide"
    }
   },
   "outputs": [
    {
     "data": {
      "text/plain": [
       "5-element Array{Float64,1}:\n",
       " 0.0014355606070317545\n",
       " 0.29925112774872886  \n",
       " 1.6533684000720275   \n",
       " 0.6459309576099332   \n",
       " 0.4912607393556788   "
      ]
     },
     "execution_count": 13,
     "metadata": {},
     "output_type": "execute_result"
    }
   ],
   "source": [
    "# better style\n",
    "function generatedata(n)\n",
    "    ϵ = randn(n) # use built in function\n",
    "    return ϵ.^2\n",
    " end\n",
    "data = generatedata(5)"
   ]
  },
  {
   "cell_type": "markdown",
   "metadata": {
    "slideshow": {
     "slide_type": "subslide"
    }
   },
   "source": [
    "We can even drop the `function` if we define it on a single line"
   ]
  },
  {
   "cell_type": "code",
   "execution_count": 14,
   "metadata": {
    "hide-output": false,
    "slideshow": {
     "slide_type": "subslide"
    }
   },
   "outputs": [
    {
     "data": {
      "text/plain": [
       "5-element Array{Float64,1}:\n",
       " 0.22419493627733902 \n",
       " 4.129697046085374   \n",
       " 0.6725354362570525  \n",
       " 0.026153036135931163\n",
       " 0.373313418891394   "
      ]
     },
     "execution_count": 14,
     "metadata": {},
     "output_type": "execute_result"
    }
   ],
   "source": [
    "# We can even drop the `function` if we define it on a single line\n",
    "# good style\n",
    "generatedata(n) = randn(n).^2\n",
    "data = generatedata(5)"
   ]
  },
  {
   "cell_type": "markdown",
   "metadata": {
    "slideshow": {
     "slide_type": "subslide"
    }
   },
   "source": [
    "* Finally, we can broadcast *any* function! \n",
    "* The function `^()` is only one case.\n",
    "* We can broadcast your own user-defined functions as well."
   ]
  },
  {
   "cell_type": "code",
   "execution_count": 15,
   "metadata": {
    "hide-output": false,
    "slideshow": {
     "slide_type": "subslide"
    }
   },
   "outputs": [
    {
     "data": {
      "text/plain": [
       "5-element Array{Float64,1}:\n",
       " 0.0008360824228594497\n",
       " 0.3010592827261743   \n",
       " 0.7190318869858531   \n",
       " 0.21982317447858513  \n",
       " 0.1933729185766364   "
      ]
     },
     "execution_count": 15,
     "metadata": {},
     "output_type": "execute_result"
    }
   ],
   "source": [
    "# good style\n",
    "f(x) = x^2 # our own simple square function\n",
    "generatedata(n) = f.(randn(n)) # uses broadcast for some function `f`\n",
    "data = generatedata(5)"
   ]
  },
  {
   "cell_type": "markdown",
   "metadata": {
    "slideshow": {
     "slide_type": "slide"
    }
   },
   "source": [
    "As a final – abstract – approach, we can make the `generatedata` function able to generically apply to a function"
   ]
  },
  {
   "cell_type": "code",
   "execution_count": 16,
   "metadata": {
    "hide-output": false,
    "slideshow": {
     "slide_type": "subslide"
    }
   },
   "outputs": [
    {
     "data": {
      "text/plain": [
       "5-element Array{Float64,1}:\n",
       " 0.004357321040685262\n",
       " 0.7767288203071202  \n",
       " 0.005501136521339242\n",
       " 1.190400896663905   \n",
       " 1.624167979315186   "
      ]
     },
     "execution_count": 16,
     "metadata": {},
     "output_type": "execute_result"
    }
   ],
   "source": [
    "generatedata(n, gen) = gen.(randn(n)) # uses broadcast for some function `gen`\n",
    "\n",
    "f(x) = x^2 # simple square function\n",
    "data = generatedata(5, f) # applies f"
   ]
  },
  {
   "cell_type": "markdown",
   "metadata": {
    "slideshow": {
     "slide_type": "subslide"
    }
   },
   "source": [
    "Whether this example is better or worse than the previous version depends on how it is used\n",
    "\n",
    "High degrees of abstraction and generality, e.g. passing in a function `f` in this case, can make code either clearer or more confusing, but Julia enables you to use these techniques **with no performance overhead**\n",
    "\n",
    "For this particular case, the clearest and most general solution is probably the simplest"
   ]
  },
  {
   "cell_type": "code",
   "execution_count": 17,
   "metadata": {
    "hide-output": false,
    "slideshow": {
     "slide_type": "subslide"
    }
   },
   "outputs": [
    {
     "data": {
      "image/svg+xml": [
       "<?xml version=\"1.0\" encoding=\"utf-8\"?>\n",
       "<svg xmlns=\"http://www.w3.org/2000/svg\" xmlns:xlink=\"http://www.w3.org/1999/xlink\" width=\"600\" height=\"400\" viewBox=\"0 0 2400 1600\">\n",
       "<defs>\n",
       "  <clipPath id=\"clip5700\">\n",
       "    <rect x=\"0\" y=\"0\" width=\"2400\" height=\"1600\"/>\n",
       "  </clipPath>\n",
       "</defs>\n",
       "<path clip-path=\"url(#clip5700)\" d=\"\n",
       "M0 1600 L2400 1600 L2400 0 L0 0  Z\n",
       "  \" fill=\"#ffffff\" fill-rule=\"evenodd\" fill-opacity=\"1\"/>\n",
       "<defs>\n",
       "  <clipPath id=\"clip5701\">\n",
       "    <rect x=\"480\" y=\"0\" width=\"1681\" height=\"1600\"/>\n",
       "  </clipPath>\n",
       "</defs>\n",
       "<path clip-path=\"url(#clip5700)\" d=\"\n",
       "M141.865 1487.47 L2352.76 1487.47 L2352.76 47.2441 L141.865 47.2441  Z\n",
       "  \" fill=\"#ffffff\" fill-rule=\"evenodd\" fill-opacity=\"1\"/>\n",
       "<defs>\n",
       "  <clipPath id=\"clip5702\">\n",
       "    <rect x=\"141\" y=\"47\" width=\"2212\" height=\"1441\"/>\n",
       "  </clipPath>\n",
       "</defs>\n",
       "<polyline clip-path=\"url(#clip5702)\" style=\"stroke:#000000; stroke-width:2; stroke-opacity:0.1; fill:none\" points=\"\n",
       "  183.369,1487.47 183.369,47.2441 \n",
       "  \"/>\n",
       "<polyline clip-path=\"url(#clip5702)\" style=\"stroke:#000000; stroke-width:2; stroke-opacity:0.1; fill:none\" points=\"\n",
       "  710.072,1487.47 710.072,47.2441 \n",
       "  \"/>\n",
       "<polyline clip-path=\"url(#clip5702)\" style=\"stroke:#000000; stroke-width:2; stroke-opacity:0.1; fill:none\" points=\"\n",
       "  1236.78,1487.47 1236.78,47.2441 \n",
       "  \"/>\n",
       "<polyline clip-path=\"url(#clip5702)\" style=\"stroke:#000000; stroke-width:2; stroke-opacity:0.1; fill:none\" points=\"\n",
       "  1763.48,1487.47 1763.48,47.2441 \n",
       "  \"/>\n",
       "<polyline clip-path=\"url(#clip5702)\" style=\"stroke:#000000; stroke-width:2; stroke-opacity:0.1; fill:none\" points=\"\n",
       "  2290.18,1487.47 2290.18,47.2441 \n",
       "  \"/>\n",
       "<polyline clip-path=\"url(#clip5702)\" style=\"stroke:#000000; stroke-width:2; stroke-opacity:0.1; fill:none\" points=\"\n",
       "  141.865,1357.94 2352.76,1357.94 \n",
       "  \"/>\n",
       "<polyline clip-path=\"url(#clip5702)\" style=\"stroke:#000000; stroke-width:2; stroke-opacity:0.1; fill:none\" points=\"\n",
       "  141.865,1071.33 2352.76,1071.33 \n",
       "  \"/>\n",
       "<polyline clip-path=\"url(#clip5702)\" style=\"stroke:#000000; stroke-width:2; stroke-opacity:0.1; fill:none\" points=\"\n",
       "  141.865,784.717 2352.76,784.717 \n",
       "  \"/>\n",
       "<polyline clip-path=\"url(#clip5702)\" style=\"stroke:#000000; stroke-width:2; stroke-opacity:0.1; fill:none\" points=\"\n",
       "  141.865,498.106 2352.76,498.106 \n",
       "  \"/>\n",
       "<polyline clip-path=\"url(#clip5702)\" style=\"stroke:#000000; stroke-width:2; stroke-opacity:0.1; fill:none\" points=\"\n",
       "  141.865,211.496 2352.76,211.496 \n",
       "  \"/>\n",
       "<polyline clip-path=\"url(#clip5700)\" style=\"stroke:#000000; stroke-width:4; stroke-opacity:1; fill:none\" points=\"\n",
       "  141.865,1487.47 2352.76,1487.47 \n",
       "  \"/>\n",
       "<polyline clip-path=\"url(#clip5700)\" style=\"stroke:#000000; stroke-width:4; stroke-opacity:1; fill:none\" points=\"\n",
       "  141.865,1487.47 141.865,47.2441 \n",
       "  \"/>\n",
       "<polyline clip-path=\"url(#clip5700)\" style=\"stroke:#000000; stroke-width:4; stroke-opacity:1; fill:none\" points=\"\n",
       "  183.369,1487.47 183.369,1465.87 \n",
       "  \"/>\n",
       "<polyline clip-path=\"url(#clip5700)\" style=\"stroke:#000000; stroke-width:4; stroke-opacity:1; fill:none\" points=\"\n",
       "  710.072,1487.47 710.072,1465.87 \n",
       "  \"/>\n",
       "<polyline clip-path=\"url(#clip5700)\" style=\"stroke:#000000; stroke-width:4; stroke-opacity:1; fill:none\" points=\"\n",
       "  1236.78,1487.47 1236.78,1465.87 \n",
       "  \"/>\n",
       "<polyline clip-path=\"url(#clip5700)\" style=\"stroke:#000000; stroke-width:4; stroke-opacity:1; fill:none\" points=\"\n",
       "  1763.48,1487.47 1763.48,1465.87 \n",
       "  \"/>\n",
       "<polyline clip-path=\"url(#clip5700)\" style=\"stroke:#000000; stroke-width:4; stroke-opacity:1; fill:none\" points=\"\n",
       "  2290.18,1487.47 2290.18,1465.87 \n",
       "  \"/>\n",
       "<polyline clip-path=\"url(#clip5700)\" style=\"stroke:#000000; stroke-width:4; stroke-opacity:1; fill:none\" points=\"\n",
       "  141.865,1357.94 175.028,1357.94 \n",
       "  \"/>\n",
       "<polyline clip-path=\"url(#clip5700)\" style=\"stroke:#000000; stroke-width:4; stroke-opacity:1; fill:none\" points=\"\n",
       "  141.865,1071.33 175.028,1071.33 \n",
       "  \"/>\n",
       "<polyline clip-path=\"url(#clip5700)\" style=\"stroke:#000000; stroke-width:4; stroke-opacity:1; fill:none\" points=\"\n",
       "  141.865,784.717 175.028,784.717 \n",
       "  \"/>\n",
       "<polyline clip-path=\"url(#clip5700)\" style=\"stroke:#000000; stroke-width:4; stroke-opacity:1; fill:none\" points=\"\n",
       "  141.865,498.106 175.028,498.106 \n",
       "  \"/>\n",
       "<polyline clip-path=\"url(#clip5700)\" style=\"stroke:#000000; stroke-width:4; stroke-opacity:1; fill:none\" points=\"\n",
       "  141.865,211.496 175.028,211.496 \n",
       "  \"/>\n",
       "<g clip-path=\"url(#clip5700)\">\n",
       "<text style=\"fill:#000000; fill-opacity:1; font-family:Arial,Helvetica Neue,Helvetica,sans-serif; font-size:48px; text-anchor:middle;\" transform=\"rotate(0, 183.369, 1541.47)\" x=\"183.369\" y=\"1541.47\">0</text>\n",
       "</g>\n",
       "<g clip-path=\"url(#clip5700)\">\n",
       "<text style=\"fill:#000000; fill-opacity:1; font-family:Arial,Helvetica Neue,Helvetica,sans-serif; font-size:48px; text-anchor:middle;\" transform=\"rotate(0, 710.072, 1541.47)\" x=\"710.072\" y=\"1541.47\">25</text>\n",
       "</g>\n",
       "<g clip-path=\"url(#clip5700)\">\n",
       "<text style=\"fill:#000000; fill-opacity:1; font-family:Arial,Helvetica Neue,Helvetica,sans-serif; font-size:48px; text-anchor:middle;\" transform=\"rotate(0, 1236.78, 1541.47)\" x=\"1236.78\" y=\"1541.47\">50</text>\n",
       "</g>\n",
       "<g clip-path=\"url(#clip5700)\">\n",
       "<text style=\"fill:#000000; fill-opacity:1; font-family:Arial,Helvetica Neue,Helvetica,sans-serif; font-size:48px; text-anchor:middle;\" transform=\"rotate(0, 1763.48, 1541.47)\" x=\"1763.48\" y=\"1541.47\">75</text>\n",
       "</g>\n",
       "<g clip-path=\"url(#clip5700)\">\n",
       "<text style=\"fill:#000000; fill-opacity:1; font-family:Arial,Helvetica Neue,Helvetica,sans-serif; font-size:48px; text-anchor:middle;\" transform=\"rotate(0, 2290.18, 1541.47)\" x=\"2290.18\" y=\"1541.47\">100</text>\n",
       "</g>\n",
       "<g clip-path=\"url(#clip5700)\">\n",
       "<text style=\"fill:#000000; fill-opacity:1; font-family:Arial,Helvetica Neue,Helvetica,sans-serif; font-size:48px; text-anchor:end;\" transform=\"rotate(0, 117.865, 1375.44)\" x=\"117.865\" y=\"1375.44\">-2</text>\n",
       "</g>\n",
       "<g clip-path=\"url(#clip5700)\">\n",
       "<text style=\"fill:#000000; fill-opacity:1; font-family:Arial,Helvetica Neue,Helvetica,sans-serif; font-size:48px; text-anchor:end;\" transform=\"rotate(0, 117.865, 1088.83)\" x=\"117.865\" y=\"1088.83\">0</text>\n",
       "</g>\n",
       "<g clip-path=\"url(#clip5700)\">\n",
       "<text style=\"fill:#000000; fill-opacity:1; font-family:Arial,Helvetica Neue,Helvetica,sans-serif; font-size:48px; text-anchor:end;\" transform=\"rotate(0, 117.865, 802.217)\" x=\"117.865\" y=\"802.217\">2</text>\n",
       "</g>\n",
       "<g clip-path=\"url(#clip5700)\">\n",
       "<text style=\"fill:#000000; fill-opacity:1; font-family:Arial,Helvetica Neue,Helvetica,sans-serif; font-size:48px; text-anchor:end;\" transform=\"rotate(0, 117.865, 515.606)\" x=\"117.865\" y=\"515.606\">4</text>\n",
       "</g>\n",
       "<g clip-path=\"url(#clip5700)\">\n",
       "<text style=\"fill:#000000; fill-opacity:1; font-family:Arial,Helvetica Neue,Helvetica,sans-serif; font-size:48px; text-anchor:end;\" transform=\"rotate(0, 117.865, 228.996)\" x=\"117.865\" y=\"228.996\">6</text>\n",
       "</g>\n",
       "<polyline clip-path=\"url(#clip5702)\" style=\"stroke:#009af9; stroke-width:4; stroke-opacity:1; fill:none\" points=\"\n",
       "  204.437,440.296 225.505,1064.61 246.573,992.371 267.641,952.675 288.71,623.827 309.778,1040.19 330.846,921.285 351.914,1024.57 372.982,1008.4 394.05,1055.91 \n",
       "  415.118,1048.91 436.187,1051.03 457.255,1052.73 478.323,923.034 499.391,1055.98 520.459,1071.12 541.527,891.402 562.595,1070.32 583.664,1049.52 604.732,814.525 \n",
       "  625.8,950.758 646.868,1063.9 667.936,1060.5 689.004,1043.33 710.072,1068.03 731.141,993.634 752.209,710.829 773.277,1036.17 794.345,691.631 815.413,1060.43 \n",
       "  836.481,768.343 857.55,1067.51 878.618,1054.4 899.686,711.023 920.754,1057.16 941.822,960.549 962.89,919.685 983.958,88.0053 1005.03,950.437 1026.09,1045.57 \n",
       "  1047.16,915.065 1068.23,1040.28 1089.3,835.785 1110.37,718.958 1131.44,1026.14 1152.5,1059.49 1173.57,937.41 1194.64,1069.37 1215.71,933.278 1236.78,837.528 \n",
       "  1257.84,1028.27 1278.91,1026.92 1299.98,544.635 1321.05,968.006 1342.12,1071.23 1363.19,951.886 1384.25,1071.07 1405.32,1010.39 1426.39,988.529 1447.46,852.055 \n",
       "  1468.53,907.626 1489.59,1068.45 1510.66,895.305 1531.73,578.121 1552.8,1071.18 1573.87,963.053 1594.93,983.333 1616,1069.43 1637.07,999.599 1658.14,831.121 \n",
       "  1679.21,1016.85 1700.28,1056.6 1721.34,958.973 1742.41,1063.84 1763.48,811.895 1784.55,644.435 1805.62,413.503 1826.68,1002.32 1847.75,540.166 1868.82,860.853 \n",
       "  1889.89,968.197 1910.96,774.889 1932.03,1024.57 1953.09,1013.95 1974.16,845.312 1995.23,1058.23 2016.3,1050.28 2037.37,1068.95 2058.43,951.765 2079.5,1036.7 \n",
       "  2100.57,1066.07 2121.64,1031.91 2142.71,1069.99 2163.77,92.5427 2184.84,1046.3 2205.91,1015.57 2226.98,1068.99 2248.05,945.191 2269.12,1062.12 2290.18,1010.54 \n",
       "  \n",
       "  \"/>\n",
       "<polyline clip-path=\"url(#clip5702)\" style=\"stroke:#e26f46; stroke-width:4; stroke-opacity:1; fill:none\" points=\"\n",
       "  204.437,770.611 225.505,1102.36 246.573,1177.7 267.641,940.93 288.71,1324.56 309.778,1138.13 330.846,1217.96 351.914,989.469 372.982,1166.29 394.05,1024.32 \n",
       "  415.118,1128.01 436.187,1017.4 457.255,1019.7 478.323,1217.1 499.391,1118.23 520.459,1076.77 541.527,910.753 562.595,1083.37 583.664,1127.23 604.732,879.491 \n",
       "  625.8,939.88 646.868,1038.7 667.936,1110.72 689.004,1007.98 710.072,1093.08 731.141,1176.84 752.209,844.036 773.277,1000.35 794.345,1304.59 815.413,1110.85 \n",
       "  836.481,1279.7 857.55,1094.72 878.618,1120.58 899.686,1298.56 920.754,1026.27 941.822,1197.32 962.89,923.912 983.958,1446.71 1005.03,1202.95 1026.09,1010.57 \n",
       "  1047.16,921.684 1068.23,1004.62 1089.3,1255.05 1110.37,846.613 1131.44,1151.8 1152.5,1112.52 1173.57,932.796 1194.64,1088.08 1215.71,930.674 1236.78,1254.37 \n",
       "  1257.84,992.775 1278.91,991.555 1299.98,796.595 1321.05,1193.01 1342.12,1075.02 1363.19,1202.16 1384.25,1077.38 1405.32,977.877 1426.39,962.398 1447.46,1248.59 \n",
       "  1468.53,1224.49 1489.59,1051.02 1510.66,912.504 1531.73,1337.18 1552.8,1075.99 1573.87,1195.89 1594.93,1183.62 1616,1054.85 1637.07,969.942 1658.14,885.793 \n",
       "  1679.21,982.97 1700.28,1117.27 1721.34,944.438 1742.41,1104.09 1763.48,878.511 1784.55,823.99 1805.62,1378.36 1826.68,1170.77 1847.75,1347.22 1868.82,1245 \n",
       "  1889.89,1192.9 1910.96,865.218 1932.03,989.468 1953.09,980.647 1974.16,891.357 1995.23,1114.65 2016.3,1016.4 2037.37,1052.86 2058.43,1202.22 2079.5,1000.88 \n",
       "  2100.57,1098.77 2121.64,1146.48 2142.71,1057.5 2163.77,1445.85 2184.84,1131.21 2205.91,1160.72 2226.98,1053.03 2248.05,1205.77 2269.12,1107.65 2290.18,1164.66 \n",
       "  \n",
       "  \"/>\n",
       "<path clip-path=\"url(#clip5700)\" d=\"\n",
       "M1967.35 312.204 L2280.76 312.204 L2280.76 130.764 L1967.35 130.764  Z\n",
       "  \" fill=\"#ffffff\" fill-rule=\"evenodd\" fill-opacity=\"1\"/>\n",
       "<polyline clip-path=\"url(#clip5700)\" style=\"stroke:#000000; stroke-width:4; stroke-opacity:1; fill:none\" points=\"\n",
       "  1967.35,312.204 2280.76,312.204 2280.76,130.764 1967.35,130.764 1967.35,312.204 \n",
       "  \"/>\n",
       "<polyline clip-path=\"url(#clip5700)\" style=\"stroke:#009af9; stroke-width:4; stroke-opacity:1; fill:none\" points=\"\n",
       "  1991.35,191.244 2135.35,191.244 \n",
       "  \"/>\n",
       "<g clip-path=\"url(#clip5700)\">\n",
       "<text style=\"fill:#000000; fill-opacity:1; font-family:Arial,Helvetica Neue,Helvetica,sans-serif; font-size:48px; text-anchor:start;\" transform=\"rotate(0, 2159.35, 208.744)\" x=\"2159.35\" y=\"208.744\">x^2</text>\n",
       "</g>\n",
       "<polyline clip-path=\"url(#clip5700)\" style=\"stroke:#e26f46; stroke-width:4; stroke-opacity:1; fill:none\" points=\"\n",
       "  1991.35,251.724 2135.35,251.724 \n",
       "  \"/>\n",
       "<g clip-path=\"url(#clip5700)\">\n",
       "<text style=\"fill:#000000; fill-opacity:1; font-family:Arial,Helvetica Neue,Helvetica,sans-serif; font-size:48px; text-anchor:start;\" transform=\"rotate(0, 2159.35, 269.224)\" x=\"2159.35\" y=\"269.224\">x</text>\n",
       "</g>\n",
       "</svg>\n"
      ]
     },
     "execution_count": 17,
     "metadata": {},
     "output_type": "execute_result"
    }
   ],
   "source": [
    "# direct solution with broadcasting, and small user-defined function\n",
    "n = 100\n",
    "f(x) = x^2\n",
    "\n",
    "x = randn(n)\n",
    "plot(f.(x), label=\"x^2\")\n",
    "plot!(x, label=\"x\") # layer on the same plot"
   ]
  },
  {
   "cell_type": "markdown",
   "metadata": {
    "slideshow": {
     "slide_type": "subslide"
    }
   },
   "source": [
    "While broadcasting above superficially looks like vectorizing functions in MATLAB, or Python ufuncs, it is much richer and built on core foundations of the language\n",
    "\n",
    "The other additional function `plot!` adds a graph to the existing plot\n",
    "\n",
    "This follows a general convention in Julia, where a function that modifies the arguments or a global state has a `!` at the end of its name"
   ]
  },
  {
   "cell_type": "markdown",
   "metadata": {
    "slideshow": {
     "slide_type": "subslide"
    }
   },
   "source": [
    "#### A Slightly More Useful Function\n",
    "\n",
    "Let’s make a slightly more useful function\n",
    "\n",
    "This function will be passed in a choice of probability distribution and respond by plotting a histogram of observations\n",
    "\n",
    "In doing so we’ll make use of the `Distributions` package, which we assume was instantiated above with the project\n",
    "\n",
    "Here’s the code"
   ]
  },
  {
   "cell_type": "code",
   "execution_count": 18,
   "metadata": {
    "hide-output": false,
    "slideshow": {
     "slide_type": "subslide"
    }
   },
   "outputs": [
    {
     "data": {
      "image/svg+xml": [
       "<?xml version=\"1.0\" encoding=\"utf-8\"?>\n",
       "<svg xmlns=\"http://www.w3.org/2000/svg\" xmlns:xlink=\"http://www.w3.org/1999/xlink\" width=\"600\" height=\"400\" viewBox=\"0 0 2400 1600\">\n",
       "<defs>\n",
       "  <clipPath id=\"clip6100\">\n",
       "    <rect x=\"0\" y=\"0\" width=\"2400\" height=\"1600\"/>\n",
       "  </clipPath>\n",
       "</defs>\n",
       "<path clip-path=\"url(#clip6100)\" d=\"\n",
       "M0 1600 L2400 1600 L2400 0 L0 0  Z\n",
       "  \" fill=\"#ffffff\" fill-rule=\"evenodd\" fill-opacity=\"1\"/>\n",
       "<defs>\n",
       "  <clipPath id=\"clip6101\">\n",
       "    <rect x=\"480\" y=\"0\" width=\"1681\" height=\"1600\"/>\n",
       "  </clipPath>\n",
       "</defs>\n",
       "<path clip-path=\"url(#clip6100)\" d=\"\n",
       "M167.279 1487.47 L2352.76 1487.47 L2352.76 47.2441 L167.279 47.2441  Z\n",
       "  \" fill=\"#ffffff\" fill-rule=\"evenodd\" fill-opacity=\"1\"/>\n",
       "<defs>\n",
       "  <clipPath id=\"clip6102\">\n",
       "    <rect x=\"167\" y=\"47\" width=\"2186\" height=\"1441\"/>\n",
       "  </clipPath>\n",
       "</defs>\n",
       "<polyline clip-path=\"url(#clip6102)\" style=\"stroke:#000000; stroke-width:2; stroke-opacity:0.1; fill:none\" points=\"\n",
       "  389.856,1487.47 389.856,47.2441 \n",
       "  \"/>\n",
       "<polyline clip-path=\"url(#clip6102)\" style=\"stroke:#000000; stroke-width:2; stroke-opacity:0.1; fill:none\" points=\"\n",
       "  799.344,1487.47 799.344,47.2441 \n",
       "  \"/>\n",
       "<polyline clip-path=\"url(#clip6102)\" style=\"stroke:#000000; stroke-width:2; stroke-opacity:0.1; fill:none\" points=\"\n",
       "  1208.83,1487.47 1208.83,47.2441 \n",
       "  \"/>\n",
       "<polyline clip-path=\"url(#clip6102)\" style=\"stroke:#000000; stroke-width:2; stroke-opacity:0.1; fill:none\" points=\"\n",
       "  1618.32,1487.47 1618.32,47.2441 \n",
       "  \"/>\n",
       "<polyline clip-path=\"url(#clip6102)\" style=\"stroke:#000000; stroke-width:2; stroke-opacity:0.1; fill:none\" points=\"\n",
       "  2027.81,1487.47 2027.81,47.2441 \n",
       "  \"/>\n",
       "<polyline clip-path=\"url(#clip6102)\" style=\"stroke:#000000; stroke-width:2; stroke-opacity:0.1; fill:none\" points=\"\n",
       "  167.279,1446.71 2352.76,1446.71 \n",
       "  \"/>\n",
       "<polyline clip-path=\"url(#clip6102)\" style=\"stroke:#000000; stroke-width:2; stroke-opacity:0.1; fill:none\" points=\"\n",
       "  167.279,1146.11 2352.76,1146.11 \n",
       "  \"/>\n",
       "<polyline clip-path=\"url(#clip6102)\" style=\"stroke:#000000; stroke-width:2; stroke-opacity:0.1; fill:none\" points=\"\n",
       "  167.279,845.515 2352.76,845.515 \n",
       "  \"/>\n",
       "<polyline clip-path=\"url(#clip6102)\" style=\"stroke:#000000; stroke-width:2; stroke-opacity:0.1; fill:none\" points=\"\n",
       "  167.279,544.916 2352.76,544.916 \n",
       "  \"/>\n",
       "<polyline clip-path=\"url(#clip6102)\" style=\"stroke:#000000; stroke-width:2; stroke-opacity:0.1; fill:none\" points=\"\n",
       "  167.279,244.317 2352.76,244.317 \n",
       "  \"/>\n",
       "<polyline clip-path=\"url(#clip6100)\" style=\"stroke:#000000; stroke-width:4; stroke-opacity:1; fill:none\" points=\"\n",
       "  167.279,1487.47 2352.76,1487.47 \n",
       "  \"/>\n",
       "<polyline clip-path=\"url(#clip6100)\" style=\"stroke:#000000; stroke-width:4; stroke-opacity:1; fill:none\" points=\"\n",
       "  167.279,1487.47 167.279,47.2441 \n",
       "  \"/>\n",
       "<polyline clip-path=\"url(#clip6100)\" style=\"stroke:#000000; stroke-width:4; stroke-opacity:1; fill:none\" points=\"\n",
       "  389.856,1487.47 389.856,1465.87 \n",
       "  \"/>\n",
       "<polyline clip-path=\"url(#clip6100)\" style=\"stroke:#000000; stroke-width:4; stroke-opacity:1; fill:none\" points=\"\n",
       "  799.344,1487.47 799.344,1465.87 \n",
       "  \"/>\n",
       "<polyline clip-path=\"url(#clip6100)\" style=\"stroke:#000000; stroke-width:4; stroke-opacity:1; fill:none\" points=\"\n",
       "  1208.83,1487.47 1208.83,1465.87 \n",
       "  \"/>\n",
       "<polyline clip-path=\"url(#clip6100)\" style=\"stroke:#000000; stroke-width:4; stroke-opacity:1; fill:none\" points=\"\n",
       "  1618.32,1487.47 1618.32,1465.87 \n",
       "  \"/>\n",
       "<polyline clip-path=\"url(#clip6100)\" style=\"stroke:#000000; stroke-width:4; stroke-opacity:1; fill:none\" points=\"\n",
       "  2027.81,1487.47 2027.81,1465.87 \n",
       "  \"/>\n",
       "<polyline clip-path=\"url(#clip6100)\" style=\"stroke:#000000; stroke-width:4; stroke-opacity:1; fill:none\" points=\"\n",
       "  167.279,1446.71 200.061,1446.71 \n",
       "  \"/>\n",
       "<polyline clip-path=\"url(#clip6100)\" style=\"stroke:#000000; stroke-width:4; stroke-opacity:1; fill:none\" points=\"\n",
       "  167.279,1146.11 200.061,1146.11 \n",
       "  \"/>\n",
       "<polyline clip-path=\"url(#clip6100)\" style=\"stroke:#000000; stroke-width:4; stroke-opacity:1; fill:none\" points=\"\n",
       "  167.279,845.515 200.061,845.515 \n",
       "  \"/>\n",
       "<polyline clip-path=\"url(#clip6100)\" style=\"stroke:#000000; stroke-width:4; stroke-opacity:1; fill:none\" points=\"\n",
       "  167.279,544.916 200.061,544.916 \n",
       "  \"/>\n",
       "<polyline clip-path=\"url(#clip6100)\" style=\"stroke:#000000; stroke-width:4; stroke-opacity:1; fill:none\" points=\"\n",
       "  167.279,244.317 200.061,244.317 \n",
       "  \"/>\n",
       "<g clip-path=\"url(#clip6100)\">\n",
       "<text style=\"fill:#000000; fill-opacity:1; font-family:Arial,Helvetica Neue,Helvetica,sans-serif; font-size:48px; text-anchor:middle;\" transform=\"rotate(0, 389.856, 1541.47)\" x=\"389.856\" y=\"1541.47\">-4</text>\n",
       "</g>\n",
       "<g clip-path=\"url(#clip6100)\">\n",
       "<text style=\"fill:#000000; fill-opacity:1; font-family:Arial,Helvetica Neue,Helvetica,sans-serif; font-size:48px; text-anchor:middle;\" transform=\"rotate(0, 799.344, 1541.47)\" x=\"799.344\" y=\"1541.47\">-2</text>\n",
       "</g>\n",
       "<g clip-path=\"url(#clip6100)\">\n",
       "<text style=\"fill:#000000; fill-opacity:1; font-family:Arial,Helvetica Neue,Helvetica,sans-serif; font-size:48px; text-anchor:middle;\" transform=\"rotate(0, 1208.83, 1541.47)\" x=\"1208.83\" y=\"1541.47\">0</text>\n",
       "</g>\n",
       "<g clip-path=\"url(#clip6100)\">\n",
       "<text style=\"fill:#000000; fill-opacity:1; font-family:Arial,Helvetica Neue,Helvetica,sans-serif; font-size:48px; text-anchor:middle;\" transform=\"rotate(0, 1618.32, 1541.47)\" x=\"1618.32\" y=\"1541.47\">2</text>\n",
       "</g>\n",
       "<g clip-path=\"url(#clip6100)\">\n",
       "<text style=\"fill:#000000; fill-opacity:1; font-family:Arial,Helvetica Neue,Helvetica,sans-serif; font-size:48px; text-anchor:middle;\" transform=\"rotate(0, 2027.81, 1541.47)\" x=\"2027.81\" y=\"1541.47\">4</text>\n",
       "</g>\n",
       "<g clip-path=\"url(#clip6100)\">\n",
       "<text style=\"fill:#000000; fill-opacity:1; font-family:Arial,Helvetica Neue,Helvetica,sans-serif; font-size:48px; text-anchor:end;\" transform=\"rotate(0, 143.279, 1464.21)\" x=\"143.279\" y=\"1464.21\">0</text>\n",
       "</g>\n",
       "<g clip-path=\"url(#clip6100)\">\n",
       "<text style=\"fill:#000000; fill-opacity:1; font-family:Arial,Helvetica Neue,Helvetica,sans-serif; font-size:48px; text-anchor:end;\" transform=\"rotate(0, 143.279, 1163.61)\" x=\"143.279\" y=\"1163.61\">25</text>\n",
       "</g>\n",
       "<g clip-path=\"url(#clip6100)\">\n",
       "<text style=\"fill:#000000; fill-opacity:1; font-family:Arial,Helvetica Neue,Helvetica,sans-serif; font-size:48px; text-anchor:end;\" transform=\"rotate(0, 143.279, 863.015)\" x=\"143.279\" y=\"863.015\">50</text>\n",
       "</g>\n",
       "<g clip-path=\"url(#clip6100)\">\n",
       "<text style=\"fill:#000000; fill-opacity:1; font-family:Arial,Helvetica Neue,Helvetica,sans-serif; font-size:48px; text-anchor:end;\" transform=\"rotate(0, 143.279, 562.416)\" x=\"143.279\" y=\"562.416\">75</text>\n",
       "</g>\n",
       "<g clip-path=\"url(#clip6100)\">\n",
       "<text style=\"fill:#000000; fill-opacity:1; font-family:Arial,Helvetica Neue,Helvetica,sans-serif; font-size:48px; text-anchor:end;\" transform=\"rotate(0, 143.279, 261.817)\" x=\"143.279\" y=\"261.817\">100</text>\n",
       "</g>\n",
       "<path clip-path=\"url(#clip6102)\" d=\"\n",
       "M287.484 1386.59 L287.484 1446.71 L389.856 1446.71 L389.856 1386.59 L287.484 1386.59 L287.484 1386.59  Z\n",
       "  \" fill=\"#009af9\" fill-rule=\"evenodd\" fill-opacity=\"1\"/>\n",
       "<polyline clip-path=\"url(#clip6102)\" style=\"stroke:#000000; stroke-width:4; stroke-opacity:1; fill:none\" points=\"\n",
       "  287.484,1386.59 287.484,1446.71 389.856,1446.71 389.856,1386.59 287.484,1386.59 \n",
       "  \"/>\n",
       "<path clip-path=\"url(#clip6102)\" d=\"\n",
       "M389.856 1434.69 L389.856 1446.71 L492.228 1446.71 L492.228 1434.69 L389.856 1434.69 L389.856 1434.69  Z\n",
       "  \" fill=\"#009af9\" fill-rule=\"evenodd\" fill-opacity=\"1\"/>\n",
       "<polyline clip-path=\"url(#clip6102)\" style=\"stroke:#000000; stroke-width:4; stroke-opacity:1; fill:none\" points=\"\n",
       "  389.856,1434.69 389.856,1446.71 492.228,1446.71 492.228,1434.69 389.856,1434.69 \n",
       "  \"/>\n",
       "<path clip-path=\"url(#clip6102)\" d=\"\n",
       "M492.228 1374.57 L492.228 1446.71 L594.6 1446.71 L594.6 1374.57 L492.228 1374.57 L492.228 1374.57  Z\n",
       "  \" fill=\"#009af9\" fill-rule=\"evenodd\" fill-opacity=\"1\"/>\n",
       "<polyline clip-path=\"url(#clip6102)\" style=\"stroke:#000000; stroke-width:4; stroke-opacity:1; fill:none\" points=\"\n",
       "  492.228,1374.57 492.228,1446.71 594.6,1446.71 594.6,1374.57 492.228,1374.57 \n",
       "  \"/>\n",
       "<path clip-path=\"url(#clip6102)\" d=\"\n",
       "M594.6 1362.55 L594.6 1446.71 L696.972 1446.71 L696.972 1362.55 L594.6 1362.55 L594.6 1362.55  Z\n",
       "  \" fill=\"#009af9\" fill-rule=\"evenodd\" fill-opacity=\"1\"/>\n",
       "<polyline clip-path=\"url(#clip6102)\" style=\"stroke:#000000; stroke-width:4; stroke-opacity:1; fill:none\" points=\"\n",
       "  594.6,1362.55 594.6,1446.71 696.972,1446.71 696.972,1362.55 594.6,1362.55 \n",
       "  \"/>\n",
       "<path clip-path=\"url(#clip6102)\" d=\"\n",
       "M696.972 1242.31 L696.972 1446.71 L799.344 1446.71 L799.344 1242.31 L696.972 1242.31 L696.972 1242.31  Z\n",
       "  \" fill=\"#009af9\" fill-rule=\"evenodd\" fill-opacity=\"1\"/>\n",
       "<polyline clip-path=\"url(#clip6102)\" style=\"stroke:#000000; stroke-width:4; stroke-opacity:1; fill:none\" points=\"\n",
       "  696.972,1242.31 696.972,1446.71 799.344,1446.71 799.344,1242.31 696.972,1242.31 \n",
       "  \"/>\n",
       "<path clip-path=\"url(#clip6102)\" d=\"\n",
       "M799.344 1170.16 L799.344 1446.71 L901.716 1446.71 L901.716 1170.16 L799.344 1170.16 L799.344 1170.16  Z\n",
       "  \" fill=\"#009af9\" fill-rule=\"evenodd\" fill-opacity=\"1\"/>\n",
       "<polyline clip-path=\"url(#clip6102)\" style=\"stroke:#000000; stroke-width:4; stroke-opacity:1; fill:none\" points=\"\n",
       "  799.344,1170.16 799.344,1446.71 901.716,1446.71 901.716,1170.16 799.344,1170.16 \n",
       "  \"/>\n",
       "<path clip-path=\"url(#clip6102)\" d=\"\n",
       "M901.716 1037.9 L901.716 1446.71 L1004.09 1446.71 L1004.09 1037.9 L901.716 1037.9 L901.716 1037.9  Z\n",
       "  \" fill=\"#009af9\" fill-rule=\"evenodd\" fill-opacity=\"1\"/>\n",
       "<polyline clip-path=\"url(#clip6102)\" style=\"stroke:#000000; stroke-width:4; stroke-opacity:1; fill:none\" points=\"\n",
       "  901.716,1037.9 901.716,1446.71 1004.09,1446.71 1004.09,1037.9 901.716,1037.9 \n",
       "  \"/>\n",
       "<path clip-path=\"url(#clip6102)\" d=\"\n",
       "M1004.09 725.276 L1004.09 1446.71 L1106.46 1446.71 L1106.46 725.276 L1004.09 725.276 L1004.09 725.276  Z\n",
       "  \" fill=\"#009af9\" fill-rule=\"evenodd\" fill-opacity=\"1\"/>\n",
       "<polyline clip-path=\"url(#clip6102)\" style=\"stroke:#000000; stroke-width:4; stroke-opacity:1; fill:none\" points=\"\n",
       "  1004.09,725.276 1004.09,1446.71 1106.46,1446.71 1106.46,725.276 1004.09,725.276 \n",
       "  \"/>\n",
       "<path clip-path=\"url(#clip6102)\" d=\"\n",
       "M1106.46 88.0053 L1106.46 1446.71 L1208.83 1446.71 L1208.83 88.0053 L1106.46 88.0053 L1106.46 88.0053  Z\n",
       "  \" fill=\"#009af9\" fill-rule=\"evenodd\" fill-opacity=\"1\"/>\n",
       "<polyline clip-path=\"url(#clip6102)\" style=\"stroke:#000000; stroke-width:4; stroke-opacity:1; fill:none\" points=\"\n",
       "  1106.46,88.0053 1106.46,1446.71 1208.83,1446.71 1208.83,88.0053 1106.46,88.0053 \n",
       "  \"/>\n",
       "<path clip-path=\"url(#clip6102)\" d=\"\n",
       "M1208.83 340.509 L1208.83 1446.71 L1311.2 1446.71 L1311.2 340.509 L1208.83 340.509 L1208.83 340.509  Z\n",
       "  \" fill=\"#009af9\" fill-rule=\"evenodd\" fill-opacity=\"1\"/>\n",
       "<polyline clip-path=\"url(#clip6102)\" style=\"stroke:#000000; stroke-width:4; stroke-opacity:1; fill:none\" points=\"\n",
       "  1208.83,340.509 1208.83,1446.71 1311.2,1446.71 1311.2,340.509 1208.83,340.509 \n",
       "  \"/>\n",
       "<path clip-path=\"url(#clip6102)\" d=\"\n",
       "M1311.2 821.467 L1311.2 1446.71 L1413.58 1446.71 L1413.58 821.467 L1311.2 821.467 L1311.2 821.467  Z\n",
       "  \" fill=\"#009af9\" fill-rule=\"evenodd\" fill-opacity=\"1\"/>\n",
       "<polyline clip-path=\"url(#clip6102)\" style=\"stroke:#000000; stroke-width:4; stroke-opacity:1; fill:none\" points=\"\n",
       "  1311.2,821.467 1311.2,1446.71 1413.58,1446.71 1413.58,821.467 1311.2,821.467 \n",
       "  \"/>\n",
       "<path clip-path=\"url(#clip6102)\" d=\"\n",
       "M1413.58 953.731 L1413.58 1446.71 L1515.95 1446.71 L1515.95 953.731 L1413.58 953.731 L1413.58 953.731  Z\n",
       "  \" fill=\"#009af9\" fill-rule=\"evenodd\" fill-opacity=\"1\"/>\n",
       "<polyline clip-path=\"url(#clip6102)\" style=\"stroke:#000000; stroke-width:4; stroke-opacity:1; fill:none\" points=\"\n",
       "  1413.58,953.731 1413.58,1446.71 1515.95,1446.71 1515.95,953.731 1413.58,953.731 \n",
       "  \"/>\n",
       "<path clip-path=\"url(#clip6102)\" d=\"\n",
       "M1515.95 1182.19 L1515.95 1446.71 L1618.32 1446.71 L1618.32 1182.19 L1515.95 1182.19 L1515.95 1182.19  Z\n",
       "  \" fill=\"#009af9\" fill-rule=\"evenodd\" fill-opacity=\"1\"/>\n",
       "<polyline clip-path=\"url(#clip6102)\" style=\"stroke:#000000; stroke-width:4; stroke-opacity:1; fill:none\" points=\"\n",
       "  1515.95,1182.19 1515.95,1446.71 1618.32,1446.71 1618.32,1182.19 1515.95,1182.19 \n",
       "  \"/>\n",
       "<path clip-path=\"url(#clip6102)\" d=\"\n",
       "M1618.32 1362.55 L1618.32 1446.71 L1720.69 1446.71 L1720.69 1362.55 L1618.32 1362.55 L1618.32 1362.55  Z\n",
       "  \" fill=\"#009af9\" fill-rule=\"evenodd\" fill-opacity=\"1\"/>\n",
       "<polyline clip-path=\"url(#clip6102)\" style=\"stroke:#000000; stroke-width:4; stroke-opacity:1; fill:none\" points=\"\n",
       "  1618.32,1362.55 1618.32,1446.71 1720.69,1446.71 1720.69,1362.55 1618.32,1362.55 \n",
       "  \"/>\n",
       "<path clip-path=\"url(#clip6102)\" d=\"\n",
       "M1720.69 1398.62 L1720.69 1446.71 L1823.06 1446.71 L1823.06 1398.62 L1720.69 1398.62 L1720.69 1398.62  Z\n",
       "  \" fill=\"#009af9\" fill-rule=\"evenodd\" fill-opacity=\"1\"/>\n",
       "<polyline clip-path=\"url(#clip6102)\" style=\"stroke:#000000; stroke-width:4; stroke-opacity:1; fill:none\" points=\"\n",
       "  1720.69,1398.62 1720.69,1446.71 1823.06,1446.71 1823.06,1398.62 1720.69,1398.62 \n",
       "  \"/>\n",
       "<path clip-path=\"url(#clip6102)\" d=\"\n",
       "M1823.06 1362.55 L1823.06 1446.71 L1925.44 1446.71 L1925.44 1362.55 L1823.06 1362.55 L1823.06 1362.55  Z\n",
       "  \" fill=\"#009af9\" fill-rule=\"evenodd\" fill-opacity=\"1\"/>\n",
       "<polyline clip-path=\"url(#clip6102)\" style=\"stroke:#000000; stroke-width:4; stroke-opacity:1; fill:none\" points=\"\n",
       "  1823.06,1362.55 1823.06,1446.71 1925.44,1446.71 1925.44,1362.55 1823.06,1362.55 \n",
       "  \"/>\n",
       "<path clip-path=\"url(#clip6102)\" d=\"\n",
       "M1925.44 1374.57 L1925.44 1446.71 L2027.81 1446.71 L2027.81 1374.57 L1925.44 1374.57 L1925.44 1374.57  Z\n",
       "  \" fill=\"#009af9\" fill-rule=\"evenodd\" fill-opacity=\"1\"/>\n",
       "<polyline clip-path=\"url(#clip6102)\" style=\"stroke:#000000; stroke-width:4; stroke-opacity:1; fill:none\" points=\"\n",
       "  1925.44,1374.57 1925.44,1446.71 2027.81,1446.71 2027.81,1374.57 1925.44,1374.57 \n",
       "  \"/>\n",
       "<path clip-path=\"url(#clip6102)\" d=\"\n",
       "M2027.81 1422.67 L2027.81 1446.71 L2130.18 1446.71 L2130.18 1422.67 L2027.81 1422.67 L2027.81 1422.67  Z\n",
       "  \" fill=\"#009af9\" fill-rule=\"evenodd\" fill-opacity=\"1\"/>\n",
       "<polyline clip-path=\"url(#clip6102)\" style=\"stroke:#000000; stroke-width:4; stroke-opacity:1; fill:none\" points=\"\n",
       "  2027.81,1422.67 2027.81,1446.71 2130.18,1446.71 2130.18,1422.67 2027.81,1422.67 \n",
       "  \"/>\n",
       "<path clip-path=\"url(#clip6102)\" d=\"\n",
       "M2130.18 1434.69 L2130.18 1446.71 L2232.55 1446.71 L2232.55 1434.69 L2130.18 1434.69 L2130.18 1434.69  Z\n",
       "  \" fill=\"#009af9\" fill-rule=\"evenodd\" fill-opacity=\"1\"/>\n",
       "<polyline clip-path=\"url(#clip6102)\" style=\"stroke:#000000; stroke-width:4; stroke-opacity:1; fill:none\" points=\"\n",
       "  2130.18,1434.69 2130.18,1446.71 2232.55,1446.71 2232.55,1434.69 2130.18,1434.69 \n",
       "  \"/>\n",
       "<path clip-path=\"url(#clip6100)\" d=\"\n",
       "M1989.93 251.724 L2280.76 251.724 L2280.76 130.764 L1989.93 130.764  Z\n",
       "  \" fill=\"#ffffff\" fill-rule=\"evenodd\" fill-opacity=\"1\"/>\n",
       "<polyline clip-path=\"url(#clip6100)\" style=\"stroke:#000000; stroke-width:4; stroke-opacity:1; fill:none\" points=\"\n",
       "  1989.93,251.724 2280.76,251.724 2280.76,130.764 1989.93,130.764 1989.93,251.724 \n",
       "  \"/>\n",
       "<path clip-path=\"url(#clip6100)\" d=\"\n",
       "M2013.93 215.436 L2157.93 215.436 L2157.93 167.052 L2013.93 167.052 L2013.93 215.436  Z\n",
       "  \" fill=\"#009af9\" fill-rule=\"evenodd\" fill-opacity=\"1\"/>\n",
       "<polyline clip-path=\"url(#clip6100)\" style=\"stroke:#000000; stroke-width:4; stroke-opacity:1; fill:none\" points=\"\n",
       "  2013.93,215.436 2157.93,215.436 2157.93,167.052 2013.93,167.052 2013.93,215.436 \n",
       "  \"/>\n",
       "<g clip-path=\"url(#clip6100)\">\n",
       "<text style=\"fill:#000000; fill-opacity:1; font-family:Arial,Helvetica Neue,Helvetica,sans-serif; font-size:48px; text-anchor:start;\" transform=\"rotate(0, 2181.93, 208.744)\" x=\"2181.93\" y=\"208.744\">y1</text>\n",
       "</g>\n",
       "</svg>\n"
      ]
     },
     "execution_count": 18,
     "metadata": {},
     "output_type": "execute_result"
    }
   ],
   "source": [
    "using Distributions\n",
    "\n",
    "function plothistogram(distribution, n)\n",
    "    ϵ = rand(distribution, n)  # n draws from distribution\n",
    "    histogram(ϵ)\n",
    "end\n",
    "\n",
    "lp = Laplace()  # an \"instance\" of a Distribution type. More on this later!\n",
    "plothistogram(lp, 500)"
   ]
  },
  {
   "cell_type": "markdown",
   "metadata": {
    "slideshow": {
     "slide_type": "subslide"
    }
   },
   "source": [
    "Let’s have a casual discussion of how all this works while leaving technical details for later in the lectures:\n",
    "\n",
    "1. `lp = Laplace()` creates an instance of a data type defined in the `Distributions` module that represents the Laplace distribution\n",
    "2. The name `lp` is bound to this value\n",
    "3. When we make the function call `plothistogram(lp, 500)` the code in the body of the function `plothistogram` is run with\n",
    "    - the name `distribution` bound to the same value as `lp`  \n",
    "    - the name `n` bound to the integer `500`  "
   ]
  },
  {
   "cell_type": "markdown",
   "metadata": {
    "slideshow": {
     "slide_type": "subslide"
    }
   },
   "source": [
    "### Here's a Mystery\n",
    "\n",
    "Now consider the function call `rand(distribution, n)`:\n",
    "\n",
    "* This looks like something of a mystery, doesn't it?\n",
    "* The function `rand()` is defined in the base library such that `rand(n)` returns `n` uniform random variables on $ [0, 1) $:"
   ]
  },
  {
   "cell_type": "code",
   "execution_count": 19,
   "metadata": {
    "hide-output": false,
    "slideshow": {
     "slide_type": "subslide"
    }
   },
   "outputs": [
    {
     "data": {
      "text/plain": [
       "3-element Array{Float64,1}:\n",
       " 0.427975337718536  \n",
       " 0.9044423497165281 \n",
       " 0.27749338038178384"
      ]
     },
     "execution_count": 19,
     "metadata": {},
     "output_type": "execute_result"
    }
   ],
   "source": [
    "rand(3)"
   ]
  },
  {
   "cell_type": "markdown",
   "metadata": {
    "slideshow": {
     "slide_type": "subslide"
    }
   },
   "source": [
    "On the other hand, we just heard that `distribution` points to a data type representing the Laplace distribution that has been defined in a third party package.\n",
    "\n",
    ">So how can it be that `rand()` is able to take this kind of value as an argument and return the output that we want?\n",
    "\n",
    "The answer in a nutshell is **multiple dispatch**, which Julia uses to implement **generic programming**.\n",
    "\n",
    "* This refers to the idea that functions in Julia can have different behavior depending on the particular arguments that they’re passed.\n",
    "* Hence in Julia we can take an existing function and give it a new behavior by defining how it acts on a new type of value\n",
    "* The compiler knows which function definition to apply to in a given setting by looking at the types of the values the function is called on\n",
    "* In Julia these alternative versions of a function are called **methods**"
   ]
  },
  {
   "cell_type": "markdown",
   "metadata": {
    "slideshow": {
     "slide_type": "slide"
    }
   },
   "source": [
    "## Example: Variations on Fixed Points\n",
    "\n",
    "Take a mapping $ f : X \\to X $ for some set $ X $\n",
    "\n",
    "If there exists an $ x^* \\in X $ such that $ f(x^*) = x^* $, then $ x^* $: is called a “fixed point” of $ f $\n",
    "\n",
    "For our second example, we will start with a simple example of determining fixed points of a function\n",
    "\n",
    "The goal is to start with code in a MATLAB style, and move towards a more **Julian** style with high mathematical clarity"
   ]
  },
  {
   "cell_type": "markdown",
   "metadata": {
    "slideshow": {
     "slide_type": "subslide"
    }
   },
   "source": [
    "### Fixed Point Maps\n",
    "\n",
    "Consider the simple equation, where the scalars $ p,\\beta $ are given, and  $ v $ is the scalar we wish to solve for\n",
    "\n",
    "$$\n",
    "v = p + \\beta v\n",
    "$$\n",
    "\n",
    "Of course, in this simple example, with parameter restrictions this can be solved as $ v = p/(1 - \\beta) $\n",
    "\n",
    "Rearrange the equation in terms of a map $ f(x) : \\mathbb R \\to \\mathbb R $\n",
    "\n",
    "\n",
    "<a id='equation-fixed-point-map'></a>\n",
    "$$\n",
    "v = f(v) \\tag{1}\n",
    "$$\n",
    "\n",
    "where\n",
    "\n",
    "$$\n",
    "f(v) := p + \\beta v\n",
    "$$\n",
    "\n",
    "Therefore, a fixed point $ v^* $ of $ f(\\cdot) $ is a solution to the above problem, i.e. the value $v^*$ which makes this equation hold."
   ]
  },
  {
   "cell_type": "markdown",
   "metadata": {
    "slideshow": {
     "slide_type": "subslide"
    }
   },
   "source": [
    "### While Loops\n",
    "\n",
    "One approach to finding a fixed point of [(1)](#equation-fixed-point-map) is to start with an initial value, and iterate the map\n",
    "\n",
    "\n",
    "<a id='equation-fixed-point-naive'></a>\n",
    "$$\n",
    "v^{n+1} = f(v^n) \\tag{2}\n",
    "$$\n",
    "\n",
    "For this exact `f` function,  we can see the convergence to $ v = p/(1-\\beta) $ when $ |\\beta| < 1 $ by iterating backwards and taking $ n\\to\\infty $\n",
    "\n",
    "$$\n",
    "v^{n+1} = p + \\beta v^n = p + \\beta p + \\beta^2 v^{n-1} = p \\sum_{i=0}^{n-1} \\beta^i + \\beta^n v_0\n",
    "$$\n",
    "\n",
    "To implement the iteration in [(2)](#equation-fixed-point-naive), we start by solving this problem with a `while` loop\n",
    "\n",
    "The syntax for the while loop contains no surprises, and looks nearly identical to a MATLAB implementation:"
   ]
  },
  {
   "cell_type": "code",
   "execution_count": 20,
   "metadata": {
    "hide-output": false,
    "slideshow": {
     "slide_type": "subslide"
    }
   },
   "outputs": [
    {
     "name": "stdout",
     "output_type": "stream",
     "text": [
      "Fixed point = 9.999999173706609, and |f(x) - x| = 9.181037796679448e-8 in 155 iterations\n"
     ]
    }
   ],
   "source": [
    "# poor style\n",
    "p = 1.0 # note 1.0 rather than 1\n",
    "β = 0.9\n",
    "maxiter = 1000\n",
    "tolerance = 1.0E-7\n",
    "v_iv = 0.8 # initial condition\n",
    "\n",
    "# setup the algorithm\n",
    "v_old = v_iv\n",
    "normdiff = Inf\n",
    "iter = 1\n",
    "while normdiff > tolerance && iter <= maxiter\n",
    "    v_new = p + β * v_old # the f(v) map\n",
    "    normdiff = norm(v_new - v_old)  # \"size\" of a vector in some space\n",
    "\n",
    "    # replace and continue\n",
    "    v_old = v_new\n",
    "    iter = iter + 1\n",
    "end\n",
    "println(\"Fixed point = $v_old, and |f(x) - x| = $normdiff in $iter iterations\")"
   ]
  },
  {
   "cell_type": "markdown",
   "metadata": {
    "slideshow": {
     "slide_type": "subslide"
    }
   },
   "source": [
    "The `while` loop, like the `for` loop should only be used directly in Jupyter or the inside of a function\n",
    "\n",
    "Here, we have used the `norm` function (from the `LinearAlgebra` base library) to compare the values\n",
    "\n",
    "The other new function is the `println` with the string interpolation, which splices the value of an expression or variable prefixed by `$` into a string\n",
    "\n",
    "An alternative approach is to use a `for` loop, and check for convergence in each iteration"
   ]
  },
  {
   "cell_type": "code",
   "execution_count": 21,
   "metadata": {
    "hide-output": false,
    "slideshow": {
     "slide_type": "subslide"
    }
   },
   "outputs": [
    {
     "name": "stdout",
     "output_type": "stream",
     "text": [
      "Fixed point = 9.999999081896231, and |f(x) - x| = 9.181037796679448e-8 in 154 iterations\n"
     ]
    }
   ],
   "source": [
    "# setup the algorithm\n",
    "v_old = v_iv\n",
    "normdiff = Inf\n",
    "iter = 1\n",
    "for i in 1:maxiter\n",
    "    v_new = p + β * v_old # the f(v) map\n",
    "    normdiff = norm(v_new - v_old)\n",
    "    if normdiff < tolerance # check convergence\n",
    "        iter = i\n",
    "        break # converged, exit loop\n",
    "    end\n",
    "    # replace and continue\n",
    "    v_old = v_new\n",
    "end\n",
    "println(\"Fixed point = $v_old, and |f(x) - x| = $normdiff in $iter iterations\")"
   ]
  },
  {
   "cell_type": "markdown",
   "metadata": {
    "slideshow": {
     "slide_type": "subslide"
    }
   },
   "source": [
    "### Using a Function\n",
    "\n",
    "The first problem with this setup is that it depends on being sequentially run – which can be easily remedied with a function"
   ]
  },
  {
   "cell_type": "code",
   "execution_count": 25,
   "metadata": {
    "hide-output": false,
    "slideshow": {
     "slide_type": "subslide"
    }
   },
   "outputs": [
    {
     "name": "stdout",
     "output_type": "stream",
     "text": [
      "Fixed point = 9.999999173706609, and |f(x) - x| = 9.181037796679448e-8 in 155 iterations\n"
     ]
    }
   ],
   "source": [
    "# better, but still poor style\n",
    "function v_fp(β, ρ, v_iv, tolerance, maxiter)\n",
    "    # setup the algorithm\n",
    "    v_old = v_iv\n",
    "    normdiff = Inf\n",
    "    iter = 1\n",
    "    while normdiff > tolerance && iter <= maxiter\n",
    "        v_new = p + β * v_old # the f(v) map\n",
    "        normdiff = norm(v_new - v_old)\n",
    "\n",
    "        # replace and continue\n",
    "        v_old = v_new\n",
    "        iter = iter + 1\n",
    "    end\n",
    "    return (v_old, normdiff, iter) # returns a tuple\n",
    "end\n",
    "\n",
    "# some values\n",
    "p = 1.0 # note 1.0 rather than 1\n",
    "β = 0.9\n",
    "maxiter = 1000\n",
    "tolerance = 1.0E-7\n",
    "v_initial = 0.8 # initial condition\n",
    "\n",
    "v_star, normdiff, iter = v_fp(β, p, v_initial, tolerance, maxiter)\n",
    "println(\"Fixed point = $v_star, and |f(x) - x| = $normdiff in $iter iterations\")"
   ]
  },
  {
   "cell_type": "markdown",
   "metadata": {
    "slideshow": {
     "slide_type": "subslide"
    }
   },
   "source": [
    "### Passing a Function\n",
    "\n",
    "The chief issue is that the algorithm (finding a fixed point) is reusable and generic, while the function we calculate `p + β * v` is specific to our problem\n",
    "\n",
    "A key feature of languages like Julia, is the ability to efficiently handle functions passed to other functions"
   ]
  },
  {
   "cell_type": "code",
   "execution_count": 26,
   "metadata": {
    "hide-output": false,
    "slideshow": {
     "slide_type": "subslide"
    }
   },
   "outputs": [
    {
     "name": "stdout",
     "output_type": "stream",
     "text": [
      "Fixed point = 9.999999173706609, and |f(x) - x| = 9.181037796679448e-8 in 155 iterations\n"
     ]
    }
   ],
   "source": [
    "# better style\n",
    "function fixedpointmap(f, iv, tolerance, maxiter)\n",
    "    # setup the algorithm\n",
    "    x_old = iv\n",
    "    normdiff = Inf\n",
    "    iter = 1\n",
    "    while normdiff > tolerance && iter <= maxiter\n",
    "        x_new = f(x_old) # use the passed in map\n",
    "        normdiff = norm(x_new - x_old)\n",
    "        x_old = x_new\n",
    "        iter = iter + 1\n",
    "    end\n",
    "    return (x_old, normdiff, iter)\n",
    "end\n",
    "\n",
    "# define a map and parameters\n",
    "p = 1.0\n",
    "β = 0.9\n",
    "f(v) = p + β * v # note that p and β are used in the function!\n",
    "\n",
    "maxiter = 1000\n",
    "tolerance = 1.0E-7\n",
    "v_initial = 0.8 # initial condition\n",
    "\n",
    "v_star, normdiff, iter = fixedpointmap(f, v_initial, tolerance, maxiter)\n",
    "println(\"Fixed point = $v_star, and |f(x) - x| = $normdiff in $iter iterations\")"
   ]
  },
  {
   "cell_type": "markdown",
   "metadata": {
    "slideshow": {
     "slide_type": "subslide"
    }
   },
   "source": [
    "Much better (closer to math), but there are still hidden bugs if the user orders the settings or returns types wrong\n",
    "\n",
    "### Named Arguments and Return Values\n",
    "\n",
    "To enable this, Julia has two features:  named function parameters, and named tuples"
   ]
  },
  {
   "cell_type": "code",
   "execution_count": 27,
   "metadata": {
    "hide-output": false,
    "slideshow": {
     "slide_type": "subslide"
    }
   },
   "outputs": [
    {
     "name": "stdout",
     "output_type": "stream",
     "text": [
      "Fixed point = 9.999999918629035, and |f(x) - x| = 9.041219328764782e-9 in 177 iterations\n"
     ]
    }
   ],
   "source": [
    "# good style\n",
    "function fixedpointmap(f; iv, tolerance=1E-7, maxiter=1000)\n",
    "    # setup the algorithm\n",
    "    x_old = iv\n",
    "    normdiff = Inf\n",
    "    iter = 1\n",
    "    while normdiff > tolerance && iter <= maxiter\n",
    "        x_new = f(x_old) # use the passed in map\n",
    "        normdiff = norm(x_new - x_old)\n",
    "        x_old = x_new\n",
    "        iter = iter + 1\n",
    "    end\n",
    "    return (value = x_old, normdiff=normdiff, iter=iter) # A named tuple\n",
    "end\n",
    "\n",
    "# define a map and parameters\n",
    "p = 1.0\n",
    "β = 0.9\n",
    "f(v) = p + β * v # note that p and β are used in the function!\n",
    "\n",
    "sol = fixedpointmap(f, iv=0.8, tolerance=1.0E-8) # don't need to pass\n",
    "println(\"Fixed point = $(sol.value), and |f(x) - x| = $(sol.normdiff) in $(sol.iter)\"*\n",
    "        \" iterations\")"
   ]
  },
  {
   "cell_type": "markdown",
   "metadata": {
    "slideshow": {
     "slide_type": "subslide"
    }
   },
   "source": [
    "In this example, all function parameters after the `;` in the list, must be called **by name**.\n",
    "\n",
    "Furthermore, a default value may be enabled – so the named parameter `iv` is required while `tolerance` and `maxiter` have default values.\n",
    "\n",
    "The return type of the function also has named fields, `value, normdiff,` and `iter` – all accessed intuitively using `.`\n",
    "\n",
    "To show the flexibilty of this code, we can use it to find a fixed point of the non-linear logistic equation, $ x = f(x) $ where $ f(x) := r x (1-x) $"
   ]
  },
  {
   "cell_type": "code",
   "execution_count": 28,
   "metadata": {
    "hide-output": false,
    "slideshow": {
     "slide_type": "subslide"
    }
   },
   "outputs": [
    {
     "name": "stdout",
     "output_type": "stream",
     "text": [
      "Fixed point = 0.4999999999999968, and |f(x) - x| = 3.979330237546819e-8 in 7 iterations\n"
     ]
    }
   ],
   "source": [
    "r = 2.0\n",
    "f(x) = r * x * (1 - x)\n",
    "\n",
    "sol = fixedpointmap(f, iv=0.8)\n",
    "println(\"Fixed point = $(sol.value), and |f(x) - x| = $(sol.normdiff) in $(sol.iter) iterations\")"
   ]
  },
  {
   "cell_type": "markdown",
   "metadata": {
    "slideshow": {
     "slide_type": "subslide"
    }
   },
   "source": [
    "### Using a Package\n",
    "\n",
    "But best of all is to avoid writing code altogether"
   ]
  },
  {
   "cell_type": "code",
   "execution_count": 30,
   "metadata": {
    "hide-output": false,
    "slideshow": {
     "slide_type": "subslide"
    }
   },
   "outputs": [
    {
     "name": "stdout",
     "output_type": "stream",
     "text": [
      "Fixed point = [9.999999999999972], and |f(x) - x| = 3.552713678800501e-15 in 3 iterations\n"
     ]
    }
   ],
   "source": [
    "# best style\n",
    "using NLsolve\n",
    "\n",
    "p = 1.0\n",
    "β = 0.9\n",
    "f(v) = p .+ β * v # broadcast the +\n",
    "sol = fixedpoint(f, [0.8])\n",
    "println(\"Fixed point = $(sol.zero), and |f(x) - x| = $(norm(f(sol.zero) - sol.zero)) in \" *\n",
    "        \"$(sol.iterations) iterations\")"
   ]
  },
  {
   "cell_type": "markdown",
   "metadata": {
    "slideshow": {
     "slide_type": "subslide"
    }
   },
   "source": [
    "The `fixedpoint` function from the `NLsolve.jl` library implements the simple fixed point iteration scheme above\n",
    "\n",
    "Since the `NLsolve` library only accepts vector based inputs, we needed to make the `f(v)` function broadcast on the `+` sign, and pass in the initial condition as a vector of length 1 with `[0.8]`\n",
    "\n",
    "While a key benefit of using a package is that the code is clearer, and the implementation is tested, by using an orthogonal library we also enable performance improvements"
   ]
  },
  {
   "cell_type": "code",
   "execution_count": 31,
   "metadata": {
    "hide-output": false,
    "slideshow": {
     "slide_type": "subslide"
    }
   },
   "outputs": [
    {
     "name": "stdout",
     "output_type": "stream",
     "text": [
      "Fixed point = [9.999999999999972], and |f(x) - x| = 3.552713678800501e-15 in 3 iterations\n"
     ]
    }
   ],
   "source": [
    "# best style\n",
    "p = 1.0\n",
    "β = 0.9\n",
    "iv = [0.8]\n",
    "sol = fixedpoint(v -> p .+ β * v, iv)\n",
    "println(\"Fixed point = $(sol.zero), and |f(x) - x| = $(norm(f(sol.zero) - sol.zero)) in \" *\n",
    "        \"$(sol.iterations) iterations\")"
   ]
  },
  {
   "cell_type": "markdown",
   "metadata": {
    "slideshow": {
     "slide_type": "subslide"
    }
   },
   "source": [
    "Note that this completes in `3` iterations vs `177` for the naive fixed point iteration algorithm\n",
    "\n",
    "Since Anderson iteration is doing more calculations in an iteration,  whether it is faster or not would depend on the complexity of the `f` function\n",
    "\n",
    "But this demonstrates the value of keeping the math separate from the algorithm, since by decoupling the mathematical definition of the fixed point from the implementation in [(2)](#equation-fixed-point-naive), we were able to exploit new algorithms for finding a fixed point\n",
    "\n",
    "### Anonymous Functions\n",
    "\n",
    "The only other change in this function is the move from directly defining `f(v)` and using an **anonymous** function\n",
    "\n",
    "Similar to anonymous functions in MATLAB, and lambda functions in Python, Julia enables the creation of small functions without any names\n",
    "\n",
    "The code `v -> p .+ β * v` defines a function of a dummy argument, `v` with the same body as our `f(x)`"
   ]
  },
  {
   "cell_type": "markdown",
   "metadata": {
    "slideshow": {
     "slide_type": "subslide"
    }
   },
   "source": [
    "### Composing Packages\n",
    "\n",
    "A key benefit of using Julia is that you can compose various packages, types, and techniques, without making changes to your underlying source\n",
    "\n",
    "As an example, consider if we want to solve the model with a higher-precision, as floating points cannot be distinguished beyond the machine epsilon for that type (recall that computers approximate real numbers to the nearest binary  of a given precision; the *machine epsilon* is the smallest nonzero magnitude)\n",
    "\n",
    "In Julia, this number can be calculated as"
   ]
  },
  {
   "cell_type": "code",
   "execution_count": 32,
   "metadata": {
    "hide-output": false,
    "slideshow": {
     "slide_type": "subslide"
    }
   },
   "outputs": [
    {
     "data": {
      "text/plain": [
       "2.220446049250313e-16"
      ]
     },
     "execution_count": 32,
     "metadata": {},
     "output_type": "execute_result"
    }
   ],
   "source": [
    "eps()"
   ]
  },
  {
   "cell_type": "markdown",
   "metadata": {
    "slideshow": {
     "slide_type": "subslide"
    }
   },
   "source": [
    "For many cases, this is sufficient precision – but consider that in iterative algorithms applied millions of times, those small differences can add up\n",
    "\n",
    "The only change we will need to our model in order to use a different floating point type is to call the function with an arbitrary precision floating point, `BigFloat`, for the initial value"
   ]
  },
  {
   "cell_type": "code",
   "execution_count": 33,
   "metadata": {
    "hide-output": false,
    "slideshow": {
     "slide_type": "subslide"
    }
   },
   "outputs": [
    {
     "name": "stdout",
     "output_type": "stream",
     "text": [
      "Fixed point = BigFloat[10.00000000000000222044604925031357388532909931412848377287867809936811555686155], and |f(x) - x| = 0.0 in 3 iterations\n"
     ]
    }
   ],
   "source": [
    "# use arbitrary precision floating points\n",
    "p = 1.0\n",
    "β = 0.9\n",
    "iv = [BigFloat(0.8)] # higher precision\n",
    "\n",
    "# otherwise identical\n",
    "sol = fixedpoint(v -> p .+ β * v, iv)\n",
    "println(\"Fixed point = $(sol.zero), and |f(x) - x| = $(norm(f(sol.zero) - sol.zero)) in \" *\n",
    "        \"$(sol.iterations) iterations\")"
   ]
  },
  {
   "cell_type": "markdown",
   "metadata": {
    "slideshow": {
     "slide_type": "subslide"
    }
   },
   "source": [
    "Here, the literal `BigFloat(0.8)` takes the number `0.8` and changes it to an arbitrary precision number\n",
    "\n",
    "The result is that the residual is now **exactly** `0.0` since it is able to use arbitrary precision in the calculations, and the solution has a finite-precision solution with those parameters"
   ]
  },
  {
   "cell_type": "markdown",
   "metadata": {
    "slideshow": {
     "slide_type": "subslide"
    }
   },
   "source": [
    "### Multivariate Fixed Point Maps\n",
    "\n",
    "The above example can be extended to multivariate maps without any modifications to the fixed point iteration code\n",
    "\n",
    "Using our own, homegrown iteration and simply passing in a bivariate map:"
   ]
  },
  {
   "cell_type": "code",
   "execution_count": 34,
   "metadata": {
    "hide-output": false,
    "slideshow": {
     "slide_type": "subslide"
    }
   },
   "outputs": [
    {
     "name": "stdout",
     "output_type": "stream",
     "text": [
      "Fixed point = [9.999999961080519, 19.999999923853192], and |f(x) - x| = 9.501826248250528e-9 in 184iterations\n"
     ]
    }
   ],
   "source": [
    "p = [1.0, 2.0]\n",
    "β = 0.9\n",
    "iv = [0.8, 2.0]\n",
    "f(v) = p .+ β * v # note that p and β are used in the function!\n",
    "\n",
    "sol = fixedpointmap(f, iv = iv, tolerance = 1.0E-8)\n",
    "println(\"Fixed point = $(sol.value), and |f(x) - x| = $(sol.normdiff) in $(sol.iter)\"*\n",
    "\"iterations\")"
   ]
  },
  {
   "cell_type": "markdown",
   "metadata": {
    "slideshow": {
     "slide_type": "subslide"
    }
   },
   "source": [
    "This also works without any modifications with the `fixedpoint` library function"
   ]
  },
  {
   "cell_type": "code",
   "execution_count": 35,
   "metadata": {
    "hide-output": false,
    "slideshow": {
     "slide_type": "subslide"
    }
   },
   "outputs": [
    {
     "name": "stdout",
     "output_type": "stream",
     "text": [
      "Fixed point = [9.999999999999998, 20.0, 1.0], and |f(x) - x| = 0.0 in 3 iterations\n"
     ]
    }
   ],
   "source": [
    "using NLsolve\n",
    "\n",
    "p = [1.0, 2.0, 0.1]\n",
    "β = 0.9\n",
    "iv =[0.8, 2.0, 51.0]\n",
    "f(v) = p .+ β * v\n",
    "\n",
    "sol = fixedpoint(v -> p .+ β * v, iv)\n",
    "println(\"Fixed point = $(sol.zero), and |f(x) - x| = $(norm(f(sol.zero) - sol.zero)) in \" *\n",
    "        \"$(sol.iterations) iterations\")"
   ]
  },
  {
   "cell_type": "markdown",
   "metadata": {
    "slideshow": {
     "slide_type": "subslide"
    }
   },
   "source": [
    "Finally, to demonstrate the importance of composing different libraries, use a `StaticArrays.jl` type, which provides an efficient implementation for small arrays and matrices"
   ]
  },
  {
   "cell_type": "code",
   "execution_count": 36,
   "metadata": {
    "hide-output": false,
    "slideshow": {
     "slide_type": "subslide"
    }
   },
   "outputs": [
    {
     "name": "stdout",
     "output_type": "stream",
     "text": [
      "Fixed point = [9.999999999999998, 20.0, 1.0], and |f(x) - x| = 0.0 in 3 iterations\n"
     ]
    }
   ],
   "source": [
    "using NLsolve, StaticArrays\n",
    "p = @SVector [1.0, 2.0, 0.1]\n",
    "β = 0.9\n",
    "iv = @SVector  [0.8, 2.0, 51.0]\n",
    "f(v) = p .+ β * v\n",
    "\n",
    "sol = fixedpoint(v -> p .+ β * v, iv)\n",
    "println(\"Fixed point = $(sol.zero), and |f(x) - x| = $(norm(f(sol.zero) - sol.zero)) in \" *\n",
    "        \"$(sol.iterations) iterations\")"
   ]
  },
  {
   "cell_type": "markdown",
   "metadata": {
    "slideshow": {
     "slide_type": "subslide"
    }
   },
   "source": [
    "The `@SVector` in front of the `[1.0, 2.0, 0.1]` is a macro for turning a vector literal into a static vector\n",
    "\n",
    "All macros in Julia are prefixed by `@` in the name, and manipulate the code prior to compilation\n",
    "\n",
    "We will see a variety of macros, and discuss the “metaprogramming” behind them in a later lecture"
   ]
  }
 ],
 "metadata": {
  "celltoolbar": "Slideshow",
  "filename": "julia_by_example.rst",
  "kernelspec": {
   "display_name": "Julia 1.3.0",
   "language": "julia",
   "name": "julia-1.3"
  },
  "language_info": {
   "file_extension": ".jl",
   "mimetype": "application/julia",
   "name": "julia",
   "version": "1.3.0"
  },
  "title": "Introductory Examples"
 },
 "nbformat": 4,
 "nbformat_minor": 2
}
