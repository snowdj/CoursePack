{
 "cells": [
  {
   "cell_type": "markdown",
   "metadata": {
    "slideshow": {
     "slide_type": "slide"
    }
   },
   "source": [
    "# [ScPo-CompEcon](https://github.com/ScPo-CompEcon/Syllabus) CoursePack\n",
    "\n",
    "![](assets/figs/SciencesP.jpg)"
   ]
  },
  {
   "cell_type": "markdown",
   "metadata": {
    "slideshow": {
     "slide_type": "slide"
    }
   },
   "source": [
    "This website contains the course material for the [computational economics course at Sciences Po](https://github.com/ScPo-CompEcon/Syllabus) taught by [Florian Oswald](https://floswald.github.io).\n",
    "\n",
    "For the assosciated homeworks, please go to our [github organization](https://github.com/ScPo-CompEcon), which lists all of them. Instructions contained within.\n",
    "\n",
    "Much of the below material is derived from the excellent [QuantEcon](https://lectures.quantecon.org) project. Thanks to the entire team for making this material available. Each quantecon-derived notebook will clearly indicate that on top."
   ]
  },
  {
   "cell_type": "markdown",
   "metadata": {
    "slideshow": {
     "slide_type": "slide"
    }
   },
   "source": [
    "## Course Materials\n",
    "\n",
    "You can look at the material in a variety of formats. All content is created as `IJulia` notebooks, which you can edit on your computer, and from those notebooks I create `html` rendered versions, `pdf`s and html slides. \n",
    "\n",
    "\n",
    "### Slides\n",
    "\n",
    "Most of those are HTML slides. You should be connected to the internet to look at them.  \n",
    "\n",
    "* [Intro: Why Julia?](https://ScPo-CompEcon.github.io/CoursePack/assets/static/HTML/intro.html)  \n",
    "* [Getting Started](https://ScPo-CompEcon.github.io/CoursePack/Slides/getting_started)  \n",
    "* [Tools and Editors](https://ScPo-CompEcon.github.io/CoursePack/Slides/tools_editors)\n",
    "* [Julia By Example](https://ScPo-CompEcon.github.io/CoursePack/Slides/julia_by_example)\n",
    "* [Fundamental Types](https://ScPo-CompEcon.github.io/CoursePack/Slides/fundamental_types)\n",
    "* [Julia Essentials](https://ScPo-CompEcon.github.io/CoursePack/Slides/julia_essentials)\n",
    "* [The Need for Speed](https://ScPo-CompEcon.github.io/CoursePack/Slides/need_for_speed)\n",
    "* [Data and Statistical Packages](https://ScPo-CompEcon.github.io/CoursePack/Slides/data_statistical_packages)\n",
    "* [Plots.jl](https://ScPo-CompEcon.github.io/CoursePack/Slides/PlotsJL)  \n",
    "* [Testing](https://ScPo-CompEcon.github.io/CoursePack/Slides/testing)  \n",
    "* [Numerical Integration](https://ScPo-CompEcon.github.io/CoursePack/Slides/integration)  \n",
    "* [Function Approximation](https://ScPo-CompEcon.github.io/CoursePack/Slides/funcapprox)  \n",
    "* [Optimization I](https://ScPo-CompEcon.github.io/CoursePack/Slides/optimization)  \n",
    "* [Optimization II](https://ScPo-CompEcon.github.io/CoursePack/Slides/optimization2)   \n",
    "* [Dynamic Programming](https://ScPo-CompEcon.github.io/CoursePack/Slides/dynamic-programming)  \n",
    "* [Julia HPC](https://ScPo-CompEcon.github.io/CoursePack/Slides/HPC) \n",
    "\n",
    "\n",
    "\n",
    "### Rendered Notebooks \n",
    "\n",
    "These are `IJulia` notebooks that I rendered for you. You cannot enter code into those (you can interact with some graphics though). For the actual notebooks, please see next section.  \n",
    "\n",
    "* [Getting Started](https://ScPo-CompEcon.github.io/CoursePack/Html/getting_started)  \n",
    "* [Tools and Editors](https://ScPo-CompEcon.github.io/CoursePack/Html/tools_editors)\n",
    "* [Julia By Example](https://ScPo-CompEcon.github.io/CoursePack/Html/julia_by_example)\n",
    "* [Fundamental Types](https://ScPo-CompEcon.github.io/CoursePack/Html/fundamental_types)\n",
    "* [Julia Essentials](https://ScPo-CompEcon.github.io/CoursePack/Html/julia_essentials)\n",
    "* [The Need for Speed](https://ScPo-CompEcon.github.io/CoursePack/Html/need_for_speed)\n",
    "* [Benchmarking against other languages](https://ScPo-CompEcon.github.io/CoursePack/Html/languages-benchmark)\n",
    "* [Data and Statistical Packages](https://ScPo-CompEcon.github.io/CoursePack/Html/data_statistical_packages)\n",
    "* [Plots.jl](https://ScPo-CompEcon.github.io/CoursePack/Html/PlotsJL)  \n",
    "* [Testing](https://ScPo-CompEcon.github.io/CoursePack/Html/testing)  \n",
    "* [Numerical Integration](https://ScPo-CompEcon.github.io/CoursePack/Html/integration)  \n",
    "* [Function Approximation](https://ScPo-CompEcon.github.io/CoursePack/Html/funcapprox)  \n",
    "* [Optimization I](https://ScPo-CompEcon.github.io/CoursePack/Html/optimization)  \n",
    "* [Optimization II](https://ScPo-CompEcon.github.io/CoursePack/Html/optimization2)   \n",
    "* [Dynamic Programming](https://ScPo-CompEcon.github.io/CoursePack/Html/dynamic-programming)  \n",
    "* [Julia HPC](https://ScPo-CompEcon.github.io/CoursePack/Html/HPC) \n",
    "\n",
    "\n",
    "### Notebooks\n",
    "\n",
    "You can download those to follow along with the steps I'll be doing in class. You will need to *run* the notebook either through jupyter or by calling `notebook()` from within Julia. There is a link to access the quantecon version wherever applicable.\n",
    "\n",
    "* [Getting Started](https://ScPo-CompEcon.github.io/CoursePack/Notebooks/getting_started.ipynb)\n",
    "* [Tools and Editors](https://ScPo-CompEcon.github.io/CoursePack/Notebooks/tools_editors.ipynb)\n",
    "* [Julia By Example](https://ScPo-CompEcon.github.io/CoursePack/Notebooks/julia_by_example.ipynb)\n",
    "    * [Exercises 1](https://ScPo-CompEcon.github.io/CoursePack/Notebooks/exercises1.ipynb)\n",
    "* [Fundamental Types](https://ScPo-CompEcon.github.io/CoursePack/Notebooks/fundamental_types.ipynb)\n",
    "    * [Homework 1](https://ScPo-CompEcon.github.io/CoursePack/Notebooks/HW1.ipynb)\n",
    "* [Julia Essentials](https://ScPo-CompEcon.github.io/CoursePack/Notebooks/julia_essentials.ipynb)\n",
    "* [The Need for Speed](https://ScPo-CompEcon.github.io/CoursePack/Notebooks/need_for_speed.ipynb)\n",
    "* [Benchmarking against other languages](https://ScPo-CompEcon.github.io/CoursePack/Html/languages-benchmark.ipynb)\n",
    "* [Data and Statistical Packages](https://ScPo-CompEcon.github.io/CoursePack/Notebooks/data_statistical_packages.ipynb)\n",
    "* [Plots.jl](https://ScPo-CompEcon.github.io/CoursePack/Notebooks/PlotsJL.ipynb)\n",
    "* [testing](https://ScPo-CompEcon.github.io/CoursePack/Notebooks/testing.ipynb)\n",
    "* [Numerical Integration](https://ScPo-CompEcon.github.io/CoursePack/Notebooks/integration.ipynb)\n",
    "* [Function Approximation](https://ScPo-CompEcon.github.io/CoursePack/Notebooks/funcapprox.ipynb)\n",
    "* [Optimization I](https://ScPo-CompEcon.github.io/CoursePack/Notebooks/optimization.ipynb)\n",
    "* [Optimization II](https://ScPo-CompEcon.github.io/CoursePack/Notebooks/optimization2.ipynb)\n",
    "* [Dynamic Programming](https://ScPo-CompEcon.github.io/CoursePack/Notebooks/dynamic-programming.ipynb)\n",
    "* [Julia HPC](https://ScPo-CompEcon.github.io/CoursePack/Notebooks/HPC.ipynb)\n",
    "* [Solving the Growth Model in 7 Ways](https://ScPo-CompEcon.github.io/CoursePack/Notebooks/GrowthModelSolutionMethods_jl.ipynb)\n",
    "\n",
    "\n",
    "\n",
    "### Pdf \n",
    "\n",
    "* [Intro: Why Julia?](https://ScPo-CompEcon.github.io/CoursePack/static/pdf/intro.pdf)  \n",
    "* [Numerical Integration](https://ScPo-CompEcon.github.io/CoursePack/Pdfs/integration.pdf)    \n",
    "* [Function Approximation](https://ScPo-CompEcon.github.io/CoursePack/Pdfs/funcapprox.pdf)  \n",
    "* [Optimization I](https://ScPo-CompEcon.github.io/CoursePack/Pdfs/optimization.pdf)  \n",
    "* [Optimization II](https://ScPo-CompEcon.github.io/CoursePack/Pdfs/optimization2.pdf)   \n",
    "* [Dynamic Programming](https://ScPo-CompEcon.github.io/CoursePack/Pdfs/dynamic-programming.pdf)  \n",
    "* [Estimating DP models](https://ScPo-CompEcon.github.io/CoursePack/Pdfs/dp-estimation.pdf)  \n",
    "* [MPEC for starters](https://ScPo-CompEcon.github.io/CoursePack/Pdfs/CEPM.pdf)  \n",
    "\n",
    "## Term Project\n",
    "\n",
    "[Short initial presentation](https://ScPo-CompEcon.github.io/CoursePack/Pdfs/coursematch.pdf)\n",
    "\n",
    "\n"
   ]
  },
  {
   "cell_type": "markdown",
   "metadata": {},
   "source": [
    "\n",
    "## How to build this \n",
    "\n",
    "You should only worry about this section if you want to rebuild the site yourself.\n",
    "\n",
    "#### Requirements\n",
    "\n",
    "```bash\n",
    "#python\n",
    "#latex\n",
    "#ruby\n",
    "pip install jupyter\n",
    "pip install pandoc\n",
    "```\n",
    "\n",
    "#### Building\n",
    "\n",
    "in the root of this repo do\n",
    "\n",
    "```bash\n",
    "rake # builds all\n",
    "rake html # builds only html\n",
    "rake slides # builds slides\n",
    "rake offline # builds offline slides; mathjax doesn't work properly offline.\n",
    "```\n",
    "\n",
    "\n",
    "\n"
   ]
  }
 ],
 "metadata": {
  "kernelspec": {
   "display_name": "Julia 1.0.0",
   "language": "julia",
   "name": "julia-1.0"
  },
  "language_info": {
   "file_extension": ".jl",
   "mimetype": "application/julia",
   "name": "julia",
   "version": "1.0.3"
  }
 },
 "nbformat": 4,
 "nbformat_minor": 1
}
