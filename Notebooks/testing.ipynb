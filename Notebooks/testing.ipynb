{
 "cells": [
  {
   "cell_type": "markdown",
   "metadata": {
    "slideshow": {
     "slide_type": "slide"
    }
   },
   "source": [
    "# Packages, Testing, and Continuous Integration\n",
    "\n",
    "Florian Oswald\n",
    "\n",
    "This is lecture is a slightly modified version of https://lectures.quantecon.org/jl/testing.html Thank you to the amazing Quantecon.org team!"
   ]
  },
  {
   "cell_type": "markdown",
   "metadata": {
    "slideshow": {
     "slide_type": "slide"
    }
   },
   "source": [
    "## Contents\n",
    "\n",
    "- [Packages, Testing, and Continuous Integration](#Packages,-Testing,-and-Continuous-Integration)  \n",
    "  - [Project Setup](#Project-Setup)  \n",
    "  - [Project Structure](#Project-Structure)  \n",
    "  - [Project Workflow](#Project-Workflow)  \n",
    "  - [Unit Testing](#Unit-Testing)  \n",
    "  - [Continuous Integration with Travis](#Continuous-Integration-with-Travis)  \n",
    "  - [Code Coverage](#Code-Coverage)  \n",
    "  - [Pull Requests to External Julia Projects](#Pull-Requests-to-External-Julia-Projects)  \n",
    "  - [Benchmarking](#Benchmarking)  \n",
    "  - [Additional Notes](#Additional-Notes)  \n",
    "  - [Review](#Review)  \n",
    "  - [Exercises](#Exercises)  "
   ]
  },
  {
   "cell_type": "markdown",
   "metadata": {
    "slideshow": {
     "slide_type": "slide"
    }
   },
   "source": [
    "This lecture discusses structuring a project as a Julia module, and testing it with tools from GitHub.\n",
    "\n",
    "Benefits include:\n",
    "\n",
    "1. Specifying dependencies (and their versions) so that your project works across Julia setups and over time  \n",
    "1. Being able to load your project’s functions from outside without copy/pasting  \n",
    "1. Writing tests that run locally, *and automatically on the GitHub server*  \n",
    "1. Having GitHub test your project across operating systems, Julia versions, etc.  \n",
    "\n",
    "\n",
    "\n",
    "<a id='project-setup'></a>"
   ]
  },
  {
   "cell_type": "markdown",
   "metadata": {
    "slideshow": {
     "slide_type": "slide"
    }
   },
   "source": [
    "## Setting Up your Github Accounts"
   ]
  },
  {
   "cell_type": "markdown",
   "metadata": {
    "slideshow": {
     "slide_type": "subslide"
    }
   },
   "source": [
    "#### Travis CI\n",
    "\n",
    "* Travis is a service that automatically tests your projects.\n",
    "* First, we need to make sure that your GitHub account is set up with Travis CI and Codecov\n",
    "* As a reminder, make sure you signed up for the GitHub [Student Developer Pack](https://education.github.com/pack/) or [Academic Plan](https://help.github.com/articles/applying-for-an-academic-research-discount/) if eligible\n",
    "* Navigate to the [travis-ci.com website](https://travis-ci.com/) and click “sign up with GitHub” – supply your credentials\n",
    "* If you get stuck, see the [Travis tutorial](https://docs.travis-ci.com/user/tutorial/)"
   ]
  },
  {
   "cell_type": "markdown",
   "metadata": {
    "slideshow": {
     "slide_type": "subslide"
    }
   },
   "source": [
    "#### Codecov\n",
    "\n",
    "Codecov is a service that tells you how comprehensive your tests are (i.e., how much of your code is actually tested)\n",
    "\n",
    "To sign up, visit the [Codecov website](http://codecov.io/), and click “sign up”\n",
    "\n",
    "<img src=\"https://s3-ap-southeast-2.amazonaws.com/lectures.quantecon.org/jl/_static/figures/codecov-1.png\" style=\"width:100%;height:100%\">\n",
    "\n",
    "  \n",
    "Next, click “add a repository” and *enable private scope* (this allows Codecov to service your private projects)\n",
    "\n",
    "The result should be\n",
    "\n",
    "<img src=\"https://s3-ap-southeast-2.amazonaws.com/lectures.quantecon.org/jl/_static/figures/codecov-2.png\" style=\"width:100%;height:100%\">\n",
    "\n",
    "  \n",
    "This is all we need for now"
   ]
  },
  {
   "cell_type": "markdown",
   "metadata": {
    "slideshow": {
     "slide_type": "slide"
    }
   },
   "source": [
    "### Julia Setup"
   ]
  },
  {
   "cell_type": "code",
   "execution_count": 1,
   "metadata": {
    "hide-output": false,
    "slideshow": {
     "slide_type": "slide"
    }
   },
   "outputs": [],
   "source": [
    "using InstantiateFromURL\n",
    "\n",
    "# activate the QuantEcon environment\n",
    "activate_github(\"QuantEcon/QuantEconLectureAllPackages\", tag = \"v0.9.7\");"
   ]
  },
  {
   "cell_type": "markdown",
   "metadata": {
    "slideshow": {
     "slide_type": "slide"
    }
   },
   "source": [
    "**Note:** Before these steps, make sure that you’ve either completed the [version control](https://lectures.quantecon.org/jl/version_control.html#) lecture or run\n",
    "\n",
    "**Note:** Throughout this lecture, important points and sequential workflow steps are listed as bullets"
   ]
  },
  {
   "cell_type": "markdown",
   "metadata": {
    "hide-output": false,
    "slideshow": {
     "slide_type": "slide"
    }
   },
   "source": [
    "```julia\n",
    "git config --global user.name \"Your Name\"\n",
    "```\n"
   ]
  },
  {
   "cell_type": "markdown",
   "metadata": {
    "slideshow": {
     "slide_type": "slide"
    }
   },
   "source": [
    "To set up a project on Julia:\n",
    "\n",
    "- Load the [PkgTemplates](https://github.com/invenia/PkgTemplates.jl/) package  "
   ]
  },
  {
   "cell_type": "code",
   "execution_count": 2,
   "metadata": {
    "hide-output": false,
    "slideshow": {
     "slide_type": "slide"
    }
   },
   "outputs": [],
   "source": [
    "using PkgTemplates"
   ]
  },
  {
   "cell_type": "markdown",
   "metadata": {
    "slideshow": {
     "slide_type": "slide"
    }
   },
   "source": [
    "- Create a *template* for your project  \n",
    "\n",
    "\n",
    "This specifies metadata like the license we’ll be using (MIT by default), the location (`~/.julia/dev` by default), etc."
   ]
  },
  {
   "cell_type": "code",
   "execution_count": 4,
   "metadata": {
    "hide-output": false,
    "slideshow": {
     "slide_type": "slide"
    }
   },
   "outputs": [
    {
     "data": {
      "text/plain": [
       "Template:\n",
       "  → User: ScPo-CompEcon\n",
       "  → Host: github.com\n",
       "  → License: MIT (florian oswald 2019)\n",
       "  → Package directory: ~/.julia/dev\n",
       "  → Minimum Julia version: v1.1\n",
       "  → SSH remote: No\n",
       "  → Commit Manifest.toml: No\n",
       "  → Plugins:\n",
       "    • Codecov:\n",
       "      → Config file: None\n",
       "      → 3 gitignore entries: \"*.jl.cov\", \"*.jl.*.cov\", \"*.jl.mem\"\n",
       "    • TravisCI:\n",
       "      → Config file: Default\n",
       "      → 0 gitignore entries"
      ]
     },
     "execution_count": 4,
     "metadata": {},
     "output_type": "execute_result"
    }
   ],
   "source": [
    "ourTemplate = Template(;user=\"ScPo-CompEcon\", plugins = [TravisCI(), Codecov()])"
   ]
  },
  {
   "cell_type": "markdown",
   "metadata": {
    "slideshow": {
     "slide_type": "slide"
    }
   },
   "source": [
    "**Note**: Make sure you replace the `ScPo-CompEcon` with your GitHub ID\n",
    "\n",
    "- Create a specific project based off this template  "
   ]
  },
  {
   "cell_type": "code",
   "execution_count": 6,
   "metadata": {
    "hide-output": false,
    "slideshow": {
     "slide_type": "slide"
    }
   },
   "outputs": [
    {
     "name": "stdout",
     "output_type": "stream",
     "text": [
      "\u001b[32m\u001b[1mGenerating\u001b[22m\u001b[39m project ExamplePackage:\n",
      "    /Users/florian.oswald/.julia/dev/ExamplePackage/Project.toml\n",
      "    /Users/florian.oswald/.julia/dev/ExamplePackage/src/ExamplePackage.jl\n"
     ]
    },
    {
     "name": "stderr",
     "output_type": "stream",
     "text": [
      "┌ Info: Initialized Git repo at /Users/florian.oswald/.julia/dev/ExamplePackage\n",
      "└ @ PkgTemplates /Users/florian.oswald/.julia/packages/PkgTemplates/YbOlC/src/generate.jl:29\n",
      "┌ Info: Set remote origin to https://github.com/ScPo-CompEcon/ExamplePackage.jl\n",
      "└ @ PkgTemplates /Users/florian.oswald/.julia/packages/PkgTemplates/YbOlC/src/generate.jl:48\n"
     ]
    },
    {
     "name": "stdout",
     "output_type": "stream",
     "text": [
      "\u001b[32m\u001b[1m  Updating\u001b[22m\u001b[39m registry at `~/.julia/registries/General`\n",
      "\u001b[32m\u001b[1m  Updating\u001b[22m\u001b[39m git-repo `https://github.com/JuliaRegistries/General.git`\n",
      "\u001b[2K\u001b[?25h[1mFetching:\u001b[22m\u001b[39m [========================================>]  100.0 %.0 %\u001b[32m\u001b[1m Resolving\u001b[22m\u001b[39m package versions...\n",
      "\u001b[32m\u001b[1m  Updating\u001b[22m\u001b[39m `~/.julia/dev/ExamplePackage/Project.toml`\n",
      " \u001b[90m [8dfed614]\u001b[39m\u001b[92m + Test \u001b[39m\n",
      "\u001b[32m\u001b[1m  Updating\u001b[22m\u001b[39m `~/.julia/dev/ExamplePackage/Manifest.toml`\n",
      " \u001b[90m [2a0f44e3]\u001b[39m\u001b[92m + Base64 \u001b[39m\n",
      " \u001b[90m [8ba89e20]\u001b[39m\u001b[92m + Distributed \u001b[39m\n",
      " \u001b[90m [b77e0a4c]\u001b[39m\u001b[92m + InteractiveUtils \u001b[39m\n",
      " \u001b[90m [56ddb016]\u001b[39m\u001b[92m + Logging \u001b[39m\n",
      " \u001b[90m [d6f4376e]\u001b[39m\u001b[92m + Markdown \u001b[39m\n",
      " \u001b[90m [9a3f8284]\u001b[39m\u001b[92m + Random \u001b[39m\n",
      " \u001b[90m [9e88b42a]\u001b[39m\u001b[92m + Serialization \u001b[39m\n",
      " \u001b[90m [6462fe0b]\u001b[39m\u001b[92m + Sockets \u001b[39m\n",
      " \u001b[90m [8dfed614]\u001b[39m\u001b[92m + Test \u001b[39m\n",
      "\u001b[32m\u001b[1m  Updating\u001b[22m\u001b[39m registry at `~/.julia/registries/General`\n",
      "\u001b[32m\u001b[1m  Updating\u001b[22m\u001b[39m git-repo `https://github.com/JuliaRegistries/General.git`\n",
      "\u001b[?25l\u001b[2K\u001b[?25h\u001b[32m\u001b[1m Resolving\u001b[22m\u001b[39m package versions...\n",
      "\u001b[32m\u001b[1m  Updating\u001b[22m\u001b[39m `~/.julia/dev/ExamplePackage/Project.toml`\n",
      "\u001b[90m [no changes]\u001b[39m\n",
      "\u001b[32m\u001b[1m  Updating\u001b[22m\u001b[39m `~/.julia/dev/ExamplePackage/Manifest.toml`\n",
      " \u001b[90m [2a0f44e3]\u001b[39m\u001b[91m - Base64 \u001b[39m\n",
      " \u001b[90m [8ba89e20]\u001b[39m\u001b[91m - Distributed \u001b[39m\n",
      " \u001b[90m [b77e0a4c]\u001b[39m\u001b[91m - InteractiveUtils \u001b[39m\n",
      " \u001b[90m [56ddb016]\u001b[39m\u001b[91m - Logging \u001b[39m\n",
      " \u001b[90m [d6f4376e]\u001b[39m\u001b[91m - Markdown \u001b[39m\n",
      " \u001b[90m [9a3f8284]\u001b[39m\u001b[91m - Random \u001b[39m\n",
      " \u001b[90m [9e88b42a]\u001b[39m\u001b[91m - Serialization \u001b[39m\n",
      " \u001b[90m [6462fe0b]\u001b[39m\u001b[91m - Sockets \u001b[39m\n",
      " \u001b[90m [8dfed614]\u001b[39m\u001b[91m - Test \u001b[39m\n",
      "\u001b[32m\u001b[1m Resolving\u001b[22m\u001b[39m package versions...\n"
     ]
    },
    {
     "name": "stderr",
     "output_type": "stream",
     "text": [
      "┌ Info: Committed 8 files/directories: src/, Project.toml, test/, REQUIRE, README.md, LICENSE, .travis.yml, .gitignore\n",
      "└ @ PkgTemplates /Users/florian.oswald/.julia/packages/PkgTemplates/YbOlC/src/generate.jl:73\n"
     ]
    },
    {
     "name": "stdout",
     "output_type": "stream",
     "text": [
      "\u001b[32m\u001b[1m  Updating\u001b[22m\u001b[39m `~/.julia/environments/v1.1/Project.toml`\n",
      " \u001b[90m [63b64609]\u001b[39m\u001b[92m + ExamplePackage v0.1.0 [`~/.julia/dev/ExamplePackage`]\u001b[39m\n",
      "\u001b[32m\u001b[1m  Updating\u001b[22m\u001b[39m `~/.julia/environments/v1.1/Manifest.toml`\n",
      " \u001b[90m [63b64609]\u001b[39m\u001b[92m + ExamplePackage v0.1.0 [`~/.julia/dev/ExamplePackage`]\u001b[39m\n"
     ]
    },
    {
     "name": "stderr",
     "output_type": "stream",
     "text": [
      "┌ Info: New package is at /Users/florian.oswald/.julia/dev/ExamplePackage\n",
      "└ @ PkgTemplates /Users/florian.oswald/.julia/packages/PkgTemplates/YbOlC/src/generate.jl:84\n"
     ]
    }
   ],
   "source": [
    "generate(\"ExamplePackage.jl\", ourTemplate)"
   ]
  },
  {
   "cell_type": "markdown",
   "metadata": {
    "slideshow": {
     "slide_type": "slide"
    }
   },
   "source": [
    "If we navigate to the package directory (shown in the output), we should see something like the following\n",
    "\n",
    "<img src=\"https://s3-ap-southeast-2.amazonaws.com/lectures.quantecon.org/jl/_static/figures/testing-dir.png\" style=\"width:100%;height:100%\">\n",
    "\n",
    "  \n",
    "**Note:** On Mac, this may be hidden; you can either start a terminal, `cd ~` and then `cd .julia`, or make [hidden files visible](https://ianlunn.co.uk/articles/quickly-showhide-hidden-files-mac-os-x-mavericks/) in the Finder"
   ]
  },
  {
   "cell_type": "markdown",
   "metadata": {
    "slideshow": {
     "slide_type": "slide"
    }
   },
   "source": [
    "### Adding a Project to Github\n",
    "\n",
    "The next step is to creat a repository online where to store our code.\n",
    "\n",
    "* go to github.com, login, and click on new repository\n",
    "\n",
    "We’ll want the following settings\n",
    "\n",
    "<img src=\"https://s3-ap-southeast-2.amazonaws.com/lectures.quantecon.org/jl/_static/figures/testing-git1.png\" style=\"width:100%;height:100%\">\n",
    "\n",
    "  \n",
    "In particular\n",
    "\n",
    "- The repo you create should have the same name as the project we added  \n",
    "- We should leave the boxes unchecked for the `README.md`, `LICENSE`, and `.gitignore`, since these are handled by `PkgTemplates`  \n",
    "\n",
    "\n",
    "Then, if you use Github Desktop\n",
    "\n",
    "- Drag and drop your folder from your `~/.julia/dev` directory to GitHub Desktop  \n",
    "- Click the “publish branch” button to upload your files to GitHub  \n",
    "\n",
    "Else, if you use the commandline, do\n",
    "\n",
    "```bash\n",
    "cd ~/.julia/dev/ExamplePackage\n",
    "git add .\n",
    "git commit -m 'initial commit'\n",
    "git push origin master\n",
    "```\n",
    "\n",
    "\n",
    "If you navigate to your git repo (ours is [here](https://github.com/ScPo-CompEcon/ExamplePackage.jl/)), you should see something like\n",
    "\n",
    "<img src=\"https://s3-ap-southeast-2.amazonaws.com/lectures.quantecon.org/jl/_static/figures/testing-git2.png\" style=\"width:100%;height:100%\">\n",
    "\n",
    "  \n",
    "**Note:** Be sure that you don’t separately clone the repo you just added to another location (i.e., to your desktop)\n",
    "\n",
    "A key note is that you have some set of files on your local machine (here in `~/.julia/dev/ExamplePackage.jl`) and git is plugged into those files\n",
    "\n",
    "For convenience, you might want to create a shortcut to that location somewhere accessible"
   ]
  },
  {
   "cell_type": "markdown",
   "metadata": {
    "slideshow": {
     "slide_type": "slide"
    }
   },
   "source": [
    "### Adding a Project to the Julia Package Manager\n",
    "\n",
    "* We also want Julia’s package manager to be aware of the project\n",
    "* In order to make it *visible* to the package manager, we need to execute the Pkg-mode command `dev`\n",
    "\n",
    "- Open a REPL in the newly created project directory, either by noting the path printed above, or by running the following in a REPL  "
   ]
  },
  {
   "cell_type": "code",
   "execution_count": 7,
   "metadata": {
    "hide-output": false,
    "slideshow": {
     "slide_type": "slide"
    }
   },
   "outputs": [],
   "source": [
    "# first we go to where our package is on our computer\n",
    "cd(joinpath(DEPOT_PATH[1], \"dev\", \"ExamplePackage\"))   # Note the lack of `.jl`!\n",
    "# ] goes into pkg mode!\n"
   ]
  },
  {
   "cell_type": "code",
   "execution_count": 13,
   "metadata": {
    "slideshow": {
     "slide_type": "slide"
    }
   },
   "outputs": [],
   "source": [
    "] activate"
   ]
  },
  {
   "cell_type": "code",
   "execution_count": 14,
   "metadata": {
    "hide-output": false,
    "slideshow": {
     "slide_type": "slide"
    }
   },
   "outputs": [
    {
     "name": "stdout",
     "output_type": "stream",
     "text": [
      "\u001b[32m\u001b[1m Resolving\u001b[22m\u001b[39m package versions...\n",
      "\u001b[32m\u001b[1m  Updating\u001b[22m\u001b[39m `~/.julia/environments/v1.1/Project.toml`\n",
      "\u001b[90m [no changes]\u001b[39m\n",
      "\u001b[32m\u001b[1m  Updating\u001b[22m\u001b[39m `~/.julia/environments/v1.1/Manifest.toml`\n",
      "\u001b[90m [no changes]\u001b[39m\n"
     ]
    }
   ],
   "source": [
    "] dev ."
   ]
  },
  {
   "cell_type": "code",
   "execution_count": 15,
   "metadata": {
    "hide-output": false,
    "slideshow": {
     "slide_type": "slide"
    }
   },
   "outputs": [
    {
     "name": "stdout",
     "output_type": "stream",
     "text": [
      "\u001b[32m\u001b[1m    Status\u001b[22m\u001b[39m `~/.julia/environments/v1.1/Project.toml`\n",
      " \u001b[90m [c52e3926]\u001b[39m\u001b[37m Atom v0.7.14\u001b[39m\n",
      " \u001b[90m [aae01518]\u001b[39m\u001b[37m BandedMatrices v0.8.1\u001b[39m\n",
      " \u001b[90m [6e4b80f9]\u001b[39m\u001b[37m BenchmarkTools v0.4.2\u001b[39m\n",
      " \u001b[90m [a134a8b2]\u001b[39m\u001b[37m BlackBoxOptim v0.4.0\u001b[39m\n",
      " \u001b[90m [ad839575]\u001b[39m\u001b[37m Blink v0.10.1\u001b[39m\n",
      " \u001b[90m [324d7699]\u001b[39m\u001b[37m CategoricalArrays v0.5.2\u001b[39m\n",
      " \u001b[90m [3da002f7]\u001b[39m\u001b[37m ColorTypes v0.7.5\u001b[39m\n",
      " \u001b[90m [34da2185]\u001b[39m\u001b[37m Compat v1.4.0\u001b[39m\n",
      " \u001b[90m [8f4d0f93]\u001b[39m\u001b[37m Conda v1.2.0\u001b[39m\n",
      " \u001b[90m [2023c74b]\u001b[39m\u001b[37m CourseMatch v0.1.0 [`../../dev/CourseMatch`]\u001b[39m\n",
      " \u001b[90m [a93c6f00]\u001b[39m\u001b[37m DataFrames v0.17.0\u001b[39m\n",
      " \u001b[90m [1313f7d8]\u001b[39m\u001b[37m DataFramesMeta v0.4.0\u001b[39m\n",
      " \u001b[90m [864edb3b]\u001b[39m\u001b[37m DataStructures v0.15.0\u001b[39m\n",
      " \u001b[90m [5721bf48]\u001b[39m\u001b[37m DataVoyager v0.3.1\u001b[39m\n",
      " \u001b[90m [01453d9d]\u001b[39m\u001b[37m DiffEqDiffTools v0.7.1\u001b[39m\n",
      " \u001b[90m [0c46a032]\u001b[39m\u001b[37m DifferentialEquations v6.3.0\u001b[39m\n",
      " \u001b[90m [31c24e10]\u001b[39m\u001b[37m Distributions v0.16.4\u001b[39m\n",
      " \u001b[90m [63b64609]\u001b[39m\u001b[37m ExamplePackage v0.1.0 [`../../dev/ExamplePackage`]\u001b[39m\n",
      " \u001b[90m [442a2c76]\u001b[39m\u001b[37m FastGaussQuadrature v0.3.2\u001b[39m\n",
      " \u001b[90m [1a297f60]\u001b[39m\u001b[37m FillArrays v0.4.0\u001b[39m\n",
      " \u001b[90m [9d5cd8c9]\u001b[39m\u001b[37m FixedEffectModels v0.7.1\u001b[39m\n",
      " \u001b[90m [587475ba]\u001b[39m\u001b[37m Flux v0.7.1\u001b[39m\n",
      " \u001b[90m [f6369f11]\u001b[39m\u001b[37m ForwardDiff v0.10.2\u001b[39m\n",
      " \u001b[90m [38e38edf]\u001b[39m\u001b[37m GLM v1.0.2\u001b[39m\n",
      " \u001b[90m [28b8d3ca]\u001b[39m\u001b[37m GR v0.37.0\u001b[39m\n",
      " \u001b[90m [7073ff75]\u001b[39m\u001b[37m IJulia v1.15.2\u001b[39m\n",
      " \u001b[90m [43edad99]\u001b[39m\u001b[37m InstantiateFromURL v0.2.1\u001b[39m\n",
      " \u001b[90m [a98d9a8b]\u001b[39m\u001b[37m Interpolations v0.11.1\u001b[39m\n",
      " \u001b[90m [b6b21f68]\u001b[39m\u001b[37m Ipopt v0.5.1\u001b[39m\n",
      " \u001b[90m [4076af6c]\u001b[39m\u001b[37m JuMP v0.18.5\u001b[39m\n",
      " \u001b[90m [e5e0dc1b]\u001b[39m\u001b[37m Juno v0.5.4\u001b[39m\n",
      " \u001b[90m [5ab0869b]\u001b[39m\u001b[37m KernelDensity v0.5.1\u001b[39m\n",
      " \u001b[90m [b964fa9f]\u001b[39m\u001b[37m LaTeXStrings v1.0.3\u001b[39m\n",
      " \u001b[90m [23fbe1c1]\u001b[39m\u001b[37m Latexify v0.6.0\u001b[39m\n",
      " \u001b[90m [5078a376]\u001b[39m\u001b[37m LazyArrays v0.5.1\u001b[39m\n",
      " \u001b[90m [0fc2ff8b]\u001b[39m\u001b[37m LeastSquaresOptim v0.7.1\u001b[39m\n",
      " \u001b[90m [093fc24a]\u001b[39m\u001b[37m LightGraphs v1.2.0\u001b[39m\n",
      " \u001b[90m [739be429]\u001b[39m\u001b[37m MbedTLS v0.6.8\u001b[39m\n",
      " \u001b[90m [76087f3c]\u001b[39m\u001b[37m NLopt v0.5.1\u001b[39m\n",
      " \u001b[90m [2774e3e8]\u001b[39m\u001b[37m NLsolve v3.0.1\u001b[39m\n",
      " \u001b[90m [47be7bcc]\u001b[39m\u001b[37m ORCA v0.2.1\u001b[39m\n",
      " \u001b[90m [429524aa]\u001b[39m\u001b[37m Optim v0.17.2\u001b[39m\n",
      " \u001b[90m [3b7a836e]\u001b[39m\u001b[37m PGFPlots v3.0.3\u001b[39m\n",
      " \u001b[90m [d96e819e]\u001b[39m\u001b[37m Parameters v0.10.3\u001b[39m\n",
      " \u001b[90m [14b8a8f1]\u001b[39m\u001b[37m PkgTemplates v0.4.1\u001b[39m\n",
      " \u001b[90m [f0f68f2c]\u001b[39m\u001b[37m PlotlyJS v0.12.3\u001b[39m\n",
      " \u001b[90m [91a5bcdd]\u001b[39m\u001b[37m Plots v0.22.5\u001b[39m\n",
      " \u001b[90m [f27b6e38]\u001b[39m\u001b[37m Polynomials v0.5.2\u001b[39m\n",
      " \u001b[90m [92933f4c]\u001b[39m\u001b[37m ProgressMeter v0.9.0\u001b[39m\n",
      " \u001b[90m [438e738f]\u001b[39m\u001b[37m PyCall v1.18.5\u001b[39m\n",
      " \u001b[90m [d330b81b]\u001b[39m\u001b[37m PyPlot v2.7.0\u001b[39m\n",
      " \u001b[90m [1fd47b50]\u001b[39m\u001b[37m QuadGK v2.0.3\u001b[39m\n",
      " \u001b[90m [fcd29c91]\u001b[39m\u001b[37m QuantEcon v0.15.0\u001b[39m\n",
      " \u001b[90m [1a8c2f83]\u001b[39m\u001b[37m Query v0.10.1\u001b[39m\n",
      " \u001b[90m [612083be]\u001b[39m\u001b[37m Queryverse v0.2.0\u001b[39m\n",
      " \u001b[90m [6f49c342]\u001b[39m\u001b[37m RCall v0.13.1\u001b[39m\n",
      " \u001b[90m [ce6b1742]\u001b[39m\u001b[37m RDatasets v0.6.1\u001b[39m\n",
      " \u001b[90m [d519eb52]\u001b[39m\u001b[37m RegressionTables v0.2.0\u001b[39m\n",
      " \u001b[90m [295af30f]\u001b[39m\u001b[37m Revise v1.0.2\u001b[39m\n",
      " \u001b[90m [f2b01f46]\u001b[39m\u001b[37m Roots v0.7.4\u001b[39m\n",
      " \u001b[90m [ed01d8cd]\u001b[39m\u001b[37m Sobol v1.1.0\u001b[39m\n",
      " \u001b[90m [60ddc479]\u001b[39m\u001b[37m StatPlots v0.9.1\u001b[39m\n",
      " \u001b[90m [90137ffa]\u001b[39m\u001b[37m StaticArrays v0.10.2\u001b[39m\n",
      " \u001b[90m [2913bbd2]\u001b[39m\u001b[37m StatsBase v0.27.0\u001b[39m\n",
      " \u001b[90m [3eaba693]\u001b[39m\u001b[37m StatsModels v0.4.0\u001b[39m\n",
      " \u001b[90m [37b6cedf]\u001b[39m\u001b[37m Traceur v0.2.1\u001b[39m\n",
      " \u001b[90m [0ae4a718]\u001b[39m\u001b[37m VegaDatasets v0.5.0\u001b[39m\n",
      " \u001b[90m [112f6efa]\u001b[39m\u001b[37m VegaLite v0.5.2\u001b[39m\n",
      " \u001b[90m [44d3d7a6]\u001b[39m\u001b[37m Weave v0.7.1\u001b[39m\n",
      " \u001b[90m [37e2e46d]\u001b[39m\u001b[37m LinearAlgebra \u001b[39m\n",
      " \u001b[90m [3fa0cd96]\u001b[39m\u001b[37m REPL \u001b[39m\n",
      " \u001b[90m [9a3f8284]\u001b[39m\u001b[37m Random \u001b[39m\n",
      " \u001b[90m [2f01184e]\u001b[39m\u001b[37m SparseArrays \u001b[39m\n",
      " \u001b[90m [10745b16]\u001b[39m\u001b[37m Statistics \u001b[39m\n",
      " \u001b[90m [8dfed614]\u001b[39m\u001b[37m Test \u001b[39m\n"
     ]
    }
   ],
   "source": [
    "] st"
   ]
  },
  {
   "cell_type": "markdown",
   "metadata": {
    "slideshow": {
     "slide_type": "slide"
    }
   },
   "source": [
    "### Using the Package Manager\n",
    "\n",
    "Now, from any Julia terminal in the future, we can run\n",
    "\n",
    "```text\n",
    "using ExamplePackage\n",
    "```\n",
    "\n",
    "To use its exported functions\n",
    "\n",
    "We can also get the path to this by running\n",
    "\n",
    "```julia\n",
    "using ExamplePackage\n",
    "pathof(ExamplePackage) # returns path to src/ExamplePackage.jl\n",
    "```\n",
    "\n",
    "\n"
   ]
  },
  {
   "cell_type": "markdown",
   "metadata": {
    "slideshow": {
     "slide_type": "slide"
    }
   },
   "source": [
    "## Project Structure\n",
    "\n",
    "Let’s unpack the structure of the generated project\n",
    "\n",
    "- The first directory, `.git`, holds the version control information  \n",
    "- The `src` directory contains the project’s source code – it should contain only one file (`ExamplePackage.jl`), which reads  "
   ]
  },
  {
   "cell_type": "markdown",
   "metadata": {
    "hide-output": false,
    "slideshow": {
     "slide_type": "slide"
    }
   },
   "source": [
    "```julia\n",
    "module ExamplePackage\n",
    "\n",
    "greet() = print(\"Hello World!\")\n",
    "\n",
    "end # module\n",
    "```\n"
   ]
  },
  {
   "cell_type": "markdown",
   "metadata": {
    "slideshow": {
     "slide_type": "slide"
    }
   },
   "source": [
    "- Likewise, the `test` directory should have only one file (`runtests.jl`), which reads  "
   ]
  },
  {
   "cell_type": "markdown",
   "metadata": {
    "hide-output": false,
    "slideshow": {
     "slide_type": "slide"
    }
   },
   "source": [
    "```julia\n",
    "using ExamplePackage\n",
    "using Test\n",
    "\n",
    "@testset \"ExamplePackage.jl\" begin\n",
    "    # Write your own tests here.\n",
    "end\n",
    "```\n"
   ]
  },
  {
   "cell_type": "markdown",
   "metadata": {
    "slideshow": {
     "slide_type": "slide"
    }
   },
   "source": [
    "\n",
    "\n",
    "In particular, the workflow is to export objects we want to test (`using ExamplePackage`), and test them using Julia’s `Test` module\n",
    "\n",
    "The other important text files for now are\n",
    "\n",
    "- `Project.toml` and `Manifest.toml`, which contain dependency information  \n",
    "\n",
    "\n",
    "In particular, the `Project.toml` contains a list of dependencies, and the `Manifest.toml` specifies their exact versions and sub-dependencies\n",
    "\n",
    "- The `.gitignore` file (which may display as an untitled file), which contains files and paths for `git` to ignore  "
   ]
  },
  {
   "cell_type": "markdown",
   "metadata": {},
   "source": [
    "## Project Workflow and Dependencies"
   ]
  },
  {
   "cell_type": "markdown",
   "metadata": {
    "slideshow": {
     "slide_type": "slide"
    }
   },
   "source": [
    "#### Environments\n",
    "\n",
    "As [before](https://lectures.quantecon.org/jl/tools_editors.html#jl-packages), the .toml files define an *environment* for our project, or a set of files which represent the dependency information\n",
    "\n",
    "The actual files are written in the [TOML language](https://github.com/toml-lang/toml), which is a lightweight format to specify configuration options\n",
    "\n",
    "This information is the name of every package we depend on, along with the exact versions of those packages\n",
    "\n",
    "This information (in practice, the result of package operations we execute) will\n",
    "be reflected in our `ExamplePackage.jl` directory’s TOML, once that environment is activated (selected)\n",
    "\n",
    "This allows us to share the project with others, who can exactly reproduce the state used to build and test it\n",
    "\n",
    "See the [Pkg3 docs](https://docs.julialang.org/en/v1/stdlib/Pkg/) for more information"
   ]
  },
  {
   "cell_type": "markdown",
   "metadata": {
    "slideshow": {
     "slide_type": "slide"
    }
   },
   "source": [
    "#### Pkg Operations\n",
    "\n",
    "For now, let’s just try adding a dependency\n",
    "\n",
    "- Activate the package environment (to be run from the base, `v1.0` environment)  "
   ]
  },
  {
   "cell_type": "code",
   "execution_count": 16,
   "metadata": {
    "hide-output": false,
    "slideshow": {
     "slide_type": "slide"
    }
   },
   "outputs": [],
   "source": [
    "] activate ExamplePackage"
   ]
  },
  {
   "cell_type": "markdown",
   "metadata": {
    "slideshow": {
     "slide_type": "slide"
    }
   },
   "source": [
    "\n",
    "<dl style='margin: 20px 0;'>\n",
    "<dt>This tells Julia to write the results of package operations to `ExampleProject`’s TOML,</dt>\n",
    "<dd>\n",
    "and use the versions of packages specified there\n",
    "\n",
    "</dd>\n",
    "\n",
    "</dl>\n",
    "\n",
    "Note that the base environment isn’t special, except that it’s what’s loaded by a freshly-started REPL or Jupyter notebook\n",
    "\n",
    "- Add a package  "
   ]
  },
  {
   "cell_type": "code",
   "execution_count": 17,
   "metadata": {
    "hide-output": false
   },
   "outputs": [
    {
     "name": "stdout",
     "output_type": "stream",
     "text": [
      "\u001b[32m\u001b[1m Resolving\u001b[22m\u001b[39m package versions...\n",
      "\u001b[32m\u001b[1m  Updating\u001b[22m\u001b[39m `~/.julia/dev/ExamplePackage/Project.toml`\n",
      " \u001b[90m [2fe49d83]\u001b[39m\u001b[92m + Expectations v1.0.2\u001b[39m\n",
      "\u001b[32m\u001b[1m  Updating\u001b[22m\u001b[39m `~/.julia/dev/ExamplePackage/Manifest.toml`\n",
      " \u001b[90m [7d9fca2a]\u001b[39m\u001b[92m + Arpack v0.3.0\u001b[39m\n",
      " \u001b[90m [9e28174c]\u001b[39m\u001b[92m + BinDeps v0.8.10\u001b[39m\n",
      " \u001b[90m [b99e7846]\u001b[39m\u001b[92m + BinaryProvider v0.5.3\u001b[39m\n",
      " \u001b[90m [34da2185]\u001b[39m\u001b[92m + Compat v2.0.0\u001b[39m\n",
      " \u001b[90m [864edb3b]\u001b[39m\u001b[92m + DataStructures v0.15.0\u001b[39m\n",
      " \u001b[90m [31c24e10]\u001b[39m\u001b[92m + Distributions v0.16.4\u001b[39m\n",
      " \u001b[90m [2fe49d83]\u001b[39m\u001b[92m + Expectations v1.0.2\u001b[39m\n",
      " \u001b[90m [442a2c76]\u001b[39m\u001b[92m + FastGaussQuadrature v0.3.2\u001b[39m\n",
      " \u001b[90m [e1d29d7a]\u001b[39m\u001b[92m + Missings v0.4.0\u001b[39m\n",
      " \u001b[90m [bac558e1]\u001b[39m\u001b[92m + OrderedCollections v1.0.2\u001b[39m\n",
      " \u001b[90m [90014a1f]\u001b[39m\u001b[92m + PDMats v0.9.6\u001b[39m\n",
      " \u001b[90m [1fd47b50]\u001b[39m\u001b[92m + QuadGK v2.0.3\u001b[39m\n",
      " \u001b[90m [79098fc4]\u001b[39m\u001b[92m + Rmath v0.5.0\u001b[39m\n",
      " \u001b[90m [a2af1166]\u001b[39m\u001b[92m + SortingAlgorithms v0.3.1\u001b[39m\n",
      " \u001b[90m [276daf66]\u001b[39m\u001b[92m + SpecialFunctions v0.7.2\u001b[39m\n",
      " \u001b[90m [2913bbd2]\u001b[39m\u001b[92m + StatsBase v0.29.0\u001b[39m\n",
      " \u001b[90m [4c63d2b9]\u001b[39m\u001b[92m + StatsFuns v0.8.0\u001b[39m\n",
      " \u001b[90m [30578b45]\u001b[39m\u001b[92m + URIParser v0.4.0\u001b[39m\n",
      " \u001b[90m [2a0f44e3]\u001b[39m\u001b[92m + Base64 \u001b[39m\n",
      " \u001b[90m [ade2ca70]\u001b[39m\u001b[92m + Dates \u001b[39m\n",
      " \u001b[90m [8bb1440f]\u001b[39m\u001b[92m + DelimitedFiles \u001b[39m\n",
      " \u001b[90m [8ba89e20]\u001b[39m\u001b[92m + Distributed \u001b[39m\n",
      " \u001b[90m [b77e0a4c]\u001b[39m\u001b[92m + InteractiveUtils \u001b[39m\n",
      " \u001b[90m [76f85450]\u001b[39m\u001b[92m + LibGit2 \u001b[39m\n",
      " \u001b[90m [8f399da3]\u001b[39m\u001b[92m + Libdl \u001b[39m\n",
      " \u001b[90m [37e2e46d]\u001b[39m\u001b[92m + LinearAlgebra \u001b[39m\n",
      " \u001b[90m [56ddb016]\u001b[39m\u001b[92m + Logging \u001b[39m\n",
      " \u001b[90m [d6f4376e]\u001b[39m\u001b[92m + Markdown \u001b[39m\n",
      " \u001b[90m [a63ad114]\u001b[39m\u001b[92m + Mmap \u001b[39m\n",
      " \u001b[90m [44cfe95a]\u001b[39m\u001b[92m + Pkg \u001b[39m\n",
      " \u001b[90m [de0858da]\u001b[39m\u001b[92m + Printf \u001b[39m\n",
      " \u001b[90m [3fa0cd96]\u001b[39m\u001b[92m + REPL \u001b[39m\n",
      " \u001b[90m [9a3f8284]\u001b[39m\u001b[92m + Random \u001b[39m\n",
      " \u001b[90m [ea8e919c]\u001b[39m\u001b[92m + SHA \u001b[39m\n",
      " \u001b[90m [9e88b42a]\u001b[39m\u001b[92m + Serialization \u001b[39m\n",
      " \u001b[90m [1a1011a3]\u001b[39m\u001b[92m + SharedArrays \u001b[39m\n",
      " \u001b[90m [6462fe0b]\u001b[39m\u001b[92m + Sockets \u001b[39m\n",
      " \u001b[90m [2f01184e]\u001b[39m\u001b[92m + SparseArrays \u001b[39m\n",
      " \u001b[90m [10745b16]\u001b[39m\u001b[92m + Statistics \u001b[39m\n",
      " \u001b[90m [4607b0f0]\u001b[39m\u001b[92m + SuiteSparse \u001b[39m\n",
      " \u001b[90m [8dfed614]\u001b[39m\u001b[92m + Test \u001b[39m\n",
      " \u001b[90m [cf7118a7]\u001b[39m\u001b[92m + UUIDs \u001b[39m\n",
      " \u001b[90m [4ec0a83e]\u001b[39m\u001b[92m + Unicode \u001b[39m\n"
     ]
    }
   ],
   "source": [
    "] add Expectations"
   ]
  },
  {
   "cell_type": "markdown",
   "metadata": {
    "slideshow": {
     "slide_type": "slide"
    }
   },
   "source": [
    "We can track changes in the TOML, as before\n",
    "\n",
    "Here’s the `Manifest.toml`\n",
    "\n",
    "<img src=\"https://s3-ap-southeast-2.amazonaws.com/lectures.quantecon.org/jl/_static/figures/testing-atom-manifest.png\" style=\"width:100%;height:100%\">\n",
    "\n",
    "  \n",
    "We can also run other operations, like `] up`, `] precompile`, etc.\n",
    "\n",
    "Package operations are listed in detail in the [tools and editors](https://lectures.quantecon.org/jl/tools_editors.html#) lecture\n",
    "\n",
    "Recall that, to quit the active environment and return to the base `(v1.0)`, simply run"
   ]
  },
  {
   "cell_type": "code",
   "execution_count": 18,
   "metadata": {
    "hide-output": false,
    "slideshow": {
     "slide_type": "slide"
    }
   },
   "outputs": [],
   "source": [
    "] activate"
   ]
  },
  {
   "cell_type": "markdown",
   "metadata": {
    "slideshow": {
     "slide_type": "slide"
    }
   },
   "source": [
    "### Writing Code\n",
    "\n",
    "The basic idea is to work in `tests/runtests.jl`, while reproducible functions should go in the `src/ExamplePackage.jl`\n",
    "\n",
    "For example, let’s say we add `Distributions.jl`"
   ]
  },
  {
   "cell_type": "code",
   "execution_count": 19,
   "metadata": {
    "hide-output": false,
    "slideshow": {
     "slide_type": "slide"
    }
   },
   "outputs": [],
   "source": [
    "] activate ExamplePackage"
   ]
  },
  {
   "cell_type": "code",
   "execution_count": 20,
   "metadata": {
    "hide-output": false,
    "slideshow": {
     "slide_type": "slide"
    }
   },
   "outputs": [
    {
     "name": "stdout",
     "output_type": "stream",
     "text": [
      "\u001b[32m\u001b[1m Resolving\u001b[22m\u001b[39m package versions...\n",
      "\u001b[32m\u001b[1m  Updating\u001b[22m\u001b[39m `~/.julia/dev/ExamplePackage/Project.toml`\n",
      " \u001b[90m [31c24e10]\u001b[39m\u001b[92m + Distributions v0.16.4\u001b[39m\n",
      "\u001b[32m\u001b[1m  Updating\u001b[22m\u001b[39m `~/.julia/dev/ExamplePackage/Manifest.toml`\n",
      "\u001b[90m [no changes]\u001b[39m\n"
     ]
    }
   ],
   "source": [
    "] add Distributions"
   ]
  },
  {
   "cell_type": "markdown",
   "metadata": {
    "slideshow": {
     "slide_type": "slide"
    }
   },
   "source": [
    "and edit the source (paste this into the file itself ) to read as follows"
   ]
  },
  {
   "cell_type": "markdown",
   "metadata": {
    "hide-output": false,
    "slideshow": {
     "slide_type": "slide"
    }
   },
   "source": [
    "```julia\n",
    "module ExamplePackage\n",
    "\n",
    "greet() = print(\"Hello World!\")\n",
    "\n",
    "using Expectations, Distributions\n",
    "\n",
    "function foo(μ = 1., σ = 2.)\n",
    "    d = Normal(μ, σ)\n",
    "    E = expectation(d)\n",
    "    return E(x -> sin(x))\n",
    "end\n",
    "\n",
    "export foo\n",
    "\n",
    "end # module\n",
    "```\n"
   ]
  },
  {
   "cell_type": "code",
   "execution_count": 21,
   "metadata": {
    "hide-output": false,
    "slideshow": {
     "slide_type": "slide"
    }
   },
   "outputs": [],
   "source": [
    "] activate"
   ]
  },
  {
   "cell_type": "code",
   "execution_count": 22,
   "metadata": {
    "hide-output": false,
    "slideshow": {
     "slide_type": "slide"
    }
   },
   "outputs": [
    {
     "name": "stderr",
     "output_type": "stream",
     "text": [
      "┌ Info: Recompiling stale cache file /Users/florian.oswald/.julia/compiled/v1.1/ExamplePackage/bt9ZU.ji for ExamplePackage [63b64609-ed96-5e0f-b5ca-5e4fd3ab9311]\n",
      "└ @ Base loading.jl:1184\n"
     ]
    },
    {
     "name": "stdout",
     "output_type": "stream",
     "text": [
      "Hello World!"
     ]
    }
   ],
   "source": [
    "using ExamplePackage\n",
    "ExamplePackage.greet()"
   ]
  },
  {
   "cell_type": "markdown",
   "metadata": {
    "hide-output": false,
    "slideshow": {
     "slide_type": "slide"
    }
   },
   "source": [
    "```julia\n",
    "foo() # exported, so don't need to qualify the namespace\n",
    "```\n"
   ]
  },
  {
   "cell_type": "markdown",
   "metadata": {
    "slideshow": {
     "slide_type": "slide"
    }
   },
   "source": [
    "**Note:** If you didn’t follow the instructions to add a [startup file](https://lectures.quantecon.org/jl/tools_editors.html#jl-startup-file), you may need to quit your REPL and load the package again"
   ]
  },
  {
   "cell_type": "markdown",
   "metadata": {
    "slideshow": {
     "slide_type": "slide"
    }
   },
   "source": [
    "### Collaborative Work\n",
    "\n",
    "For someone else to get the package, they simply need to\n",
    "\n",
    "- Run the following command  \n",
    "\n",
    "```julia\n",
    "] dev https://github.com/ScPo-CompEcon/ExamplePackage.jl.git   \n",
    "# using your github ID!\n",
    "```\n",
    "\n"
   ]
  },
  {
   "cell_type": "markdown",
   "metadata": {
    "slideshow": {
     "slide_type": "slide"
    }
   },
   "source": [
    "This will place the repository inside their `~/.julia/dev` folder\n",
    "\n",
    "- Drag-and-drop the folder to GitHub desktop in the usual way  \n",
    "\n",
    "\n",
    "Recall that the path to your `~/.julia` folder is"
   ]
  },
  {
   "cell_type": "code",
   "execution_count": 15,
   "metadata": {
    "hide-output": false,
    "slideshow": {
     "slide_type": "slide"
    }
   },
   "outputs": [
    {
     "data": {
      "text/plain": [
       "\"/Users/florian.oswald/.julia\""
      ]
     },
     "execution_count": 15,
     "metadata": {},
     "output_type": "execute_result"
    }
   ],
   "source": [
    "DEPOT_PATH[1]"
   ]
  },
  {
   "cell_type": "markdown",
   "metadata": {
    "slideshow": {
     "slide_type": "slide"
    }
   },
   "source": [
    "They can then collaborate as they would on other git repositories\n",
    "\n",
    "In particular, they can run\n",
    "\n",
    "```julia\n",
    "] activate ExamplePackage  # to activate\n",
    "] instantiate  # to get all required packages onto their machine\n",
    "] precompile   # precompile all packages\n",
    "] test         # run the packages unit tests\n",
    "```"
   ]
  },
  {
   "cell_type": "markdown",
   "metadata": {
    "slideshow": {
     "slide_type": "slide"
    }
   },
   "source": [
    "## Unit Testing\n",
    "\n",
    "It’s important to make sure that your code is well-tested\n",
    "\n",
    "There are a few different kinds of test, each with different purposes\n",
    "\n",
    "- *Unit testing* makes sure that individual pieces of a project work as expected  \n",
    "- *Integration testing* makes sure that they fit together as expected  \n",
    "- *Regression testing* makes sure that behavior is unchanged over time  \n",
    "\n",
    "\n",
    "In this lecture, we’ll focus on unit testing\n",
    "\n",
    "In general, well-written unit tests (which also guard against regression, for example by comparing function output to hardcoded values) are sufficient for most small projects"
   ]
  },
  {
   "cell_type": "markdown",
   "metadata": {
    "slideshow": {
     "slide_type": "slide"
    }
   },
   "source": [
    "### The `Test` Module\n",
    "\n",
    "Julia provides testing features through a built-in package called `Test`, which we get by `using Test`\n",
    "\n",
    "The basic object is the macro `@test`"
   ]
  },
  {
   "cell_type": "code",
   "execution_count": 16,
   "metadata": {
    "hide-output": false,
    "slideshow": {
     "slide_type": "slide"
    }
   },
   "outputs": [
    {
     "data": {
      "text/plain": [
       "\u001b[32m\u001b[1mTest Passed\u001b[22m\u001b[39m"
      ]
     },
     "execution_count": 16,
     "metadata": {},
     "output_type": "execute_result"
    }
   ],
   "source": [
    "using Test\n",
    "@test 1 == 1\n",
    "@test 1 ≈ 1"
   ]
  },
  {
   "cell_type": "markdown",
   "metadata": {
    "slideshow": {
     "slide_type": "slide"
    }
   },
   "source": [
    "Tests will pass if the condition is `true`, or fail otherwise\n",
    "\n",
    "If a test is failing, we should flag it with `@test_broken` as below"
   ]
  },
  {
   "cell_type": "code",
   "execution_count": 17,
   "metadata": {
    "hide-output": false,
    "slideshow": {
     "slide_type": "slide"
    }
   },
   "outputs": [
    {
     "data": {
      "text/plain": [
       "\u001b[33m\u001b[1mTest Broken\u001b[22m\u001b[39m\n",
       "  Expression: 1 == 2"
      ]
     },
     "execution_count": 17,
     "metadata": {},
     "output_type": "execute_result"
    }
   ],
   "source": [
    "@test_broken 1 == 2"
   ]
  },
  {
   "cell_type": "markdown",
   "metadata": {
    "slideshow": {
     "slide_type": "slide"
    }
   },
   "source": [
    "This way, we still have access to information about the test, instead of just deleting it or commenting it out\n",
    "\n",
    "There are other test macros, that check for things like error handling and type-stability\n",
    "\n",
    "Advanced users can check the [Julia docs](https://docs.julialang.org/en/v1/stdlib/Test/)"
   ]
  },
  {
   "cell_type": "markdown",
   "metadata": {
    "slideshow": {
     "slide_type": "slide"
    }
   },
   "source": [
    "### Example\n",
    "\n",
    "Let’s add some unit tests for the `foo()` function we defined earlier\n",
    "\n",
    "Our `tests/runtests.jl` file should look like this\n",
    "\n",
    "**As before, this should be pasted into the file directly**"
   ]
  },
  {
   "cell_type": "markdown",
   "metadata": {
    "hide-output": false,
    "slideshow": {
     "slide_type": "slide"
    }
   },
   "source": [
    "```julia\n",
    "using ExamplePackage\n",
    "using Test\n",
    "\n",
    "@test foo() == 0.11388071406436832\n",
    "@test foo(1, 1.5) == 0.2731856314283442\n",
    "@test_broken foo(1, 0) # tells us this is broken\n",
    "```\n"
   ]
  },
  {
   "cell_type": "markdown",
   "metadata": {
    "slideshow": {
     "slide_type": "slide"
    }
   },
   "source": [
    "And run it by typing `] test` into an activated REPL (i.e., a REPL where you’ve run `] activate ExamplePackage`)"
   ]
  },
  {
   "cell_type": "markdown",
   "metadata": {
    "slideshow": {
     "slide_type": "slide"
    }
   },
   "source": [
    "### Test Sets\n",
    "\n",
    "By default, the `runtests.jl` folder starts off with a `@testset`\n",
    "\n",
    "This is useful for organizing different batches of tests, but for now we can simply ignore it\n",
    "\n",
    "To learn more about test sets, see [the docs](https://docs.julialang.org/en/v1/stdlib/Test/index.html#Working-with-Test-Sets-1/)"
   ]
  },
  {
   "cell_type": "markdown",
   "metadata": {
    "slideshow": {
     "slide_type": "slide"
    }
   },
   "source": [
    "### Running Tests\n",
    "\n",
    "There are a few different ways to run the tests for your package\n",
    "\n",
    "- Run the actual `runtests.jl`, say by hitting `shift-enter` on it in Atom  \n",
    "- From a fresh (`v1.0`) REPL, run `] test ExamplePackage`  \n",
    "- From an activated (`ExamplePackage`) REPL, simply run `] test` (recall that you can activate with `] activate ExamplePackage`)  "
   ]
  },
  {
   "cell_type": "markdown",
   "metadata": {
    "slideshow": {
     "slide_type": "slide"
    }
   },
   "source": [
    "## Continuous Integration with Travis\n",
    "\n",
    "\n",
    "### Setup\n",
    "\n",
    "By default, Travis should have access to all your repositories and deploy automatically\n",
    "\n",
    "This includes private repos if you’re on a student developer pack or an academic plan (Travis detects this automatically)\n",
    "\n",
    "To change this, go to “settings” under your GitHub profile\n",
    "\n",
    "<img src=\"https://s3-ap-southeast-2.amazonaws.com/lectures.quantecon.org/jl/_static/figures/git-settings.png\" style=\"width:100%;height:100%\">\n",
    "\n",
    "  \n",
    "Click “Applications,” then “Travis CI,” then “Configure,” and choose the repos you want to be tracked"
   ]
  },
  {
   "cell_type": "markdown",
   "metadata": {},
   "source": [
    "### Build Options\n",
    "\n",
    "By default, Travis will compile and test your project (i.e., “build” it) for new commits and PRs for every tracked repo with a `.travis.yml` file\n",
    "\n",
    "We can see ours by opening it in Atom"
   ]
  },
  {
   "cell_type": "markdown",
   "metadata": {
    "hide-output": false
   },
   "source": [
    "```julia\n",
    "# Documentation: http://docs.travis-ci.com/user/languages/julia/\n",
    "language: julia\n",
    "os:\n",
    "- linux\n",
    "- osx\n",
    "julia:\n",
    "- 1.0\n",
    "- nightly\n",
    "matrix:\n",
    "allow_failures:\n",
    "    - julia: nightly\n",
    "fast_finish: true\n",
    "notifications:\n",
    "email: false\n",
    "after_success:\n",
    "- julia -e 'using Pkg; Pkg.add(\"Coverage\"); using Coverage; Codecov.submit(process_folder())'\n",
    "```\n"
   ]
  },
  {
   "cell_type": "markdown",
   "metadata": {},
   "source": [
    "This is telling Travis to build the project in Julia, on OSX and Linux, using Julia v1.0 and the latest (“nightly”)\n",
    "\n",
    "It also says that if the nightly version doesn’t work, that shouldn’t register as a failure\n",
    "\n",
    "**Note** You won’t need OSX unless you’re building something Mac-specific, like iOS or Swift\n",
    "\n",
    "You can delete those lines to speed up the build, likewise for the nightly Julia version"
   ]
  },
  {
   "cell_type": "markdown",
   "metadata": {},
   "source": [
    "### Working with Builds\n",
    "\n",
    "As above, builds are triggered whenever we push changes or open a pull request\n",
    "\n",
    "For example, if we push our changes to the server and then click the Travis badge (the one which says “build”) on the README, we should see something like\n",
    "\n",
    "<img src=\"https://s3-ap-southeast-2.amazonaws.com/lectures.quantecon.org/jl/_static/figures/travis-progress.png\" style=\"width:100%;height:100%\">\n",
    "\n",
    "  \n",
    "Note that you may need to wait a bit and/or refresh your browser\n",
    "\n",
    "This gives us an overview of all the builds running for that commit\n",
    "\n",
    "To inspect a build more closely (say, if it fails), we can click on it and expand the log options\n",
    "\n",
    "<img src=\"https://s3-ap-southeast-2.amazonaws.com/lectures.quantecon.org/jl/_static/figures/travis-log.png\" style=\"width:100%;height:100%\">\n",
    "\n",
    "  \n",
    "Note that the build times here aren’t informative, because we can’t generally control the hardware to which our job is allocated\n",
    "\n",
    "We can also cancel specific jobs, either from their specific pages or by clicking the grey “x” button on the dashboard\n",
    "\n",
    "Lastly, we can trigger builds manually (without a new commit or PR) from the Travis overview\n",
    "\n",
    "<img src=\"https://s3-ap-southeast-2.amazonaws.com/lectures.quantecon.org/jl/_static/figures/travis-trigger.png\" style=\"width:100%;height:100%\">\n",
    "\n",
    "  \n",
    "To commit *without* triggering a build, simply add “[ci skip]” somewhere inside the commit message"
   ]
  },
  {
   "cell_type": "markdown",
   "metadata": {},
   "source": [
    "### Travis and Pull Requests\n",
    "\n",
    "One key feature of Travis is the ability to see at-a-glance whether PRs pass tests before merging them\n",
    "\n",
    "This happens automatically when Travis is enabled on a repository\n",
    "\n",
    "For an example of this feature, see [this PR](https://github.com/QuantEcon/Games.jl/pull/65/) in the `Games.jl` repository"
   ]
  },
  {
   "cell_type": "markdown",
   "metadata": {},
   "source": [
    "## Code Coverage\n",
    "\n",
    "Beyond the success or failure of our test suite, we also want to know how much of our code the tests cover\n",
    "\n",
    "The tool we use to do this is called [Codecov](http://codecov.io)"
   ]
  },
  {
   "cell_type": "markdown",
   "metadata": {},
   "source": [
    "### Setup\n",
    "\n",
    "You’ll find that Codecov is automatically enabled for public repos with Travis\n",
    "\n",
    "For private ones, you’ll need to first get an access token\n",
    "\n",
    "Add private scope in the Codecov website, just like we did for Travis\n",
    "\n",
    "Navigate to the repo settings page (i.e., `https://codecov.io/gh/quanteconuser/ExamplePackage.jl/settings` for our repo) and copy the token\n",
    "\n",
    "Next, go to your Travis settings and add an environment variable as below\n",
    "\n",
    "<img src=\"https://s3-ap-southeast-2.amazonaws.com/lectures.quantecon.org/jl/_static/figures/travis-settings.png\" style=\"width:100%;height:100%\">"
   ]
  },
  {
   "cell_type": "markdown",
   "metadata": {},
   "source": [
    "### Interpreting Results\n",
    "\n",
    "Click the Codecov badge to see the build page for your project\n",
    "\n",
    "This shows us that our tests cover 50% of our functions in `src//`\n",
    "\n",
    "**Note:** To get a more detailed view, we can click the `src//` and the resultant filename\n",
    "\n",
    "**Note:** Codecov may take a few minutes to run for the first time\n",
    "\n",
    "<img src=\"https://s3-ap-southeast-2.amazonaws.com/lectures.quantecon.org/jl/_static/figures/codecov.png\" style=\"width:100%;height:100%\">\n",
    "\n",
    "  \n",
    "This shows us precisely which methods (and parts of methods) are untested"
   ]
  },
  {
   "cell_type": "markdown",
   "metadata": {},
   "source": [
    "## Additional Notes\n",
    "\n",
    "- The [JuliaCI](https://github.com/JuliaCI/) organization provides more Julia utilities for continuous integration and testing  "
   ]
  },
  {
   "cell_type": "markdown",
   "metadata": {
    "slideshow": {
     "slide_type": "slide"
    }
   },
   "source": [
    "## Review\n",
    "\n",
    "To review the workflow for creating, versioning, and testing a new project end-to-end\n",
    "\n",
    "1. Create the local package directory using the `PkgTemplates.jl`  \n",
    "1. Add that package to the Julia package manager, by opening a Julia REPL in the `~/.julia/dev/ExamplePackage.jl`, making sure the active environment is the default one `(v1.0)`, and hitting `] dev .`  \n",
    "1. Drag-and-drop that folder to GitHub Desktop  \n",
    "1. Create an empty repository with the same name on the GitHub server  \n",
    "1. Push from GitHub Desktop to the server  \n",
    "1. Open **the original project folder** (e.g., `~/.julia/dev/ExamplePackage.jl`) in Atom / your editor \n",
    "1. Make changes, test, iterate on it, etc. As a rule, functions like should live in the `src/` directory once they’re stable, and you should export them from that file with `export func1, func2`. This will export all methods of `func1`, `func2`, etc.  \n",
    "1. Commit them in GitHub Desktop as you go (i.e., you can and should use version control to track intermediate states)  \n",
    "1. Push to the server, and see the Travis and Codecov results (note that these may take a few minutes the first time)  "
   ]
  },
  {
   "cell_type": "markdown",
   "metadata": {},
   "source": [
    "## Exercises"
   ]
  },
  {
   "cell_type": "markdown",
   "metadata": {},
   "source": [
    "### Exercise 1\n",
    "\n",
    "Following the [instructions for a new project](#project-setup), create a new package on your github account called `NewtonsMethod.jl`\n",
    "\n",
    "In this package, you should create a simple package to do Newton’s Method using the code you did in the\n",
    "[Newton’s method](https://lectures.quantecon.org/jl/julia_by_example.html#jbe-ex8a) exercise in [Introductory Examples](https://lectures.quantecon.org/jl/julia_by_example.html#)\n",
    "\n",
    "In particular, within your package you should have two functions\n",
    "\n",
    "- `newtonroot(f, f′; x₀, tol = 1E-7, maxiter = 1000)`  \n",
    "- `newtonroot(f; x₀, tol = 1E-7, maxiter = 1000)`  \n",
    "\n",
    "\n",
    "Where the second function uses Automatic Differentiation to call the first.\n",
    "\n",
    "The package should include\n",
    "\n",
    "- implementations of those functions in the `/src` directory  \n",
    "- comprehensive set of tests  \n",
    "- project and manifest files to replicate your development environment  \n",
    "- automated running of the tests with Travis CI in GitHub  \n",
    "\n",
    "\n",
    "For the tests, you should have at the very minimum\n",
    "\n",
    "- a way to handle non-convergence (e.g. return back `nothing` as discussed in [error handling](https://lectures.quantecon.org/jl/fundamental_types.html#error-handling)  \n",
    "- several `@test` for the root of a known function, given the `f` and analytical `f'` derivatives  \n",
    "- tests of those roots using the automatic differentiation version of the function  \n",
    "- test of finding those roots with a `BigFloat` and not just a `Float64`  \n",
    "- test of non-convergence for a function without a root (e.g. $ f(x) = 2 + x^2 $ )  \n",
    "- test to ensure that the `maxiter` is working (e.g. what happens if you call `maxiter = 5`  \n",
    "- test to ensure that `tol` is working  \n",
    "\n",
    "\n",
    "And anything else you can think of.  You should be able to run `] test` for the project to check that the test-suite is running, and then ensure that it is running automatically on Travis CI\n",
    "\n",
    "Push a commit to the repository which breaks one of the tests and see what the Travis CI reports after running the build"
   ]
  }
 ],
 "metadata": {
  "celltoolbar": "Slideshow",
  "filename": "testing.rst",
  "kernelspec": {
   "display_name": "Julia 1.1.0",
   "language": "julia",
   "name": "julia-1.1"
  },
  "language_info": {
   "file_extension": ".jl",
   "mimetype": "application/julia",
   "name": "julia",
   "version": "1.1.0"
  },
  "title": "Packages, Testing, and Continuous Integration"
 },
 "nbformat": 4,
 "nbformat_minor": 2
}
